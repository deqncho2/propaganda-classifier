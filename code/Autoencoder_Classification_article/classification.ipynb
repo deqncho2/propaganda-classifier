{
 "cells": [
  {
   "cell_type": "code",
   "execution_count": 158,
   "metadata": {},
   "outputs": [],
   "source": [
    "import pandas as pd\n",
    "from pandas import DataFrame\n",
    "import numpy as np\n",
    "import json\n",
    "from sklearn.utils import resample\n",
    "from sklearn.model_selection import train_test_split\n",
    "from sklearn.naive_bayes import MultinomialNB, GaussianNB\n",
    "from sklearn.svm import SVC, LinearSVC\n",
    "from sklearn.tree import DecisionTreeClassifier\n",
    "from sklearn.ensemble import RandomForestClassifier\n",
    "from sklearn.neighbors import KNeighborsClassifier\n",
    "from sklearn.neural_network import MLPClassifier\n",
    "from sklearn.metrics import f1_score, recall_score, precision_score\n",
    "from sklearn.decomposition import PCA\n",
    "import matplotlib\n",
    "import matplotlib.pyplot as plt"
   ]
  },
  {
   "cell_type": "code",
   "execution_count": 108,
   "metadata": {},
   "outputs": [],
   "source": [
    "df = pd.read_csv('minified_dataframe.csv')\n",
    "df = df.drop(['Unnamed: 0'], axis=1)"
   ]
  },
  {
   "cell_type": "code",
   "execution_count": 156,
   "metadata": {},
   "outputs": [
    {
     "data": {
      "text/plain": [
       "31972"
      ]
     },
     "execution_count": 156,
     "metadata": {},
     "output_type": "execute_result"
    }
   ],
   "source": [
    "len(df[df.propaganda==0])"
   ]
  },
  {
   "cell_type": "code",
   "execution_count": 110,
   "metadata": {},
   "outputs": [],
   "source": [
    "X = df[df.columns[:-2]]\n",
    "y = df[['propaganda','non_propaganda']]"
   ]
  },
  {
   "cell_type": "code",
   "execution_count": 111,
   "metadata": {},
   "outputs": [],
   "source": [
    "X_train, X_test, y_train, y_test = train_test_split(X, y, test_size=0.2)"
   ]
  },
  {
   "cell_type": "code",
   "execution_count": 135,
   "metadata": {},
   "outputs": [],
   "source": [
    "# Make sure the training and testing data both sample from each class\n",
    "prop_X_train, prop_X_test, prop_y_train, prop_y_test = train_test_split(X.iloc[31972:], y.iloc[31972:], test_size=0.2)\n",
    "non_prop_X_train, non_prop_X_test, non_prop_y_train, non_prop_y_test = train_test_split(X.iloc[:31972], y.iloc[:31972], test_size=0.2)\n",
    "\n",
    "train_Xs = pd.concat([prop_X_train, non_prop_X_train])\n",
    "train_ys = pd.concat([prop_y_train, non_prop_y_train])\n",
    "training_data = pd.concat([train_Xs, train_ys], axis=1)\n",
    "\n",
    "X_test = pd.concat([prop_X_test, non_prop_X_test])\n",
    "y_test = pd.concat([prop_y_test, non_prop_y_test])\n",
    "testing_data = pd.concat([test_Xs, test_ys], axis=1)\n",
    "\n",
    "# Balance class sizes in training data\n",
    "df_majority = training_data[training_data.propaganda==0]\n",
    "df_minority = training_data[training_data.propaganda==1]\n",
    "df_minority_upsampled = resample(df_minority, replace=True, n_samples=len(df_majority), random_state=42) \n",
    "training_data = pd.concat([df_majority, df_minority_upsampled])\n",
    "\n",
    "X_train = training_data[training_data.columns[:-2]]\n",
    "y_train = training_data[['propaganda','non_propaganda']]\n",
    "\n",
    "\n",
    "# Balance class sizes in test data\n",
    "df_majority = testing_data[testing_data.propaganda==0]\n",
    "df_minority = testing_data[testing_data.propaganda==1]\n",
    "df_minority_upsampled = resample(df_minority, replace=True, n_samples=len(df_majority), random_state=42) \n",
    "testing_data = pd.concat([df_majority, df_minority_upsampled])\n",
    "\n",
    "X_test = testing_data[testing_data.columns[:-2]]\n",
    "y_test = testing_data[['propaganda','non_propaganda']]\n"
   ]
  },
  {
   "cell_type": "code",
   "execution_count": 137,
   "metadata": {},
   "outputs": [],
   "source": [
    "# Helper function \n",
    "def print_scores(preds):\n",
    "    print(\"Precision: %f\" % precision_score(y_test['propaganda'],preds, average='binary'))\n",
    "    print(\"Recall: %f\" % recall_score(y_test['propaganda'],preds, average='binary'))\n",
    "    print(\"F1 Score: %f\" % f1_score(y_test['propaganda'],preds, average='binary'))"
   ]
  },
  {
   "cell_type": "code",
   "execution_count": 138,
   "metadata": {},
   "outputs": [
    {
     "name": "stdout",
     "output_type": "stream",
     "text": [
      "Precision: 0.492848\n",
      "Recall: 0.495700\n",
      "F1 Score: 0.494270\n"
     ]
    }
   ],
   "source": [
    "# Baseline model, random choice\n",
    "baseline_preds = np.random.choice(2, len(y_test))\n",
    "print_scores(baseline_preds)"
   ]
  },
  {
   "cell_type": "code",
   "execution_count": 139,
   "metadata": {},
   "outputs": [
    {
     "data": {
      "text/plain": [
       "GaussianNB(priors=None, var_smoothing=1e-09)"
      ]
     },
     "execution_count": 139,
     "metadata": {},
     "output_type": "execute_result"
    }
   ],
   "source": [
    "# Gaussian Naive bayes\n",
    "nb_clf = GaussianNB()\n",
    "nb_clf.fit(X_train, y_train['propaganda'])"
   ]
  },
  {
   "cell_type": "code",
   "execution_count": 141,
   "metadata": {},
   "outputs": [
    {
     "name": "stdout",
     "output_type": "stream",
     "text": [
      "Precision: 0.645233\n",
      "Recall: 0.588428\n",
      "F1 Score: 0.615523\n"
     ]
    }
   ],
   "source": [
    "nb_preds = nb_clf.predict(X_test)\n",
    "print_scores(nb_preds)"
   ]
  },
  {
   "cell_type": "code",
   "execution_count": 142,
   "metadata": {},
   "outputs": [
    {
     "data": {
      "text/plain": [
       "SVC(C=1, cache_size=200, class_weight=None, coef0=0.0,\n",
       "  decision_function_shape='ovr', degree=3, gamma='auto', kernel='rbf',\n",
       "  max_iter=-1, probability=False, random_state=42, shrinking=True,\n",
       "  tol=0.001, verbose=False)"
      ]
     },
     "execution_count": 142,
     "metadata": {},
     "output_type": "execute_result"
    }
   ],
   "source": [
    "# SVM\n",
    "svm_clf = SVC(C=1, gamma='auto',random_state=42)\n",
    "svm_clf.fit(X_train, y_train['propaganda'])"
   ]
  },
  {
   "cell_type": "code",
   "execution_count": 143,
   "metadata": {},
   "outputs": [
    {
     "name": "stdout",
     "output_type": "stream",
     "text": [
      "Precision: 0.709299\n",
      "Recall: 0.727600\n",
      "F1 Score: 0.718333\n"
     ]
    }
   ],
   "source": [
    "svm_preds = svm_clf.predict(X_test)\n",
    "print_scores(svm_preds)"
   ]
  },
  {
   "cell_type": "code",
   "execution_count": 144,
   "metadata": {},
   "outputs": [
    {
     "data": {
      "text/plain": [
       "LinearSVC(C=1.0, class_weight='balanced', dual=True, fit_intercept=True,\n",
       "     intercept_scaling=1, loss='squared_hinge', max_iter=10000,\n",
       "     multi_class='ovr', penalty='l2', random_state=42, tol=0.0001,\n",
       "     verbose=0)"
      ]
     },
     "execution_count": 144,
     "metadata": {},
     "output_type": "execute_result"
    }
   ],
   "source": [
    "# Linear SVM\n",
    "lin_svc_clf = LinearSVC(C=1.0, class_weight='balanced', random_state=42, max_iter=10000)\n",
    "lin_svc_clf.fit(X_train, y_train['propaganda'])"
   ]
  },
  {
   "cell_type": "code",
   "execution_count": 145,
   "metadata": {},
   "outputs": [
    {
     "name": "stdout",
     "output_type": "stream",
     "text": [
      "Precision: 0.683943\n",
      "Recall: 0.693354\n",
      "F1 Score: 0.688616\n"
     ]
    }
   ],
   "source": [
    "lin_svc_preds = lin_svc_clf.predict(X_test)\n",
    "print_scores(lin_svc_preds)"
   ]
  },
  {
   "cell_type": "code",
   "execution_count": 146,
   "metadata": {},
   "outputs": [
    {
     "data": {
      "text/plain": [
       "KNeighborsClassifier(algorithm='kd_tree', leaf_size=30, metric='minkowski',\n",
       "           metric_params=None, n_jobs=None, n_neighbors=5, p=2,\n",
       "           weights='uniform')"
      ]
     },
     "execution_count": 146,
     "metadata": {},
     "output_type": "execute_result"
    }
   ],
   "source": [
    "# KNN classifier\n",
    "neigh_clf = KNeighborsClassifier(n_neighbors=5, algorithm='kd_tree')\n",
    "neigh_clf.fit(X_train, y_train['propaganda']) "
   ]
  },
  {
   "cell_type": "code",
   "execution_count": 147,
   "metadata": {},
   "outputs": [
    {
     "name": "stdout",
     "output_type": "stream",
     "text": [
      "Precision: 0.827765\n",
      "Recall: 0.848475\n",
      "F1 Score: 0.837992\n"
     ]
    }
   ],
   "source": [
    "neigh_clf_preds = neigh_clf.predict(X_test)\n",
    "print_scores(neigh_clf_preds)"
   ]
  },
  {
   "cell_type": "code",
   "execution_count": 148,
   "metadata": {},
   "outputs": [
    {
     "data": {
      "text/plain": [
       "RandomForestClassifier(bootstrap=True, class_weight=None, criterion='gini',\n",
       "            max_depth=10, max_features='auto', max_leaf_nodes=None,\n",
       "            min_impurity_decrease=0.0, min_impurity_split=None,\n",
       "            min_samples_leaf=1, min_samples_split=2,\n",
       "            min_weight_fraction_leaf=0.0, n_estimators=50, n_jobs=None,\n",
       "            oob_score=False, random_state=42, verbose=0, warm_start=False)"
      ]
     },
     "execution_count": 148,
     "metadata": {},
     "output_type": "execute_result"
    }
   ],
   "source": [
    "# Random Forrest classification\n",
    "random_forrest_clf = RandomForestClassifier(n_estimators=50, max_depth=10, random_state=42)\n",
    "random_forrest_clf.fit(X_train, y_train['propaganda'])"
   ]
  },
  {
   "cell_type": "code",
   "execution_count": 149,
   "metadata": {},
   "outputs": [
    {
     "name": "stdout",
     "output_type": "stream",
     "text": [
      "Precision: 0.955692\n",
      "Recall: 0.853323\n",
      "F1 Score: 0.901611\n"
     ]
    }
   ],
   "source": [
    "random_forrest_preds = random_forrest_clf.predict(X_test)\n",
    "print_scores(random_forrest_preds)"
   ]
  },
  {
   "cell_type": "code",
   "execution_count": 150,
   "metadata": {
    "scrolled": false
   },
   "outputs": [
    {
     "data": {
      "text/plain": [
       "MLPClassifier(activation='identity', alpha=0.0001, batch_size='auto',\n",
       "       beta_1=0.9, beta_2=0.999, early_stopping=False, epsilon=1e-08,\n",
       "       hidden_layer_sizes=(128, 256), learning_rate='adaptive',\n",
       "       learning_rate_init=0.1, max_iter=5000, momentum=0.9,\n",
       "       n_iter_no_change=10, nesterovs_momentum=True, power_t=0.5,\n",
       "       random_state=42, shuffle=True, solver='adam', tol=0.0001,\n",
       "       validation_fraction=0.1, verbose=False, warm_start=False)"
      ]
     },
     "execution_count": 150,
     "metadata": {},
     "output_type": "execute_result"
    }
   ],
   "source": [
    "# Multilayer_perceptron classifier\n",
    "mlp = MLPClassifier(learning_rate_init=0.1,hidden_layer_sizes=((128,256)), random_state=42, \n",
    "                    max_iter=5000, early_stopping=False, activation='identity', learning_rate='adaptive')\n",
    "mlp.fit(X_train, y_train['propaganda'])"
   ]
  },
  {
   "cell_type": "code",
   "execution_count": 151,
   "metadata": {},
   "outputs": [
    {
     "name": "stdout",
     "output_type": "stream",
     "text": [
      "Precision: 0.654691\n",
      "Recall: 0.769351\n",
      "F1 Score: 0.707405\n"
     ]
    }
   ],
   "source": [
    "mlp_preds = mlp.predict(X_test)\n",
    "print_scores(mlp_preds)"
   ]
  },
  {
   "cell_type": "code",
   "execution_count": 170,
   "metadata": {},
   "outputs": [
    {
     "data": {
      "image/png": "[encoded data removed]",
      "text/plain": [
       "<Figure size 432x288 with 1 Axes>"
      ]
     },
     "metadata": {
      "needs_background": "light"
     },
     "output_type": "display_data"
    }
   ],
   "source": [
    "predictions = [ mlp_preds,random_forrest_preds, neigh_clf_preds, lin_svc_preds, svm_preds, nb_preds, baseline_preds]\n",
    "names = [ 'Perceptron','random forrest','KNN','Linear SVM', 'SVM', 'Gaussian Naive Bayes', 'Random Choice']\n",
    "results = []\n",
    "plt.figure(0)\n",
    "for i,n in zip(predictions,names):\n",
    "    res = [n]\n",
    "    p = precision_score(y_test['propaganda'], i, average='binary')\n",
    "    r = recall_score(y_test['propaganda'], i, average='binary')\n",
    "    plt.scatter(p,r, label=n,marker='^', s=100)\n",
    "    res.append(p)\n",
    "    res.append(r)\n",
    "    res.append(f1_score(y_test['propaganda'], i, average='binary'))\n",
    "    results.append(res)\n",
    "plt.legend()\n",
    "plt.title(\"Classification system results\")\n",
    "plt.xlabel('Precision')\n",
    "plt.ylabel('Recall')\n",
    "plt.grid()\n",
    "plt.tight_layout()\n",
    "plt.savefig('classification_results.pdf')"
   ]
  },
  {
   "cell_type": "code",
   "execution_count": 167,
   "metadata": {},
   "outputs": [],
   "source": [
    "word_dict = {}\n",
    "with open('word_dict.json') as f:\n",
    "    word_dict = json.load(f)"
   ]
  },
  {
   "cell_type": "code",
   "execution_count": 168,
   "metadata": {},
   "outputs": [
    {
     "data": {
      "text/plain": [
       "207185"
      ]
     },
     "execution_count": 168,
     "metadata": {},
     "output_type": "execute_result"
    }
   ],
   "source": [
    "len(word_dict.keys())"
   ]
  },
  {
   "cell_type": "code",
   "execution_count": 169,
   "metadata": {},
   "outputs": [
    {
     "data": {
      "text/plain": [
       "[['Perceptron', 0.654690618762475, 0.7693510555121188, 0.7074047447879224],\n",
       " ['random forrest', 0.95569176882662, 0.853322908522283, 0.9016109045848822],\n",
       " ['KNN', 0.8277650648360031, 0.8484753713838936, 0.837992277992278],\n",
       " ['LinearSVC', 0.6839426191577973, 0.6933541829554339, 0.6886162447585029],\n",
       " ['SVM', 0.7092987804878049, 0.7275996872556685, 0.7183326900810498],\n",
       " ['Gaussian Naive Bayes',\n",
       "  0.6452331961591221,\n",
       "  0.5884284597341674,\n",
       "  0.6155230228183528],\n",
       " ['Random Choice',\n",
       "  0.49284825870646765,\n",
       "  0.49569976544175137,\n",
       "  0.494269899430888]]"
      ]
     },
     "execution_count": 169,
     "metadata": {},
     "output_type": "execute_result"
    }
   ],
   "source": [
    "results"
   ]
  },
  {
   "cell_type": "code",
   "execution_count": null,
   "metadata": {},
   "outputs": [],
   "source": []
  }
 ],
 "metadata": {
  "kernelspec": {
   "display_name": "Python 3",
   "language": "python",
   "name": "python3"
  }
 },
 "nbformat": 4,
 "nbformat_minor": 2
}
