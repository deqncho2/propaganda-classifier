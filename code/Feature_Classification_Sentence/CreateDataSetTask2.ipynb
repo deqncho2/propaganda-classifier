{
  "nbformat": 4,
  "nbformat_minor": 0,
  "metadata": {
    "colab": {
      "name": "CreateDataSetTask2.ipynb",
      "version": "0.3.2",
      "provenance": [],
      "collapsed_sections": []
    },
    "kernelspec": {
      "name": "python3",
      "display_name": "Python 3"
    },
    "accelerator": "GPU"
  },
  "cells": [
    {
      "metadata": {
        "id": "Cx5x_Z8mLTCP",
        "colab_type": "code",
        "outputId": "e86e39bd-4a80-49ca-bd4a-8b47d3ccab03",
        "colab": {
          "base_uri": "https://localhost:8080/",
          "height": 693
        }
      },
      "cell_type": "code",
      "source": [
        "!pip install textstat\n",
        "!git clone https://github.com/openai/generating-reviews-discovering-sentiment.git\n",
        "%cd generating-reviews-discovering-sentiment\n",
        "!pip install tqdm\n",
        "\n",
        "# Imports and downloads\n",
        "\n",
        "import pandas as pd\n",
        "import os\n",
        "import tensorflow as tf \n",
        "from google.colab import drive\n",
        "from sklearn.feature_extraction.text import TfidfVectorizer\n",
        "from sklearn.model_selection import train_test_split\n",
        "from sklearn.metrics import classification_report, f1_score\n",
        "from scipy.sparse import hstack # to concatenate features\n",
        "from sklearn.svm import LinearSVC\n",
        "from keras.preprocessing.text import Tokenizer\n",
        "import nltk\n",
        "import numpy as np\n",
        "from nltk.corpus import sentiwordnet as swn, wordnet\n",
        "from nltk import pos_tag, word_tokenize\n",
        "from textblob import TextBlob\n",
        "import textstat\n",
        "from sklearn.feature_extraction.stop_words import ENGLISH_STOP_WORDS\n",
        "from gensim.models import KeyedVectors\n",
        "nltk.download('punkt')\n",
        "nltk.download('wordnet')\n",
        "nltk.download('sentiwordnet')\n",
        "nltk.download('averaged_perceptron_tagger')\n",
        "from sklearn.preprocessing import StandardScaler\n",
        "from sklearn.pipeline import Pipeline\n",
        "from sklearn.neural_network import MLPClassifier\n",
        "from encoder import Model\n",
        "\n",
        "device_name = tf.test.gpu_device_name()\n",
        "if device_name != '/device:GPU:0':\n",
        "  raise SystemError('GPU device not found')\n",
        "print('Found GPU at: {}'.format(device_name))\n",
        "\n",
        "drive.mount(\"/content/gdrive\", force_remount=True)\n",
        "\n",
        "# Read the data + emotions\n",
        "df = pd.read_pickle('/content/gdrive/My Drive/datathon/task2data.pkl')\n",
        "\n",
        "df.describe()"
      ],
      "execution_count": 0,
      "outputs": [
        {
          "output_type": "stream",
          "text": [
            "Requirement already satisfied: textstat in /usr/local/lib/python3.6/dist-packages (0.5.4)\n",
            "Requirement already satisfied: pyphen in /usr/local/lib/python3.6/dist-packages (from textstat) (0.9.5)\n",
            "Requirement already satisfied: repoze.lru in /usr/local/lib/python3.6/dist-packages (from textstat) (0.7)\n",
            "Cloning into 'generating-reviews-discovering-sentiment'...\n",
            "remote: Enumerating objects: 63, done.\u001b[K\n",
            "remote: Total 63 (delta 0), reused 0 (delta 0), pack-reused 63\u001b[K\n",
            "Unpacking objects: 100% (63/63), done.\n",
            "Checking out files: 100% (24/24), done.\n",
            "/content/generating-reviews-discovering-sentiment/generating-reviews-discovering-sentiment\n",
            "Requirement already satisfied: tqdm in /usr/local/lib/python3.6/dist-packages (4.28.1)\n",
            "[nltk_data] Downloading package punkt to /root/nltk_data...\n",
            "[nltk_data]   Package punkt is already up-to-date!\n",
            "[nltk_data] Downloading package wordnet to /root/nltk_data...\n",
            "[nltk_data]   Package wordnet is already up-to-date!\n",
            "[nltk_data] Downloading package sentiwordnet to /root/nltk_data...\n",
            "[nltk_data]   Package sentiwordnet is already up-to-date!\n",
            "[nltk_data] Downloading package averaged_perceptron_tagger to\n",
            "[nltk_data]     /root/nltk_data...\n",
            "[nltk_data]   Package averaged_perceptron_tagger is already up-to-\n",
            "[nltk_data]       date!\n",
            "Found GPU at: /device:GPU:0\n",
            "Mounted at /content/gdrive\n"
          ],
          "name": "stdout"
        },
        {
          "output_type": "execute_result",
          "data": {
            "text/html": [
              "<div>\n",
              "<style scoped>\n",
              "    .dataframe tbody tr th:only-of-type {\n",
              "        vertical-align: middle;\n",
              "    }\n",
              "\n",
              "    .dataframe tbody tr th {\n",
              "        vertical-align: top;\n",
              "    }\n",
              "\n",
              "    .dataframe thead th {\n",
              "        text-align: right;\n",
              "    }\n",
              "</style>\n",
              "<table border=\"1\" class=\"dataframe\">\n",
              "  <thead>\n",
              "    <tr style=\"text-align: right;\">\n",
              "      <th></th>\n",
              "      <th>article</th>\n",
              "      <th>N_sentence</th>\n",
              "      <th>sadness</th>\n",
              "      <th>joy</th>\n",
              "      <th>fear</th>\n",
              "      <th>disgust</th>\n",
              "      <th>anger</th>\n",
              "    </tr>\n",
              "  </thead>\n",
              "  <tbody>\n",
              "    <tr>\n",
              "      <th>count</th>\n",
              "      <td>1.426300e+04</td>\n",
              "      <td>14263.000000</td>\n",
              "      <td>14263.000000</td>\n",
              "      <td>14263.000000</td>\n",
              "      <td>14263.000000</td>\n",
              "      <td>14263.000000</td>\n",
              "      <td>14263.000000</td>\n",
              "    </tr>\n",
              "    <tr>\n",
              "      <th>mean</th>\n",
              "      <td>9.440644e+08</td>\n",
              "      <td>47.675384</td>\n",
              "      <td>0.257924</td>\n",
              "      <td>0.202204</td>\n",
              "      <td>0.132644</td>\n",
              "      <td>0.171051</td>\n",
              "      <td>0.168878</td>\n",
              "    </tr>\n",
              "    <tr>\n",
              "      <th>std</th>\n",
              "      <td>1.145074e+09</td>\n",
              "      <td>55.272256</td>\n",
              "      <td>0.177576</td>\n",
              "      <td>0.192200</td>\n",
              "      <td>0.131431</td>\n",
              "      <td>0.160697</td>\n",
              "      <td>0.143378</td>\n",
              "    </tr>\n",
              "    <tr>\n",
              "      <th>min</th>\n",
              "      <td>1.111111e+08</td>\n",
              "      <td>1.000000</td>\n",
              "      <td>0.000000</td>\n",
              "      <td>0.000000</td>\n",
              "      <td>0.000000</td>\n",
              "      <td>0.000000</td>\n",
              "      <td>0.000000</td>\n",
              "    </tr>\n",
              "    <tr>\n",
              "      <th>25%</th>\n",
              "      <td>7.289730e+08</td>\n",
              "      <td>14.000000</td>\n",
              "      <td>0.127318</td>\n",
              "      <td>0.052781</td>\n",
              "      <td>0.049964</td>\n",
              "      <td>0.056007</td>\n",
              "      <td>0.067621</td>\n",
              "    </tr>\n",
              "    <tr>\n",
              "      <th>50%</th>\n",
              "      <td>7.618971e+08</td>\n",
              "      <td>29.000000</td>\n",
              "      <td>0.222080</td>\n",
              "      <td>0.143389</td>\n",
              "      <td>0.095208</td>\n",
              "      <td>0.116630</td>\n",
              "      <td>0.127791</td>\n",
              "    </tr>\n",
              "    <tr>\n",
              "      <th>75%</th>\n",
              "      <td>7.820171e+08</td>\n",
              "      <td>58.000000</td>\n",
              "      <td>0.359406</td>\n",
              "      <td>0.295384</td>\n",
              "      <td>0.169027</td>\n",
              "      <td>0.241330</td>\n",
              "      <td>0.231704</td>\n",
              "    </tr>\n",
              "    <tr>\n",
              "      <th>max</th>\n",
              "      <td>7.709564e+09</td>\n",
              "      <td>429.000000</td>\n",
              "      <td>1.000000</td>\n",
              "      <td>1.000000</td>\n",
              "      <td>1.000000</td>\n",
              "      <td>0.931034</td>\n",
              "      <td>1.000000</td>\n",
              "    </tr>\n",
              "  </tbody>\n",
              "</table>\n",
              "</div>"
            ],
            "text/plain": [
              "            article    N_sentence       sadness           joy          fear  \\\n",
              "count  1.426300e+04  14263.000000  14263.000000  14263.000000  14263.000000   \n",
              "mean   9.440644e+08     47.675384      0.257924      0.202204      0.132644   \n",
              "std    1.145074e+09     55.272256      0.177576      0.192200      0.131431   \n",
              "min    1.111111e+08      1.000000      0.000000      0.000000      0.000000   \n",
              "25%    7.289730e+08     14.000000      0.127318      0.052781      0.049964   \n",
              "50%    7.618971e+08     29.000000      0.222080      0.143389      0.095208   \n",
              "75%    7.820171e+08     58.000000      0.359406      0.295384      0.169027   \n",
              "max    7.709564e+09    429.000000      1.000000      1.000000      1.000000   \n",
              "\n",
              "            disgust         anger  \n",
              "count  14263.000000  14263.000000  \n",
              "mean       0.171051      0.168878  \n",
              "std        0.160697      0.143378  \n",
              "min        0.000000      0.000000  \n",
              "25%        0.056007      0.067621  \n",
              "50%        0.116630      0.127791  \n",
              "75%        0.241330      0.231704  \n",
              "max        0.931034      1.000000  "
            ]
          },
          "metadata": {
            "tags": []
          },
          "execution_count": 2
        }
      ]
    },
    {
      "metadata": {
        "id": "vp_VGXRk8f9C",
        "colab_type": "code",
        "outputId": "7ceeabb1-f4f0-4ec1-b0c9-e318e4aa5873",
        "colab": {
          "base_uri": "https://localhost:8080/",
          "height": 197
        }
      },
      "cell_type": "code",
      "source": [
        "df.head()"
      ],
      "execution_count": 0,
      "outputs": [
        {
          "output_type": "execute_result",
          "data": {
            "text/html": [
              "<div>\n",
              "<style scoped>\n",
              "    .dataframe tbody tr th:only-of-type {\n",
              "        vertical-align: middle;\n",
              "    }\n",
              "\n",
              "    .dataframe tbody tr th {\n",
              "        vertical-align: top;\n",
              "    }\n",
              "\n",
              "    .dataframe thead th {\n",
              "        text-align: right;\n",
              "    }\n",
              "</style>\n",
              "<table border=\"1\" class=\"dataframe\">\n",
              "  <thead>\n",
              "    <tr style=\"text-align: right;\">\n",
              "      <th></th>\n",
              "      <th>sentences</th>\n",
              "      <th>article</th>\n",
              "      <th>N_sentence</th>\n",
              "      <th>is_propaganda</th>\n",
              "      <th>sadness</th>\n",
              "      <th>joy</th>\n",
              "      <th>fear</th>\n",
              "      <th>disgust</th>\n",
              "      <th>anger</th>\n",
              "    </tr>\n",
              "  </thead>\n",
              "  <tbody>\n",
              "    <tr>\n",
              "      <th>0</th>\n",
              "      <td>New Audio From The Night Of The Las Vegas Mass...</td>\n",
              "      <td>704856340</td>\n",
              "      <td>1</td>\n",
              "      <td>non-propaganda</td>\n",
              "      <td>0.093891</td>\n",
              "      <td>0.481352</td>\n",
              "      <td>0.238193</td>\n",
              "      <td>0.133129</td>\n",
              "      <td>0.162108</td>\n",
              "    </tr>\n",
              "    <tr>\n",
              "      <th>2</th>\n",
              "      <td>Newly released audio from the Clark County Fir...</td>\n",
              "      <td>704856340</td>\n",
              "      <td>3</td>\n",
              "      <td>non-propaganda</td>\n",
              "      <td>0.456951</td>\n",
              "      <td>0.024205</td>\n",
              "      <td>0.162442</td>\n",
              "      <td>0.419307</td>\n",
              "      <td>0.281755</td>\n",
              "    </tr>\n",
              "    <tr>\n",
              "      <th>3</th>\n",
              "      <td>The audio, released on the SoundCloud account ...</td>\n",
              "      <td>704856340</td>\n",
              "      <td>4</td>\n",
              "      <td>non-propaganda</td>\n",
              "      <td>0.193504</td>\n",
              "      <td>0.280196</td>\n",
              "      <td>0.125014</td>\n",
              "      <td>0.140594</td>\n",
              "      <td>0.366930</td>\n",
              "    </tr>\n",
              "    <tr>\n",
              "      <th>4</th>\n",
              "      <td>Intellihub’s Shepard Ambellas, who has extensi...</td>\n",
              "      <td>704856340</td>\n",
              "      <td>5</td>\n",
              "      <td>non-propaganda</td>\n",
              "      <td>0.674633</td>\n",
              "      <td>0.155427</td>\n",
              "      <td>0.046534</td>\n",
              "      <td>0.116447</td>\n",
              "      <td>0.051066</td>\n",
              "    </tr>\n",
              "    <tr>\n",
              "      <th>5</th>\n",
              "      <td>“We have a firefighter’s wife at this event wh...</td>\n",
              "      <td>704856340</td>\n",
              "      <td>6</td>\n",
              "      <td>non-propaganda</td>\n",
              "      <td>0.356464</td>\n",
              "      <td>0.171645</td>\n",
              "      <td>0.098791</td>\n",
              "      <td>0.098959</td>\n",
              "      <td>0.272835</td>\n",
              "    </tr>\n",
              "  </tbody>\n",
              "</table>\n",
              "</div>"
            ],
            "text/plain": [
              "                                           sentences    article  N_sentence  \\\n",
              "0  New Audio From The Night Of The Las Vegas Mass...  704856340           1   \n",
              "2  Newly released audio from the Clark County Fir...  704856340           3   \n",
              "3  The audio, released on the SoundCloud account ...  704856340           4   \n",
              "4  Intellihub’s Shepard Ambellas, who has extensi...  704856340           5   \n",
              "5  “We have a firefighter’s wife at this event wh...  704856340           6   \n",
              "\n",
              "    is_propaganda   sadness       joy      fear   disgust     anger  \n",
              "0  non-propaganda  0.093891  0.481352  0.238193  0.133129  0.162108  \n",
              "2  non-propaganda  0.456951  0.024205  0.162442  0.419307  0.281755  \n",
              "3  non-propaganda  0.193504  0.280196  0.125014  0.140594  0.366930  \n",
              "4  non-propaganda  0.674633  0.155427  0.046534  0.116447  0.051066  \n",
              "5  non-propaganda  0.356464  0.171645  0.098791  0.098959  0.272835  "
            ]
          },
          "metadata": {
            "tags": []
          },
          "execution_count": 2
        }
      ]
    },
    {
      "metadata": {
        "id": "-UyxiMMOLYDS",
        "colab_type": "code",
        "colab": {}
      },
      "cell_type": "code",
      "source": [
        "pd.set_option('display.max_columns', 500) # to show all columns after we've added more features, there's options to show the entire sentences as well"
      ],
      "execution_count": 0,
      "outputs": []
    },
    {
      "metadata": {
        "id": "QvLWiQMiLYFr",
        "colab_type": "code",
        "outputId": "7cfae41b-88d0-48cd-f0c7-99efb1ecdcba",
        "colab": {
          "base_uri": "https://localhost:8080/",
          "height": 35
        }
      },
      "cell_type": "code",
      "source": [
        "len(df.loc[df['is_propaganda'] == 'propaganda'])"
      ],
      "execution_count": 0,
      "outputs": [
        {
          "output_type": "execute_result",
          "data": {
            "text/plain": [
              "3938"
            ]
          },
          "metadata": {
            "tags": []
          },
          "execution_count": 3
        }
      ]
    },
    {
      "metadata": {
        "id": "o-YJCntC8q5d",
        "colab_type": "text"
      },
      "cell_type": "markdown",
      "source": [
        "3938 out of 14263 are propaganda."
      ]
    },
    {
      "metadata": {
        "id": "W2k6kizDLYIN",
        "colab_type": "code",
        "outputId": "f23073ca-dfe4-48b3-aa35-e540ccec4b6d",
        "colab": {
          "base_uri": "https://localhost:8080/",
          "height": 541
        }
      },
      "cell_type": "code",
      "source": [
        "# Functions for a single sentence(datapoint)\n",
        "\n",
        "# Number of words in a sentence\n",
        "def get_num_words(text):\n",
        "    \n",
        "    # Remove special chars and punctuation\n",
        "    tokens = text.split()\n",
        "    \n",
        "    return len(tokens)\n",
        "\n",
        "# Num of chars\n",
        "def get_num_chars(text):    \n",
        "    return len(text)\n",
        "  \n",
        "# Num adjectives\n",
        "def count_adjectives(text):\n",
        "    num_adjs = 0\n",
        "    tags = pos_tag(word_tokenize(text.lower()))\n",
        "    for t in tags:\n",
        "      if t[1].startswith('JJ'):\n",
        "        num_adjs += 1\n",
        "    return num_adjs\n",
        "  \n",
        "  \n",
        "def count_adverbs(text):\n",
        "    num_adv = 0\n",
        "    tags = pos_tag(word_tokenize(text.lower()))\n",
        "    for t in tags:\n",
        "      if t[1].startswith('RB'):\n",
        "        num_adv += 1\n",
        "    return num_adv\n",
        "  \n",
        "def count_singular_pronouns(text):\n",
        "    \n",
        "    sing_pro = 0\n",
        "    tags = pos_tag(word_tokenize(text.lower()))\n",
        "    for t in tags:\n",
        "      if t[1].startswith('NNP'):\n",
        "        sing_pro += 1\n",
        "    return sing_pro\n",
        "  \n",
        "  \n",
        "def count_plural_pronouns(text):\n",
        "  \n",
        "    plur_pro = 0\n",
        "    tags = pos_tag(word_tokenize(text.lower()))\n",
        "    for t in tags:\n",
        "      if t[1].startswith('NNP'):\n",
        "        plur_pro += 1\n",
        "    return plur_pro\n",
        "\n",
        "# Type of sentence\n",
        "def is_question(sentence):\n",
        "    if len(sentence) == 0:\n",
        "        return 0\n",
        "    return 1 if sentence[len(sentence) - 1] == '?' else 0\n",
        "\n",
        "def is_exclamation(sentence):\n",
        "    if len(sentence) == 0:\n",
        "        return 0\n",
        "    return 1 if sentence[len(sentence) - 1] == '!' else 0\n",
        "\n",
        "def is_period(sentence):\n",
        "    if len(sentence) == 0:\n",
        "        return 0\n",
        "    return 1 if sentence[len(sentence) - 1] == '.' else 0\n",
        "  \n",
        "# Polarity feature\n",
        "\n",
        "def polarity(sentence):\n",
        "    \"\"\"\n",
        "    :param sentences list of sentences\n",
        "    :return: a list of singleton lists which contain\n",
        "             a number between -1 and 1,\n",
        "             where -1 is negative and 1 is positive.\n",
        "    \"\"\"\n",
        "    return TextBlob(sentence).sentiment.polarity\n",
        "  \n",
        "# Subjectivity feature\n",
        "\n",
        "def subjectivity(sentence):\n",
        "    \"\"\"\n",
        "    :param sentences list of sentences\n",
        "    :return: a list of singleton lists which contain\n",
        "            a number between 0 and 1,\n",
        "            where 0 is objective and 1 is subjective.\n",
        "    \"\"\"\n",
        "    return TextBlob(sentence).sentiment.subjectivity\n",
        "  \n",
        "  \n",
        "def lexical_chars(chars, key_wanted):\n",
        "    char_count = len(chars)\n",
        "\n",
        "    possible_chars_map = {\n",
        "        ',': 'comma_count',\n",
        "        '\\n': 'paragraph_count',\n",
        "        ';': 'semicolon_count',\n",
        "        ':': 'colon_count',\n",
        "        ' ': 'spaces_count',\n",
        "        '\\'': 'apostrophes_count',\n",
        "        '&': 'amp_count'\n",
        "    }\n",
        "\n",
        "    possible_chars = possible_chars_map.keys()\n",
        "\n",
        "    char_analysis = {\n",
        "        'digits': 0,\n",
        "        'punctuation_count': 0,\n",
        "        'comma_count': 0,\n",
        "        'semicolon_count': 0,\n",
        "        'colon_count': 0,\n",
        "        'spaces_count': 0,\n",
        "        'apostrophes_count': 0,\n",
        "        'amp_count': 0,\n",
        "        'parenthesis_count': 0,\n",
        "        'paragraph_count': 0\n",
        "    }\n",
        "\n",
        "    for char in chars:\n",
        "        if char in possible_chars:\n",
        "            char_analysis[possible_chars_map[char]] += 1\n",
        "        elif char.isdigit(): char_analysis['digits'] += 1\n",
        "        elif char in ['(', ')']: char_analysis['parenthesis_count'] += 1\n",
        "        if char in '!\"#$%&()*+,-./:;<=>?@[\\\\]^_`{|}~': char_analysis['punctuation_count'] += 1\n",
        "\n",
        "    return char_analysis[key_wanted]/char_count\n",
        "  \n",
        "def lexical_words(sent, key_wanted):\n",
        "    \n",
        "    entry_word = word_tokenize(sent)\n",
        "    word_count = len(entry_word)\n",
        "    words_tagged = pos_tag(entry_word)\n",
        "    \n",
        "    word_analysis = {\n",
        "        'pronouns': 0,\n",
        "        'prepositions': 0,\n",
        "        'coordinating_conjunctions': 0,\n",
        "        'adjectives': 0,\n",
        "        'adverbs': 0,\n",
        "        'determiners': 0,\n",
        "        'interjections': 0,\n",
        "        'modals': 0,\n",
        "        'nouns': 0,\n",
        "        'personal_pronouns': 0,\n",
        "        'verbs': 0,\n",
        "        'word_len_gte_six': 0,\n",
        "        'word_len_two_and_three': 0,\n",
        "        'avg_word_length': 0,\n",
        "        'all_caps': 0,\n",
        "        'capitalized': 0,\n",
        "        'quotes_count': 0,\n",
        "    }\n",
        "\n",
        "    for (word, tag) in words_tagged:\n",
        "        if tag in ['PRP']: word_analysis['personal_pronouns'] += 1\n",
        "        if tag.startswith('J'): word_analysis['adjectives'] += 1\n",
        "        if tag.startswith('N'): word_analysis['nouns'] += 1\n",
        "        if tag.startswith('V'): word_analysis['verbs'] += 1\n",
        "        if tag in ['PRP', 'PRP$', 'WP', 'WP$']: word_analysis['pronouns'] += 1\n",
        "        elif tag in ['IN']: word_analysis['prepositions'] += 1\n",
        "        elif tag in ['CC']: word_analysis['coordinating_conjunctions'] += 1\n",
        "        elif tag in ['RB', 'RBR', 'RBS']: word_analysis['adverbs'] += 1\n",
        "        elif tag in ['DT', 'PDT', 'WDT']: word_analysis['determiners'] += 1\n",
        "        elif tag in ['UH']: word_analysis['interjections'] += 1\n",
        "        elif tag in ['MD']: word_analysis['modals'] += 1\n",
        "        if len(word) >= 6: word_analysis['word_len_gte_six'] += 1\n",
        "        elif len(word) in [2, 3]: word_analysis['word_len_two_and_three'] += 1\n",
        "        word_analysis['avg_word_length'] += len(word)\n",
        "        if word.isupper(): word_analysis['all_caps'] += 1\n",
        "        elif word[0].isupper(): word_analysis['capitalized'] += 1\n",
        "        word_analysis['quotes_count'] += word.count('\"') + word.count('`') + word.count('\\'')\n",
        "\n",
        "    return word_analysis[key_wanted]/word_count\n",
        "\n",
        "# Sentiment using synsets from Wordnet\n",
        "def compute_score(sentence):\n",
        "    sent_score = []\n",
        "    words = pos_tag(sentence.split())\n",
        "    for t in words:\n",
        "        word = t[0]\n",
        "        tag = t[1]\n",
        "        new_tag = ''\n",
        "        if tag.startswith('NN'):\n",
        "            new_tag = wordnet.NOUN\n",
        "        elif tag.startswith('J'):\n",
        "            new_tag = wordnet.ADJ\n",
        "        elif tag.startswith('V'):\n",
        "            new_tag = wordnet.VERB\n",
        "        elif tag.startswith('R'):\n",
        "            new_tag = wordnet.ADV\n",
        "\n",
        "        if new_tag != '':\n",
        "            synsets = list(swn.senti_synsets(word, new_tag))\n",
        "            score = 0.0\n",
        "            if len(synsets) > 0:\n",
        "                for syn in synsets:\n",
        "                    score += syn.pos_score() - syn.neg_score()\n",
        "                sent_score.append(score / len(synsets))\n",
        "\n",
        "    if len(sent_score)==0:\n",
        "        return float(0.0)\n",
        "    else:\n",
        "        return np.mean(sent_score)\n",
        "\n",
        "# Finding the proportion of confusing words\n",
        "def normalized_number_meanings(sentence):\n",
        "    transformed = []\n",
        "    tokens = word_tokenize(sentence)\n",
        "    words_tagged = pos_tag(tokens)\n",
        "    word_vector = [0,0,0,0]\n",
        "\n",
        "    # 0 - verbs, 1 - adjectives, 2 - nouns, 3 - adverbs\n",
        "    confusing_verb_count = 0\n",
        "    for word, tag in words_tagged:\n",
        "      if (tag.startswith('VB')):\n",
        "        word_vector[0] += len(wordnet.synsets(word, pos=wordnet.VERB))\n",
        "      elif (tag.startswith('JJ')):\n",
        "        word_vector[1] += len(wordnet.synsets(word, pos=wordnet.ADJ))\n",
        "      elif (tag.startswith('NN')):\n",
        "        word_vector[2] += len(wordnet.synsets(word, pos=wordnet.NOUN))\n",
        "      elif (tag.startswith('RB')):\n",
        "        word_vector[3] += len(wordnet.synsets(word, pos=wordnet.ADV))    \n",
        "    \n",
        "    return (word_vector[0] + word_vector[1] + word_vector[2] + word_vector[3])/len(words_tagged)\n",
        "  \n",
        "# Loaded lang - maybe stem here? - list of loaded language phrases(includes words like \"sjws\", \"neo-marxist\" or \"libtard\")\n",
        "with open('/content/gdrive/My Drive/datathon/loaded_language_phrases_short.txt') as f_loaded_lang:\n",
        "  loaded_lang=[loaded_word.rstrip().lower() for loaded_word in f_loaded_lang.readlines()]\n",
        "\n",
        "# Should be changed a bit if a word occurs more than once\n",
        "def loaded_language_count(sent):\n",
        "  llc = 0\n",
        "  sent = sent.lower()\n",
        "  for loaded_word in loaded_lang:\n",
        "    if loaded_word in sent:\n",
        "      llc += 1\n",
        "  return llc\n",
        "\n",
        "with open('/content/gdrive/My Drive/datathon/exclamation_words.txt') as f_exlamation_words:\n",
        "  excl_words=[excl_word.rstrip() for excl_word in f_exlamation_words.readlines()]\n",
        "\n",
        "def excl_words_count(sent):\n",
        "  ewc = 0\n",
        "  sent = sent.lower().split()\n",
        "  for w in sent:\n",
        "    if w in excl_words:\n",
        "      ewc += 1\n",
        "  return ewc\n",
        "\n",
        "# To add to the features\n",
        "\n",
        "sentences_list = df['sentences'].tolist()\n",
        "\n",
        "model = Model()\n",
        "\n",
        "text_features = model.transform(sentences_list)\n",
        "text_features = text_features[:, 2388]\n",
        "\n",
        "df['sentiment_neuron'] = text_features\n",
        "\n",
        "      \n",
        "# Apply the transformations to all sentences\n",
        "df['ewc'] = df['sentences'].apply(excl_words_count)\n",
        "      \n",
        "df['llc'] = df['sentences'].apply(loaded_language_count)\n",
        "\n",
        "\n",
        "## Number of unique words in the text ##\n",
        "df[\"num_unique_words\"] = df[\"sentences\"].apply(lambda x: len(set(str(x).split())))\n",
        "\n",
        "## Number of stopwords in the text ##\n",
        "df[\"num_stop_words\"] = df[\"sentences\"].apply(lambda x: len([w for w in str(x).lower().split() if w in ENGLISH_STOP_WORDS]))\n",
        "\n",
        "## Number of title case words in the text ##\n",
        "df[\"num_words_title\"] = df[\"sentences\"].apply(lambda x: len([w for w in str(x).split() if w.istitle()]))\n",
        "\n",
        "df['normalized_meanings'] = df['sentences'].apply(normalized_number_meanings)\n",
        "df['sentiment_score'] = df['sentences'].apply(compute_score)\n",
        "\n",
        "# Lexical words features\n",
        "df['pronouns'] = df['sentences'].apply(lambda x: lexical_words(x, 'pronouns'))\n",
        "df['prepositions'] = df['sentences'].apply(lambda x: lexical_words(x, 'prepositions'))\n",
        "df['coordinating_conjunctions'] = df['sentences'].apply(lambda x: lexical_words(x, 'coordinating_conjunctions'))\n",
        "df['adjectives'] = df['sentences'].apply(lambda x: lexical_words(x, 'adjectives'))\n",
        "df['adverbs'] = df['sentences'].apply(lambda x: lexical_words(x, 'adverbs'))\n",
        "df['determiners'] = df['sentences'].apply(lambda x: lexical_words(x, 'determiners'))\n",
        "df['interjections'] = df['sentences'].apply(lambda x: lexical_words(x, 'interjections'))\n",
        "df['modals'] = df['sentences'].apply(lambda x: lexical_words(x, 'modals'))\n",
        "df['nouns'] = df['sentences'].apply(lambda x: lexical_words(x, 'nouns'))\n",
        "df['personal_pronouns'] = df['sentences'].apply(lambda x: lexical_words(x, 'personal_pronouns'))\n",
        "df['verbs'] = df['sentences'].apply(lambda x: lexical_words(x, 'verbs'))\n",
        "df['word_len_gte_six'] = df['sentences'].apply(lambda x: lexical_words(x, 'word_len_gte_six'))\n",
        "df['word_len_two_and_three'] = df['sentences'].apply(lambda x: lexical_words(x, 'word_len_two_and_three'))\n",
        "df['avg_word_length'] = df['sentences'].apply(lambda x: lexical_words(x, 'avg_word_length'))\n",
        "df['all_caps'] = df['sentences'].apply(lambda x: lexical_words(x, 'all_caps'))\n",
        "df['capitalized'] = df['sentences'].apply(lambda x: lexical_words(x, 'capitalized'))\n",
        "df['quotes_count'] = df['sentences'].apply(lambda x: lexical_words(x, 'quotes_count'))\n",
        "\n",
        "# Lexical chars features\n",
        "df['digits'] = df['sentences'].apply(lambda x: lexical_chars(x, 'digits'))\n",
        "df['punctuation_count'] = df['sentences'].apply(lambda x: lexical_chars(x, 'punctuation_count'))\n",
        "df['comma_count'] = df['sentences'].apply(lambda x: lexical_chars(x, 'comma_count'))\n",
        "df['semicolon_count'] = df['sentences'].apply(lambda x: lexical_chars(x, 'semicolon_count'))\n",
        "df['colon_count'] = df['sentences'].apply(lambda x: lexical_chars(x, 'colon_count'))\n",
        "df['spaces_count'] = df['sentences'].apply(lambda x: lexical_chars(x, 'spaces_count'))\n",
        "df['apostrophes_count'] = df['sentences'].apply(lambda x: lexical_chars(x, 'apostrophes_count'))\n",
        "df['amp_count'] = df['sentences'].apply(lambda x: lexical_chars(x, 'amp_count'))\n",
        "df['parenthesis_count'] = df['sentences'].apply(lambda x: lexical_chars(x, 'parenthesis_count'))\n",
        "df['paragraph_count'] = df['sentences'].apply(lambda x: lexical_chars(x, 'paragraph_count'))\n",
        "\n",
        "# Readability features\n",
        "\n",
        "df['flesch_reading_ease'] = df['sentences'].apply(textstat.flesch_reading_ease)\n",
        "df['smog_index'] = df['sentences'].apply(textstat.smog_index)\n",
        "df['flesch_kincaid_grade'] = df['sentences'].apply(textstat.flesch_kincaid_grade)\n",
        "df['coleman_liau_index'] = df['sentences'].apply(textstat.coleman_liau_index)\n",
        "df['automated_readability_index'] = df['sentences'].apply(textstat.automated_readability_index)\n",
        "df['dale_chall_readability_score'] = df['sentences'].apply(textstat.dale_chall_readability_score)\n",
        "df['difficult_words'] = df['sentences'].apply(textstat.difficult_words)\n",
        "df['linsear_write_formula'] = df['sentences'].apply(textstat.linsear_write_formula)\n",
        "df['gunning_fog'] = df['sentences'].apply(textstat.gunning_fog)\n",
        "\n",
        "df['subjectivity'] = df['sentences'].apply(subjectivity)\n",
        "df['polarity'] = df['sentences'].apply(polarity)\n",
        "df['is_question'] = df['sentences'].apply(is_question)\n",
        "df['is_exclamation'] = df['sentences'].apply(is_exclamation)\n",
        "df['is_period'] = df['sentences'].apply(is_period)\n",
        "\n",
        "df['num_words'] = df['sentences'].apply(get_num_words)\n",
        "df['num_chars'] = df['sentences'].apply(get_num_chars)\n",
        "\n",
        "df['num_adjs'] = df['sentences'].apply(count_adjectives)\n",
        "df['num_adv'] = df['sentences'].apply(count_adverbs)\n",
        "df['sing_pro'] = df['sentences'].apply(count_singular_pronouns)\n",
        "df['pl_pro'] = df['sentences'].apply(count_plural_pronouns)\n",
        "\n",
        "# model = Model()\n",
        "\n",
        "# def sentiment_neuron(sent):\n",
        "#   text = [sent]\n",
        "#   text_features = model.transform(text)\n",
        "#   return text_features[:, 2388][0]\n",
        "\n",
        "# df['sentiment_neuron'] = df['sentences'].apply(sentiment_neuron)\n",
        "\n",
        "\n",
        "\n",
        "print(df.shape)\n",
        "print(df.columns)\n",
        "SEED = 666\n",
        "\n",
        "df['target'] = df['is_propaganda'].map({'propaganda': 1, 'non-propaganda': 0})\n",
        "y = df[['target']]\n",
        "\n",
        "df.drop(['article', 'N_sentence', 'is_propaganda'], axis=1, inplace=True)\n",
        "\n",
        "df.to_pickle('/content/gdrive/My Drive/datathon/task2data_features.pkl')\n",
        "y.to_pickle('/content/gdrive/My Drive/datathon/labels.pkl')\n",
        "\n",
        "X_train, X_rest, y_train, y_rest = train_test_split(\n",
        "        df, y,stratify=y, test_size=0.2, random_state=SEED)\n",
        "\n",
        "print(X_train.shape)\n",
        "\n",
        "X_val, X_test, y_val, y_test = train_test_split(\n",
        "        X_rest, y_rest,stratify=y_rest, test_size=0.5, random_state=SEED)\n",
        "\n",
        "print(X_val.shape)\n",
        "\n",
        "# Maybe try different params/vectorisers, stemming etc.? - got these from the winning system for task 1.\n",
        "vectorizer = TfidfVectorizer(min_df = 3, max_df=0.5,  max_features=None, \n",
        "            strip_accents='unicode', analyzer='word',token_pattern=r'\\w{1,}',\n",
        "            ngram_range=(1, 3), use_idf=1,smooth_idf=1,sublinear_tf=1,\n",
        "            stop_words = 'english')\n",
        "\n",
        "x_train_tfidf = vectorizer.fit_transform(X_train['sentences'])\n",
        "x_val_tfidf = vectorizer.transform(X_val['sentences'])\n"
      ],
      "execution_count": 0,
      "outputs": [
        {
          "output_type": "stream",
          "text": [
            "WARNING:tensorflow:From /usr/local/lib/python3.6/dist-packages/tensorflow/python/framework/op_def_library.py:263: colocate_with (from tensorflow.python.framework.ops) is deprecated and will be removed in a future version.\n",
            "Instructions for updating:\n",
            "Colocations handled automatically by placer.\n",
            "WARNING:tensorflow:From /content/generating-reviews-discovering-sentiment/encoder.py:59: calling l2_normalize (from tensorflow.python.ops.nn_impl) with dim is deprecated and will be removed in a future version.\n",
            "Instructions for updating:\n",
            "dim is deprecated, use axis instead\n",
            "221.854 seconds to transform 14263 examples\n",
            "(14263, 64)\n",
            "Index(['sentences', 'article', 'N_sentence', 'is_propaganda', 'sadness', 'joy',\n",
            "       'fear', 'disgust', 'anger', 'sentiment_neuron', 'ewc', 'llc',\n",
            "       'num_unique_words', 'num_stop_words', 'num_words_title',\n",
            "       'normalized_meanings', 'sentiment_score', 'pronouns', 'prepositions',\n",
            "       'coordinating_conjunctions', 'adjectives', 'adverbs', 'determiners',\n",
            "       'interjections', 'modals', 'nouns', 'personal_pronouns', 'verbs',\n",
            "       'word_len_gte_six', 'word_len_two_and_three', 'avg_word_length',\n",
            "       'all_caps', 'capitalized', 'quotes_count', 'digits',\n",
            "       'punctuation_count', 'comma_count', 'semicolon_count', 'colon_count',\n",
            "       'spaces_count', 'apostrophes_count', 'amp_count', 'parenthesis_count',\n",
            "       'paragraph_count', 'flesch_reading_ease', 'smog_index',\n",
            "       'flesch_kincaid_grade', 'coleman_liau_index',\n",
            "       'automated_readability_index', 'dale_chall_readability_score',\n",
            "       'difficult_words', 'linsear_write_formula', 'gunning_fog',\n",
            "       'subjectivity', 'polarity', 'is_question', 'is_exclamation',\n",
            "       'is_period', 'num_words', 'num_chars', 'num_adjs', 'num_adv',\n",
            "       'sing_pro', 'pl_pro'],\n",
            "      dtype='object')\n",
            "(11410, 62)\n",
            "(1426, 62)\n"
          ],
          "name": "stdout"
        }
      ]
    },
    {
      "metadata": {
        "id": "Po7HgTwu99PM",
        "colab_type": "code",
        "outputId": "f8b80e06-b608-4e08-fa25-ee41931aefa0",
        "colab": {
          "base_uri": "https://localhost:8080/",
          "height": 564
        }
      },
      "cell_type": "code",
      "source": [
        "df.head()"
      ],
      "execution_count": 0,
      "outputs": [
        {
          "output_type": "execute_result",
          "data": {
            "text/html": [
              "<div>\n",
              "<style scoped>\n",
              "    .dataframe tbody tr th:only-of-type {\n",
              "        vertical-align: middle;\n",
              "    }\n",
              "\n",
              "    .dataframe tbody tr th {\n",
              "        vertical-align: top;\n",
              "    }\n",
              "\n",
              "    .dataframe thead th {\n",
              "        text-align: right;\n",
              "    }\n",
              "</style>\n",
              "<table border=\"1\" class=\"dataframe\">\n",
              "  <thead>\n",
              "    <tr style=\"text-align: right;\">\n",
              "      <th></th>\n",
              "      <th>sentences</th>\n",
              "      <th>sadness</th>\n",
              "      <th>joy</th>\n",
              "      <th>fear</th>\n",
              "      <th>disgust</th>\n",
              "      <th>anger</th>\n",
              "      <th>sentiment_neuron</th>\n",
              "      <th>ewc</th>\n",
              "      <th>llc</th>\n",
              "      <th>num_unique_words</th>\n",
              "      <th>num_stop_words</th>\n",
              "      <th>num_words_title</th>\n",
              "      <th>normalized_meanings</th>\n",
              "      <th>sentiment_score</th>\n",
              "      <th>pronouns</th>\n",
              "      <th>prepositions</th>\n",
              "      <th>coordinating_conjunctions</th>\n",
              "      <th>adjectives</th>\n",
              "      <th>adverbs</th>\n",
              "      <th>determiners</th>\n",
              "      <th>interjections</th>\n",
              "      <th>modals</th>\n",
              "      <th>nouns</th>\n",
              "      <th>personal_pronouns</th>\n",
              "      <th>verbs</th>\n",
              "      <th>word_len_gte_six</th>\n",
              "      <th>word_len_two_and_three</th>\n",
              "      <th>avg_word_length</th>\n",
              "      <th>all_caps</th>\n",
              "      <th>capitalized</th>\n",
              "      <th>quotes_count</th>\n",
              "      <th>digits</th>\n",
              "      <th>punctuation_count</th>\n",
              "      <th>comma_count</th>\n",
              "      <th>semicolon_count</th>\n",
              "      <th>colon_count</th>\n",
              "      <th>spaces_count</th>\n",
              "      <th>apostrophes_count</th>\n",
              "      <th>amp_count</th>\n",
              "      <th>parenthesis_count</th>\n",
              "      <th>paragraph_count</th>\n",
              "      <th>flesch_reading_ease</th>\n",
              "      <th>smog_index</th>\n",
              "      <th>flesch_kincaid_grade</th>\n",
              "      <th>coleman_liau_index</th>\n",
              "      <th>automated_readability_index</th>\n",
              "      <th>dale_chall_readability_score</th>\n",
              "      <th>difficult_words</th>\n",
              "      <th>linsear_write_formula</th>\n",
              "      <th>gunning_fog</th>\n",
              "      <th>subjectivity</th>\n",
              "      <th>polarity</th>\n",
              "      <th>is_question</th>\n",
              "      <th>is_exclamation</th>\n",
              "      <th>is_period</th>\n",
              "      <th>num_words</th>\n",
              "      <th>num_chars</th>\n",
              "      <th>num_adjs</th>\n",
              "      <th>num_adv</th>\n",
              "      <th>sing_pro</th>\n",
              "      <th>pl_pro</th>\n",
              "      <th>target</th>\n",
              "    </tr>\n",
              "  </thead>\n",
              "  <tbody>\n",
              "    <tr>\n",
              "      <th>0</th>\n",
              "      <td>New Audio From The Night Of The Las Vegas Mass...</td>\n",
              "      <td>0.093891</td>\n",
              "      <td>0.481352</td>\n",
              "      <td>0.238193</td>\n",
              "      <td>0.133129</td>\n",
              "      <td>0.162108</td>\n",
              "      <td>0.277048</td>\n",
              "      <td>0</td>\n",
              "      <td>1</td>\n",
              "      <td>25</td>\n",
              "      <td>16</td>\n",
              "      <td>31</td>\n",
              "      <td>2.242424</td>\n",
              "      <td>-0.015672</td>\n",
              "      <td>0.000000</td>\n",
              "      <td>0.212121</td>\n",
              "      <td>0.000000</td>\n",
              "      <td>0.000000</td>\n",
              "      <td>0.000000</td>\n",
              "      <td>0.212121</td>\n",
              "      <td>0.0</td>\n",
              "      <td>0.000000</td>\n",
              "      <td>0.515152</td>\n",
              "      <td>0.000000</td>\n",
              "      <td>0.030303</td>\n",
              "      <td>0.242424</td>\n",
              "      <td>0.484848</td>\n",
              "      <td>4.060606</td>\n",
              "      <td>0.0</td>\n",
              "      <td>0.939394</td>\n",
              "      <td>0.0</td>\n",
              "      <td>0.000000</td>\n",
              "      <td>0.000000</td>\n",
              "      <td>0.000000</td>\n",
              "      <td>0.0</td>\n",
              "      <td>0.000000</td>\n",
              "      <td>0.182927</td>\n",
              "      <td>0.0</td>\n",
              "      <td>0.0</td>\n",
              "      <td>0.0</td>\n",
              "      <td>0.0</td>\n",
              "      <td>56.93</td>\n",
              "      <td>0.0</td>\n",
              "      <td>13.0</td>\n",
              "      <td>8.37</td>\n",
              "      <td>14.4</td>\n",
              "      <td>8.74</td>\n",
              "      <td>7</td>\n",
              "      <td>16.5</td>\n",
              "      <td>21.43</td>\n",
              "      <td>0.518182</td>\n",
              "      <td>0.167677</td>\n",
              "      <td>0</td>\n",
              "      <td>0</td>\n",
              "      <td>0</td>\n",
              "      <td>31</td>\n",
              "      <td>164</td>\n",
              "      <td>3</td>\n",
              "      <td>0</td>\n",
              "      <td>0</td>\n",
              "      <td>0</td>\n",
              "      <td>0</td>\n",
              "    </tr>\n",
              "    <tr>\n",
              "      <th>2</th>\n",
              "      <td>Newly released audio from the Clark County Fir...</td>\n",
              "      <td>0.456951</td>\n",
              "      <td>0.024205</td>\n",
              "      <td>0.162442</td>\n",
              "      <td>0.419307</td>\n",
              "      <td>0.281755</td>\n",
              "      <td>0.316485</td>\n",
              "      <td>0</td>\n",
              "      <td>3</td>\n",
              "      <td>53</td>\n",
              "      <td>28</td>\n",
              "      <td>10</td>\n",
              "      <td>3.700000</td>\n",
              "      <td>-0.020672</td>\n",
              "      <td>0.016667</td>\n",
              "      <td>0.150000</td>\n",
              "      <td>0.016667</td>\n",
              "      <td>0.083333</td>\n",
              "      <td>0.133333</td>\n",
              "      <td>0.116667</td>\n",
              "      <td>0.0</td>\n",
              "      <td>0.000000</td>\n",
              "      <td>0.283333</td>\n",
              "      <td>0.000000</td>\n",
              "      <td>0.133333</td>\n",
              "      <td>0.383333</td>\n",
              "      <td>0.200000</td>\n",
              "      <td>5.100000</td>\n",
              "      <td>0.0</td>\n",
              "      <td>0.166667</td>\n",
              "      <td>0.0</td>\n",
              "      <td>0.005510</td>\n",
              "      <td>0.005510</td>\n",
              "      <td>0.002755</td>\n",
              "      <td>0.0</td>\n",
              "      <td>0.000000</td>\n",
              "      <td>0.157025</td>\n",
              "      <td>0.0</td>\n",
              "      <td>0.0</td>\n",
              "      <td>0.0</td>\n",
              "      <td>0.0</td>\n",
              "      <td>4.15</td>\n",
              "      <td>0.0</td>\n",
              "      <td>27.1</td>\n",
              "      <td>14.00</td>\n",
              "      <td>32.4</td>\n",
              "      <td>11.14</td>\n",
              "      <td>17</td>\n",
              "      <td>38.0</td>\n",
              "      <td>34.92</td>\n",
              "      <td>0.364935</td>\n",
              "      <td>-0.051948</td>\n",
              "      <td>0</td>\n",
              "      <td>0</td>\n",
              "      <td>1</td>\n",
              "      <td>58</td>\n",
              "      <td>363</td>\n",
              "      <td>5</td>\n",
              "      <td>8</td>\n",
              "      <td>0</td>\n",
              "      <td>0</td>\n",
              "      <td>0</td>\n",
              "    </tr>\n",
              "    <tr>\n",
              "      <th>3</th>\n",
              "      <td>The audio, released on the SoundCloud account ...</td>\n",
              "      <td>0.193504</td>\n",
              "      <td>0.280196</td>\n",
              "      <td>0.125014</td>\n",
              "      <td>0.140594</td>\n",
              "      <td>0.366930</td>\n",
              "      <td>0.126700</td>\n",
              "      <td>0</td>\n",
              "      <td>4</td>\n",
              "      <td>47</td>\n",
              "      <td>33</td>\n",
              "      <td>5</td>\n",
              "      <td>3.030769</td>\n",
              "      <td>0.008053</td>\n",
              "      <td>0.000000</td>\n",
              "      <td>0.200000</td>\n",
              "      <td>0.015385</td>\n",
              "      <td>0.015385</td>\n",
              "      <td>0.030769</td>\n",
              "      <td>0.200000</td>\n",
              "      <td>0.0</td>\n",
              "      <td>0.000000</td>\n",
              "      <td>0.384615</td>\n",
              "      <td>0.000000</td>\n",
              "      <td>0.061538</td>\n",
              "      <td>0.292308</td>\n",
              "      <td>0.369231</td>\n",
              "      <td>4.430769</td>\n",
              "      <td>0.0</td>\n",
              "      <td>0.092308</td>\n",
              "      <td>0.0</td>\n",
              "      <td>0.000000</td>\n",
              "      <td>0.008596</td>\n",
              "      <td>0.005731</td>\n",
              "      <td>0.0</td>\n",
              "      <td>0.000000</td>\n",
              "      <td>0.174785</td>\n",
              "      <td>0.0</td>\n",
              "      <td>0.0</td>\n",
              "      <td>0.0</td>\n",
              "      <td>0.0</td>\n",
              "      <td>25.47</td>\n",
              "      <td>0.0</td>\n",
              "      <td>25.1</td>\n",
              "      <td>10.29</td>\n",
              "      <td>31.5</td>\n",
              "      <td>10.53</td>\n",
              "      <td>15</td>\n",
              "      <td>36.0</td>\n",
              "      <td>34.48</td>\n",
              "      <td>0.222222</td>\n",
              "      <td>0.086111</td>\n",
              "      <td>0</td>\n",
              "      <td>0</td>\n",
              "      <td>1</td>\n",
              "      <td>62</td>\n",
              "      <td>349</td>\n",
              "      <td>2</td>\n",
              "      <td>2</td>\n",
              "      <td>0</td>\n",
              "      <td>0</td>\n",
              "      <td>0</td>\n",
              "    </tr>\n",
              "    <tr>\n",
              "      <th>4</th>\n",
              "      <td>Intellihub’s Shepard Ambellas, who has extensi...</td>\n",
              "      <td>0.674633</td>\n",
              "      <td>0.155427</td>\n",
              "      <td>0.046534</td>\n",
              "      <td>0.116447</td>\n",
              "      <td>0.051066</td>\n",
              "      <td>0.172019</td>\n",
              "      <td>0</td>\n",
              "      <td>5</td>\n",
              "      <td>38</td>\n",
              "      <td>22</td>\n",
              "      <td>3</td>\n",
              "      <td>2.918367</td>\n",
              "      <td>0.019509</td>\n",
              "      <td>0.061224</td>\n",
              "      <td>0.142857</td>\n",
              "      <td>0.000000</td>\n",
              "      <td>0.040816</td>\n",
              "      <td>0.061224</td>\n",
              "      <td>0.122449</td>\n",
              "      <td>0.0</td>\n",
              "      <td>0.020408</td>\n",
              "      <td>0.285714</td>\n",
              "      <td>0.020408</td>\n",
              "      <td>0.163265</td>\n",
              "      <td>0.367347</td>\n",
              "      <td>0.326531</td>\n",
              "      <td>4.897959</td>\n",
              "      <td>0.0</td>\n",
              "      <td>0.081633</td>\n",
              "      <td>0.0</td>\n",
              "      <td>0.017668</td>\n",
              "      <td>0.021201</td>\n",
              "      <td>0.007067</td>\n",
              "      <td>0.0</td>\n",
              "      <td>0.007067</td>\n",
              "      <td>0.151943</td>\n",
              "      <td>0.0</td>\n",
              "      <td>0.0</td>\n",
              "      <td>0.0</td>\n",
              "      <td>0.0</td>\n",
              "      <td>18.36</td>\n",
              "      <td>0.0</td>\n",
              "      <td>21.6</td>\n",
              "      <td>14.46</td>\n",
              "      <td>26.2</td>\n",
              "      <td>11.20</td>\n",
              "      <td>15</td>\n",
              "      <td>32.0</td>\n",
              "      <td>31.24</td>\n",
              "      <td>0.385000</td>\n",
              "      <td>0.070000</td>\n",
              "      <td>0</td>\n",
              "      <td>0</td>\n",
              "      <td>1</td>\n",
              "      <td>44</td>\n",
              "      <td>283</td>\n",
              "      <td>3</td>\n",
              "      <td>3</td>\n",
              "      <td>1</td>\n",
              "      <td>1</td>\n",
              "      <td>0</td>\n",
              "    </tr>\n",
              "    <tr>\n",
              "      <th>5</th>\n",
              "      <td>“We have a firefighter’s wife at this event wh...</td>\n",
              "      <td>0.356464</td>\n",
              "      <td>0.171645</td>\n",
              "      <td>0.098791</td>\n",
              "      <td>0.098959</td>\n",
              "      <td>0.272835</td>\n",
              "      <td>0.307153</td>\n",
              "      <td>0</td>\n",
              "      <td>2</td>\n",
              "      <td>17</td>\n",
              "      <td>10</td>\n",
              "      <td>3</td>\n",
              "      <td>2.954545</td>\n",
              "      <td>-0.015931</td>\n",
              "      <td>0.090909</td>\n",
              "      <td>0.136364</td>\n",
              "      <td>0.000000</td>\n",
              "      <td>0.000000</td>\n",
              "      <td>0.000000</td>\n",
              "      <td>0.136364</td>\n",
              "      <td>0.0</td>\n",
              "      <td>0.000000</td>\n",
              "      <td>0.363636</td>\n",
              "      <td>0.045455</td>\n",
              "      <td>0.181818</td>\n",
              "      <td>0.181818</td>\n",
              "      <td>0.363636</td>\n",
              "      <td>3.500000</td>\n",
              "      <td>0.0</td>\n",
              "      <td>0.136364</td>\n",
              "      <td>0.0</td>\n",
              "      <td>0.000000</td>\n",
              "      <td>0.010638</td>\n",
              "      <td>0.000000</td>\n",
              "      <td>0.0</td>\n",
              "      <td>0.000000</td>\n",
              "      <td>0.180851</td>\n",
              "      <td>0.0</td>\n",
              "      <td>0.0</td>\n",
              "      <td>0.0</td>\n",
              "      <td>0.0</td>\n",
              "      <td>87.05</td>\n",
              "      <td>0.0</td>\n",
              "      <td>5.6</td>\n",
              "      <td>6.90</td>\n",
              "      <td>7.7</td>\n",
              "      <td>6.28</td>\n",
              "      <td>2</td>\n",
              "      <td>9.0</td>\n",
              "      <td>11.64</td>\n",
              "      <td>0.494444</td>\n",
              "      <td>-0.277778</td>\n",
              "      <td>0</td>\n",
              "      <td>0</td>\n",
              "      <td>1</td>\n",
              "      <td>18</td>\n",
              "      <td>94</td>\n",
              "      <td>0</td>\n",
              "      <td>0</td>\n",
              "      <td>1</td>\n",
              "      <td>1</td>\n",
              "      <td>0</td>\n",
              "    </tr>\n",
              "  </tbody>\n",
              "</table>\n",
              "</div>"
            ],
            "text/plain": [
              "                                           sentences   sadness       joy  \\\n",
              "0  New Audio From The Night Of The Las Vegas Mass...  0.093891  0.481352   \n",
              "2  Newly released audio from the Clark County Fir...  0.456951  0.024205   \n",
              "3  The audio, released on the SoundCloud account ...  0.193504  0.280196   \n",
              "4  Intellihub’s Shepard Ambellas, who has extensi...  0.674633  0.155427   \n",
              "5  “We have a firefighter’s wife at this event wh...  0.356464  0.171645   \n",
              "\n",
              "       fear   disgust     anger  sentiment_neuron  ewc  llc  num_unique_words  \\\n",
              "0  0.238193  0.133129  0.162108          0.277048    0    1                25   \n",
              "2  0.162442  0.419307  0.281755          0.316485    0    3                53   \n",
              "3  0.125014  0.140594  0.366930          0.126700    0    4                47   \n",
              "4  0.046534  0.116447  0.051066          0.172019    0    5                38   \n",
              "5  0.098791  0.098959  0.272835          0.307153    0    2                17   \n",
              "\n",
              "   num_stop_words  num_words_title  normalized_meanings  sentiment_score  \\\n",
              "0              16               31             2.242424        -0.015672   \n",
              "2              28               10             3.700000        -0.020672   \n",
              "3              33                5             3.030769         0.008053   \n",
              "4              22                3             2.918367         0.019509   \n",
              "5              10                3             2.954545        -0.015931   \n",
              "\n",
              "   pronouns  prepositions  coordinating_conjunctions  adjectives   adverbs  \\\n",
              "0  0.000000      0.212121                   0.000000    0.000000  0.000000   \n",
              "2  0.016667      0.150000                   0.016667    0.083333  0.133333   \n",
              "3  0.000000      0.200000                   0.015385    0.015385  0.030769   \n",
              "4  0.061224      0.142857                   0.000000    0.040816  0.061224   \n",
              "5  0.090909      0.136364                   0.000000    0.000000  0.000000   \n",
              "\n",
              "   determiners  interjections    modals     nouns  personal_pronouns  \\\n",
              "0     0.212121            0.0  0.000000  0.515152           0.000000   \n",
              "2     0.116667            0.0  0.000000  0.283333           0.000000   \n",
              "3     0.200000            0.0  0.000000  0.384615           0.000000   \n",
              "4     0.122449            0.0  0.020408  0.285714           0.020408   \n",
              "5     0.136364            0.0  0.000000  0.363636           0.045455   \n",
              "\n",
              "      verbs  word_len_gte_six  word_len_two_and_three  avg_word_length  \\\n",
              "0  0.030303          0.242424                0.484848         4.060606   \n",
              "2  0.133333          0.383333                0.200000         5.100000   \n",
              "3  0.061538          0.292308                0.369231         4.430769   \n",
              "4  0.163265          0.367347                0.326531         4.897959   \n",
              "5  0.181818          0.181818                0.363636         3.500000   \n",
              "\n",
              "   all_caps  capitalized  quotes_count    digits  punctuation_count  \\\n",
              "0       0.0     0.939394           0.0  0.000000           0.000000   \n",
              "2       0.0     0.166667           0.0  0.005510           0.005510   \n",
              "3       0.0     0.092308           0.0  0.000000           0.008596   \n",
              "4       0.0     0.081633           0.0  0.017668           0.021201   \n",
              "5       0.0     0.136364           0.0  0.000000           0.010638   \n",
              "\n",
              "   comma_count  semicolon_count  colon_count  spaces_count  apostrophes_count  \\\n",
              "0     0.000000              0.0     0.000000      0.182927                0.0   \n",
              "2     0.002755              0.0     0.000000      0.157025                0.0   \n",
              "3     0.005731              0.0     0.000000      0.174785                0.0   \n",
              "4     0.007067              0.0     0.007067      0.151943                0.0   \n",
              "5     0.000000              0.0     0.000000      0.180851                0.0   \n",
              "\n",
              "   amp_count  parenthesis_count  paragraph_count  flesch_reading_ease  \\\n",
              "0        0.0                0.0              0.0                56.93   \n",
              "2        0.0                0.0              0.0                 4.15   \n",
              "3        0.0                0.0              0.0                25.47   \n",
              "4        0.0                0.0              0.0                18.36   \n",
              "5        0.0                0.0              0.0                87.05   \n",
              "\n",
              "   smog_index  flesch_kincaid_grade  coleman_liau_index  \\\n",
              "0         0.0                  13.0                8.37   \n",
              "2         0.0                  27.1               14.00   \n",
              "3         0.0                  25.1               10.29   \n",
              "4         0.0                  21.6               14.46   \n",
              "5         0.0                   5.6                6.90   \n",
              "\n",
              "   automated_readability_index  dale_chall_readability_score  difficult_words  \\\n",
              "0                         14.4                          8.74                7   \n",
              "2                         32.4                         11.14               17   \n",
              "3                         31.5                         10.53               15   \n",
              "4                         26.2                         11.20               15   \n",
              "5                          7.7                          6.28                2   \n",
              "\n",
              "   linsear_write_formula  gunning_fog  subjectivity  polarity  is_question  \\\n",
              "0                   16.5        21.43      0.518182  0.167677            0   \n",
              "2                   38.0        34.92      0.364935 -0.051948            0   \n",
              "3                   36.0        34.48      0.222222  0.086111            0   \n",
              "4                   32.0        31.24      0.385000  0.070000            0   \n",
              "5                    9.0        11.64      0.494444 -0.277778            0   \n",
              "\n",
              "   is_exclamation  is_period  num_words  num_chars  num_adjs  num_adv  \\\n",
              "0               0          0         31        164         3        0   \n",
              "2               0          1         58        363         5        8   \n",
              "3               0          1         62        349         2        2   \n",
              "4               0          1         44        283         3        3   \n",
              "5               0          1         18         94         0        0   \n",
              "\n",
              "   sing_pro  pl_pro  target  \n",
              "0         0       0       0  \n",
              "2         0       0       0  \n",
              "3         0       0       0  \n",
              "4         1       1       0  \n",
              "5         1       1       0  "
            ]
          },
          "metadata": {
            "tags": []
          },
          "execution_count": 4
        }
      ]
    },
    {
      "metadata": {
        "id": "u7Lnvdc5Kw1w",
        "colab_type": "code",
        "outputId": "f14ca13c-70ee-4532-c82e-cbf8ae05ff3c",
        "colab": {
          "base_uri": "https://localhost:8080/",
          "height": 35
        }
      },
      "cell_type": "code",
      "source": [
        "print('aa')"
      ],
      "execution_count": 0,
      "outputs": [
        {
          "output_type": "stream",
          "text": [
            "aa\n"
          ],
          "name": "stdout"
        }
      ]
    },
    {
      "metadata": {
        "id": "ElrQe2qaLYKx",
        "colab_type": "code",
        "colab": {}
      },
      "cell_type": "code",
      "source": [
        "group_features = {'subjectivity_and_polarity':['subjectivity', 'polarity'], 'sentence_type':['is_question', 'is_exclamation', 'is_period'], \n",
        "                  'emotions':['sadness',\t'joy',\t'fear',\t'disgust',\t'anger'], \n",
        "                  'readability':['flesch_reading_ease', 'smog_index', 'flesch_kincaid_grade', 'coleman_liau_index', 'automated_readability_index', 'dale_chall_readability_score', 'difficult_words', 'linsear_write_formula', 'gunning_fog'], \n",
        "                  'tf-idf':['sentences'],  'exclamation_words':['ewc'], \n",
        "                  'lexical_chars':['digits', 'punctuation_count', 'comma_count', 'semicolon_count', 'colon_count', 'spaces_count', 'apostrophes_count', 'amp_count', 'parenthesis_count', 'paragraph_count'], \n",
        "                  'lexical_words':['pronouns', 'prepositions', 'coordinating_conjunctions', 'adjectives', 'adverbs', 'determiners', 'interjections', 'modals', 'nouns', 'personal_pronouns', 'verbs', \n",
        "                                   'word_len_gte_six', 'word_len_two_and_three', 'avg_word_length', 'all_caps', 'capitalized', 'quotes_count'],\n",
        "                  'loaded_language':['llc'],\n",
        "                  'confusing_words':['normalized_meanings'],\n",
        "                  'sentiment':['sentiment_score'],\n",
        "                  'sentiment_neuron':['sentiment_neuron'],\n",
        "                  'pos':['num_adjs', 'num_adv', 'sing_pro', 'pl_pro'],\n",
        "                  'unique_words':['num_unique_words'],\n",
        "                  'stop_words':['num_stop_words'],\n",
        "                  'title_case_words':['num_words_title'],\n",
        "                  'total_counts':['num_words', 'num_chars']\n",
        "                 }  \n",
        "\n"
      ],
      "execution_count": 0,
      "outputs": []
    },
    {
      "metadata": {
        "id": "EXFSGhqo4hFL",
        "colab_type": "code",
        "outputId": "8e8e8672-db17-4df0-ae80-c3c197a36898",
        "colab": {
          "base_uri": "https://localhost:8080/",
          "height": 55
        }
      },
      "cell_type": "code",
      "source": [
        "print(list(group_features.keys()))"
      ],
      "execution_count": 0,
      "outputs": [
        {
          "output_type": "stream",
          "text": [
            "['subjectivity_and_polarity', 'sentence_type', 'emotions', 'readability', 'tf-idf', 'loaded_words', 'exclamation_words', 'lexical_chars', 'lexical_words', 'emotion_exclamations', 'loaded_language', 'confusing_words', 'sentiment', 'sentiment_neuron', 'pos', 'unique_words', 'stop_words', 'title_case_words', 'total_counts']\n"
          ],
          "name": "stdout"
        }
      ]
    },
    {
      "metadata": {
        "id": "m_lzKQ7sohl2",
        "colab_type": "code",
        "colab": {}
      },
      "cell_type": "code",
      "source": [
        "def train_and_test(classifier, features):\n",
        "  \"\"\"\n",
        "  param::features - of form [('polarity', False), ('emotions', True)], where the\n",
        "  first elem of the tuple is the feature group name, and the second is whether\n",
        "  to use scaling or not\n",
        "  \"\"\"\n",
        "  include_tf_idf = False\n",
        "  # don't use tf idf with scale?\n",
        "  feats_dataset = []\n",
        "  feats_to_scale = []\n",
        "  for feat, scale in features:\n",
        "    feats_dataset += group_features[feat]\n",
        "    if scale:\n",
        "      feats_to_scale += group_features[feat]\n",
        "  \n",
        "  if 'sentences' in feats_dataset:\n",
        "    include_tf_idf = True\n",
        "    # Maybe try different params/vectorisers, stemming etc.? - got these from the winning system for task 1.\n",
        "    vectorizer = TfidfVectorizer(min_df = 3, max_df=0.5,  max_features=None, \n",
        "                strip_accents='unicode', analyzer='word',token_pattern=r'\\w{1,}',\n",
        "                ngram_range=(1, 3), use_idf=1,smooth_idf=1,sublinear_tf=1,\n",
        "                stop_words = 'english')\n",
        "  \n",
        "    x_train = vectorizer.fit_transform(X_train['sentences'])\n",
        "    x_val = vectorizer.transform(X_rest['sentences'])\n",
        "    feats_dataset.remove('sentences')\n",
        "  \n",
        "  scaler = StandardScaler()\n",
        "  X_train_copy = X_train[feats_dataset].copy()\n",
        "  X_rest_copy = X_rest[feats_dataset].copy()\n",
        "  if feats_to_scale:\n",
        "    X_train_copy[feats_to_scale] = scaler.fit_transform(X_train_copy[feats_to_scale])\n",
        "    X_rest_copy[feats_to_scale] = scaler.transform(X_rest_copy[feats_to_scale])\n",
        "  \n",
        "  if include_tf_idf:\n",
        "    classifier.fit(hstack([x_train, X_train_copy[feats_dataset].values]), y_train.values.ravel())\n",
        "    # All features\n",
        "    y_pred = classifier.predict(hstack([x_val, X_rest_copy[feats_dataset].values]))\n",
        "  else:\n",
        "    classifier.fit(X_train_copy[feats_dataset], y_train.values.ravel())\n",
        "    y_pred = classifier.predict(X_rest_copy[feats_dataset])\n",
        "  print(classification_report(y_rest.values.ravel(), y_pred))\n",
        "  return y_pred\n"
      ],
      "execution_count": 0,
      "outputs": []
    },
    {
      "metadata": {
        "id": "wW478jgre2g1",
        "colab_type": "code",
        "colab": {}
      },
      "cell_type": "code",
      "source": [
        "predictions = [ mlp_preds,random_forrest_preds, neigh_clf_preds, lin_svc_preds, svm_preds, nb_preds, baseline_preds]\n",
        "names = [ 'Perceptron','random forrest','KNN','Linear SVM', 'SVM', 'Gaussian Naive Bayes', 'Random Choice']\n",
        "results = []\n",
        "plt.figure(0)\n",
        "for i,n in zip(predictions,names):\n",
        "    res = [n]\n",
        "    p = precision_score(y_test['propaganda'], i, average='binary')\n",
        "    r = recall_score(y_test['propaganda'], i, average='binary')\n",
        "    plt.scatter(p,r, label=n,marker='^', s=100)\n",
        "    res.append(p)\n",
        "    res.append(r)\n",
        "    res.append(f1_score(y_test['propaganda'], i, average='binary'))\n",
        "    results.append(res)\n",
        "plt.legend()\n",
        "plt.title(\"Classification system results\")\n",
        "plt.xlabel('Precision')\n",
        "plt.ylabel('Recall')\n",
        "plt.grid()\n",
        "plt.tight_layout()\n",
        "plt.savefig('classification_results.pdf')"
      ],
      "execution_count": 0,
      "outputs": []
    },
    {
      "metadata": {
        "id": "-PQyoOXrVixw",
        "colab_type": "code",
        "outputId": "6728c0cc-f783-4e83-bee0-6427c2ebb999",
        "colab": {
          "base_uri": "https://localhost:8080/",
          "height": 55
        }
      },
      "cell_type": "code",
      "source": [
        "group_features.keys()"
      ],
      "execution_count": 0,
      "outputs": [
        {
          "output_type": "execute_result",
          "data": {
            "text/plain": [
              "dict_keys(['subjectivity_and_polarity', 'sentence_type', 'emotions', 'readability', 'tf-idf', 'exclamation_words', 'lexical_chars', 'lexical_words', 'emotion_exclamations', 'loaded_language', 'confusing_words', 'sentiment', 'sentiment_neuron', 'pos', 'unique_words', 'stop_words', 'title_case_words', 'total_counts'])"
            ]
          },
          "metadata": {
            "tags": []
          },
          "execution_count": 25
        }
      ]
    },
    {
      "metadata": {
        "id": "O9JMqx8lIIKE",
        "colab_type": "code",
        "colab": {}
      },
      "cell_type": "code",
      "source": [
        "to_test = ['subjectivity_and_polarity', 'sentence_type', 'emotions', 'readability', 'tf-idf', 'exclamation_words', 'lexical_chars', 'lexical_words', 'loaded_language', 'confusing_words', 'sentiment', 'sentiment_neuron', 'unique_words', 'stop_words', 'total_counts']"
      ],
      "execution_count": 0,
      "outputs": []
    },
    {
      "metadata": {
        "id": "7QtVJRjAhOij",
        "colab_type": "code",
        "outputId": "ad5e4df6-67f6-4478-e757-5068884a2dd1",
        "colab": {
          "base_uri": "https://localhost:8080/",
          "height": 287
        }
      },
      "cell_type": "code",
      "source": [
        "to_test"
      ],
      "execution_count": 0,
      "outputs": [
        {
          "output_type": "execute_result",
          "data": {
            "text/plain": [
              "['subjectivity_and_polarity',\n",
              " 'sentence_type',\n",
              " 'emotions',\n",
              " 'readability',\n",
              " 'tf-idf',\n",
              " 'exclamation_words',\n",
              " 'lexical_chars',\n",
              " 'lexical_words',\n",
              " 'loaded_language',\n",
              " 'confusing_words',\n",
              " 'sentiment',\n",
              " 'sentiment_neuron',\n",
              " 'unique_words',\n",
              " 'stop_words',\n",
              " 'total_counts']"
            ]
          },
          "metadata": {
            "tags": []
          },
          "execution_count": 37
        }
      ]
    },
    {
      "metadata": {
        "id": "5M3vs4WRllka",
        "colab_type": "code",
        "colab": {}
      },
      "cell_type": "code",
      "source": [
        "names = ['Subjectivity/Polarity', 'Sentence Type', 'Emotions', 'Readability', 'Tf-Idf', 'Exclamation Words', 'Lexical Chars', 'Lexical Words', \n",
        "         'Loaded Language', 'Ambiguous Words', 'Sentiment', 'Sentiment Neuron', 'Unique Words', 'Stop Words', 'Total Counts']"
      ],
      "execution_count": 0,
      "outputs": []
    },
    {
      "metadata": {
        "id": "-Ntdibbbglh_",
        "colab_type": "code",
        "outputId": "ca44c6e8-90cc-444f-b544-4e0652e9e855",
        "colab": {
          "base_uri": "https://localhost:8080/",
          "height": 35
        }
      },
      "cell_type": "code",
      "source": [
        "len(to_test)"
      ],
      "execution_count": 0,
      "outputs": [
        {
          "output_type": "execute_result",
          "data": {
            "text/plain": [
              "15"
            ]
          },
          "metadata": {
            "tags": []
          },
          "execution_count": 36
        }
      ]
    },
    {
      "metadata": {
        "id": "hrKThkQdLYPL",
        "colab_type": "code",
        "colab": {}
      },
      "cell_type": "code",
      "source": [
        "# LinearSVC(C=1.0, class_weight='balanced', multi_class='ovr', random_state=SEED)"
      ],
      "execution_count": 0,
      "outputs": []
    },
    {
      "metadata": {
        "id": "cuUMBZMgfGDI",
        "colab_type": "code",
        "outputId": "2017c279-9cf0-475d-d8af-e56c63d39807",
        "colab": {
          "base_uri": "https://localhost:8080/",
          "height": 3041
        }
      },
      "cell_type": "code",
      "source": [
        "from sklearn.metrics import f1_score, recall_score, precision_score\n",
        "\n",
        "predictions = []\n",
        "for t in to_test:\n",
        "  print(t)\n",
        "  y_feat = train_and_test(LinearSVC(C=1.0, class_weight='balanced', multi_class='ovr', random_state=SEED), [(t, False)])\n",
        "  predictions.append(y_feat)\n",
        "\n",
        "# for t in to_test:\n",
        "#   train_and_test(LogisticRegression(random_state=SEED), [(t, False)])"
      ],
      "execution_count": 0,
      "outputs": [
        {
          "output_type": "stream",
          "text": [
            "subjectivity_and_polarity\n",
            "              precision    recall  f1-score   support\n",
            "\n",
            "           0       0.77      0.62      0.69      2065\n",
            "           1       0.34      0.52      0.41       788\n",
            "\n",
            "   micro avg       0.59      0.59      0.59      2853\n",
            "   macro avg       0.56      0.57      0.55      2853\n",
            "weighted avg       0.65      0.59      0.61      2853\n",
            "\n",
            "sentence_type\n",
            "              precision    recall  f1-score   support\n",
            "\n",
            "           0       0.77      0.23      0.36      2065\n",
            "           1       0.29      0.82      0.43       788\n",
            "\n",
            "   micro avg       0.39      0.39      0.39      2853\n",
            "   macro avg       0.53      0.52      0.39      2853\n",
            "weighted avg       0.64      0.39      0.38      2853\n",
            "\n",
            "emotions\n",
            "              precision    recall  f1-score   support\n",
            "\n",
            "           0       0.82      0.58      0.68      2065\n",
            "           1       0.37      0.66      0.48       788\n",
            "\n",
            "   micro avg       0.60      0.60      0.60      2853\n",
            "   macro avg       0.60      0.62      0.58      2853\n",
            "weighted avg       0.70      0.60      0.62      2853\n",
            "\n",
            "readability\n"
          ],
          "name": "stdout"
        },
        {
          "output_type": "stream",
          "text": [
            "/usr/local/lib/python3.6/dist-packages/sklearn/svm/base.py:931: ConvergenceWarning: Liblinear failed to converge, increase the number of iterations.\n",
            "  \"the number of iterations.\", ConvergenceWarning)\n"
          ],
          "name": "stderr"
        },
        {
          "output_type": "stream",
          "text": [
            "              precision    recall  f1-score   support\n",
            "\n",
            "           0       0.76      0.85      0.80      2065\n",
            "           1       0.42      0.28      0.34       788\n",
            "\n",
            "   micro avg       0.70      0.70      0.70      2853\n",
            "   macro avg       0.59      0.57      0.57      2853\n",
            "weighted avg       0.66      0.70      0.67      2853\n",
            "\n",
            "tf-idf\n",
            "              precision    recall  f1-score   support\n",
            "\n",
            "           0       0.82      0.76      0.79      2065\n",
            "           1       0.48      0.57      0.52       788\n",
            "\n",
            "   micro avg       0.71      0.71      0.71      2853\n",
            "   macro avg       0.65      0.66      0.65      2853\n",
            "weighted avg       0.73      0.71      0.71      2853\n",
            "\n",
            "exclamation_words\n",
            "              precision    recall  f1-score   support\n",
            "\n",
            "           0       0.72      1.00      0.84      2065\n",
            "           1       0.33      0.00      0.00       788\n",
            "\n",
            "   micro avg       0.72      0.72      0.72      2853\n",
            "   macro avg       0.53      0.50      0.42      2853\n",
            "weighted avg       0.62      0.72      0.61      2853\n",
            "\n",
            "lexical_chars\n",
            "              precision    recall  f1-score   support\n",
            "\n",
            "           0       0.81      0.31      0.45      2065\n",
            "           1       0.31      0.81      0.45       788\n",
            "\n",
            "   micro avg       0.45      0.45      0.45      2853\n",
            "   macro avg       0.56      0.56      0.45      2853\n",
            "weighted avg       0.67      0.45      0.45      2853\n",
            "\n",
            "lexical_words\n"
          ],
          "name": "stdout"
        },
        {
          "output_type": "stream",
          "text": [
            "/usr/local/lib/python3.6/dist-packages/sklearn/svm/base.py:931: ConvergenceWarning: Liblinear failed to converge, increase the number of iterations.\n",
            "  \"the number of iterations.\", ConvergenceWarning)\n"
          ],
          "name": "stderr"
        },
        {
          "output_type": "stream",
          "text": [
            "              precision    recall  f1-score   support\n",
            "\n",
            "           0       0.79      0.52      0.63      2065\n",
            "           1       0.34      0.63      0.44       788\n",
            "\n",
            "   micro avg       0.55      0.55      0.55      2853\n",
            "   macro avg       0.56      0.58      0.54      2853\n",
            "weighted avg       0.66      0.55      0.58      2853\n",
            "\n",
            "loaded_language\n"
          ],
          "name": "stdout"
        },
        {
          "output_type": "stream",
          "text": [
            "/usr/local/lib/python3.6/dist-packages/sklearn/svm/base.py:931: ConvergenceWarning: Liblinear failed to converge, increase the number of iterations.\n",
            "  \"the number of iterations.\", ConvergenceWarning)\n"
          ],
          "name": "stderr"
        },
        {
          "output_type": "stream",
          "text": [
            "              precision    recall  f1-score   support\n",
            "\n",
            "           0       0.77      0.74      0.76      2065\n",
            "           1       0.38      0.40      0.39       788\n",
            "\n",
            "   micro avg       0.65      0.65      0.65      2853\n",
            "   macro avg       0.57      0.57      0.57      2853\n",
            "weighted avg       0.66      0.65      0.65      2853\n",
            "\n",
            "confusing_words\n"
          ],
          "name": "stdout"
        },
        {
          "output_type": "stream",
          "text": [
            "/usr/local/lib/python3.6/dist-packages/sklearn/svm/base.py:931: ConvergenceWarning: Liblinear failed to converge, increase the number of iterations.\n",
            "  \"the number of iterations.\", ConvergenceWarning)\n"
          ],
          "name": "stderr"
        },
        {
          "output_type": "stream",
          "text": [
            "              precision    recall  f1-score   support\n",
            "\n",
            "           0       0.73      0.46      0.56      2065\n",
            "           1       0.28      0.55      0.37       788\n",
            "\n",
            "   micro avg       0.48      0.48      0.48      2853\n",
            "   macro avg       0.50      0.51      0.47      2853\n",
            "weighted avg       0.60      0.48      0.51      2853\n",
            "\n",
            "sentiment\n",
            "              precision    recall  f1-score   support\n",
            "\n",
            "           0       0.75      0.61      0.67      2065\n",
            "           1       0.31      0.46      0.37       788\n",
            "\n",
            "   micro avg       0.57      0.57      0.57      2853\n",
            "   macro avg       0.53      0.53      0.52      2853\n",
            "weighted avg       0.63      0.57      0.59      2853\n",
            "\n",
            "sentiment_neuron\n",
            "              precision    recall  f1-score   support\n",
            "\n",
            "           0       0.76      0.56      0.65      2065\n",
            "           1       0.32      0.54      0.40       788\n",
            "\n",
            "   micro avg       0.56      0.56      0.56      2853\n",
            "   macro avg       0.54      0.55      0.52      2853\n",
            "weighted avg       0.64      0.56      0.58      2853\n",
            "\n",
            "unique_words\n"
          ],
          "name": "stdout"
        },
        {
          "output_type": "stream",
          "text": [
            "/usr/local/lib/python3.6/dist-packages/sklearn/svm/base.py:931: ConvergenceWarning: Liblinear failed to converge, increase the number of iterations.\n",
            "  \"the number of iterations.\", ConvergenceWarning)\n",
            "/usr/local/lib/python3.6/dist-packages/sklearn/metrics/classification.py:1143: UndefinedMetricWarning: Precision and F-score are ill-defined and being set to 0.0 in labels with no predicted samples.\n",
            "  'precision', 'predicted', average, warn_for)\n"
          ],
          "name": "stderr"
        },
        {
          "output_type": "stream",
          "text": [
            "              precision    recall  f1-score   support\n",
            "\n",
            "           0       0.72      1.00      0.84      2065\n",
            "           1       0.00      0.00      0.00       788\n",
            "\n",
            "   micro avg       0.72      0.72      0.72      2853\n",
            "   macro avg       0.36      0.50      0.42      2853\n",
            "weighted avg       0.52      0.72      0.61      2853\n",
            "\n",
            "stop_words\n"
          ],
          "name": "stdout"
        },
        {
          "output_type": "stream",
          "text": [
            "/usr/local/lib/python3.6/dist-packages/sklearn/svm/base.py:931: ConvergenceWarning: Liblinear failed to converge, increase the number of iterations.\n",
            "  \"the number of iterations.\", ConvergenceWarning)\n"
          ],
          "name": "stderr"
        },
        {
          "output_type": "stream",
          "text": [
            "              precision    recall  f1-score   support\n",
            "\n",
            "           0       0.77      0.77      0.77      2065\n",
            "           1       0.39      0.39      0.39       788\n",
            "\n",
            "   micro avg       0.66      0.66      0.66      2853\n",
            "   macro avg       0.58      0.58      0.58      2853\n",
            "weighted avg       0.66      0.66      0.66      2853\n",
            "\n",
            "total_counts\n",
            "              precision    recall  f1-score   support\n",
            "\n",
            "           0       0.72      1.00      0.84      2065\n",
            "           1       0.00      0.00      0.00       788\n",
            "\n",
            "   micro avg       0.72      0.72      0.72      2853\n",
            "   macro avg       0.36      0.50      0.42      2853\n",
            "weighted avg       0.52      0.72      0.61      2853\n",
            "\n"
          ],
          "name": "stdout"
        },
        {
          "output_type": "stream",
          "text": [
            "/usr/local/lib/python3.6/dist-packages/sklearn/svm/base.py:931: ConvergenceWarning: Liblinear failed to converge, increase the number of iterations.\n",
            "  \"the number of iterations.\", ConvergenceWarning)\n",
            "/usr/local/lib/python3.6/dist-packages/sklearn/metrics/classification.py:1143: UndefinedMetricWarning: Precision and F-score are ill-defined and being set to 0.0 in labels with no predicted samples.\n",
            "  'precision', 'predicted', average, warn_for)\n"
          ],
          "name": "stderr"
        }
      ]
    },
    {
      "metadata": {
        "id": "-K-pkx4Slhn6",
        "colab_type": "code",
        "outputId": "6a588781-7ade-473a-ea48-e44eef6228bc",
        "colab": {
          "base_uri": "https://localhost:8080/",
          "height": 35
        }
      },
      "cell_type": "code",
      "source": [
        "len(predictions)"
      ],
      "execution_count": 0,
      "outputs": [
        {
          "output_type": "execute_result",
          "data": {
            "text/plain": [
              "15"
            ]
          },
          "metadata": {
            "tags": []
          },
          "execution_count": 44
        }
      ]
    },
    {
      "metadata": {
        "id": "lYIsbdJ2kTYm",
        "colab_type": "code",
        "outputId": "6f427d59-506d-430f-edaf-778cd2c9f9e7",
        "colab": {
          "base_uri": "https://localhost:8080/",
          "height": 3041
        }
      },
      "cell_type": "code",
      "source": [
        "from sklearn.metrics import f1_score, recall_score, precision_score\n",
        "\n",
        "predictions = []\n",
        "for t in to_test:\n",
        "  print(t)\n",
        "  y_feat = train_and_test(LinearSVC(C=1.0, class_weight='balanced', multi_class='ovr', random_state=SEED), [(t, False)])\n",
        "  predictions.append(y_feat)\n",
        "\n",
        "# for t in to_test:\n",
        "#   train_and_test(LogisticRegression(random_state=SEED), [(t, False)])"
      ],
      "execution_count": 0,
      "outputs": [
        {
          "output_type": "stream",
          "text": [
            "subjectivity_and_polarity\n",
            "              precision    recall  f1-score   support\n",
            "\n",
            "           0       0.77      0.62      0.69      2065\n",
            "           1       0.34      0.52      0.41       788\n",
            "\n",
            "   micro avg       0.59      0.59      0.59      2853\n",
            "   macro avg       0.56      0.57      0.55      2853\n",
            "weighted avg       0.65      0.59      0.61      2853\n",
            "\n",
            "sentence_type\n",
            "              precision    recall  f1-score   support\n",
            "\n",
            "           0       0.77      0.23      0.36      2065\n",
            "           1       0.29      0.82      0.43       788\n",
            "\n",
            "   micro avg       0.39      0.39      0.39      2853\n",
            "   macro avg       0.53      0.52      0.39      2853\n",
            "weighted avg       0.64      0.39      0.38      2853\n",
            "\n",
            "emotions\n",
            "              precision    recall  f1-score   support\n",
            "\n",
            "           0       0.82      0.58      0.68      2065\n",
            "           1       0.37      0.66      0.48       788\n",
            "\n",
            "   micro avg       0.60      0.60      0.60      2853\n",
            "   macro avg       0.60      0.62      0.58      2853\n",
            "weighted avg       0.70      0.60      0.62      2853\n",
            "\n",
            "readability\n"
          ],
          "name": "stdout"
        },
        {
          "output_type": "stream",
          "text": [
            "/usr/local/lib/python3.6/dist-packages/sklearn/svm/base.py:931: ConvergenceWarning: Liblinear failed to converge, increase the number of iterations.\n",
            "  \"the number of iterations.\", ConvergenceWarning)\n"
          ],
          "name": "stderr"
        },
        {
          "output_type": "stream",
          "text": [
            "              precision    recall  f1-score   support\n",
            "\n",
            "           0       0.76      0.85      0.80      2065\n",
            "           1       0.42      0.28      0.34       788\n",
            "\n",
            "   micro avg       0.70      0.70      0.70      2853\n",
            "   macro avg       0.59      0.57      0.57      2853\n",
            "weighted avg       0.66      0.70      0.67      2853\n",
            "\n",
            "tf-idf\n",
            "              precision    recall  f1-score   support\n",
            "\n",
            "           0       0.82      0.76      0.79      2065\n",
            "           1       0.48      0.57      0.52       788\n",
            "\n",
            "   micro avg       0.71      0.71      0.71      2853\n",
            "   macro avg       0.65      0.66      0.65      2853\n",
            "weighted avg       0.73      0.71      0.71      2853\n",
            "\n",
            "exclamation_words\n",
            "              precision    recall  f1-score   support\n",
            "\n",
            "           0       0.72      1.00      0.84      2065\n",
            "           1       0.33      0.00      0.00       788\n",
            "\n",
            "   micro avg       0.72      0.72      0.72      2853\n",
            "   macro avg       0.53      0.50      0.42      2853\n",
            "weighted avg       0.62      0.72      0.61      2853\n",
            "\n",
            "lexical_chars\n",
            "              precision    recall  f1-score   support\n",
            "\n",
            "           0       0.81      0.31      0.45      2065\n",
            "           1       0.31      0.81      0.45       788\n",
            "\n",
            "   micro avg       0.45      0.45      0.45      2853\n",
            "   macro avg       0.56      0.56      0.45      2853\n",
            "weighted avg       0.67      0.45      0.45      2853\n",
            "\n",
            "lexical_words\n"
          ],
          "name": "stdout"
        },
        {
          "output_type": "stream",
          "text": [
            "/usr/local/lib/python3.6/dist-packages/sklearn/svm/base.py:931: ConvergenceWarning: Liblinear failed to converge, increase the number of iterations.\n",
            "  \"the number of iterations.\", ConvergenceWarning)\n"
          ],
          "name": "stderr"
        },
        {
          "output_type": "stream",
          "text": [
            "              precision    recall  f1-score   support\n",
            "\n",
            "           0       0.79      0.52      0.63      2065\n",
            "           1       0.34      0.63      0.44       788\n",
            "\n",
            "   micro avg       0.55      0.55      0.55      2853\n",
            "   macro avg       0.56      0.58      0.54      2853\n",
            "weighted avg       0.66      0.55      0.58      2853\n",
            "\n",
            "loaded_language\n"
          ],
          "name": "stdout"
        },
        {
          "output_type": "stream",
          "text": [
            "/usr/local/lib/python3.6/dist-packages/sklearn/svm/base.py:931: ConvergenceWarning: Liblinear failed to converge, increase the number of iterations.\n",
            "  \"the number of iterations.\", ConvergenceWarning)\n"
          ],
          "name": "stderr"
        },
        {
          "output_type": "stream",
          "text": [
            "              precision    recall  f1-score   support\n",
            "\n",
            "           0       0.77      0.74      0.76      2065\n",
            "           1       0.38      0.40      0.39       788\n",
            "\n",
            "   micro avg       0.65      0.65      0.65      2853\n",
            "   macro avg       0.57      0.57      0.57      2853\n",
            "weighted avg       0.66      0.65      0.65      2853\n",
            "\n",
            "confusing_words\n"
          ],
          "name": "stdout"
        },
        {
          "output_type": "stream",
          "text": [
            "/usr/local/lib/python3.6/dist-packages/sklearn/svm/base.py:931: ConvergenceWarning: Liblinear failed to converge, increase the number of iterations.\n",
            "  \"the number of iterations.\", ConvergenceWarning)\n"
          ],
          "name": "stderr"
        },
        {
          "output_type": "stream",
          "text": [
            "              precision    recall  f1-score   support\n",
            "\n",
            "           0       0.73      0.46      0.56      2065\n",
            "           1       0.28      0.55      0.37       788\n",
            "\n",
            "   micro avg       0.48      0.48      0.48      2853\n",
            "   macro avg       0.50      0.51      0.47      2853\n",
            "weighted avg       0.60      0.48      0.51      2853\n",
            "\n",
            "sentiment\n",
            "              precision    recall  f1-score   support\n",
            "\n",
            "           0       0.75      0.61      0.67      2065\n",
            "           1       0.31      0.46      0.37       788\n",
            "\n",
            "   micro avg       0.57      0.57      0.57      2853\n",
            "   macro avg       0.53      0.53      0.52      2853\n",
            "weighted avg       0.63      0.57      0.59      2853\n",
            "\n",
            "sentiment_neuron\n",
            "              precision    recall  f1-score   support\n",
            "\n",
            "           0       0.76      0.56      0.65      2065\n",
            "           1       0.32      0.54      0.40       788\n",
            "\n",
            "   micro avg       0.56      0.56      0.56      2853\n",
            "   macro avg       0.54      0.55      0.52      2853\n",
            "weighted avg       0.64      0.56      0.58      2853\n",
            "\n",
            "unique_words\n"
          ],
          "name": "stdout"
        },
        {
          "output_type": "stream",
          "text": [
            "/usr/local/lib/python3.6/dist-packages/sklearn/svm/base.py:931: ConvergenceWarning: Liblinear failed to converge, increase the number of iterations.\n",
            "  \"the number of iterations.\", ConvergenceWarning)\n",
            "/usr/local/lib/python3.6/dist-packages/sklearn/metrics/classification.py:1143: UndefinedMetricWarning: Precision and F-score are ill-defined and being set to 0.0 in labels with no predicted samples.\n",
            "  'precision', 'predicted', average, warn_for)\n"
          ],
          "name": "stderr"
        },
        {
          "output_type": "stream",
          "text": [
            "              precision    recall  f1-score   support\n",
            "\n",
            "           0       0.72      1.00      0.84      2065\n",
            "           1       0.00      0.00      0.00       788\n",
            "\n",
            "   micro avg       0.72      0.72      0.72      2853\n",
            "   macro avg       0.36      0.50      0.42      2853\n",
            "weighted avg       0.52      0.72      0.61      2853\n",
            "\n",
            "stop_words\n"
          ],
          "name": "stdout"
        },
        {
          "output_type": "stream",
          "text": [
            "/usr/local/lib/python3.6/dist-packages/sklearn/svm/base.py:931: ConvergenceWarning: Liblinear failed to converge, increase the number of iterations.\n",
            "  \"the number of iterations.\", ConvergenceWarning)\n"
          ],
          "name": "stderr"
        },
        {
          "output_type": "stream",
          "text": [
            "              precision    recall  f1-score   support\n",
            "\n",
            "           0       0.77      0.77      0.77      2065\n",
            "           1       0.39      0.39      0.39       788\n",
            "\n",
            "   micro avg       0.66      0.66      0.66      2853\n",
            "   macro avg       0.58      0.58      0.58      2853\n",
            "weighted avg       0.66      0.66      0.66      2853\n",
            "\n",
            "total_counts\n",
            "              precision    recall  f1-score   support\n",
            "\n",
            "           0       0.72      1.00      0.84      2065\n",
            "           1       0.00      0.00      0.00       788\n",
            "\n",
            "   micro avg       0.72      0.72      0.72      2853\n",
            "   macro avg       0.36      0.50      0.42      2853\n",
            "weighted avg       0.52      0.72      0.61      2853\n",
            "\n"
          ],
          "name": "stdout"
        },
        {
          "output_type": "stream",
          "text": [
            "/usr/local/lib/python3.6/dist-packages/sklearn/svm/base.py:931: ConvergenceWarning: Liblinear failed to converge, increase the number of iterations.\n",
            "  \"the number of iterations.\", ConvergenceWarning)\n",
            "/usr/local/lib/python3.6/dist-packages/sklearn/metrics/classification.py:1143: UndefinedMetricWarning: Precision and F-score are ill-defined and being set to 0.0 in labels with no predicted samples.\n",
            "  'precision', 'predicted', average, warn_for)\n"
          ],
          "name": "stderr"
        }
      ]
    },
    {
      "metadata": {
        "id": "HR5jBcOIjQLl",
        "colab_type": "code",
        "outputId": "b377d616-719d-4657-dac4-884ab3df97f1",
        "colab": {
          "base_uri": "https://localhost:8080/",
          "height": 35
        }
      },
      "cell_type": "code",
      "source": [
        "len(predictions)"
      ],
      "execution_count": 0,
      "outputs": [
        {
          "output_type": "execute_result",
          "data": {
            "text/plain": [
              "15"
            ]
          },
          "metadata": {
            "tags": []
          },
          "execution_count": 39
        }
      ]
    },
    {
      "metadata": {
        "id": "HAevaruBV1p9",
        "colab_type": "code",
        "outputId": "cf6c1801-adb8-4f30-cdba-07e0218208b4",
        "colab": {
          "base_uri": "https://localhost:8080/",
          "height": 3653
        }
      },
      "cell_type": "code",
      "source": [
        "from sklearn.linear_model import LogisticRegression\n",
        "\n",
        "for t in to_test:\n",
        "  print(t)\n",
        "  train_and_test(LinearSVC(C=1.0, class_weight='balanced', multi_class='ovr', random_state=SEED), [(t, False)])\n",
        "\n",
        "\n",
        "# for t in to_test:\n",
        "#   train_and_test(LogisticRegression(random_state=SEED), [(t, False)])"
      ],
      "execution_count": 0,
      "outputs": [
        {
          "output_type": "stream",
          "text": [
            "subjectivity_and_polarity\n",
            "              precision    recall  f1-score   support\n",
            "\n",
            "           0       0.77      0.62      0.69      2065\n",
            "           1       0.34      0.52      0.41       788\n",
            "\n",
            "   micro avg       0.59      0.59      0.59      2853\n",
            "   macro avg       0.56      0.57      0.55      2853\n",
            "weighted avg       0.65      0.59      0.61      2853\n",
            "\n",
            "sentence_type\n",
            "              precision    recall  f1-score   support\n",
            "\n",
            "           0       0.77      0.23      0.36      2065\n",
            "           1       0.29      0.82      0.43       788\n",
            "\n",
            "   micro avg       0.39      0.39      0.39      2853\n",
            "   macro avg       0.53      0.52      0.39      2853\n",
            "weighted avg       0.64      0.39      0.38      2853\n",
            "\n",
            "emotions\n",
            "              precision    recall  f1-score   support\n",
            "\n",
            "           0       0.82      0.58      0.68      2065\n",
            "           1       0.37      0.66      0.48       788\n",
            "\n",
            "   micro avg       0.60      0.60      0.60      2853\n",
            "   macro avg       0.60      0.62      0.58      2853\n",
            "weighted avg       0.70      0.60      0.62      2853\n",
            "\n",
            "readability\n"
          ],
          "name": "stdout"
        },
        {
          "output_type": "stream",
          "text": [
            "/usr/local/lib/python3.6/dist-packages/sklearn/svm/base.py:931: ConvergenceWarning: Liblinear failed to converge, increase the number of iterations.\n",
            "  \"the number of iterations.\", ConvergenceWarning)\n"
          ],
          "name": "stderr"
        },
        {
          "output_type": "stream",
          "text": [
            "              precision    recall  f1-score   support\n",
            "\n",
            "           0       0.76      0.85      0.80      2065\n",
            "           1       0.42      0.28      0.34       788\n",
            "\n",
            "   micro avg       0.70      0.70      0.70      2853\n",
            "   macro avg       0.59      0.57      0.57      2853\n",
            "weighted avg       0.66      0.70      0.67      2853\n",
            "\n",
            "tf-idf\n",
            "              precision    recall  f1-score   support\n",
            "\n",
            "           0       0.82      0.76      0.79      2065\n",
            "           1       0.48      0.57      0.52       788\n",
            "\n",
            "   micro avg       0.71      0.71      0.71      2853\n",
            "   macro avg       0.65      0.66      0.65      2853\n",
            "weighted avg       0.73      0.71      0.71      2853\n",
            "\n",
            "exclamation_words\n",
            "              precision    recall  f1-score   support\n",
            "\n",
            "           0       0.72      1.00      0.84      2065\n",
            "           1       0.33      0.00      0.00       788\n",
            "\n",
            "   micro avg       0.72      0.72      0.72      2853\n",
            "   macro avg       0.53      0.50      0.42      2853\n",
            "weighted avg       0.62      0.72      0.61      2853\n",
            "\n",
            "lexical_chars\n",
            "              precision    recall  f1-score   support\n",
            "\n",
            "           0       0.81      0.31      0.45      2065\n",
            "           1       0.31      0.81      0.45       788\n",
            "\n",
            "   micro avg       0.45      0.45      0.45      2853\n",
            "   macro avg       0.56      0.56      0.45      2853\n",
            "weighted avg       0.67      0.45      0.45      2853\n",
            "\n",
            "lexical_words\n"
          ],
          "name": "stdout"
        },
        {
          "output_type": "stream",
          "text": [
            "/usr/local/lib/python3.6/dist-packages/sklearn/svm/base.py:931: ConvergenceWarning: Liblinear failed to converge, increase the number of iterations.\n",
            "  \"the number of iterations.\", ConvergenceWarning)\n"
          ],
          "name": "stderr"
        },
        {
          "output_type": "stream",
          "text": [
            "              precision    recall  f1-score   support\n",
            "\n",
            "           0       0.79      0.52      0.63      2065\n",
            "           1       0.34      0.63      0.44       788\n",
            "\n",
            "   micro avg       0.55      0.55      0.55      2853\n",
            "   macro avg       0.56      0.58      0.54      2853\n",
            "weighted avg       0.66      0.55      0.58      2853\n",
            "\n",
            "emotion_exclamations\n",
            "              precision    recall  f1-score   support\n",
            "\n",
            "           0       0.72      1.00      0.84      2065\n",
            "           1       0.33      0.00      0.00       788\n",
            "\n",
            "   micro avg       0.72      0.72      0.72      2853\n",
            "   macro avg       0.53      0.50      0.42      2853\n",
            "weighted avg       0.62      0.72      0.61      2853\n",
            "\n",
            "loaded_language\n"
          ],
          "name": "stdout"
        },
        {
          "output_type": "stream",
          "text": [
            "/usr/local/lib/python3.6/dist-packages/sklearn/svm/base.py:931: ConvergenceWarning: Liblinear failed to converge, increase the number of iterations.\n",
            "  \"the number of iterations.\", ConvergenceWarning)\n"
          ],
          "name": "stderr"
        },
        {
          "output_type": "stream",
          "text": [
            "              precision    recall  f1-score   support\n",
            "\n",
            "           0       0.77      0.74      0.76      2065\n",
            "           1       0.38      0.40      0.39       788\n",
            "\n",
            "   micro avg       0.65      0.65      0.65      2853\n",
            "   macro avg       0.57      0.57      0.57      2853\n",
            "weighted avg       0.66      0.65      0.65      2853\n",
            "\n",
            "confusing_words\n"
          ],
          "name": "stdout"
        },
        {
          "output_type": "stream",
          "text": [
            "/usr/local/lib/python3.6/dist-packages/sklearn/svm/base.py:931: ConvergenceWarning: Liblinear failed to converge, increase the number of iterations.\n",
            "  \"the number of iterations.\", ConvergenceWarning)\n"
          ],
          "name": "stderr"
        },
        {
          "output_type": "stream",
          "text": [
            "              precision    recall  f1-score   support\n",
            "\n",
            "           0       0.73      0.46      0.56      2065\n",
            "           1       0.28      0.55      0.37       788\n",
            "\n",
            "   micro avg       0.48      0.48      0.48      2853\n",
            "   macro avg       0.50      0.51      0.47      2853\n",
            "weighted avg       0.60      0.48      0.51      2853\n",
            "\n",
            "sentiment\n",
            "              precision    recall  f1-score   support\n",
            "\n",
            "           0       0.75      0.61      0.67      2065\n",
            "           1       0.31      0.46      0.37       788\n",
            "\n",
            "   micro avg       0.57      0.57      0.57      2853\n",
            "   macro avg       0.53      0.53      0.52      2853\n",
            "weighted avg       0.63      0.57      0.59      2853\n",
            "\n",
            "sentiment_neuron\n",
            "              precision    recall  f1-score   support\n",
            "\n",
            "           0       0.76      0.56      0.65      2065\n",
            "           1       0.32      0.54      0.40       788\n",
            "\n",
            "   micro avg       0.56      0.56      0.56      2853\n",
            "   macro avg       0.54      0.55      0.52      2853\n",
            "weighted avg       0.64      0.56      0.58      2853\n",
            "\n",
            "pos\n"
          ],
          "name": "stdout"
        },
        {
          "output_type": "stream",
          "text": [
            "/usr/local/lib/python3.6/dist-packages/sklearn/svm/base.py:931: ConvergenceWarning: Liblinear failed to converge, increase the number of iterations.\n",
            "  \"the number of iterations.\", ConvergenceWarning)\n"
          ],
          "name": "stderr"
        },
        {
          "output_type": "stream",
          "text": [
            "              precision    recall  f1-score   support\n",
            "\n",
            "           0       0.78      0.69      0.74      2065\n",
            "           1       0.38      0.50      0.43       788\n",
            "\n",
            "   micro avg       0.64      0.64      0.64      2853\n",
            "   macro avg       0.58      0.60      0.59      2853\n",
            "weighted avg       0.67      0.64      0.65      2853\n",
            "\n",
            "unique_words\n"
          ],
          "name": "stdout"
        },
        {
          "output_type": "stream",
          "text": [
            "/usr/local/lib/python3.6/dist-packages/sklearn/svm/base.py:931: ConvergenceWarning: Liblinear failed to converge, increase the number of iterations.\n",
            "  \"the number of iterations.\", ConvergenceWarning)\n",
            "/usr/local/lib/python3.6/dist-packages/sklearn/metrics/classification.py:1143: UndefinedMetricWarning: Precision and F-score are ill-defined and being set to 0.0 in labels with no predicted samples.\n",
            "  'precision', 'predicted', average, warn_for)\n"
          ],
          "name": "stderr"
        },
        {
          "output_type": "stream",
          "text": [
            "              precision    recall  f1-score   support\n",
            "\n",
            "           0       0.72      1.00      0.84      2065\n",
            "           1       0.00      0.00      0.00       788\n",
            "\n",
            "   micro avg       0.72      0.72      0.72      2853\n",
            "   macro avg       0.36      0.50      0.42      2853\n",
            "weighted avg       0.52      0.72      0.61      2853\n",
            "\n",
            "stop_words\n"
          ],
          "name": "stdout"
        },
        {
          "output_type": "stream",
          "text": [
            "/usr/local/lib/python3.6/dist-packages/sklearn/svm/base.py:931: ConvergenceWarning: Liblinear failed to converge, increase the number of iterations.\n",
            "  \"the number of iterations.\", ConvergenceWarning)\n"
          ],
          "name": "stderr"
        },
        {
          "output_type": "stream",
          "text": [
            "              precision    recall  f1-score   support\n",
            "\n",
            "           0       0.77      0.77      0.77      2065\n",
            "           1       0.39      0.39      0.39       788\n",
            "\n",
            "   micro avg       0.66      0.66      0.66      2853\n",
            "   macro avg       0.58      0.58      0.58      2853\n",
            "weighted avg       0.66      0.66      0.66      2853\n",
            "\n",
            "title_case_words\n"
          ],
          "name": "stdout"
        },
        {
          "output_type": "stream",
          "text": [
            "/usr/local/lib/python3.6/dist-packages/sklearn/svm/base.py:931: ConvergenceWarning: Liblinear failed to converge, increase the number of iterations.\n",
            "  \"the number of iterations.\", ConvergenceWarning)\n"
          ],
          "name": "stderr"
        },
        {
          "output_type": "stream",
          "text": [
            "              precision    recall  f1-score   support\n",
            "\n",
            "           0       0.74      0.68      0.71      2065\n",
            "           1       0.31      0.39      0.35       788\n",
            "\n",
            "   micro avg       0.60      0.60      0.60      2853\n",
            "   macro avg       0.53      0.53      0.53      2853\n",
            "weighted avg       0.62      0.60      0.61      2853\n",
            "\n",
            "total_counts\n",
            "              precision    recall  f1-score   support\n",
            "\n",
            "           0       0.72      1.00      0.84      2065\n",
            "           1       0.00      0.00      0.00       788\n",
            "\n",
            "   micro avg       0.72      0.72      0.72      2853\n",
            "   macro avg       0.36      0.50      0.42      2853\n",
            "weighted avg       0.52      0.72      0.61      2853\n",
            "\n"
          ],
          "name": "stdout"
        },
        {
          "output_type": "stream",
          "text": [
            "/usr/local/lib/python3.6/dist-packages/sklearn/svm/base.py:931: ConvergenceWarning: Liblinear failed to converge, increase the number of iterations.\n",
            "  \"the number of iterations.\", ConvergenceWarning)\n",
            "/usr/local/lib/python3.6/dist-packages/sklearn/metrics/classification.py:1143: UndefinedMetricWarning: Precision and F-score are ill-defined and being set to 0.0 in labels with no predicted samples.\n",
            "  'precision', 'predicted', average, warn_for)\n"
          ],
          "name": "stderr"
        }
      ]
    },
    {
      "metadata": {
        "id": "8oYf3eNy7d11",
        "colab_type": "code",
        "outputId": "e4e711b4-7f1e-4d00-8bd0-cf9516f910ef",
        "colab": {
          "base_uri": "https://localhost:8080/",
          "height": 3473
        }
      },
      "cell_type": "code",
      "source": [
        "from sklearn.linear_model import LogisticRegression\n",
        "\n",
        "for t in to_test:\n",
        "  print(t)\n",
        "  train_and_test(LinearSVC(C=1.0, class_weight='balanced', multi_class='ovr', random_state=SEED), [(t, False)])\n",
        "\n",
        "\n",
        "# for t in to_test:\n",
        "#   train_and_test(LogisticRegression(random_state=SEED), [(t, False)])"
      ],
      "execution_count": 0,
      "outputs": [
        {
          "output_type": "stream",
          "text": [
            "subjectivity_and_polarity\n",
            "              precision    recall  f1-score   support\n",
            "\n",
            "           0       0.77      0.62      0.69      2065\n",
            "           1       0.34      0.52      0.41       788\n",
            "\n",
            "   micro avg       0.59      0.59      0.59      2853\n",
            "   macro avg       0.56      0.57      0.55      2853\n",
            "weighted avg       0.65      0.59      0.61      2853\n",
            "\n",
            "sentence_type\n",
            "              precision    recall  f1-score   support\n",
            "\n",
            "           0       0.77      0.23      0.36      2065\n",
            "           1       0.29      0.82      0.43       788\n",
            "\n",
            "   micro avg       0.39      0.39      0.39      2853\n",
            "   macro avg       0.53      0.52      0.39      2853\n",
            "weighted avg       0.64      0.39      0.38      2853\n",
            "\n",
            "emotions\n",
            "              precision    recall  f1-score   support\n",
            "\n",
            "           0       0.82      0.58      0.68      2065\n",
            "           1       0.37      0.66      0.48       788\n",
            "\n",
            "   micro avg       0.60      0.60      0.60      2853\n",
            "   macro avg       0.60      0.62      0.58      2853\n",
            "weighted avg       0.70      0.60      0.62      2853\n",
            "\n",
            "sentiment_neuron\n",
            "              precision    recall  f1-score   support\n",
            "\n",
            "           0       0.76      0.56      0.65      2065\n",
            "           1       0.32      0.54      0.40       788\n",
            "\n",
            "   micro avg       0.56      0.56      0.56      2853\n",
            "   macro avg       0.54      0.55      0.52      2853\n",
            "weighted avg       0.64      0.56      0.58      2853\n",
            "\n",
            "readability\n"
          ],
          "name": "stdout"
        },
        {
          "output_type": "stream",
          "text": [
            "/usr/local/lib/python3.6/dist-packages/sklearn/svm/base.py:931: ConvergenceWarning: Liblinear failed to converge, increase the number of iterations.\n",
            "  \"the number of iterations.\", ConvergenceWarning)\n"
          ],
          "name": "stderr"
        },
        {
          "output_type": "stream",
          "text": [
            "              precision    recall  f1-score   support\n",
            "\n",
            "           0       0.76      0.85      0.80      2065\n",
            "           1       0.42      0.28      0.34       788\n",
            "\n",
            "   micro avg       0.70      0.70      0.70      2853\n",
            "   macro avg       0.59      0.57      0.57      2853\n",
            "weighted avg       0.66      0.70      0.67      2853\n",
            "\n",
            "exclamation_words\n",
            "              precision    recall  f1-score   support\n",
            "\n",
            "           0       0.72      1.00      0.84      2065\n",
            "           1       0.33      0.00      0.00       788\n",
            "\n",
            "   micro avg       0.72      0.72      0.72      2853\n",
            "   macro avg       0.53      0.50      0.42      2853\n",
            "weighted avg       0.62      0.72      0.61      2853\n",
            "\n",
            "lexical_chars\n",
            "              precision    recall  f1-score   support\n",
            "\n",
            "           0       0.81      0.31      0.45      2065\n",
            "           1       0.31      0.81      0.45       788\n",
            "\n",
            "   micro avg       0.45      0.45      0.45      2853\n",
            "   macro avg       0.56      0.56      0.45      2853\n",
            "weighted avg       0.67      0.45      0.45      2853\n",
            "\n",
            "lexical_words\n"
          ],
          "name": "stdout"
        },
        {
          "output_type": "stream",
          "text": [
            "/usr/local/lib/python3.6/dist-packages/sklearn/svm/base.py:931: ConvergenceWarning: Liblinear failed to converge, increase the number of iterations.\n",
            "  \"the number of iterations.\", ConvergenceWarning)\n"
          ],
          "name": "stderr"
        },
        {
          "output_type": "stream",
          "text": [
            "              precision    recall  f1-score   support\n",
            "\n",
            "           0       0.79      0.52      0.63      2065\n",
            "           1       0.34      0.63      0.44       788\n",
            "\n",
            "   micro avg       0.55      0.55      0.55      2853\n",
            "   macro avg       0.56      0.58      0.54      2853\n",
            "weighted avg       0.66      0.55      0.58      2853\n",
            "\n",
            "emotion_exclamations\n",
            "              precision    recall  f1-score   support\n",
            "\n",
            "           0       0.72      1.00      0.84      2065\n",
            "           1       0.33      0.00      0.00       788\n",
            "\n",
            "   micro avg       0.72      0.72      0.72      2853\n",
            "   macro avg       0.53      0.50      0.42      2853\n",
            "weighted avg       0.62      0.72      0.61      2853\n",
            "\n",
            "loaded_language\n"
          ],
          "name": "stdout"
        },
        {
          "output_type": "stream",
          "text": [
            "/usr/local/lib/python3.6/dist-packages/sklearn/svm/base.py:931: ConvergenceWarning: Liblinear failed to converge, increase the number of iterations.\n",
            "  \"the number of iterations.\", ConvergenceWarning)\n"
          ],
          "name": "stderr"
        },
        {
          "output_type": "stream",
          "text": [
            "              precision    recall  f1-score   support\n",
            "\n",
            "           0       0.77      0.74      0.76      2065\n",
            "           1       0.38      0.40      0.39       788\n",
            "\n",
            "   micro avg       0.65      0.65      0.65      2853\n",
            "   macro avg       0.57      0.57      0.57      2853\n",
            "weighted avg       0.66      0.65      0.65      2853\n",
            "\n",
            "confusing_words\n"
          ],
          "name": "stdout"
        },
        {
          "output_type": "stream",
          "text": [
            "/usr/local/lib/python3.6/dist-packages/sklearn/svm/base.py:931: ConvergenceWarning: Liblinear failed to converge, increase the number of iterations.\n",
            "  \"the number of iterations.\", ConvergenceWarning)\n"
          ],
          "name": "stderr"
        },
        {
          "output_type": "stream",
          "text": [
            "              precision    recall  f1-score   support\n",
            "\n",
            "           0       0.73      0.46      0.56      2065\n",
            "           1       0.28      0.55      0.37       788\n",
            "\n",
            "   micro avg       0.48      0.48      0.48      2853\n",
            "   macro avg       0.50      0.51      0.47      2853\n",
            "weighted avg       0.60      0.48      0.51      2853\n",
            "\n",
            "sentiment\n",
            "              precision    recall  f1-score   support\n",
            "\n",
            "           0       0.75      0.61      0.67      2065\n",
            "           1       0.31      0.46      0.37       788\n",
            "\n",
            "   micro avg       0.57      0.57      0.57      2853\n",
            "   macro avg       0.53      0.53      0.52      2853\n",
            "weighted avg       0.63      0.57      0.59      2853\n",
            "\n",
            "pos\n"
          ],
          "name": "stdout"
        },
        {
          "output_type": "stream",
          "text": [
            "/usr/local/lib/python3.6/dist-packages/sklearn/svm/base.py:931: ConvergenceWarning: Liblinear failed to converge, increase the number of iterations.\n",
            "  \"the number of iterations.\", ConvergenceWarning)\n"
          ],
          "name": "stderr"
        },
        {
          "output_type": "stream",
          "text": [
            "              precision    recall  f1-score   support\n",
            "\n",
            "           0       0.78      0.69      0.74      2065\n",
            "           1       0.38      0.50      0.43       788\n",
            "\n",
            "   micro avg       0.64      0.64      0.64      2853\n",
            "   macro avg       0.58      0.60      0.59      2853\n",
            "weighted avg       0.67      0.64      0.65      2853\n",
            "\n",
            "unique_words\n"
          ],
          "name": "stdout"
        },
        {
          "output_type": "stream",
          "text": [
            "/usr/local/lib/python3.6/dist-packages/sklearn/svm/base.py:931: ConvergenceWarning: Liblinear failed to converge, increase the number of iterations.\n",
            "  \"the number of iterations.\", ConvergenceWarning)\n",
            "/usr/local/lib/python3.6/dist-packages/sklearn/metrics/classification.py:1143: UndefinedMetricWarning: Precision and F-score are ill-defined and being set to 0.0 in labels with no predicted samples.\n",
            "  'precision', 'predicted', average, warn_for)\n"
          ],
          "name": "stderr"
        },
        {
          "output_type": "stream",
          "text": [
            "              precision    recall  f1-score   support\n",
            "\n",
            "           0       0.72      1.00      0.84      2065\n",
            "           1       0.00      0.00      0.00       788\n",
            "\n",
            "   micro avg       0.72      0.72      0.72      2853\n",
            "   macro avg       0.36      0.50      0.42      2853\n",
            "weighted avg       0.52      0.72      0.61      2853\n",
            "\n",
            "stop_words\n"
          ],
          "name": "stdout"
        },
        {
          "output_type": "stream",
          "text": [
            "/usr/local/lib/python3.6/dist-packages/sklearn/svm/base.py:931: ConvergenceWarning: Liblinear failed to converge, increase the number of iterations.\n",
            "  \"the number of iterations.\", ConvergenceWarning)\n"
          ],
          "name": "stderr"
        },
        {
          "output_type": "stream",
          "text": [
            "              precision    recall  f1-score   support\n",
            "\n",
            "           0       0.77      0.77      0.77      2065\n",
            "           1       0.39      0.39      0.39       788\n",
            "\n",
            "   micro avg       0.66      0.66      0.66      2853\n",
            "   macro avg       0.58      0.58      0.58      2853\n",
            "weighted avg       0.66      0.66      0.66      2853\n",
            "\n",
            "title_case_words\n"
          ],
          "name": "stdout"
        },
        {
          "output_type": "stream",
          "text": [
            "/usr/local/lib/python3.6/dist-packages/sklearn/svm/base.py:931: ConvergenceWarning: Liblinear failed to converge, increase the number of iterations.\n",
            "  \"the number of iterations.\", ConvergenceWarning)\n"
          ],
          "name": "stderr"
        },
        {
          "output_type": "stream",
          "text": [
            "              precision    recall  f1-score   support\n",
            "\n",
            "           0       0.74      0.68      0.71      2065\n",
            "           1       0.31      0.39      0.35       788\n",
            "\n",
            "   micro avg       0.60      0.60      0.60      2853\n",
            "   macro avg       0.53      0.53      0.53      2853\n",
            "weighted avg       0.62      0.60      0.61      2853\n",
            "\n",
            "total_counts\n",
            "              precision    recall  f1-score   support\n",
            "\n",
            "           0       0.72      1.00      0.84      2065\n",
            "           1       0.00      0.00      0.00       788\n",
            "\n",
            "   micro avg       0.72      0.72      0.72      2853\n",
            "   macro avg       0.36      0.50      0.42      2853\n",
            "weighted avg       0.52      0.72      0.61      2853\n",
            "\n"
          ],
          "name": "stdout"
        },
        {
          "output_type": "stream",
          "text": [
            "/usr/local/lib/python3.6/dist-packages/sklearn/svm/base.py:931: ConvergenceWarning: Liblinear failed to converge, increase the number of iterations.\n",
            "  \"the number of iterations.\", ConvergenceWarning)\n",
            "/usr/local/lib/python3.6/dist-packages/sklearn/metrics/classification.py:1143: UndefinedMetricWarning: Precision and F-score are ill-defined and being set to 0.0 in labels with no predicted samples.\n",
            "  'precision', 'predicted', average, warn_for)\n"
          ],
          "name": "stderr"
        }
      ]
    },
    {
      "metadata": {
        "id": "Sg4D2hotIVTU",
        "colab_type": "code",
        "outputId": "32684d64-13d5-4fd0-d73e-3e85c9a60735",
        "colab": {
          "base_uri": "https://localhost:8080/",
          "height": 791
        }
      },
      "cell_type": "code",
      "source": [
        "from sklearn.linear_model import LogisticRegression\n",
        "\n",
        "for t in to_test:\n",
        "  train_and_test(LinearSVC(C=1.0, class_weight='balanced', multi_class='ovr', random_state=SEED), [(t, False)])\n",
        "\n",
        "\n",
        "# for t in to_test:\n",
        "#   train_and_test(LogisticRegression(random_state=SEED), [(t, False)])"
      ],
      "execution_count": 0,
      "outputs": [
        {
          "output_type": "stream",
          "text": [
            "0.41768579492003766\n",
            "0.395864106351551\n",
            "0.4211229946524065\n",
            "0.478021978021978\n",
            "0.40909090909090906\n"
          ],
          "name": "stdout"
        },
        {
          "output_type": "stream",
          "text": [
            "/usr/local/lib/python3.6/dist-packages/sklearn/svm/base.py:931: ConvergenceWarning: Liblinear failed to converge, increase the number of iterations.\n",
            "  \"the number of iterations.\", ConvergenceWarning)\n"
          ],
          "name": "stderr"
        },
        {
          "output_type": "stream",
          "text": [
            "0.3107692307692308\n"
          ],
          "name": "stdout"
        },
        {
          "output_type": "stream",
          "text": [
            "/usr/local/lib/python3.6/dist-packages/sklearn/svm/base.py:931: ConvergenceWarning: Liblinear failed to converge, increase the number of iterations.\n",
            "  \"the number of iterations.\", ConvergenceWarning)\n"
          ],
          "name": "stderr"
        },
        {
          "output_type": "stream",
          "text": [
            "0.3591087811271298\n",
            "0.0\n",
            "0.4545454545454546\n"
          ],
          "name": "stdout"
        },
        {
          "output_type": "stream",
          "text": [
            "/usr/local/lib/python3.6/dist-packages/sklearn/svm/base.py:931: ConvergenceWarning: Liblinear failed to converge, increase the number of iterations.\n",
            "  \"the number of iterations.\", ConvergenceWarning)\n"
          ],
          "name": "stderr"
        },
        {
          "output_type": "stream",
          "text": [
            "0.44326241134751765\n",
            "0.0\n"
          ],
          "name": "stdout"
        },
        {
          "output_type": "stream",
          "text": [
            "/usr/local/lib/python3.6/dist-packages/sklearn/svm/base.py:931: ConvergenceWarning: Liblinear failed to converge, increase the number of iterations.\n",
            "  \"the number of iterations.\", ConvergenceWarning)\n"
          ],
          "name": "stderr"
        },
        {
          "output_type": "stream",
          "text": [
            "0.3591087811271298\n"
          ],
          "name": "stdout"
        },
        {
          "output_type": "stream",
          "text": [
            "/usr/local/lib/python3.6/dist-packages/sklearn/svm/base.py:931: ConvergenceWarning: Liblinear failed to converge, increase the number of iterations.\n",
            "  \"the number of iterations.\", ConvergenceWarning)\n"
          ],
          "name": "stderr"
        },
        {
          "output_type": "stream",
          "text": [
            "0.3655172413793104\n",
            "0.39199157007376184\n"
          ],
          "name": "stdout"
        },
        {
          "output_type": "stream",
          "text": [
            "/usr/local/lib/python3.6/dist-packages/sklearn/svm/base.py:931: ConvergenceWarning: Liblinear failed to converge, increase the number of iterations.\n",
            "  \"the number of iterations.\", ConvergenceWarning)\n"
          ],
          "name": "stderr"
        },
        {
          "output_type": "stream",
          "text": [
            "0.40969162995594716\n"
          ],
          "name": "stdout"
        },
        {
          "output_type": "stream",
          "text": [
            "/usr/local/lib/python3.6/dist-packages/sklearn/svm/base.py:931: ConvergenceWarning: Liblinear failed to converge, increase the number of iterations.\n",
            "  \"the number of iterations.\", ConvergenceWarning)\n",
            "/usr/local/lib/python3.6/dist-packages/sklearn/metrics/classification.py:1143: UndefinedMetricWarning: F-score is ill-defined and being set to 0.0 due to no predicted samples.\n",
            "  'precision', 'predicted', average, warn_for)\n"
          ],
          "name": "stderr"
        },
        {
          "output_type": "stream",
          "text": [
            "0.0\n"
          ],
          "name": "stdout"
        },
        {
          "output_type": "stream",
          "text": [
            "/usr/local/lib/python3.6/dist-packages/sklearn/svm/base.py:931: ConvergenceWarning: Liblinear failed to converge, increase the number of iterations.\n",
            "  \"the number of iterations.\", ConvergenceWarning)\n"
          ],
          "name": "stderr"
        },
        {
          "output_type": "stream",
          "text": [
            "0.3798449612403101\n"
          ],
          "name": "stdout"
        },
        {
          "output_type": "stream",
          "text": [
            "/usr/local/lib/python3.6/dist-packages/sklearn/svm/base.py:931: ConvergenceWarning: Liblinear failed to converge, increase the number of iterations.\n",
            "  \"the number of iterations.\", ConvergenceWarning)\n"
          ],
          "name": "stderr"
        },
        {
          "output_type": "stream",
          "text": [
            "0.34118967452300786\n",
            "0.0\n"
          ],
          "name": "stdout"
        },
        {
          "output_type": "stream",
          "text": [
            "/usr/local/lib/python3.6/dist-packages/sklearn/svm/base.py:931: ConvergenceWarning: Liblinear failed to converge, increase the number of iterations.\n",
            "  \"the number of iterations.\", ConvergenceWarning)\n",
            "/usr/local/lib/python3.6/dist-packages/sklearn/metrics/classification.py:1143: UndefinedMetricWarning: F-score is ill-defined and being set to 0.0 due to no predicted samples.\n",
            "  'precision', 'predicted', average, warn_for)\n"
          ],
          "name": "stderr"
        }
      ]
    },
    {
      "metadata": {
        "id": "xA1ts5bA4sVN",
        "colab_type": "code",
        "outputId": "4f080139-b5c7-4d21-a566-9e3ebfc90d4f",
        "colab": {
          "base_uri": "https://localhost:8080/",
          "height": 179
        }
      },
      "cell_type": "code",
      "source": [
        "# Second param of the tuple is if we should apply scaling or not to check if it will improve performance\n",
        "train_and_test(LinearSVC(C=1.0, class_weight='balanced', multi_class='ovr', random_state=SEED), [('polarity', False)])"
      ],
      "execution_count": 0,
      "outputs": [
        {
          "output_type": "stream",
          "text": [
            "              precision    recall  f1-score   support\n",
            "\n",
            "           0       0.73      0.33      0.45      1032\n",
            "           1       0.28      0.68      0.40       394\n",
            "\n",
            "   micro avg       0.43      0.43      0.43      1426\n",
            "   macro avg       0.50      0.50      0.42      1426\n",
            "weighted avg       0.61      0.43      0.44      1426\n",
            "\n"
          ],
          "name": "stdout"
        }
      ]
    },
    {
      "metadata": {
        "id": "8YsDxk7k5g4B",
        "colab_type": "code",
        "outputId": "119a72b4-3fa7-4355-e06a-5c9e1e633245",
        "colab": {
          "base_uri": "https://localhost:8080/",
          "height": 179
        }
      },
      "cell_type": "code",
      "source": [
        "train_and_test(LinearSVC(C=1.0, class_weight='balanced', multi_class='ovr', random_state=SEED), [('polarity', True)])"
      ],
      "execution_count": 0,
      "outputs": [
        {
          "output_type": "stream",
          "text": [
            "              precision    recall  f1-score   support\n",
            "\n",
            "           0       0.73      0.33      0.45      1032\n",
            "           1       0.28      0.68      0.40       394\n",
            "\n",
            "   micro avg       0.43      0.43      0.43      1426\n",
            "   macro avg       0.50      0.50      0.42      1426\n",
            "weighted avg       0.61      0.43      0.44      1426\n",
            "\n"
          ],
          "name": "stdout"
        }
      ]
    },
    {
      "metadata": {
        "id": "Ws7e1ajJ6dZg",
        "colab_type": "code",
        "outputId": "06b863c7-10b2-4d45-e778-8e47623df8ae",
        "colab": {
          "base_uri": "https://localhost:8080/",
          "height": 179
        }
      },
      "cell_type": "code",
      "source": [
        "train_and_test(LinearSVC(C=1.0, class_weight='balanced', multi_class='ovr', random_state=SEED), [('subjectivity', False)])"
      ],
      "execution_count": 0,
      "outputs": [
        {
          "output_type": "stream",
          "text": [
            "              precision    recall  f1-score   support\n",
            "\n",
            "           0       0.77      0.57      0.65      1032\n",
            "           1       0.33      0.56      0.42       394\n",
            "\n",
            "   micro avg       0.57      0.57      0.57      1426\n",
            "   macro avg       0.55      0.57      0.54      1426\n",
            "weighted avg       0.65      0.57      0.59      1426\n",
            "\n"
          ],
          "name": "stdout"
        }
      ]
    },
    {
      "metadata": {
        "id": "P3JtpNhg69ja",
        "colab_type": "code",
        "outputId": "a008b97e-b97e-4df2-ce1f-fed70db7296a",
        "colab": {
          "base_uri": "https://localhost:8080/",
          "height": 179
        }
      },
      "cell_type": "code",
      "source": [
        "train_and_test(LinearSVC(C=1.0, class_weight='balanced', multi_class='ovr', random_state=SEED), [('subjectivity', True)])"
      ],
      "execution_count": 0,
      "outputs": [
        {
          "output_type": "stream",
          "text": [
            "              precision    recall  f1-score   support\n",
            "\n",
            "           0       0.77      0.57      0.65      1032\n",
            "           1       0.33      0.56      0.42       394\n",
            "\n",
            "   micro avg       0.57      0.57      0.57      1426\n",
            "   macro avg       0.55      0.57      0.54      1426\n",
            "weighted avg       0.65      0.57      0.59      1426\n",
            "\n"
          ],
          "name": "stdout"
        }
      ]
    },
    {
      "metadata": {
        "id": "oQO1_aEu7BFG",
        "colab_type": "code",
        "colab": {}
      },
      "cell_type": "code",
      "source": [
        "train_and_test(LinearSVC(C=1.0, class_weight='balanced', multi_class='ovr', random_state=SEED), [('subjectivity', True)])"
      ],
      "execution_count": 0,
      "outputs": []
    },
    {
      "metadata": {
        "id": "s8p8BXyf7IUw",
        "colab_type": "code",
        "outputId": "f0539cc3-7550-47c2-a925-7d29f8c138ef",
        "colab": {
          "base_uri": "https://localhost:8080/",
          "height": 215
        }
      },
      "cell_type": "code",
      "source": [
        "train_and_test(LinearSVC(C=1.0, class_weight='balanced', multi_class='ovr', random_state=SEED), [('readability', False)])"
      ],
      "execution_count": 0,
      "outputs": [
        {
          "output_type": "stream",
          "text": [
            "              precision    recall  f1-score   support\n",
            "\n",
            "           0       0.75      0.85      0.80      1032\n",
            "           1       0.39      0.26      0.31       394\n",
            "\n",
            "   micro avg       0.69      0.69      0.69      1426\n",
            "   macro avg       0.57      0.55      0.55      1426\n",
            "weighted avg       0.65      0.69      0.66      1426\n",
            "\n"
          ],
          "name": "stdout"
        },
        {
          "output_type": "stream",
          "text": [
            "/usr/local/lib/python3.6/dist-packages/sklearn/svm/base.py:931: ConvergenceWarning: Liblinear failed to converge, increase the number of iterations.\n",
            "  \"the number of iterations.\", ConvergenceWarning)\n"
          ],
          "name": "stderr"
        }
      ]
    },
    {
      "metadata": {
        "id": "5Fpbm8iN7KeE",
        "colab_type": "code",
        "outputId": "eb7a2240-96f2-4465-c2a9-9e7c08cefa6d",
        "colab": {
          "base_uri": "https://localhost:8080/",
          "height": 305
        }
      },
      "cell_type": "code",
      "source": [
        "train_and_test(LinearSVC(C=1.0, class_weight='balanced', multi_class='ovr', random_state=SEED), [('readability', True)])"
      ],
      "execution_count": 0,
      "outputs": [
        {
          "output_type": "stream",
          "text": [
            "/usr/local/lib/python3.6/dist-packages/sklearn/preprocessing/data.py:625: DataConversionWarning: Data with input dtype int64, float64 were all converted to float64 by StandardScaler.\n",
            "  return self.partial_fit(X, y)\n",
            "/usr/local/lib/python3.6/dist-packages/sklearn/base.py:462: DataConversionWarning: Data with input dtype int64, float64 were all converted to float64 by StandardScaler.\n",
            "  return self.fit(X, **fit_params).transform(X)\n",
            "/usr/local/lib/python3.6/dist-packages/ipykernel_launcher.py:28: DataConversionWarning: Data with input dtype int64, float64 were all converted to float64 by StandardScaler.\n"
          ],
          "name": "stderr"
        },
        {
          "output_type": "stream",
          "text": [
            "              precision    recall  f1-score   support\n",
            "\n",
            "           0       0.75      0.85      0.80      1032\n",
            "           1       0.39      0.26      0.31       394\n",
            "\n",
            "   micro avg       0.69      0.69      0.69      1426\n",
            "   macro avg       0.57      0.55      0.55      1426\n",
            "weighted avg       0.65      0.69      0.66      1426\n",
            "\n"
          ],
          "name": "stdout"
        },
        {
          "output_type": "stream",
          "text": [
            "/usr/local/lib/python3.6/dist-packages/sklearn/svm/base.py:931: ConvergenceWarning: Liblinear failed to converge, increase the number of iterations.\n",
            "  \"the number of iterations.\", ConvergenceWarning)\n"
          ],
          "name": "stderr"
        }
      ]
    },
    {
      "metadata": {
        "id": "nDGxN8Pa7OwL",
        "colab_type": "code",
        "outputId": "e312625a-7027-4a3d-d9da-9bd923c977e5",
        "colab": {
          "base_uri": "https://localhost:8080/",
          "height": 215
        }
      },
      "cell_type": "code",
      "source": [
        "train_and_test(LinearSVC(C=1.0, class_weight='balanced', multi_class='ovr', random_state=SEED), [('loaded_words', False)])"
      ],
      "execution_count": 0,
      "outputs": [
        {
          "output_type": "stream",
          "text": [
            "              precision    recall  f1-score   support\n",
            "\n",
            "           0       0.76      0.78      0.77      1032\n",
            "           1       0.37      0.35      0.36       394\n",
            "\n",
            "   micro avg       0.66      0.66      0.66      1426\n",
            "   macro avg       0.56      0.56      0.56      1426\n",
            "weighted avg       0.65      0.66      0.65      1426\n",
            "\n"
          ],
          "name": "stdout"
        },
        {
          "output_type": "stream",
          "text": [
            "/usr/local/lib/python3.6/dist-packages/sklearn/svm/base.py:931: ConvergenceWarning: Liblinear failed to converge, increase the number of iterations.\n",
            "  \"the number of iterations.\", ConvergenceWarning)\n"
          ],
          "name": "stderr"
        }
      ]
    },
    {
      "metadata": {
        "id": "Kv7kMn-U7q69",
        "colab_type": "code",
        "outputId": "01b1e02a-ad81-458d-e448-41ab3244a816",
        "colab": {
          "base_uri": "https://localhost:8080/",
          "height": 179
        }
      },
      "cell_type": "code",
      "source": [
        "train_and_test(LinearSVC(C=1.0, class_weight='balanced', multi_class='ovr', random_state=SEED), [('lexical_chars', False)])"
      ],
      "execution_count": 0,
      "outputs": [
        {
          "output_type": "stream",
          "text": [
            "              precision    recall  f1-score   support\n",
            "\n",
            "           0       0.82      0.31      0.45      1032\n",
            "           1       0.31      0.82      0.45       394\n",
            "\n",
            "   micro avg       0.45      0.45      0.45      1426\n",
            "   macro avg       0.57      0.57      0.45      1426\n",
            "weighted avg       0.68      0.45      0.45      1426\n",
            "\n"
          ],
          "name": "stdout"
        }
      ]
    },
    {
      "metadata": {
        "id": "Dg9XDLVO77xf",
        "colab_type": "code",
        "outputId": "227af713-b9af-46aa-d49f-e37a3d5d6c83",
        "colab": {
          "base_uri": "https://localhost:8080/",
          "height": 215
        }
      },
      "cell_type": "code",
      "source": [
        "train_and_test(LinearSVC(C=1.0, class_weight='balanced', multi_class='ovr', random_state=SEED), [('lexical_words', False)])"
      ],
      "execution_count": 0,
      "outputs": [
        {
          "output_type": "stream",
          "text": [
            "              precision    recall  f1-score   support\n",
            "\n",
            "           0       0.79      0.53      0.64      1032\n",
            "           1       0.34      0.63      0.44       394\n",
            "\n",
            "   micro avg       0.56      0.56      0.56      1426\n",
            "   macro avg       0.57      0.58      0.54      1426\n",
            "weighted avg       0.67      0.56      0.58      1426\n",
            "\n"
          ],
          "name": "stdout"
        },
        {
          "output_type": "stream",
          "text": [
            "/usr/local/lib/python3.6/dist-packages/sklearn/svm/base.py:931: ConvergenceWarning: Liblinear failed to converge, increase the number of iterations.\n",
            "  \"the number of iterations.\", ConvergenceWarning)\n"
          ],
          "name": "stderr"
        }
      ]
    },
    {
      "metadata": {
        "id": "6VgqJUqu8Acd",
        "colab_type": "code",
        "outputId": "613ee89d-6e24-4396-d98a-7c3fe2c21df0",
        "colab": {
          "base_uri": "https://localhost:8080/",
          "height": 215
        }
      },
      "cell_type": "code",
      "source": [
        "train_and_test(LinearSVC(C=1.0, class_weight='balanced', multi_class='ovr', random_state=SEED), [('lexical_words', True)])"
      ],
      "execution_count": 0,
      "outputs": [
        {
          "output_type": "stream",
          "text": [
            "              precision    recall  f1-score   support\n",
            "\n",
            "           0       0.79      0.53      0.64      1032\n",
            "           1       0.34      0.63      0.44       394\n",
            "\n",
            "   micro avg       0.56      0.56      0.56      1426\n",
            "   macro avg       0.57      0.58      0.54      1426\n",
            "weighted avg       0.67      0.56      0.58      1426\n",
            "\n"
          ],
          "name": "stdout"
        },
        {
          "output_type": "stream",
          "text": [
            "/usr/local/lib/python3.6/dist-packages/sklearn/svm/base.py:931: ConvergenceWarning: Liblinear failed to converge, increase the number of iterations.\n",
            "  \"the number of iterations.\", ConvergenceWarning)\n"
          ],
          "name": "stderr"
        }
      ]
    },
    {
      "metadata": {
        "id": "uTlxdhu1mGxi",
        "colab_type": "code",
        "outputId": "56f34e28-408b-43f9-d64a-5ad0a0de48fd",
        "colab": {
          "base_uri": "https://localhost:8080/",
          "height": 473
        }
      },
      "cell_type": "code",
      "source": [
        "import matplotlib\n",
        "import matplotlib.pyplot as plt\n",
        "cols = ['#e6194b', '#3cb44b', '#ffe119', '#4363d8', '#f58231', '#911eb4', '#46f0f0', '#f032e6', '#bcf60c', '#fabebe', '#008080', '#e6beff', '#9a6324', '#fffac8', '#800000', '#aaffc3', '#808000', '#ffd8b1', '#000075', '#808080', '#ffffff', '#000000']\n",
        "results = []\n",
        "col_i = 0\n",
        "plt.figure(0)\n",
        "for i,n in zip(predictions,names):\n",
        "    res = [n]\n",
        "    p = precision_score(y_rest, i, average='binary')\n",
        "    r = recall_score(y_rest, i, average='binary')\n",
        "    plt.scatter(p,r, label=n,marker='^', s=100, color=cols[col_i])\n",
        "    res.append(p)\n",
        "    res.append(r)\n",
        "    res.append(f1_score(y_rest, i, average='binary'))\n",
        "    results.append(res)\n",
        "    col_i += 1\n",
        "plt.legend()\n",
        "plt.title(\"Classification system results\")\n",
        "plt.xlabel('Precision')\n",
        "plt.axis('on')\n",
        "plt.ylabel('Recall')\n",
        "plt.grid()\n",
        "plt.tight_layout()\n",
        "plt.savefig('classification_results.pdf')"
      ],
      "execution_count": 0,
      "outputs": [
        {
          "output_type": "stream",
          "text": [
            "/usr/local/lib/python3.6/dist-packages/sklearn/metrics/classification.py:1143: UndefinedMetricWarning: Precision is ill-defined and being set to 0.0 due to no predicted samples.\n",
            "  'precision', 'predicted', average, warn_for)\n",
            "/usr/local/lib/python3.6/dist-packages/sklearn/metrics/classification.py:1143: UndefinedMetricWarning: F-score is ill-defined and being set to 0.0 due to no predicted samples.\n",
            "  'precision', 'predicted', average, warn_for)\n"
          ],
          "name": "stderr"
        },
        {
          "output_type": "display_data",
          "data": {
            "image/png": "[encoded data removed]",
            "text/plain": [
              "<Figure size 576x396 with 1 Axes>"
            ]
          },
          "metadata": {
            "tags": []
          }
        }
      ]
    },
    {
      "metadata": {
        "id": "frmwV-rm8Iw2",
        "colab_type": "code",
        "outputId": "e731e4e9-1d9f-44f4-88e1-ce541ca39e74",
        "colab": {
          "base_uri": "https://localhost:8080/",
          "height": 179
        }
      },
      "cell_type": "code",
      "source": [
        "train_and_test(LinearSVC(C=1.0, class_weight='balanced', multi_class='ovr', random_state=SEED), [('emotion_exclamations', False)])"
      ],
      "execution_count": 0,
      "outputs": [
        {
          "output_type": "stream",
          "text": [
            "              precision    recall  f1-score   support\n",
            "\n",
            "           0       0.72      1.00      0.84      1032\n",
            "           1       0.00      0.00      0.00       394\n",
            "\n",
            "   micro avg       0.72      0.72      0.72      1426\n",
            "   macro avg       0.36      0.50      0.42      1426\n",
            "weighted avg       0.52      0.72      0.61      1426\n",
            "\n"
          ],
          "name": "stdout"
        }
      ]
    },
    {
      "metadata": {
        "id": "I77Q2k-P8bbj",
        "colab_type": "code",
        "outputId": "d87a2c27-f155-44e9-dd04-ba7f786dda2c",
        "colab": {
          "base_uri": "https://localhost:8080/",
          "height": 215
        }
      },
      "cell_type": "code",
      "source": [
        "train_and_test(LinearSVC(C=1.0, class_weight='balanced', multi_class='ovr', random_state=SEED), [('confusing_words', False)])"
      ],
      "execution_count": 0,
      "outputs": [
        {
          "output_type": "stream",
          "text": [
            "              precision    recall  f1-score   support\n",
            "\n",
            "           0       0.72      0.46      0.57      1032\n",
            "           1       0.28      0.54      0.37       394\n",
            "\n",
            "   micro avg       0.48      0.48      0.48      1426\n",
            "   macro avg       0.50      0.50      0.47      1426\n",
            "weighted avg       0.60      0.48      0.51      1426\n",
            "\n"
          ],
          "name": "stdout"
        },
        {
          "output_type": "stream",
          "text": [
            "/usr/local/lib/python3.6/dist-packages/sklearn/svm/base.py:931: ConvergenceWarning: Liblinear failed to converge, increase the number of iterations.\n",
            "  \"the number of iterations.\", ConvergenceWarning)\n"
          ],
          "name": "stderr"
        }
      ]
    },
    {
      "metadata": {
        "id": "wwosbq6f8j-1",
        "colab_type": "code",
        "outputId": "80cf62be-5923-4d4e-c1ec-1e78dd2f2932",
        "colab": {
          "base_uri": "https://localhost:8080/",
          "height": 215
        }
      },
      "cell_type": "code",
      "source": [
        "train_and_test(LinearSVC(C=1.0, class_weight='balanced', multi_class='ovr', random_state=SEED), [('confusing_words', True)])"
      ],
      "execution_count": 0,
      "outputs": [
        {
          "output_type": "stream",
          "text": [
            "              precision    recall  f1-score   support\n",
            "\n",
            "           0       0.72      0.46      0.57      1032\n",
            "           1       0.28      0.54      0.37       394\n",
            "\n",
            "   micro avg       0.48      0.48      0.48      1426\n",
            "   macro avg       0.50      0.50      0.47      1426\n",
            "weighted avg       0.60      0.48      0.51      1426\n",
            "\n"
          ],
          "name": "stdout"
        },
        {
          "output_type": "stream",
          "text": [
            "/usr/local/lib/python3.6/dist-packages/sklearn/svm/base.py:931: ConvergenceWarning: Liblinear failed to converge, increase the number of iterations.\n",
            "  \"the number of iterations.\", ConvergenceWarning)\n"
          ],
          "name": "stderr"
        }
      ]
    },
    {
      "metadata": {
        "id": "xSWuri4n8oUF",
        "colab_type": "code",
        "outputId": "5831153f-c6fc-428b-fb7e-8ff74159d484",
        "colab": {
          "base_uri": "https://localhost:8080/",
          "height": 179
        }
      },
      "cell_type": "code",
      "source": [
        "train_and_test(LinearSVC(C=1.0, class_weight='balanced', multi_class='ovr', random_state=SEED), [('emotions', True)])"
      ],
      "execution_count": 0,
      "outputs": [
        {
          "output_type": "stream",
          "text": [
            "              precision    recall  f1-score   support\n",
            "\n",
            "           0       0.82      0.58      0.68      1032\n",
            "           1       0.37      0.66      0.48       394\n",
            "\n",
            "   micro avg       0.60      0.60      0.60      1426\n",
            "   macro avg       0.60      0.62      0.58      1426\n",
            "weighted avg       0.69      0.60      0.62      1426\n",
            "\n"
          ],
          "name": "stdout"
        }
      ]
    },
    {
      "metadata": {
        "id": "gL-eItEe81G4",
        "colab_type": "code",
        "outputId": "9a57d5e2-65d6-48a4-cdea-ea755932be99",
        "colab": {
          "base_uri": "https://localhost:8080/",
          "height": 269
        }
      },
      "cell_type": "code",
      "source": [
        "train_and_test(LinearSVC(C=1.0, class_weight='balanced', multi_class='ovr', random_state=SEED), [('sentence_type', True)])"
      ],
      "execution_count": 0,
      "outputs": [
        {
          "output_type": "stream",
          "text": [
            "              precision    recall  f1-score   support\n",
            "\n",
            "           0       0.76      0.24      0.36      1032\n",
            "           1       0.29      0.80      0.42       394\n",
            "\n",
            "   micro avg       0.39      0.39      0.39      1426\n",
            "   macro avg       0.52      0.52      0.39      1426\n",
            "weighted avg       0.63      0.39      0.38      1426\n",
            "\n"
          ],
          "name": "stdout"
        },
        {
          "output_type": "stream",
          "text": [
            "/usr/local/lib/python3.6/dist-packages/sklearn/preprocessing/data.py:625: DataConversionWarning: Data with input dtype int64 were all converted to float64 by StandardScaler.\n",
            "  return self.partial_fit(X, y)\n",
            "/usr/local/lib/python3.6/dist-packages/sklearn/base.py:462: DataConversionWarning: Data with input dtype int64 were all converted to float64 by StandardScaler.\n",
            "  return self.fit(X, **fit_params).transform(X)\n",
            "/usr/local/lib/python3.6/dist-packages/ipykernel_launcher.py:28: DataConversionWarning: Data with input dtype int64 were all converted to float64 by StandardScaler.\n"
          ],
          "name": "stderr"
        }
      ]
    },
    {
      "metadata": {
        "id": "63jW4gsm89BW",
        "colab_type": "code",
        "outputId": "f90a2d5c-55b4-4016-92a3-31053a0d9f05",
        "colab": {
          "base_uri": "https://localhost:8080/",
          "height": 179
        }
      },
      "cell_type": "code",
      "source": [
        "train_and_test(LinearSVC(C=1.0, class_weight='balanced', multi_class='ovr', random_state=SEED), [('sentence_type', False)])"
      ],
      "execution_count": 0,
      "outputs": [
        {
          "output_type": "stream",
          "text": [
            "              precision    recall  f1-score   support\n",
            "\n",
            "           0       0.76      0.24      0.36      1032\n",
            "           1       0.29      0.80      0.42       394\n",
            "\n",
            "   micro avg       0.39      0.39      0.39      1426\n",
            "   macro avg       0.52      0.52      0.39      1426\n",
            "weighted avg       0.63      0.39      0.38      1426\n",
            "\n"
          ],
          "name": "stdout"
        }
      ]
    },
    {
      "metadata": {
        "id": "0LdZzLa99AfI",
        "colab_type": "code",
        "outputId": "ea806235-3e74-467e-a55d-6a9d18debf66",
        "colab": {
          "base_uri": "https://localhost:8080/",
          "height": 305
        }
      },
      "cell_type": "code",
      "source": [
        "train_and_test(LinearSVC(C=1.0, class_weight='balanced', multi_class='ovr', random_state=SEED), [('stop_words', True)])"
      ],
      "execution_count": 0,
      "outputs": [
        {
          "output_type": "stream",
          "text": [
            "/usr/local/lib/python3.6/dist-packages/sklearn/preprocessing/data.py:625: DataConversionWarning: Data with input dtype int64 were all converted to float64 by StandardScaler.\n",
            "  return self.partial_fit(X, y)\n",
            "/usr/local/lib/python3.6/dist-packages/sklearn/base.py:462: DataConversionWarning: Data with input dtype int64 were all converted to float64 by StandardScaler.\n",
            "  return self.fit(X, **fit_params).transform(X)\n",
            "/usr/local/lib/python3.6/dist-packages/ipykernel_launcher.py:28: DataConversionWarning: Data with input dtype int64 were all converted to float64 by StandardScaler.\n"
          ],
          "name": "stderr"
        },
        {
          "output_type": "stream",
          "text": [
            "              precision    recall  f1-score   support\n",
            "\n",
            "           0       0.76      0.77      0.77      1032\n",
            "           1       0.39      0.37      0.38       394\n",
            "\n",
            "   micro avg       0.66      0.66      0.66      1426\n",
            "   macro avg       0.58      0.57      0.57      1426\n",
            "weighted avg       0.66      0.66      0.66      1426\n",
            "\n"
          ],
          "name": "stdout"
        },
        {
          "output_type": "stream",
          "text": [
            "/usr/local/lib/python3.6/dist-packages/sklearn/svm/base.py:931: ConvergenceWarning: Liblinear failed to converge, increase the number of iterations.\n",
            "  \"the number of iterations.\", ConvergenceWarning)\n"
          ],
          "name": "stderr"
        }
      ]
    },
    {
      "metadata": {
        "id": "y22XHHSW9MB0",
        "colab_type": "code",
        "outputId": "edcf5977-73a4-4005-c580-0f6ba01152a1",
        "colab": {
          "base_uri": "https://localhost:8080/",
          "height": 215
        }
      },
      "cell_type": "code",
      "source": [
        "train_and_test(LinearSVC(C=1.0, class_weight='balanced', multi_class='ovr', random_state=SEED), [('stop_words', False)])"
      ],
      "execution_count": 0,
      "outputs": [
        {
          "output_type": "stream",
          "text": [
            "              precision    recall  f1-score   support\n",
            "\n",
            "           0       0.76      0.77      0.77      1032\n",
            "           1       0.39      0.37      0.38       394\n",
            "\n",
            "   micro avg       0.66      0.66      0.66      1426\n",
            "   macro avg       0.58      0.57      0.57      1426\n",
            "weighted avg       0.66      0.66      0.66      1426\n",
            "\n"
          ],
          "name": "stdout"
        },
        {
          "output_type": "stream",
          "text": [
            "/usr/local/lib/python3.6/dist-packages/sklearn/svm/base.py:931: ConvergenceWarning: Liblinear failed to converge, increase the number of iterations.\n",
            "  \"the number of iterations.\", ConvergenceWarning)\n"
          ],
          "name": "stderr"
        }
      ]
    },
    {
      "metadata": {
        "id": "QyHXGmzN9QP-",
        "colab_type": "code",
        "outputId": "3695397b-f297-4f42-da73-55cd12f92688",
        "colab": {
          "base_uri": "https://localhost:8080/",
          "height": 215
        }
      },
      "cell_type": "code",
      "source": [
        "train_and_test(LinearSVC(C=1.0, class_weight='balanced', multi_class='ovr', random_state=SEED), [('pos', False)])"
      ],
      "execution_count": 0,
      "outputs": [
        {
          "output_type": "stream",
          "text": [
            "              precision    recall  f1-score   support\n",
            "\n",
            "           0       0.77      0.68      0.72      1032\n",
            "           1       0.36      0.47      0.41       394\n",
            "\n",
            "   micro avg       0.62      0.62      0.62      1426\n",
            "   macro avg       0.57      0.58      0.57      1426\n",
            "weighted avg       0.66      0.62      0.64      1426\n",
            "\n"
          ],
          "name": "stdout"
        },
        {
          "output_type": "stream",
          "text": [
            "/usr/local/lib/python3.6/dist-packages/sklearn/svm/base.py:931: ConvergenceWarning: Liblinear failed to converge, increase the number of iterations.\n",
            "  \"the number of iterations.\", ConvergenceWarning)\n"
          ],
          "name": "stderr"
        }
      ]
    },
    {
      "metadata": {
        "id": "NgR3CtwK9hOj",
        "colab_type": "code",
        "colab": {}
      },
      "cell_type": "code",
      "source": [
        "import itertools\n",
        "from itertools import combinations\n",
        "\n",
        "combos_3 = list(itertools.combinations(['subjectivity', 'polarity', 'sentence_type', 'emotions', 'readability', 'tf-idf', 'loaded_words', 'exclamation_words', 'lexical_chars', 'lexical_words', 'emotion_exclamations', 'loaded_language', 'confusing_words', 'sentiment', 'pos', 'unique_words', 'stop_words', 'title_case_words', 'total_counts'], 3))"
      ],
      "execution_count": 0,
      "outputs": []
    },
    {
      "metadata": {
        "id": "05vvdsm1_AqL",
        "colab_type": "code",
        "outputId": "276d2696-8623-4e66-a6da-909135d4bc13",
        "colab": {
          "base_uri": "https://localhost:8080/",
          "height": 3095
        }
      },
      "cell_type": "code",
      "source": [
        "for c in combos_2:\n",
        "  print(c)"
      ],
      "execution_count": 0,
      "outputs": [
        {
          "output_type": "stream",
          "text": [
            "('subjectivity', 'polarity')\n",
            "('subjectivity', 'sentence_type')\n",
            "('subjectivity', 'emotions')\n",
            "('subjectivity', 'readability')\n",
            "('subjectivity', 'tf-idf')\n",
            "('subjectivity', 'loaded_words')\n",
            "('subjectivity', 'exclamation_words')\n",
            "('subjectivity', 'lexical_chars')\n",
            "('subjectivity', 'lexical_words')\n",
            "('subjectivity', 'emotion_exclamations')\n",
            "('subjectivity', 'loaded_language')\n",
            "('subjectivity', 'confusing_words')\n",
            "('subjectivity', 'sentiment')\n",
            "('subjectivity', 'pos')\n",
            "('subjectivity', 'unique_words')\n",
            "('subjectivity', 'stop_words')\n",
            "('subjectivity', 'title_case_words')\n",
            "('subjectivity', 'total_counts')\n",
            "('polarity', 'sentence_type')\n",
            "('polarity', 'emotions')\n",
            "('polarity', 'readability')\n",
            "('polarity', 'tf-idf')\n",
            "('polarity', 'loaded_words')\n",
            "('polarity', 'exclamation_words')\n",
            "('polarity', 'lexical_chars')\n",
            "('polarity', 'lexical_words')\n",
            "('polarity', 'emotion_exclamations')\n",
            "('polarity', 'loaded_language')\n",
            "('polarity', 'confusing_words')\n",
            "('polarity', 'sentiment')\n",
            "('polarity', 'pos')\n",
            "('polarity', 'unique_words')\n",
            "('polarity', 'stop_words')\n",
            "('polarity', 'title_case_words')\n",
            "('polarity', 'total_counts')\n",
            "('sentence_type', 'emotions')\n",
            "('sentence_type', 'readability')\n",
            "('sentence_type', 'tf-idf')\n",
            "('sentence_type', 'loaded_words')\n",
            "('sentence_type', 'exclamation_words')\n",
            "('sentence_type', 'lexical_chars')\n",
            "('sentence_type', 'lexical_words')\n",
            "('sentence_type', 'emotion_exclamations')\n",
            "('sentence_type', 'loaded_language')\n",
            "('sentence_type', 'confusing_words')\n",
            "('sentence_type', 'sentiment')\n",
            "('sentence_type', 'pos')\n",
            "('sentence_type', 'unique_words')\n",
            "('sentence_type', 'stop_words')\n",
            "('sentence_type', 'title_case_words')\n",
            "('sentence_type', 'total_counts')\n",
            "('emotions', 'readability')\n",
            "('emotions', 'tf-idf')\n",
            "('emotions', 'loaded_words')\n",
            "('emotions', 'exclamation_words')\n",
            "('emotions', 'lexical_chars')\n",
            "('emotions', 'lexical_words')\n",
            "('emotions', 'emotion_exclamations')\n",
            "('emotions', 'loaded_language')\n",
            "('emotions', 'confusing_words')\n",
            "('emotions', 'sentiment')\n",
            "('emotions', 'pos')\n",
            "('emotions', 'unique_words')\n",
            "('emotions', 'stop_words')\n",
            "('emotions', 'title_case_words')\n",
            "('emotions', 'total_counts')\n",
            "('readability', 'tf-idf')\n",
            "('readability', 'loaded_words')\n",
            "('readability', 'exclamation_words')\n",
            "('readability', 'lexical_chars')\n",
            "('readability', 'lexical_words')\n",
            "('readability', 'emotion_exclamations')\n",
            "('readability', 'loaded_language')\n",
            "('readability', 'confusing_words')\n",
            "('readability', 'sentiment')\n",
            "('readability', 'pos')\n",
            "('readability', 'unique_words')\n",
            "('readability', 'stop_words')\n",
            "('readability', 'title_case_words')\n",
            "('readability', 'total_counts')\n",
            "('tf-idf', 'loaded_words')\n",
            "('tf-idf', 'exclamation_words')\n",
            "('tf-idf', 'lexical_chars')\n",
            "('tf-idf', 'lexical_words')\n",
            "('tf-idf', 'emotion_exclamations')\n",
            "('tf-idf', 'loaded_language')\n",
            "('tf-idf', 'confusing_words')\n",
            "('tf-idf', 'sentiment')\n",
            "('tf-idf', 'pos')\n",
            "('tf-idf', 'unique_words')\n",
            "('tf-idf', 'stop_words')\n",
            "('tf-idf', 'title_case_words')\n",
            "('tf-idf', 'total_counts')\n",
            "('loaded_words', 'exclamation_words')\n",
            "('loaded_words', 'lexical_chars')\n",
            "('loaded_words', 'lexical_words')\n",
            "('loaded_words', 'emotion_exclamations')\n",
            "('loaded_words', 'loaded_language')\n",
            "('loaded_words', 'confusing_words')\n",
            "('loaded_words', 'sentiment')\n",
            "('loaded_words', 'pos')\n",
            "('loaded_words', 'unique_words')\n",
            "('loaded_words', 'stop_words')\n",
            "('loaded_words', 'title_case_words')\n",
            "('loaded_words', 'total_counts')\n",
            "('exclamation_words', 'lexical_chars')\n",
            "('exclamation_words', 'lexical_words')\n",
            "('exclamation_words', 'emotion_exclamations')\n",
            "('exclamation_words', 'loaded_language')\n",
            "('exclamation_words', 'confusing_words')\n",
            "('exclamation_words', 'sentiment')\n",
            "('exclamation_words', 'pos')\n",
            "('exclamation_words', 'unique_words')\n",
            "('exclamation_words', 'stop_words')\n",
            "('exclamation_words', 'title_case_words')\n",
            "('exclamation_words', 'total_counts')\n",
            "('lexical_chars', 'lexical_words')\n",
            "('lexical_chars', 'emotion_exclamations')\n",
            "('lexical_chars', 'loaded_language')\n",
            "('lexical_chars', 'confusing_words')\n",
            "('lexical_chars', 'sentiment')\n",
            "('lexical_chars', 'pos')\n",
            "('lexical_chars', 'unique_words')\n",
            "('lexical_chars', 'stop_words')\n",
            "('lexical_chars', 'title_case_words')\n",
            "('lexical_chars', 'total_counts')\n",
            "('lexical_words', 'emotion_exclamations')\n",
            "('lexical_words', 'loaded_language')\n",
            "('lexical_words', 'confusing_words')\n",
            "('lexical_words', 'sentiment')\n",
            "('lexical_words', 'pos')\n",
            "('lexical_words', 'unique_words')\n",
            "('lexical_words', 'stop_words')\n",
            "('lexical_words', 'title_case_words')\n",
            "('lexical_words', 'total_counts')\n",
            "('emotion_exclamations', 'loaded_language')\n",
            "('emotion_exclamations', 'confusing_words')\n",
            "('emotion_exclamations', 'sentiment')\n",
            "('emotion_exclamations', 'pos')\n",
            "('emotion_exclamations', 'unique_words')\n",
            "('emotion_exclamations', 'stop_words')\n",
            "('emotion_exclamations', 'title_case_words')\n",
            "('emotion_exclamations', 'total_counts')\n",
            "('loaded_language', 'confusing_words')\n",
            "('loaded_language', 'sentiment')\n",
            "('loaded_language', 'pos')\n",
            "('loaded_language', 'unique_words')\n",
            "('loaded_language', 'stop_words')\n",
            "('loaded_language', 'title_case_words')\n",
            "('loaded_language', 'total_counts')\n",
            "('confusing_words', 'sentiment')\n",
            "('confusing_words', 'pos')\n",
            "('confusing_words', 'unique_words')\n",
            "('confusing_words', 'stop_words')\n",
            "('confusing_words', 'title_case_words')\n",
            "('confusing_words', 'total_counts')\n",
            "('sentiment', 'pos')\n",
            "('sentiment', 'unique_words')\n",
            "('sentiment', 'stop_words')\n",
            "('sentiment', 'title_case_words')\n",
            "('sentiment', 'total_counts')\n",
            "('pos', 'unique_words')\n",
            "('pos', 'stop_words')\n",
            "('pos', 'title_case_words')\n",
            "('pos', 'total_counts')\n",
            "('unique_words', 'stop_words')\n",
            "('unique_words', 'title_case_words')\n",
            "('unique_words', 'total_counts')\n",
            "('stop_words', 'title_case_words')\n",
            "('stop_words', 'total_counts')\n",
            "('title_case_words', 'total_counts')\n"
          ],
          "name": "stdout"
        }
      ]
    },
    {
      "metadata": {
        "id": "DMRkrinL_Faz",
        "colab_type": "code",
        "colab": {}
      },
      "cell_type": "code",
      "source": [
        "lst_features = [[(x[0], False), (x[1], False), (x[2], False)] for x in combos_3]"
      ],
      "execution_count": 0,
      "outputs": []
    },
    {
      "metadata": {
        "id": "mC9BexBF_l_m",
        "colab_type": "code",
        "outputId": "1e307351-05c2-44bd-9ef7-12f1c8ab2b1f",
        "colab": {
          "base_uri": "https://localhost:8080/",
          "height": 64056
        }
      },
      "cell_type": "code",
      "source": [
        "for l in lst_features:\n",
        "  print((l[0][0], l[1][0], l[2][0]))\n",
        "  train_and_test(LinearSVC(C=1.0, class_weight='balanced', multi_class='ovr', random_state=SEED), l)"
      ],
      "execution_count": 0,
      "outputs": [
        {
          "output_type": "stream",
          "text": [
            "('subjectivity', 'polarity', 'sentence_type')\n",
            "              precision    recall  f1-score   support\n",
            "\n",
            "           0       0.77      0.63      0.69      1032\n",
            "           1       0.34      0.51      0.41       394\n",
            "\n",
            "   micro avg       0.60      0.60      0.60      1426\n",
            "   macro avg       0.56      0.57      0.55      1426\n",
            "weighted avg       0.65      0.60      0.61      1426\n",
            "\n",
            "('subjectivity', 'polarity', 'emotions')\n",
            "              precision    recall  f1-score   support\n",
            "\n",
            "           0       0.82      0.59      0.69      1032\n",
            "           1       0.38      0.66      0.49       394\n",
            "\n",
            "   micro avg       0.61      0.61      0.61      1426\n",
            "   macro avg       0.60      0.63      0.59      1426\n",
            "weighted avg       0.70      0.61      0.63      1426\n",
            "\n",
            "('subjectivity', 'polarity', 'readability')\n"
          ],
          "name": "stdout"
        },
        {
          "output_type": "stream",
          "text": [
            "/usr/local/lib/python3.6/dist-packages/sklearn/svm/base.py:931: ConvergenceWarning: Liblinear failed to converge, increase the number of iterations.\n",
            "  \"the number of iterations.\", ConvergenceWarning)\n"
          ],
          "name": "stderr"
        },
        {
          "output_type": "stream",
          "text": [
            "              precision    recall  f1-score   support\n",
            "\n",
            "           0       0.72      1.00      0.84      1032\n",
            "           1       0.00      0.00      0.00       394\n",
            "\n",
            "   micro avg       0.72      0.72      0.72      1426\n",
            "   macro avg       0.36      0.50      0.42      1426\n",
            "weighted avg       0.52      0.72      0.61      1426\n",
            "\n",
            "('subjectivity', 'polarity', 'tf-idf')\n",
            "              precision    recall  f1-score   support\n",
            "\n",
            "           0       0.81      0.77      0.79      1032\n",
            "           1       0.47      0.54      0.50       394\n",
            "\n",
            "   micro avg       0.71      0.71      0.71      1426\n",
            "   macro avg       0.64      0.65      0.65      1426\n",
            "weighted avg       0.72      0.71      0.71      1426\n",
            "\n",
            "('subjectivity', 'polarity', 'loaded_words')\n"
          ],
          "name": "stdout"
        },
        {
          "output_type": "stream",
          "text": [
            "/usr/local/lib/python3.6/dist-packages/sklearn/svm/base.py:931: ConvergenceWarning: Liblinear failed to converge, increase the number of iterations.\n",
            "  \"the number of iterations.\", ConvergenceWarning)\n"
          ],
          "name": "stderr"
        },
        {
          "output_type": "stream",
          "text": [
            "              precision    recall  f1-score   support\n",
            "\n",
            "           0       0.78      0.66      0.71      1032\n",
            "           1       0.37      0.52      0.43       394\n",
            "\n",
            "   micro avg       0.62      0.62      0.62      1426\n",
            "   macro avg       0.57      0.59      0.57      1426\n",
            "weighted avg       0.67      0.62      0.63      1426\n",
            "\n",
            "('subjectivity', 'polarity', 'exclamation_words')\n",
            "              precision    recall  f1-score   support\n",
            "\n",
            "           0       0.77      0.62      0.69      1032\n",
            "           1       0.34      0.51      0.41       394\n",
            "\n",
            "   micro avg       0.59      0.59      0.59      1426\n",
            "   macro avg       0.55      0.56      0.55      1426\n",
            "weighted avg       0.65      0.59      0.61      1426\n",
            "\n",
            "('subjectivity', 'polarity', 'lexical_chars')\n",
            "              precision    recall  f1-score   support\n",
            "\n",
            "           0       0.79      0.58      0.67      1032\n",
            "           1       0.35      0.59      0.44       394\n",
            "\n",
            "   micro avg       0.58      0.58      0.58      1426\n",
            "   macro avg       0.57      0.59      0.55      1426\n",
            "weighted avg       0.67      0.58      0.60      1426\n",
            "\n",
            "('subjectivity', 'polarity', 'lexical_words')\n"
          ],
          "name": "stdout"
        },
        {
          "output_type": "stream",
          "text": [
            "/usr/local/lib/python3.6/dist-packages/sklearn/svm/base.py:931: ConvergenceWarning: Liblinear failed to converge, increase the number of iterations.\n",
            "  \"the number of iterations.\", ConvergenceWarning)\n"
          ],
          "name": "stderr"
        },
        {
          "output_type": "stream",
          "text": [
            "              precision    recall  f1-score   support\n",
            "\n",
            "           0       0.81      0.56      0.66      1032\n",
            "           1       0.36      0.65      0.47       394\n",
            "\n",
            "   micro avg       0.59      0.59      0.59      1426\n",
            "   macro avg       0.59      0.61      0.57      1426\n",
            "weighted avg       0.69      0.59      0.61      1426\n",
            "\n",
            "('subjectivity', 'polarity', 'emotion_exclamations')\n",
            "              precision    recall  f1-score   support\n",
            "\n",
            "           0       0.77      0.62      0.69      1032\n",
            "           1       0.34      0.51      0.41       394\n",
            "\n",
            "   micro avg       0.59      0.59      0.59      1426\n",
            "   macro avg       0.55      0.56      0.55      1426\n",
            "weighted avg       0.65      0.59      0.61      1426\n",
            "\n",
            "('subjectivity', 'polarity', 'loaded_language')\n"
          ],
          "name": "stdout"
        },
        {
          "output_type": "stream",
          "text": [
            "/usr/local/lib/python3.6/dist-packages/sklearn/svm/base.py:931: ConvergenceWarning: Liblinear failed to converge, increase the number of iterations.\n",
            "  \"the number of iterations.\", ConvergenceWarning)\n"
          ],
          "name": "stderr"
        },
        {
          "output_type": "stream",
          "text": [
            "              precision    recall  f1-score   support\n",
            "\n",
            "           0       0.78      0.66      0.71      1032\n",
            "           1       0.37      0.52      0.43       394\n",
            "\n",
            "   micro avg       0.62      0.62      0.62      1426\n",
            "   macro avg       0.57      0.59      0.57      1426\n",
            "weighted avg       0.67      0.62      0.63      1426\n",
            "\n",
            "('subjectivity', 'polarity', 'confusing_words')\n"
          ],
          "name": "stdout"
        },
        {
          "output_type": "stream",
          "text": [
            "/usr/local/lib/python3.6/dist-packages/sklearn/svm/base.py:931: ConvergenceWarning: Liblinear failed to converge, increase the number of iterations.\n",
            "  \"the number of iterations.\", ConvergenceWarning)\n"
          ],
          "name": "stderr"
        },
        {
          "output_type": "stream",
          "text": [
            "              precision    recall  f1-score   support\n",
            "\n",
            "           0       0.77      0.64      0.70      1032\n",
            "           1       0.34      0.50      0.41       394\n",
            "\n",
            "   micro avg       0.60      0.60      0.60      1426\n",
            "   macro avg       0.56      0.57      0.55      1426\n",
            "weighted avg       0.65      0.60      0.62      1426\n",
            "\n",
            "('subjectivity', 'polarity', 'sentiment')\n",
            "              precision    recall  f1-score   support\n",
            "\n",
            "           0       0.77      0.63      0.69      1032\n",
            "           1       0.34      0.50      0.40       394\n",
            "\n",
            "   micro avg       0.59      0.59      0.59      1426\n",
            "   macro avg       0.55      0.56      0.55      1426\n",
            "weighted avg       0.65      0.59      0.61      1426\n",
            "\n",
            "('subjectivity', 'polarity', 'pos')\n"
          ],
          "name": "stdout"
        },
        {
          "output_type": "stream",
          "text": [
            "/usr/local/lib/python3.6/dist-packages/sklearn/svm/base.py:931: ConvergenceWarning: Liblinear failed to converge, increase the number of iterations.\n",
            "  \"the number of iterations.\", ConvergenceWarning)\n"
          ],
          "name": "stderr"
        },
        {
          "output_type": "stream",
          "text": [
            "              precision    recall  f1-score   support\n",
            "\n",
            "           0       0.79      0.67      0.72      1032\n",
            "           1       0.38      0.53      0.44       394\n",
            "\n",
            "   micro avg       0.63      0.63      0.63      1426\n",
            "   macro avg       0.58      0.60      0.58      1426\n",
            "weighted avg       0.68      0.63      0.65      1426\n",
            "\n",
            "('subjectivity', 'polarity', 'unique_words')\n"
          ],
          "name": "stdout"
        },
        {
          "output_type": "stream",
          "text": [
            "/usr/local/lib/python3.6/dist-packages/sklearn/svm/base.py:931: ConvergenceWarning: Liblinear failed to converge, increase the number of iterations.\n",
            "  \"the number of iterations.\", ConvergenceWarning)\n"
          ],
          "name": "stderr"
        },
        {
          "output_type": "stream",
          "text": [
            "              precision    recall  f1-score   support\n",
            "\n",
            "           0       0.73      1.00      0.84      1032\n",
            "           1       0.77      0.03      0.05       394\n",
            "\n",
            "   micro avg       0.73      0.73      0.73      1426\n",
            "   macro avg       0.75      0.51      0.45      1426\n",
            "weighted avg       0.74      0.73      0.62      1426\n",
            "\n",
            "('subjectivity', 'polarity', 'stop_words')\n"
          ],
          "name": "stdout"
        },
        {
          "output_type": "stream",
          "text": [
            "/usr/local/lib/python3.6/dist-packages/sklearn/svm/base.py:931: ConvergenceWarning: Liblinear failed to converge, increase the number of iterations.\n",
            "  \"the number of iterations.\", ConvergenceWarning)\n"
          ],
          "name": "stderr"
        },
        {
          "output_type": "stream",
          "text": [
            "              precision    recall  f1-score   support\n",
            "\n",
            "           0       0.78      0.73      0.75      1032\n",
            "           1       0.39      0.45      0.42       394\n",
            "\n",
            "   micro avg       0.65      0.65      0.65      1426\n",
            "   macro avg       0.58      0.59      0.58      1426\n",
            "weighted avg       0.67      0.65      0.66      1426\n",
            "\n",
            "('subjectivity', 'polarity', 'title_case_words')\n"
          ],
          "name": "stdout"
        },
        {
          "output_type": "stream",
          "text": [
            "/usr/local/lib/python3.6/dist-packages/sklearn/svm/base.py:931: ConvergenceWarning: Liblinear failed to converge, increase the number of iterations.\n",
            "  \"the number of iterations.\", ConvergenceWarning)\n"
          ],
          "name": "stderr"
        },
        {
          "output_type": "stream",
          "text": [
            "              precision    recall  f1-score   support\n",
            "\n",
            "           0       0.76      0.60      0.67      1032\n",
            "           1       0.32      0.50      0.39       394\n",
            "\n",
            "   micro avg       0.57      0.57      0.57      1426\n",
            "   macro avg       0.54      0.55      0.53      1426\n",
            "weighted avg       0.64      0.57      0.59      1426\n",
            "\n",
            "('subjectivity', 'polarity', 'total_counts')\n"
          ],
          "name": "stdout"
        },
        {
          "output_type": "stream",
          "text": [
            "/usr/local/lib/python3.6/dist-packages/sklearn/svm/base.py:931: ConvergenceWarning: Liblinear failed to converge, increase the number of iterations.\n",
            "  \"the number of iterations.\", ConvergenceWarning)\n",
            "/usr/local/lib/python3.6/dist-packages/sklearn/metrics/classification.py:1143: UndefinedMetricWarning: Precision and F-score are ill-defined and being set to 0.0 in labels with no predicted samples.\n",
            "  'precision', 'predicted', average, warn_for)\n"
          ],
          "name": "stderr"
        },
        {
          "output_type": "stream",
          "text": [
            "              precision    recall  f1-score   support\n",
            "\n",
            "           0       0.72      1.00      0.84      1032\n",
            "           1       0.00      0.00      0.00       394\n",
            "\n",
            "   micro avg       0.72      0.72      0.72      1426\n",
            "   macro avg       0.36      0.50      0.42      1426\n",
            "weighted avg       0.52      0.72      0.61      1426\n",
            "\n",
            "('subjectivity', 'sentence_type', 'emotions')\n",
            "              precision    recall  f1-score   support\n",
            "\n",
            "           0       0.83      0.59      0.69      1032\n",
            "           1       0.39      0.67      0.49       394\n",
            "\n",
            "   micro avg       0.62      0.62      0.62      1426\n",
            "   macro avg       0.61      0.63      0.59      1426\n",
            "weighted avg       0.70      0.62      0.64      1426\n",
            "\n",
            "('subjectivity', 'sentence_type', 'readability')\n"
          ],
          "name": "stdout"
        },
        {
          "output_type": "stream",
          "text": [
            "/usr/local/lib/python3.6/dist-packages/sklearn/svm/base.py:931: ConvergenceWarning: Liblinear failed to converge, increase the number of iterations.\n",
            "  \"the number of iterations.\", ConvergenceWarning)\n"
          ],
          "name": "stderr"
        },
        {
          "output_type": "stream",
          "text": [
            "              precision    recall  f1-score   support\n",
            "\n",
            "           0       0.72      1.00      0.84      1032\n",
            "           1       0.25      0.00      0.01       394\n",
            "\n",
            "   micro avg       0.72      0.72      0.72      1426\n",
            "   macro avg       0.49      0.50      0.42      1426\n",
            "weighted avg       0.59      0.72      0.61      1426\n",
            "\n",
            "('subjectivity', 'sentence_type', 'tf-idf')\n",
            "              precision    recall  f1-score   support\n",
            "\n",
            "           0       0.82      0.77      0.80      1032\n",
            "           1       0.48      0.56      0.52       394\n",
            "\n",
            "   micro avg       0.71      0.71      0.71      1426\n",
            "   macro avg       0.65      0.66      0.66      1426\n",
            "weighted avg       0.73      0.71      0.72      1426\n",
            "\n",
            "('subjectivity', 'sentence_type', 'loaded_words')\n"
          ],
          "name": "stdout"
        },
        {
          "output_type": "stream",
          "text": [
            "/usr/local/lib/python3.6/dist-packages/sklearn/svm/base.py:931: ConvergenceWarning: Liblinear failed to converge, increase the number of iterations.\n",
            "  \"the number of iterations.\", ConvergenceWarning)\n"
          ],
          "name": "stderr"
        },
        {
          "output_type": "stream",
          "text": [
            "              precision    recall  f1-score   support\n",
            "\n",
            "           0       0.77      0.64      0.70      1032\n",
            "           1       0.34      0.50      0.41       394\n",
            "\n",
            "   micro avg       0.60      0.60      0.60      1426\n",
            "   macro avg       0.56      0.57      0.55      1426\n",
            "weighted avg       0.65      0.60      0.62      1426\n",
            "\n",
            "('subjectivity', 'sentence_type', 'exclamation_words')\n",
            "              precision    recall  f1-score   support\n",
            "\n",
            "           0       0.77      0.57      0.66      1032\n",
            "           1       0.33      0.56      0.42       394\n",
            "\n",
            "   micro avg       0.57      0.57      0.57      1426\n",
            "   macro avg       0.55      0.57      0.54      1426\n",
            "weighted avg       0.65      0.57      0.59      1426\n",
            "\n",
            "('subjectivity', 'sentence_type', 'lexical_chars')\n",
            "              precision    recall  f1-score   support\n",
            "\n",
            "           0       0.80      0.54      0.65      1032\n",
            "           1       0.35      0.64      0.45       394\n",
            "\n",
            "   micro avg       0.57      0.57      0.57      1426\n",
            "   macro avg       0.58      0.59      0.55      1426\n",
            "weighted avg       0.68      0.57      0.59      1426\n",
            "\n",
            "('subjectivity', 'sentence_type', 'lexical_words')\n"
          ],
          "name": "stdout"
        },
        {
          "output_type": "stream",
          "text": [
            "/usr/local/lib/python3.6/dist-packages/sklearn/svm/base.py:931: ConvergenceWarning: Liblinear failed to converge, increase the number of iterations.\n",
            "  \"the number of iterations.\", ConvergenceWarning)\n"
          ],
          "name": "stderr"
        },
        {
          "output_type": "stream",
          "text": [
            "              precision    recall  f1-score   support\n",
            "\n",
            "           0       0.81      0.55      0.66      1032\n",
            "           1       0.36      0.67      0.47       394\n",
            "\n",
            "   micro avg       0.58      0.58      0.58      1426\n",
            "   macro avg       0.59      0.61      0.56      1426\n",
            "weighted avg       0.69      0.58      0.61      1426\n",
            "\n",
            "('subjectivity', 'sentence_type', 'emotion_exclamations')\n",
            "              precision    recall  f1-score   support\n",
            "\n",
            "           0       0.77      0.57      0.66      1032\n",
            "           1       0.33      0.56      0.42       394\n",
            "\n",
            "   micro avg       0.57      0.57      0.57      1426\n",
            "   macro avg       0.55      0.57      0.54      1426\n",
            "weighted avg       0.65      0.57      0.59      1426\n",
            "\n",
            "('subjectivity', 'sentence_type', 'loaded_language')\n"
          ],
          "name": "stdout"
        },
        {
          "output_type": "stream",
          "text": [
            "/usr/local/lib/python3.6/dist-packages/sklearn/svm/base.py:931: ConvergenceWarning: Liblinear failed to converge, increase the number of iterations.\n",
            "  \"the number of iterations.\", ConvergenceWarning)\n"
          ],
          "name": "stderr"
        },
        {
          "output_type": "stream",
          "text": [
            "              precision    recall  f1-score   support\n",
            "\n",
            "           0       0.77      0.64      0.70      1032\n",
            "           1       0.34      0.50      0.41       394\n",
            "\n",
            "   micro avg       0.60      0.60      0.60      1426\n",
            "   macro avg       0.56      0.57      0.55      1426\n",
            "weighted avg       0.65      0.60      0.62      1426\n",
            "\n",
            "('subjectivity', 'sentence_type', 'confusing_words')\n"
          ],
          "name": "stdout"
        },
        {
          "output_type": "stream",
          "text": [
            "/usr/local/lib/python3.6/dist-packages/sklearn/svm/base.py:931: ConvergenceWarning: Liblinear failed to converge, increase the number of iterations.\n",
            "  \"the number of iterations.\", ConvergenceWarning)\n"
          ],
          "name": "stderr"
        },
        {
          "output_type": "stream",
          "text": [
            "              precision    recall  f1-score   support\n",
            "\n",
            "           0       0.78      0.58      0.66      1032\n",
            "           1       0.34      0.56      0.42       394\n",
            "\n",
            "   micro avg       0.57      0.57      0.57      1426\n",
            "   macro avg       0.56      0.57      0.54      1426\n",
            "weighted avg       0.66      0.57      0.60      1426\n",
            "\n",
            "('subjectivity', 'sentence_type', 'sentiment')\n",
            "              precision    recall  f1-score   support\n",
            "\n",
            "           0       0.78      0.58      0.66      1032\n",
            "           1       0.34      0.56      0.42       394\n",
            "\n",
            "   micro avg       0.57      0.57      0.57      1426\n",
            "   macro avg       0.56      0.57      0.54      1426\n",
            "weighted avg       0.65      0.57      0.60      1426\n",
            "\n",
            "('subjectivity', 'sentence_type', 'pos')\n"
          ],
          "name": "stdout"
        },
        {
          "output_type": "stream",
          "text": [
            "/usr/local/lib/python3.6/dist-packages/sklearn/svm/base.py:931: ConvergenceWarning: Liblinear failed to converge, increase the number of iterations.\n",
            "  \"the number of iterations.\", ConvergenceWarning)\n"
          ],
          "name": "stderr"
        },
        {
          "output_type": "stream",
          "text": [
            "              precision    recall  f1-score   support\n",
            "\n",
            "           0       0.78      0.66      0.72      1032\n",
            "           1       0.37      0.52      0.43       394\n",
            "\n",
            "   micro avg       0.62      0.62      0.62      1426\n",
            "   macro avg       0.58      0.59      0.57      1426\n",
            "weighted avg       0.67      0.62      0.64      1426\n",
            "\n",
            "('subjectivity', 'sentence_type', 'unique_words')\n"
          ],
          "name": "stdout"
        },
        {
          "output_type": "stream",
          "text": [
            "/usr/local/lib/python3.6/dist-packages/sklearn/svm/base.py:931: ConvergenceWarning: Liblinear failed to converge, increase the number of iterations.\n",
            "  \"the number of iterations.\", ConvergenceWarning)\n"
          ],
          "name": "stderr"
        },
        {
          "output_type": "stream",
          "text": [
            "              precision    recall  f1-score   support\n",
            "\n",
            "           0       0.81      0.25      0.38      1032\n",
            "           1       0.30      0.84      0.44       394\n",
            "\n",
            "   micro avg       0.41      0.41      0.41      1426\n",
            "   macro avg       0.55      0.55      0.41      1426\n",
            "weighted avg       0.67      0.41      0.40      1426\n",
            "\n",
            "('subjectivity', 'sentence_type', 'stop_words')\n"
          ],
          "name": "stdout"
        },
        {
          "output_type": "stream",
          "text": [
            "/usr/local/lib/python3.6/dist-packages/sklearn/svm/base.py:931: ConvergenceWarning: Liblinear failed to converge, increase the number of iterations.\n",
            "  \"the number of iterations.\", ConvergenceWarning)\n"
          ],
          "name": "stderr"
        },
        {
          "output_type": "stream",
          "text": [
            "              precision    recall  f1-score   support\n",
            "\n",
            "           0       0.74      0.97      0.84      1032\n",
            "           1       0.55      0.09      0.15       394\n",
            "\n",
            "   micro avg       0.73      0.73      0.73      1426\n",
            "   macro avg       0.64      0.53      0.50      1426\n",
            "weighted avg       0.68      0.73      0.65      1426\n",
            "\n",
            "('subjectivity', 'sentence_type', 'title_case_words')\n"
          ],
          "name": "stdout"
        },
        {
          "output_type": "stream",
          "text": [
            "/usr/local/lib/python3.6/dist-packages/sklearn/svm/base.py:931: ConvergenceWarning: Liblinear failed to converge, increase the number of iterations.\n",
            "  \"the number of iterations.\", ConvergenceWarning)\n"
          ],
          "name": "stderr"
        },
        {
          "output_type": "stream",
          "text": [
            "              precision    recall  f1-score   support\n",
            "\n",
            "           0       0.77      0.57      0.65      1032\n",
            "           1       0.33      0.56      0.42       394\n",
            "\n",
            "   micro avg       0.57      0.57      0.57      1426\n",
            "   macro avg       0.55      0.56      0.53      1426\n",
            "weighted avg       0.65      0.57      0.59      1426\n",
            "\n",
            "('subjectivity', 'sentence_type', 'total_counts')\n"
          ],
          "name": "stdout"
        },
        {
          "output_type": "stream",
          "text": [
            "/usr/local/lib/python3.6/dist-packages/sklearn/svm/base.py:931: ConvergenceWarning: Liblinear failed to converge, increase the number of iterations.\n",
            "  \"the number of iterations.\", ConvergenceWarning)\n"
          ],
          "name": "stderr"
        },
        {
          "output_type": "stream",
          "text": [
            "              precision    recall  f1-score   support\n",
            "\n",
            "           0       0.73      1.00      0.84      1032\n",
            "           1       0.57      0.01      0.02       394\n",
            "\n",
            "   micro avg       0.72      0.72      0.72      1426\n",
            "   macro avg       0.65      0.50      0.43      1426\n",
            "weighted avg       0.68      0.72      0.61      1426\n",
            "\n",
            "('subjectivity', 'emotions', 'readability')\n"
          ],
          "name": "stdout"
        },
        {
          "output_type": "stream",
          "text": [
            "/usr/local/lib/python3.6/dist-packages/sklearn/svm/base.py:931: ConvergenceWarning: Liblinear failed to converge, increase the number of iterations.\n",
            "  \"the number of iterations.\", ConvergenceWarning)\n"
          ],
          "name": "stderr"
        },
        {
          "output_type": "stream",
          "text": [
            "              precision    recall  f1-score   support\n",
            "\n",
            "           0       0.84      0.07      0.12      1032\n",
            "           1       0.28      0.97      0.44       394\n",
            "\n",
            "   micro avg       0.32      0.32      0.32      1426\n",
            "   macro avg       0.56      0.52      0.28      1426\n",
            "weighted avg       0.69      0.32      0.21      1426\n",
            "\n",
            "('subjectivity', 'emotions', 'tf-idf')\n",
            "              precision    recall  f1-score   support\n",
            "\n",
            "           0       0.82      0.78      0.80      1032\n",
            "           1       0.49      0.56      0.52       394\n",
            "\n",
            "   micro avg       0.72      0.72      0.72      1426\n",
            "   macro avg       0.65      0.67      0.66      1426\n",
            "weighted avg       0.73      0.72      0.72      1426\n",
            "\n",
            "('subjectivity', 'emotions', 'loaded_words')\n"
          ],
          "name": "stdout"
        },
        {
          "output_type": "stream",
          "text": [
            "/usr/local/lib/python3.6/dist-packages/sklearn/svm/base.py:931: ConvergenceWarning: Liblinear failed to converge, increase the number of iterations.\n",
            "  \"the number of iterations.\", ConvergenceWarning)\n"
          ],
          "name": "stderr"
        },
        {
          "output_type": "stream",
          "text": [
            "              precision    recall  f1-score   support\n",
            "\n",
            "           0       0.81      0.62      0.70      1032\n",
            "           1       0.38      0.61      0.47       394\n",
            "\n",
            "   micro avg       0.62      0.62      0.62      1426\n",
            "   macro avg       0.59      0.61      0.58      1426\n",
            "weighted avg       0.69      0.62      0.63      1426\n",
            "\n",
            "('subjectivity', 'emotions', 'exclamation_words')\n",
            "              precision    recall  f1-score   support\n",
            "\n",
            "           0       0.82      0.59      0.69      1032\n",
            "           1       0.38      0.67      0.49       394\n",
            "\n",
            "   micro avg       0.61      0.61      0.61      1426\n",
            "   macro avg       0.60      0.63      0.59      1426\n",
            "weighted avg       0.70      0.61      0.63      1426\n",
            "\n",
            "('subjectivity', 'emotions', 'lexical_chars')\n",
            "              precision    recall  f1-score   support\n",
            "\n",
            "           0       0.83      0.57      0.68      1032\n",
            "           1       0.38      0.70      0.49       394\n",
            "\n",
            "   micro avg       0.61      0.61      0.61      1426\n",
            "   macro avg       0.61      0.63      0.59      1426\n",
            "weighted avg       0.71      0.61      0.63      1426\n",
            "\n",
            "('subjectivity', 'emotions', 'lexical_words')\n"
          ],
          "name": "stdout"
        },
        {
          "output_type": "stream",
          "text": [
            "/usr/local/lib/python3.6/dist-packages/sklearn/svm/base.py:931: ConvergenceWarning: Liblinear failed to converge, increase the number of iterations.\n",
            "  \"the number of iterations.\", ConvergenceWarning)\n"
          ],
          "name": "stderr"
        },
        {
          "output_type": "stream",
          "text": [
            "              precision    recall  f1-score   support\n",
            "\n",
            "           0       0.83      0.59      0.69      1032\n",
            "           1       0.39      0.68      0.50       394\n",
            "\n",
            "   micro avg       0.62      0.62      0.62      1426\n",
            "   macro avg       0.61      0.64      0.59      1426\n",
            "weighted avg       0.71      0.62      0.64      1426\n",
            "\n",
            "('subjectivity', 'emotions', 'emotion_exclamations')\n",
            "              precision    recall  f1-score   support\n",
            "\n",
            "           0       0.82      0.59      0.69      1032\n",
            "           1       0.38      0.67      0.49       394\n",
            "\n",
            "   micro avg       0.61      0.61      0.61      1426\n",
            "   macro avg       0.60      0.63      0.59      1426\n",
            "weighted avg       0.70      0.61      0.63      1426\n",
            "\n",
            "('subjectivity', 'emotions', 'loaded_language')\n"
          ],
          "name": "stdout"
        },
        {
          "output_type": "stream",
          "text": [
            "/usr/local/lib/python3.6/dist-packages/sklearn/svm/base.py:931: ConvergenceWarning: Liblinear failed to converge, increase the number of iterations.\n",
            "  \"the number of iterations.\", ConvergenceWarning)\n"
          ],
          "name": "stderr"
        },
        {
          "output_type": "stream",
          "text": [
            "              precision    recall  f1-score   support\n",
            "\n",
            "           0       0.81      0.62      0.70      1032\n",
            "           1       0.38      0.61      0.47       394\n",
            "\n",
            "   micro avg       0.62      0.62      0.62      1426\n",
            "   macro avg       0.59      0.61      0.58      1426\n",
            "weighted avg       0.69      0.62      0.63      1426\n",
            "\n",
            "('subjectivity', 'emotions', 'confusing_words')\n"
          ],
          "name": "stdout"
        },
        {
          "output_type": "stream",
          "text": [
            "/usr/local/lib/python3.6/dist-packages/sklearn/svm/base.py:931: ConvergenceWarning: Liblinear failed to converge, increase the number of iterations.\n",
            "  \"the number of iterations.\", ConvergenceWarning)\n"
          ],
          "name": "stderr"
        },
        {
          "output_type": "stream",
          "text": [
            "              precision    recall  f1-score   support\n",
            "\n",
            "           0       0.82      0.59      0.68      1032\n",
            "           1       0.38      0.66      0.48       394\n",
            "\n",
            "   micro avg       0.61      0.61      0.61      1426\n",
            "   macro avg       0.60      0.62      0.58      1426\n",
            "weighted avg       0.70      0.61      0.63      1426\n",
            "\n",
            "('subjectivity', 'emotions', 'sentiment')\n",
            "              precision    recall  f1-score   support\n",
            "\n",
            "           0       0.82      0.59      0.68      1032\n",
            "           1       0.38      0.67      0.49       394\n",
            "\n",
            "   micro avg       0.61      0.61      0.61      1426\n",
            "   macro avg       0.60      0.63      0.59      1426\n",
            "weighted avg       0.70      0.61      0.63      1426\n",
            "\n",
            "('subjectivity', 'emotions', 'pos')\n"
          ],
          "name": "stdout"
        },
        {
          "output_type": "stream",
          "text": [
            "/usr/local/lib/python3.6/dist-packages/sklearn/svm/base.py:931: ConvergenceWarning: Liblinear failed to converge, increase the number of iterations.\n",
            "  \"the number of iterations.\", ConvergenceWarning)\n"
          ],
          "name": "stderr"
        },
        {
          "output_type": "stream",
          "text": [
            "              precision    recall  f1-score   support\n",
            "\n",
            "           0       0.81      0.62      0.70      1032\n",
            "           1       0.39      0.62      0.48       394\n",
            "\n",
            "   micro avg       0.62      0.62      0.62      1426\n",
            "   macro avg       0.60      0.62      0.59      1426\n",
            "weighted avg       0.69      0.62      0.64      1426\n",
            "\n",
            "('subjectivity', 'emotions', 'unique_words')\n"
          ],
          "name": "stdout"
        },
        {
          "output_type": "stream",
          "text": [
            "/usr/local/lib/python3.6/dist-packages/sklearn/svm/base.py:931: ConvergenceWarning: Liblinear failed to converge, increase the number of iterations.\n",
            "  \"the number of iterations.\", ConvergenceWarning)\n"
          ],
          "name": "stderr"
        },
        {
          "output_type": "stream",
          "text": [
            "              precision    recall  f1-score   support\n",
            "\n",
            "           0       0.73      0.97      0.83      1032\n",
            "           1       0.34      0.04      0.06       394\n",
            "\n",
            "   micro avg       0.71      0.71      0.71      1426\n",
            "   macro avg       0.53      0.50      0.45      1426\n",
            "weighted avg       0.62      0.71      0.62      1426\n",
            "\n",
            "('subjectivity', 'emotions', 'stop_words')\n"
          ],
          "name": "stdout"
        },
        {
          "output_type": "stream",
          "text": [
            "/usr/local/lib/python3.6/dist-packages/sklearn/svm/base.py:931: ConvergenceWarning: Liblinear failed to converge, increase the number of iterations.\n",
            "  \"the number of iterations.\", ConvergenceWarning)\n"
          ],
          "name": "stderr"
        },
        {
          "output_type": "stream",
          "text": [
            "              precision    recall  f1-score   support\n",
            "\n",
            "           0       0.81      0.65      0.72      1032\n",
            "           1       0.39      0.59      0.47       394\n",
            "\n",
            "   micro avg       0.63      0.63      0.63      1426\n",
            "   macro avg       0.60      0.62      0.60      1426\n",
            "weighted avg       0.69      0.63      0.65      1426\n",
            "\n",
            "('subjectivity', 'emotions', 'title_case_words')\n"
          ],
          "name": "stdout"
        },
        {
          "output_type": "stream",
          "text": [
            "/usr/local/lib/python3.6/dist-packages/sklearn/svm/base.py:931: ConvergenceWarning: Liblinear failed to converge, increase the number of iterations.\n",
            "  \"the number of iterations.\", ConvergenceWarning)\n"
          ],
          "name": "stderr"
        },
        {
          "output_type": "stream",
          "text": [
            "              precision    recall  f1-score   support\n",
            "\n",
            "           0       0.82      0.59      0.69      1032\n",
            "           1       0.38      0.66      0.48       394\n",
            "\n",
            "   micro avg       0.61      0.61      0.61      1426\n",
            "   macro avg       0.60      0.63      0.59      1426\n",
            "weighted avg       0.70      0.61      0.63      1426\n",
            "\n",
            "('subjectivity', 'emotions', 'total_counts')\n"
          ],
          "name": "stdout"
        },
        {
          "output_type": "stream",
          "text": [
            "/usr/local/lib/python3.6/dist-packages/sklearn/svm/base.py:931: ConvergenceWarning: Liblinear failed to converge, increase the number of iterations.\n",
            "  \"the number of iterations.\", ConvergenceWarning)\n"
          ],
          "name": "stderr"
        },
        {
          "output_type": "stream",
          "text": [
            "              precision    recall  f1-score   support\n",
            "\n",
            "           0       0.72      1.00      0.84      1032\n",
            "           1       0.43      0.01      0.01       394\n",
            "\n",
            "   micro avg       0.72      0.72      0.72      1426\n",
            "   macro avg       0.58      0.50      0.43      1426\n",
            "weighted avg       0.64      0.72      0.61      1426\n",
            "\n",
            "('subjectivity', 'readability', 'tf-idf')\n"
          ],
          "name": "stdout"
        },
        {
          "output_type": "stream",
          "text": [
            "/usr/local/lib/python3.6/dist-packages/sklearn/svm/base.py:931: ConvergenceWarning: Liblinear failed to converge, increase the number of iterations.\n",
            "  \"the number of iterations.\", ConvergenceWarning)\n"
          ],
          "name": "stderr"
        },
        {
          "output_type": "stream",
          "text": [
            "              precision    recall  f1-score   support\n",
            "\n",
            "           0       0.81      0.84      0.83      1032\n",
            "           1       0.54      0.48      0.51       394\n",
            "\n",
            "   micro avg       0.74      0.74      0.74      1426\n",
            "   macro avg       0.68      0.66      0.67      1426\n",
            "weighted avg       0.74      0.74      0.74      1426\n",
            "\n",
            "('subjectivity', 'readability', 'loaded_words')\n"
          ],
          "name": "stdout"
        },
        {
          "output_type": "stream",
          "text": [
            "/usr/local/lib/python3.6/dist-packages/sklearn/svm/base.py:931: ConvergenceWarning: Liblinear failed to converge, increase the number of iterations.\n",
            "  \"the number of iterations.\", ConvergenceWarning)\n"
          ],
          "name": "stderr"
        },
        {
          "output_type": "stream",
          "text": [
            "              precision    recall  f1-score   support\n",
            "\n",
            "           0       0.71      0.75      0.73      1032\n",
            "           1       0.25      0.22      0.23       394\n",
            "\n",
            "   micro avg       0.60      0.60      0.60      1426\n",
            "   macro avg       0.48      0.48      0.48      1426\n",
            "weighted avg       0.59      0.60      0.59      1426\n",
            "\n",
            "('subjectivity', 'readability', 'exclamation_words')\n"
          ],
          "name": "stdout"
        },
        {
          "output_type": "stream",
          "text": [
            "/usr/local/lib/python3.6/dist-packages/sklearn/svm/base.py:931: ConvergenceWarning: Liblinear failed to converge, increase the number of iterations.\n",
            "  \"the number of iterations.\", ConvergenceWarning)\n",
            "/usr/local/lib/python3.6/dist-packages/sklearn/metrics/classification.py:1143: UndefinedMetricWarning: Precision and F-score are ill-defined and being set to 0.0 in labels with no predicted samples.\n",
            "  'precision', 'predicted', average, warn_for)\n"
          ],
          "name": "stderr"
        },
        {
          "output_type": "stream",
          "text": [
            "              precision    recall  f1-score   support\n",
            "\n",
            "           0       0.72      1.00      0.84      1032\n",
            "           1       0.00      0.00      0.00       394\n",
            "\n",
            "   micro avg       0.72      0.72      0.72      1426\n",
            "   macro avg       0.36      0.50      0.42      1426\n",
            "weighted avg       0.52      0.72      0.61      1426\n",
            "\n",
            "('subjectivity', 'readability', 'lexical_chars')\n"
          ],
          "name": "stdout"
        },
        {
          "output_type": "stream",
          "text": [
            "/usr/local/lib/python3.6/dist-packages/sklearn/svm/base.py:931: ConvergenceWarning: Liblinear failed to converge, increase the number of iterations.\n",
            "  \"the number of iterations.\", ConvergenceWarning)\n"
          ],
          "name": "stderr"
        },
        {
          "output_type": "stream",
          "text": [
            "              precision    recall  f1-score   support\n",
            "\n",
            "           0       0.73      0.97      0.83      1032\n",
            "           1       0.38      0.05      0.08       394\n",
            "\n",
            "   micro avg       0.72      0.72      0.72      1426\n",
            "   macro avg       0.55      0.51      0.46      1426\n",
            "weighted avg       0.63      0.72      0.62      1426\n",
            "\n",
            "('subjectivity', 'readability', 'lexical_words')\n"
          ],
          "name": "stdout"
        },
        {
          "output_type": "stream",
          "text": [
            "/usr/local/lib/python3.6/dist-packages/sklearn/svm/base.py:931: ConvergenceWarning: Liblinear failed to converge, increase the number of iterations.\n",
            "  \"the number of iterations.\", ConvergenceWarning)\n"
          ],
          "name": "stderr"
        },
        {
          "output_type": "stream",
          "text": [
            "              precision    recall  f1-score   support\n",
            "\n",
            "           0       0.73      0.98      0.84      1032\n",
            "           1       0.44      0.04      0.08       394\n",
            "\n",
            "   micro avg       0.72      0.72      0.72      1426\n",
            "   macro avg       0.58      0.51      0.46      1426\n",
            "weighted avg       0.65      0.72      0.63      1426\n",
            "\n",
            "('subjectivity', 'readability', 'emotion_exclamations')\n"
          ],
          "name": "stdout"
        },
        {
          "output_type": "stream",
          "text": [
            "/usr/local/lib/python3.6/dist-packages/sklearn/svm/base.py:931: ConvergenceWarning: Liblinear failed to converge, increase the number of iterations.\n",
            "  \"the number of iterations.\", ConvergenceWarning)\n",
            "/usr/local/lib/python3.6/dist-packages/sklearn/metrics/classification.py:1143: UndefinedMetricWarning: Precision and F-score are ill-defined and being set to 0.0 in labels with no predicted samples.\n",
            "  'precision', 'predicted', average, warn_for)\n"
          ],
          "name": "stderr"
        },
        {
          "output_type": "stream",
          "text": [
            "              precision    recall  f1-score   support\n",
            "\n",
            "           0       0.72      1.00      0.84      1032\n",
            "           1       0.00      0.00      0.00       394\n",
            "\n",
            "   micro avg       0.72      0.72      0.72      1426\n",
            "   macro avg       0.36      0.50      0.42      1426\n",
            "weighted avg       0.52      0.72      0.61      1426\n",
            "\n",
            "('subjectivity', 'readability', 'loaded_language')\n"
          ],
          "name": "stdout"
        },
        {
          "output_type": "stream",
          "text": [
            "/usr/local/lib/python3.6/dist-packages/sklearn/svm/base.py:931: ConvergenceWarning: Liblinear failed to converge, increase the number of iterations.\n",
            "  \"the number of iterations.\", ConvergenceWarning)\n"
          ],
          "name": "stderr"
        },
        {
          "output_type": "stream",
          "text": [
            "              precision    recall  f1-score   support\n",
            "\n",
            "           0       0.71      0.75      0.73      1032\n",
            "           1       0.25      0.22      0.23       394\n",
            "\n",
            "   micro avg       0.60      0.60      0.60      1426\n",
            "   macro avg       0.48      0.48      0.48      1426\n",
            "weighted avg       0.59      0.60      0.59      1426\n",
            "\n",
            "('subjectivity', 'readability', 'confusing_words')\n"
          ],
          "name": "stdout"
        },
        {
          "output_type": "stream",
          "text": [
            "/usr/local/lib/python3.6/dist-packages/sklearn/svm/base.py:931: ConvergenceWarning: Liblinear failed to converge, increase the number of iterations.\n",
            "  \"the number of iterations.\", ConvergenceWarning)\n"
          ],
          "name": "stderr"
        },
        {
          "output_type": "stream",
          "text": [
            "              precision    recall  f1-score   support\n",
            "\n",
            "           0       0.76      0.69      0.73      1032\n",
            "           1       0.35      0.44      0.39       394\n",
            "\n",
            "   micro avg       0.62      0.62      0.62      1426\n",
            "   macro avg       0.56      0.57      0.56      1426\n",
            "weighted avg       0.65      0.62      0.64      1426\n",
            "\n",
            "('subjectivity', 'readability', 'sentiment')\n"
          ],
          "name": "stdout"
        },
        {
          "output_type": "stream",
          "text": [
            "/usr/local/lib/python3.6/dist-packages/sklearn/svm/base.py:931: ConvergenceWarning: Liblinear failed to converge, increase the number of iterations.\n",
            "  \"the number of iterations.\", ConvergenceWarning)\n"
          ],
          "name": "stderr"
        },
        {
          "output_type": "stream",
          "text": [
            "              precision    recall  f1-score   support\n",
            "\n",
            "           0       0.73      0.99      0.84      1032\n",
            "           1       0.48      0.03      0.05       394\n",
            "\n",
            "   micro avg       0.72      0.72      0.72      1426\n",
            "   macro avg       0.60      0.51      0.45      1426\n",
            "weighted avg       0.66      0.72      0.62      1426\n",
            "\n",
            "('subjectivity', 'readability', 'pos')\n"
          ],
          "name": "stdout"
        },
        {
          "output_type": "stream",
          "text": [
            "/usr/local/lib/python3.6/dist-packages/sklearn/svm/base.py:931: ConvergenceWarning: Liblinear failed to converge, increase the number of iterations.\n",
            "  \"the number of iterations.\", ConvergenceWarning)\n"
          ],
          "name": "stderr"
        },
        {
          "output_type": "stream",
          "text": [
            "              precision    recall  f1-score   support\n",
            "\n",
            "           0       0.73      0.99      0.84      1032\n",
            "           1       0.44      0.02      0.03       394\n",
            "\n",
            "   micro avg       0.72      0.72      0.72      1426\n",
            "   macro avg       0.58      0.50      0.44      1426\n",
            "weighted avg       0.65      0.72      0.62      1426\n",
            "\n",
            "('subjectivity', 'readability', 'unique_words')\n"
          ],
          "name": "stdout"
        },
        {
          "output_type": "stream",
          "text": [
            "/usr/local/lib/python3.6/dist-packages/sklearn/svm/base.py:931: ConvergenceWarning: Liblinear failed to converge, increase the number of iterations.\n",
            "  \"the number of iterations.\", ConvergenceWarning)\n"
          ],
          "name": "stderr"
        },
        {
          "output_type": "stream",
          "text": [
            "              precision    recall  f1-score   support\n",
            "\n",
            "           0       0.72      0.98      0.83      1032\n",
            "           1       0.15      0.01      0.01       394\n",
            "\n",
            "   micro avg       0.71      0.71      0.71      1426\n",
            "   macro avg       0.44      0.50      0.42      1426\n",
            "weighted avg       0.56      0.71      0.61      1426\n",
            "\n",
            "('subjectivity', 'readability', 'stop_words')\n"
          ],
          "name": "stdout"
        },
        {
          "output_type": "stream",
          "text": [
            "/usr/local/lib/python3.6/dist-packages/sklearn/svm/base.py:931: ConvergenceWarning: Liblinear failed to converge, increase the number of iterations.\n",
            "  \"the number of iterations.\", ConvergenceWarning)\n",
            "/usr/local/lib/python3.6/dist-packages/sklearn/metrics/classification.py:1143: UndefinedMetricWarning: Precision and F-score are ill-defined and being set to 0.0 in labels with no predicted samples.\n",
            "  'precision', 'predicted', average, warn_for)\n"
          ],
          "name": "stderr"
        },
        {
          "output_type": "stream",
          "text": [
            "              precision    recall  f1-score   support\n",
            "\n",
            "           0       0.72      1.00      0.84      1032\n",
            "           1       0.00      0.00      0.00       394\n",
            "\n",
            "   micro avg       0.72      0.72      0.72      1426\n",
            "   macro avg       0.36      0.50      0.42      1426\n",
            "weighted avg       0.52      0.72      0.61      1426\n",
            "\n",
            "('subjectivity', 'readability', 'title_case_words')\n"
          ],
          "name": "stdout"
        },
        {
          "output_type": "stream",
          "text": [
            "/usr/local/lib/python3.6/dist-packages/sklearn/svm/base.py:931: ConvergenceWarning: Liblinear failed to converge, increase the number of iterations.\n",
            "  \"the number of iterations.\", ConvergenceWarning)\n"
          ],
          "name": "stderr"
        },
        {
          "output_type": "stream",
          "text": [
            "              precision    recall  f1-score   support\n",
            "\n",
            "           0       0.75      0.86      0.80      1032\n",
            "           1       0.42      0.26      0.32       394\n",
            "\n",
            "   micro avg       0.70      0.70      0.70      1426\n",
            "   macro avg       0.59      0.56      0.56      1426\n",
            "weighted avg       0.66      0.70      0.67      1426\n",
            "\n",
            "('subjectivity', 'readability', 'total_counts')\n"
          ],
          "name": "stdout"
        },
        {
          "output_type": "stream",
          "text": [
            "/usr/local/lib/python3.6/dist-packages/sklearn/svm/base.py:931: ConvergenceWarning: Liblinear failed to converge, increase the number of iterations.\n",
            "  \"the number of iterations.\", ConvergenceWarning)\n"
          ],
          "name": "stderr"
        },
        {
          "output_type": "stream",
          "text": [
            "              precision    recall  f1-score   support\n",
            "\n",
            "           0       0.72      1.00      0.84      1032\n",
            "           1       0.33      0.01      0.01       394\n",
            "\n",
            "   micro avg       0.72      0.72      0.72      1426\n",
            "   macro avg       0.53      0.50      0.42      1426\n",
            "weighted avg       0.62      0.72      0.61      1426\n",
            "\n",
            "('subjectivity', 'tf-idf', 'loaded_words')\n"
          ],
          "name": "stdout"
        },
        {
          "output_type": "stream",
          "text": [
            "/usr/local/lib/python3.6/dist-packages/sklearn/svm/base.py:931: ConvergenceWarning: Liblinear failed to converge, increase the number of iterations.\n",
            "  \"the number of iterations.\", ConvergenceWarning)\n"
          ],
          "name": "stderr"
        },
        {
          "output_type": "stream",
          "text": [
            "              precision    recall  f1-score   support\n",
            "\n",
            "           0       0.82      0.78      0.80      1032\n",
            "           1       0.48      0.55      0.52       394\n",
            "\n",
            "   micro avg       0.71      0.71      0.71      1426\n",
            "   macro avg       0.65      0.66      0.66      1426\n",
            "weighted avg       0.73      0.71      0.72      1426\n",
            "\n",
            "('subjectivity', 'tf-idf', 'exclamation_words')\n",
            "              precision    recall  f1-score   support\n",
            "\n",
            "           0       0.81      0.77      0.79      1032\n",
            "           1       0.47      0.54      0.50       394\n",
            "\n",
            "   micro avg       0.71      0.71      0.71      1426\n",
            "   macro avg       0.64      0.65      0.65      1426\n",
            "weighted avg       0.72      0.71      0.71      1426\n",
            "\n",
            "('subjectivity', 'tf-idf', 'lexical_chars')\n",
            "              precision    recall  f1-score   support\n",
            "\n",
            "           0       0.81      0.77      0.79      1032\n",
            "           1       0.47      0.54      0.50       394\n",
            "\n",
            "   micro avg       0.71      0.71      0.71      1426\n",
            "   macro avg       0.64      0.65      0.65      1426\n",
            "weighted avg       0.72      0.71      0.71      1426\n",
            "\n",
            "('subjectivity', 'tf-idf', 'lexical_words')\n",
            "              precision    recall  f1-score   support\n",
            "\n",
            "           0       0.82      0.77      0.80      1032\n",
            "           1       0.49      0.56      0.52       394\n",
            "\n",
            "   micro avg       0.72      0.72      0.72      1426\n",
            "   macro avg       0.65      0.67      0.66      1426\n",
            "weighted avg       0.73      0.72      0.72      1426\n",
            "\n",
            "('subjectivity', 'tf-idf', 'emotion_exclamations')\n",
            "              precision    recall  f1-score   support\n",
            "\n",
            "           0       0.81      0.77      0.79      1032\n",
            "           1       0.47      0.54      0.50       394\n",
            "\n",
            "   micro avg       0.71      0.71      0.71      1426\n",
            "   macro avg       0.64      0.65      0.65      1426\n",
            "weighted avg       0.72      0.71      0.71      1426\n",
            "\n",
            "('subjectivity', 'tf-idf', 'loaded_language')\n",
            "              precision    recall  f1-score   support\n",
            "\n",
            "           0       0.82      0.78      0.80      1032\n",
            "           1       0.48      0.55      0.52       394\n",
            "\n",
            "   micro avg       0.71      0.71      0.71      1426\n",
            "   macro avg       0.65      0.66      0.66      1426\n",
            "weighted avg       0.73      0.71      0.72      1426\n",
            "\n",
            "('subjectivity', 'tf-idf', 'confusing_words')\n",
            "              precision    recall  f1-score   support\n",
            "\n",
            "           0       0.82      0.78      0.80      1032\n",
            "           1       0.48      0.55      0.51       394\n",
            "\n",
            "   micro avg       0.71      0.71      0.71      1426\n",
            "   macro avg       0.65      0.66      0.66      1426\n",
            "weighted avg       0.73      0.71      0.72      1426\n",
            "\n",
            "('subjectivity', 'tf-idf', 'sentiment')\n",
            "              precision    recall  f1-score   support\n",
            "\n",
            "           0       0.81      0.77      0.79      1032\n",
            "           1       0.47      0.54      0.50       394\n",
            "\n",
            "   micro avg       0.70      0.70      0.70      1426\n",
            "   macro avg       0.64      0.65      0.65      1426\n",
            "weighted avg       0.72      0.70      0.71      1426\n",
            "\n",
            "('subjectivity', 'tf-idf', 'pos')\n",
            "              precision    recall  f1-score   support\n",
            "\n",
            "           0       0.82      0.78      0.80      1032\n",
            "           1       0.49      0.55      0.52       394\n",
            "\n",
            "   micro avg       0.72      0.72      0.72      1426\n",
            "   macro avg       0.66      0.67      0.66      1426\n",
            "weighted avg       0.73      0.72      0.72      1426\n",
            "\n",
            "('subjectivity', 'tf-idf', 'unique_words')\n",
            "              precision    recall  f1-score   support\n",
            "\n",
            "           0       0.81      0.84      0.82      1032\n",
            "           1       0.53      0.47      0.50       394\n",
            "\n",
            "   micro avg       0.74      0.74      0.74      1426\n",
            "   macro avg       0.67      0.65      0.66      1426\n",
            "weighted avg       0.73      0.74      0.73      1426\n",
            "\n",
            "('subjectivity', 'tf-idf', 'stop_words')\n",
            "              precision    recall  f1-score   support\n",
            "\n",
            "           0       0.82      0.79      0.80      1032\n",
            "           1       0.49      0.54      0.51       394\n",
            "\n",
            "   micro avg       0.72      0.72      0.72      1426\n",
            "   macro avg       0.65      0.66      0.66      1426\n",
            "weighted avg       0.73      0.72      0.72      1426\n",
            "\n",
            "('subjectivity', 'tf-idf', 'title_case_words')\n",
            "              precision    recall  f1-score   support\n",
            "\n",
            "           0       0.82      0.77      0.79      1032\n",
            "           1       0.47      0.54      0.51       394\n",
            "\n",
            "   micro avg       0.71      0.71      0.71      1426\n",
            "   macro avg       0.64      0.66      0.65      1426\n",
            "weighted avg       0.72      0.71      0.71      1426\n",
            "\n",
            "('subjectivity', 'tf-idf', 'total_counts')\n",
            "              precision    recall  f1-score   support\n",
            "\n",
            "           0       0.74      0.96      0.84      1032\n",
            "           1       0.55      0.13      0.21       394\n",
            "\n",
            "   micro avg       0.73      0.73      0.73      1426\n",
            "   macro avg       0.65      0.55      0.53      1426\n",
            "weighted avg       0.69      0.73      0.67      1426\n",
            "\n",
            "('subjectivity', 'loaded_words', 'exclamation_words')\n"
          ],
          "name": "stdout"
        },
        {
          "output_type": "stream",
          "text": [
            "/usr/local/lib/python3.6/dist-packages/sklearn/svm/base.py:931: ConvergenceWarning: Liblinear failed to converge, increase the number of iterations.\n",
            "  \"the number of iterations.\", ConvergenceWarning)\n"
          ],
          "name": "stderr"
        },
        {
          "output_type": "stream",
          "text": [
            "              precision    recall  f1-score   support\n",
            "\n",
            "           0       0.78      0.63      0.70      1032\n",
            "           1       0.35      0.53      0.42       394\n",
            "\n",
            "   micro avg       0.60      0.60      0.60      1426\n",
            "   macro avg       0.56      0.58      0.56      1426\n",
            "weighted avg       0.66      0.60      0.62      1426\n",
            "\n",
            "('subjectivity', 'loaded_words', 'lexical_chars')\n"
          ],
          "name": "stdout"
        },
        {
          "output_type": "stream",
          "text": [
            "/usr/local/lib/python3.6/dist-packages/sklearn/svm/base.py:931: ConvergenceWarning: Liblinear failed to converge, increase the number of iterations.\n",
            "  \"the number of iterations.\", ConvergenceWarning)\n"
          ],
          "name": "stderr"
        },
        {
          "output_type": "stream",
          "text": [
            "              precision    recall  f1-score   support\n",
            "\n",
            "           0       0.79      0.63      0.70      1032\n",
            "           1       0.36      0.55      0.44       394\n",
            "\n",
            "   micro avg       0.61      0.61      0.61      1426\n",
            "   macro avg       0.57      0.59      0.57      1426\n",
            "weighted avg       0.67      0.61      0.62      1426\n",
            "\n",
            "('subjectivity', 'loaded_words', 'lexical_words')\n"
          ],
          "name": "stdout"
        },
        {
          "output_type": "stream",
          "text": [
            "/usr/local/lib/python3.6/dist-packages/sklearn/svm/base.py:931: ConvergenceWarning: Liblinear failed to converge, increase the number of iterations.\n",
            "  \"the number of iterations.\", ConvergenceWarning)\n"
          ],
          "name": "stderr"
        },
        {
          "output_type": "stream",
          "text": [
            "              precision    recall  f1-score   support\n",
            "\n",
            "           0       0.79      0.61      0.69      1032\n",
            "           1       0.36      0.59      0.45       394\n",
            "\n",
            "   micro avg       0.60      0.60      0.60      1426\n",
            "   macro avg       0.58      0.60      0.57      1426\n",
            "weighted avg       0.68      0.60      0.62      1426\n",
            "\n",
            "('subjectivity', 'loaded_words', 'emotion_exclamations')\n"
          ],
          "name": "stdout"
        },
        {
          "output_type": "stream",
          "text": [
            "/usr/local/lib/python3.6/dist-packages/sklearn/svm/base.py:931: ConvergenceWarning: Liblinear failed to converge, increase the number of iterations.\n",
            "  \"the number of iterations.\", ConvergenceWarning)\n"
          ],
          "name": "stderr"
        },
        {
          "output_type": "stream",
          "text": [
            "              precision    recall  f1-score   support\n",
            "\n",
            "           0       0.78      0.63      0.70      1032\n",
            "           1       0.35      0.53      0.42       394\n",
            "\n",
            "   micro avg       0.60      0.60      0.60      1426\n",
            "   macro avg       0.56      0.58      0.56      1426\n",
            "weighted avg       0.66      0.60      0.62      1426\n",
            "\n",
            "('subjectivity', 'loaded_words', 'loaded_language')\n"
          ],
          "name": "stdout"
        },
        {
          "output_type": "stream",
          "text": [
            "/usr/local/lib/python3.6/dist-packages/sklearn/svm/base.py:931: ConvergenceWarning: Liblinear failed to converge, increase the number of iterations.\n",
            "  \"the number of iterations.\", ConvergenceWarning)\n"
          ],
          "name": "stderr"
        },
        {
          "output_type": "stream",
          "text": [
            "              precision    recall  f1-score   support\n",
            "\n",
            "           0       0.78      0.63      0.70      1032\n",
            "           1       0.35      0.53      0.42       394\n",
            "\n",
            "   micro avg       0.60      0.60      0.60      1426\n",
            "   macro avg       0.57      0.58      0.56      1426\n",
            "weighted avg       0.66      0.60      0.62      1426\n",
            "\n",
            "('subjectivity', 'loaded_words', 'confusing_words')\n"
          ],
          "name": "stdout"
        },
        {
          "output_type": "stream",
          "text": [
            "/usr/local/lib/python3.6/dist-packages/sklearn/svm/base.py:931: ConvergenceWarning: Liblinear failed to converge, increase the number of iterations.\n",
            "  \"the number of iterations.\", ConvergenceWarning)\n"
          ],
          "name": "stderr"
        },
        {
          "output_type": "stream",
          "text": [
            "              precision    recall  f1-score   support\n",
            "\n",
            "           0       0.78      0.64      0.70      1032\n",
            "           1       0.36      0.52      0.42       394\n",
            "\n",
            "   micro avg       0.61      0.61      0.61      1426\n",
            "   macro avg       0.57      0.58      0.56      1426\n",
            "weighted avg       0.66      0.61      0.63      1426\n",
            "\n",
            "('subjectivity', 'loaded_words', 'sentiment')\n"
          ],
          "name": "stdout"
        },
        {
          "output_type": "stream",
          "text": [
            "/usr/local/lib/python3.6/dist-packages/sklearn/svm/base.py:931: ConvergenceWarning: Liblinear failed to converge, increase the number of iterations.\n",
            "  \"the number of iterations.\", ConvergenceWarning)\n"
          ],
          "name": "stderr"
        },
        {
          "output_type": "stream",
          "text": [
            "              precision    recall  f1-score   support\n",
            "\n",
            "           0       0.78      0.64      0.70      1032\n",
            "           1       0.36      0.52      0.42       394\n",
            "\n",
            "   micro avg       0.61      0.61      0.61      1426\n",
            "   macro avg       0.57      0.58      0.56      1426\n",
            "weighted avg       0.66      0.61      0.62      1426\n",
            "\n",
            "('subjectivity', 'loaded_words', 'pos')\n"
          ],
          "name": "stdout"
        },
        {
          "output_type": "stream",
          "text": [
            "/usr/local/lib/python3.6/dist-packages/sklearn/svm/base.py:931: ConvergenceWarning: Liblinear failed to converge, increase the number of iterations.\n",
            "  \"the number of iterations.\", ConvergenceWarning)\n"
          ],
          "name": "stderr"
        },
        {
          "output_type": "stream",
          "text": [
            "              precision    recall  f1-score   support\n",
            "\n",
            "           0       0.79      0.69      0.74      1032\n",
            "           1       0.39      0.52      0.45       394\n",
            "\n",
            "   micro avg       0.64      0.64      0.64      1426\n",
            "   macro avg       0.59      0.61      0.59      1426\n",
            "weighted avg       0.68      0.64      0.66      1426\n",
            "\n",
            "('subjectivity', 'loaded_words', 'unique_words')\n"
          ],
          "name": "stdout"
        },
        {
          "output_type": "stream",
          "text": [
            "/usr/local/lib/python3.6/dist-packages/sklearn/svm/base.py:931: ConvergenceWarning: Liblinear failed to converge, increase the number of iterations.\n",
            "  \"the number of iterations.\", ConvergenceWarning)\n"
          ],
          "name": "stderr"
        },
        {
          "output_type": "stream",
          "text": [
            "              precision    recall  f1-score   support\n",
            "\n",
            "           0       0.73      0.97      0.83      1032\n",
            "           1       0.48      0.08      0.13       394\n",
            "\n",
            "   micro avg       0.72      0.72      0.72      1426\n",
            "   macro avg       0.61      0.52      0.48      1426\n",
            "weighted avg       0.66      0.72      0.64      1426\n",
            "\n",
            "('subjectivity', 'loaded_words', 'stop_words')\n"
          ],
          "name": "stdout"
        },
        {
          "output_type": "stream",
          "text": [
            "/usr/local/lib/python3.6/dist-packages/sklearn/svm/base.py:931: ConvergenceWarning: Liblinear failed to converge, increase the number of iterations.\n",
            "  \"the number of iterations.\", ConvergenceWarning)\n"
          ],
          "name": "stderr"
        },
        {
          "output_type": "stream",
          "text": [
            "              precision    recall  f1-score   support\n",
            "\n",
            "           0       0.78      0.48      0.60      1032\n",
            "           1       0.32      0.65      0.43       394\n",
            "\n",
            "   micro avg       0.53      0.53      0.53      1426\n",
            "   macro avg       0.55      0.57      0.52      1426\n",
            "weighted avg       0.66      0.53      0.55      1426\n",
            "\n",
            "('subjectivity', 'loaded_words', 'title_case_words')\n"
          ],
          "name": "stdout"
        },
        {
          "output_type": "stream",
          "text": [
            "/usr/local/lib/python3.6/dist-packages/sklearn/svm/base.py:931: ConvergenceWarning: Liblinear failed to converge, increase the number of iterations.\n",
            "  \"the number of iterations.\", ConvergenceWarning)\n"
          ],
          "name": "stderr"
        },
        {
          "output_type": "stream",
          "text": [
            "              precision    recall  f1-score   support\n",
            "\n",
            "           0       0.77      0.63      0.69      1032\n",
            "           1       0.35      0.52      0.42       394\n",
            "\n",
            "   micro avg       0.60      0.60      0.60      1426\n",
            "   macro avg       0.56      0.58      0.56      1426\n",
            "weighted avg       0.66      0.60      0.62      1426\n",
            "\n",
            "('subjectivity', 'loaded_words', 'total_counts')\n"
          ],
          "name": "stdout"
        },
        {
          "output_type": "stream",
          "text": [
            "/usr/local/lib/python3.6/dist-packages/sklearn/svm/base.py:931: ConvergenceWarning: Liblinear failed to converge, increase the number of iterations.\n",
            "  \"the number of iterations.\", ConvergenceWarning)\n",
            "/usr/local/lib/python3.6/dist-packages/sklearn/metrics/classification.py:1143: UndefinedMetricWarning: Precision and F-score are ill-defined and being set to 0.0 in labels with no predicted samples.\n",
            "  'precision', 'predicted', average, warn_for)\n"
          ],
          "name": "stderr"
        },
        {
          "output_type": "stream",
          "text": [
            "              precision    recall  f1-score   support\n",
            "\n",
            "           0       0.72      1.00      0.84      1032\n",
            "           1       0.00      0.00      0.00       394\n",
            "\n",
            "   micro avg       0.72      0.72      0.72      1426\n",
            "   macro avg       0.36      0.50      0.42      1426\n",
            "weighted avg       0.52      0.72      0.61      1426\n",
            "\n",
            "('subjectivity', 'exclamation_words', 'lexical_chars')\n",
            "              precision    recall  f1-score   support\n",
            "\n",
            "           0       0.80      0.54      0.64      1032\n",
            "           1       0.35      0.66      0.46       394\n",
            "\n",
            "   micro avg       0.57      0.57      0.57      1426\n",
            "   macro avg       0.58      0.60      0.55      1426\n",
            "weighted avg       0.68      0.57      0.59      1426\n",
            "\n",
            "('subjectivity', 'exclamation_words', 'lexical_words')\n"
          ],
          "name": "stdout"
        },
        {
          "output_type": "stream",
          "text": [
            "/usr/local/lib/python3.6/dist-packages/sklearn/svm/base.py:931: ConvergenceWarning: Liblinear failed to converge, increase the number of iterations.\n",
            "  \"the number of iterations.\", ConvergenceWarning)\n"
          ],
          "name": "stderr"
        },
        {
          "output_type": "stream",
          "text": [
            "              precision    recall  f1-score   support\n",
            "\n",
            "           0       0.82      0.53      0.64      1032\n",
            "           1       0.36      0.69      0.47       394\n",
            "\n",
            "   micro avg       0.57      0.57      0.57      1426\n",
            "   macro avg       0.59      0.61      0.56      1426\n",
            "weighted avg       0.69      0.57      0.60      1426\n",
            "\n",
            "('subjectivity', 'exclamation_words', 'emotion_exclamations')\n",
            "              precision    recall  f1-score   support\n",
            "\n",
            "           0       0.77      0.56      0.65      1032\n",
            "           1       0.33      0.56      0.42       394\n",
            "\n",
            "   micro avg       0.56      0.56      0.56      1426\n",
            "   macro avg       0.55      0.56      0.53      1426\n",
            "weighted avg       0.65      0.56      0.59      1426\n",
            "\n",
            "('subjectivity', 'exclamation_words', 'loaded_language')\n"
          ],
          "name": "stdout"
        },
        {
          "output_type": "stream",
          "text": [
            "/usr/local/lib/python3.6/dist-packages/sklearn/svm/base.py:931: ConvergenceWarning: Liblinear failed to converge, increase the number of iterations.\n",
            "  \"the number of iterations.\", ConvergenceWarning)\n"
          ],
          "name": "stderr"
        },
        {
          "output_type": "stream",
          "text": [
            "              precision    recall  f1-score   support\n",
            "\n",
            "           0       0.78      0.63      0.70      1032\n",
            "           1       0.35      0.53      0.42       394\n",
            "\n",
            "   micro avg       0.60      0.60      0.60      1426\n",
            "   macro avg       0.56      0.58      0.56      1426\n",
            "weighted avg       0.66      0.60      0.62      1426\n",
            "\n",
            "('subjectivity', 'exclamation_words', 'confusing_words')\n"
          ],
          "name": "stdout"
        },
        {
          "output_type": "stream",
          "text": [
            "/usr/local/lib/python3.6/dist-packages/sklearn/svm/base.py:931: ConvergenceWarning: Liblinear failed to converge, increase the number of iterations.\n",
            "  \"the number of iterations.\", ConvergenceWarning)\n"
          ],
          "name": "stderr"
        },
        {
          "output_type": "stream",
          "text": [
            "              precision    recall  f1-score   support\n",
            "\n",
            "           0       0.77      0.58      0.66      1032\n",
            "           1       0.34      0.56      0.42       394\n",
            "\n",
            "   micro avg       0.57      0.57      0.57      1426\n",
            "   macro avg       0.55      0.57      0.54      1426\n",
            "weighted avg       0.65      0.57      0.60      1426\n",
            "\n",
            "('subjectivity', 'exclamation_words', 'sentiment')\n",
            "              precision    recall  f1-score   support\n",
            "\n",
            "           0       0.78      0.58      0.66      1032\n",
            "           1       0.34      0.57      0.42       394\n",
            "\n",
            "   micro avg       0.57      0.57      0.57      1426\n",
            "   macro avg       0.56      0.57      0.54      1426\n",
            "weighted avg       0.66      0.57      0.60      1426\n",
            "\n",
            "('subjectivity', 'exclamation_words', 'pos')\n"
          ],
          "name": "stdout"
        },
        {
          "output_type": "stream",
          "text": [
            "/usr/local/lib/python3.6/dist-packages/sklearn/svm/base.py:931: ConvergenceWarning: Liblinear failed to converge, increase the number of iterations.\n",
            "  \"the number of iterations.\", ConvergenceWarning)\n"
          ],
          "name": "stderr"
        },
        {
          "output_type": "stream",
          "text": [
            "              precision    recall  f1-score   support\n",
            "\n",
            "           0       0.78      0.65      0.71      1032\n",
            "           1       0.36      0.52      0.43       394\n",
            "\n",
            "   micro avg       0.61      0.61      0.61      1426\n",
            "   macro avg       0.57      0.59      0.57      1426\n",
            "weighted avg       0.66      0.61      0.63      1426\n",
            "\n",
            "('subjectivity', 'exclamation_words', 'unique_words')\n"
          ],
          "name": "stdout"
        },
        {
          "output_type": "stream",
          "text": [
            "/usr/local/lib/python3.6/dist-packages/sklearn/svm/base.py:931: ConvergenceWarning: Liblinear failed to converge, increase the number of iterations.\n",
            "  \"the number of iterations.\", ConvergenceWarning)\n"
          ],
          "name": "stderr"
        },
        {
          "output_type": "stream",
          "text": [
            "              precision    recall  f1-score   support\n",
            "\n",
            "           0       0.72      1.00      0.84      1032\n",
            "           1       0.00      0.00      0.00       394\n",
            "\n",
            "   micro avg       0.72      0.72      0.72      1426\n",
            "   macro avg       0.36      0.50      0.42      1426\n",
            "weighted avg       0.52      0.72      0.61      1426\n",
            "\n",
            "('subjectivity', 'exclamation_words', 'stop_words')\n"
          ],
          "name": "stdout"
        },
        {
          "output_type": "stream",
          "text": [
            "/usr/local/lib/python3.6/dist-packages/sklearn/svm/base.py:931: ConvergenceWarning: Liblinear failed to converge, increase the number of iterations.\n",
            "  \"the number of iterations.\", ConvergenceWarning)\n"
          ],
          "name": "stderr"
        },
        {
          "output_type": "stream",
          "text": [
            "              precision    recall  f1-score   support\n",
            "\n",
            "           0       0.77      0.74      0.75      1032\n",
            "           1       0.38      0.41      0.39       394\n",
            "\n",
            "   micro avg       0.65      0.65      0.65      1426\n",
            "   macro avg       0.57      0.58      0.57      1426\n",
            "weighted avg       0.66      0.65      0.65      1426\n",
            "\n",
            "('subjectivity', 'exclamation_words', 'title_case_words')\n"
          ],
          "name": "stdout"
        },
        {
          "output_type": "stream",
          "text": [
            "/usr/local/lib/python3.6/dist-packages/sklearn/svm/base.py:931: ConvergenceWarning: Liblinear failed to converge, increase the number of iterations.\n",
            "  \"the number of iterations.\", ConvergenceWarning)\n"
          ],
          "name": "stderr"
        },
        {
          "output_type": "stream",
          "text": [
            "              precision    recall  f1-score   support\n",
            "\n",
            "           0       0.77      0.56      0.65      1032\n",
            "           1       0.33      0.57      0.42       394\n",
            "\n",
            "   micro avg       0.56      0.56      0.56      1426\n",
            "   macro avg       0.55      0.57      0.53      1426\n",
            "weighted avg       0.65      0.56      0.59      1426\n",
            "\n",
            "('subjectivity', 'exclamation_words', 'total_counts')\n"
          ],
          "name": "stdout"
        },
        {
          "output_type": "stream",
          "text": [
            "/usr/local/lib/python3.6/dist-packages/sklearn/svm/base.py:931: ConvergenceWarning: Liblinear failed to converge, increase the number of iterations.\n",
            "  \"the number of iterations.\", ConvergenceWarning)\n"
          ],
          "name": "stderr"
        },
        {
          "output_type": "stream",
          "text": [
            "              precision    recall  f1-score   support\n",
            "\n",
            "           0       0.72      1.00      0.84      1032\n",
            "           1       0.00      0.00      0.00       394\n",
            "\n",
            "   micro avg       0.72      0.72      0.72      1426\n",
            "   macro avg       0.36      0.50      0.42      1426\n",
            "weighted avg       0.52      0.72      0.61      1426\n",
            "\n",
            "('subjectivity', 'lexical_chars', 'lexical_words')\n"
          ],
          "name": "stdout"
        },
        {
          "output_type": "stream",
          "text": [
            "/usr/local/lib/python3.6/dist-packages/sklearn/svm/base.py:931: ConvergenceWarning: Liblinear failed to converge, increase the number of iterations.\n",
            "  \"the number of iterations.\", ConvergenceWarning)\n"
          ],
          "name": "stderr"
        },
        {
          "output_type": "stream",
          "text": [
            "              precision    recall  f1-score   support\n",
            "\n",
            "           0       0.83      0.52      0.64      1032\n",
            "           1       0.36      0.71      0.48       394\n",
            "\n",
            "   micro avg       0.58      0.58      0.58      1426\n",
            "   macro avg       0.60      0.62      0.56      1426\n",
            "weighted avg       0.70      0.58      0.60      1426\n",
            "\n",
            "('subjectivity', 'lexical_chars', 'emotion_exclamations')\n",
            "              precision    recall  f1-score   support\n",
            "\n",
            "           0       0.80      0.54      0.64      1032\n",
            "           1       0.35      0.66      0.46       394\n",
            "\n",
            "   micro avg       0.57      0.57      0.57      1426\n",
            "   macro avg       0.58      0.60      0.55      1426\n",
            "weighted avg       0.68      0.57      0.59      1426\n",
            "\n",
            "('subjectivity', 'lexical_chars', 'loaded_language')\n"
          ],
          "name": "stdout"
        },
        {
          "output_type": "stream",
          "text": [
            "/usr/local/lib/python3.6/dist-packages/sklearn/svm/base.py:931: ConvergenceWarning: Liblinear failed to converge, increase the number of iterations.\n",
            "  \"the number of iterations.\", ConvergenceWarning)\n"
          ],
          "name": "stderr"
        },
        {
          "output_type": "stream",
          "text": [
            "              precision    recall  f1-score   support\n",
            "\n",
            "           0       0.79      0.63      0.70      1032\n",
            "           1       0.36      0.55      0.44       394\n",
            "\n",
            "   micro avg       0.61      0.61      0.61      1426\n",
            "   macro avg       0.57      0.59      0.57      1426\n",
            "weighted avg       0.67      0.61      0.62      1426\n",
            "\n",
            "('subjectivity', 'lexical_chars', 'confusing_words')\n"
          ],
          "name": "stdout"
        },
        {
          "output_type": "stream",
          "text": [
            "/usr/local/lib/python3.6/dist-packages/sklearn/svm/base.py:931: ConvergenceWarning: Liblinear failed to converge, increase the number of iterations.\n",
            "  \"the number of iterations.\", ConvergenceWarning)\n"
          ],
          "name": "stderr"
        },
        {
          "output_type": "stream",
          "text": [
            "              precision    recall  f1-score   support\n",
            "\n",
            "           0       0.81      0.55      0.65      1032\n",
            "           1       0.36      0.66      0.46       394\n",
            "\n",
            "   micro avg       0.58      0.58      0.58      1426\n",
            "   macro avg       0.58      0.60      0.56      1426\n",
            "weighted avg       0.68      0.58      0.60      1426\n",
            "\n",
            "('subjectivity', 'lexical_chars', 'sentiment')\n",
            "              precision    recall  f1-score   support\n",
            "\n",
            "           0       0.80      0.54      0.65      1032\n",
            "           1       0.35      0.64      0.45       394\n",
            "\n",
            "   micro avg       0.57      0.57      0.57      1426\n",
            "   macro avg       0.57      0.59      0.55      1426\n",
            "weighted avg       0.67      0.57      0.59      1426\n",
            "\n",
            "('subjectivity', 'lexical_chars', 'pos')\n"
          ],
          "name": "stdout"
        },
        {
          "output_type": "stream",
          "text": [
            "/usr/local/lib/python3.6/dist-packages/sklearn/svm/base.py:931: ConvergenceWarning: Liblinear failed to converge, increase the number of iterations.\n",
            "  \"the number of iterations.\", ConvergenceWarning)\n"
          ],
          "name": "stderr"
        },
        {
          "output_type": "stream",
          "text": [
            "              precision    recall  f1-score   support\n",
            "\n",
            "           0       0.79      0.64      0.71      1032\n",
            "           1       0.37      0.56      0.45       394\n",
            "\n",
            "   micro avg       0.62      0.62      0.62      1426\n",
            "   macro avg       0.58      0.60      0.58      1426\n",
            "weighted avg       0.68      0.62      0.63      1426\n",
            "\n",
            "('subjectivity', 'lexical_chars', 'unique_words')\n"
          ],
          "name": "stdout"
        },
        {
          "output_type": "stream",
          "text": [
            "/usr/local/lib/python3.6/dist-packages/sklearn/svm/base.py:931: ConvergenceWarning: Liblinear failed to converge, increase the number of iterations.\n",
            "  \"the number of iterations.\", ConvergenceWarning)\n"
          ],
          "name": "stderr"
        },
        {
          "output_type": "stream",
          "text": [
            "              precision    recall  f1-score   support\n",
            "\n",
            "           0       0.74      0.95      0.83      1032\n",
            "           1       0.50      0.12      0.20       394\n",
            "\n",
            "   micro avg       0.72      0.72      0.72      1426\n",
            "   macro avg       0.62      0.54      0.51      1426\n",
            "weighted avg       0.67      0.72      0.66      1426\n",
            "\n",
            "('subjectivity', 'lexical_chars', 'stop_words')\n"
          ],
          "name": "stdout"
        },
        {
          "output_type": "stream",
          "text": [
            "/usr/local/lib/python3.6/dist-packages/sklearn/svm/base.py:931: ConvergenceWarning: Liblinear failed to converge, increase the number of iterations.\n",
            "  \"the number of iterations.\", ConvergenceWarning)\n"
          ],
          "name": "stderr"
        },
        {
          "output_type": "stream",
          "text": [
            "              precision    recall  f1-score   support\n",
            "\n",
            "           0       0.75      0.91      0.82      1032\n",
            "           1       0.46      0.21      0.29       394\n",
            "\n",
            "   micro avg       0.71      0.71      0.71      1426\n",
            "   macro avg       0.60      0.56      0.55      1426\n",
            "weighted avg       0.67      0.71      0.67      1426\n",
            "\n",
            "('subjectivity', 'lexical_chars', 'title_case_words')\n"
          ],
          "name": "stdout"
        },
        {
          "output_type": "stream",
          "text": [
            "/usr/local/lib/python3.6/dist-packages/sklearn/svm/base.py:931: ConvergenceWarning: Liblinear failed to converge, increase the number of iterations.\n",
            "  \"the number of iterations.\", ConvergenceWarning)\n"
          ],
          "name": "stderr"
        },
        {
          "output_type": "stream",
          "text": [
            "              precision    recall  f1-score   support\n",
            "\n",
            "           0       0.79      0.53      0.63      1032\n",
            "           1       0.34      0.64      0.44       394\n",
            "\n",
            "   micro avg       0.56      0.56      0.56      1426\n",
            "   macro avg       0.57      0.58      0.54      1426\n",
            "weighted avg       0.67      0.56      0.58      1426\n",
            "\n",
            "('subjectivity', 'lexical_chars', 'total_counts')\n"
          ],
          "name": "stdout"
        },
        {
          "output_type": "stream",
          "text": [
            "/usr/local/lib/python3.6/dist-packages/sklearn/svm/base.py:931: ConvergenceWarning: Liblinear failed to converge, increase the number of iterations.\n",
            "  \"the number of iterations.\", ConvergenceWarning)\n",
            "/usr/local/lib/python3.6/dist-packages/sklearn/metrics/classification.py:1143: UndefinedMetricWarning: Precision and F-score are ill-defined and being set to 0.0 in labels with no predicted samples.\n",
            "  'precision', 'predicted', average, warn_for)\n"
          ],
          "name": "stderr"
        },
        {
          "output_type": "stream",
          "text": [
            "              precision    recall  f1-score   support\n",
            "\n",
            "           0       0.72      1.00      0.84      1032\n",
            "           1       0.00      0.00      0.00       394\n",
            "\n",
            "   micro avg       0.72      0.72      0.72      1426\n",
            "   macro avg       0.36      0.50      0.42      1426\n",
            "weighted avg       0.52      0.72      0.61      1426\n",
            "\n",
            "('subjectivity', 'lexical_words', 'emotion_exclamations')\n"
          ],
          "name": "stdout"
        },
        {
          "output_type": "stream",
          "text": [
            "/usr/local/lib/python3.6/dist-packages/sklearn/svm/base.py:931: ConvergenceWarning: Liblinear failed to converge, increase the number of iterations.\n",
            "  \"the number of iterations.\", ConvergenceWarning)\n"
          ],
          "name": "stderr"
        },
        {
          "output_type": "stream",
          "text": [
            "              precision    recall  f1-score   support\n",
            "\n",
            "           0       0.82      0.53      0.64      1032\n",
            "           1       0.36      0.69      0.47       394\n",
            "\n",
            "   micro avg       0.57      0.57      0.57      1426\n",
            "   macro avg       0.59      0.61      0.56      1426\n",
            "weighted avg       0.69      0.57      0.60      1426\n",
            "\n",
            "('subjectivity', 'lexical_words', 'loaded_language')\n"
          ],
          "name": "stdout"
        },
        {
          "output_type": "stream",
          "text": [
            "/usr/local/lib/python3.6/dist-packages/sklearn/svm/base.py:931: ConvergenceWarning: Liblinear failed to converge, increase the number of iterations.\n",
            "  \"the number of iterations.\", ConvergenceWarning)\n"
          ],
          "name": "stderr"
        },
        {
          "output_type": "stream",
          "text": [
            "              precision    recall  f1-score   support\n",
            "\n",
            "           0       0.79      0.61      0.69      1032\n",
            "           1       0.36      0.59      0.45       394\n",
            "\n",
            "   micro avg       0.60      0.60      0.60      1426\n",
            "   macro avg       0.58      0.60      0.57      1426\n",
            "weighted avg       0.68      0.60      0.62      1426\n",
            "\n",
            "('subjectivity', 'lexical_words', 'confusing_words')\n"
          ],
          "name": "stdout"
        },
        {
          "output_type": "stream",
          "text": [
            "/usr/local/lib/python3.6/dist-packages/sklearn/svm/base.py:931: ConvergenceWarning: Liblinear failed to converge, increase the number of iterations.\n",
            "  \"the number of iterations.\", ConvergenceWarning)\n"
          ],
          "name": "stderr"
        },
        {
          "output_type": "stream",
          "text": [
            "              precision    recall  f1-score   support\n",
            "\n",
            "           0       0.82      0.54      0.65      1032\n",
            "           1       0.37      0.69      0.48       394\n",
            "\n",
            "   micro avg       0.58      0.58      0.58      1426\n",
            "   macro avg       0.59      0.62      0.57      1426\n",
            "weighted avg       0.70      0.58      0.61      1426\n",
            "\n",
            "('subjectivity', 'lexical_words', 'sentiment')\n"
          ],
          "name": "stdout"
        },
        {
          "output_type": "stream",
          "text": [
            "/usr/local/lib/python3.6/dist-packages/sklearn/svm/base.py:931: ConvergenceWarning: Liblinear failed to converge, increase the number of iterations.\n",
            "  \"the number of iterations.\", ConvergenceWarning)\n"
          ],
          "name": "stderr"
        },
        {
          "output_type": "stream",
          "text": [
            "              precision    recall  f1-score   support\n",
            "\n",
            "           0       0.81      0.53      0.64      1032\n",
            "           1       0.36      0.68      0.47       394\n",
            "\n",
            "   micro avg       0.57      0.57      0.57      1426\n",
            "   macro avg       0.59      0.61      0.56      1426\n",
            "weighted avg       0.69      0.57      0.59      1426\n",
            "\n",
            "('subjectivity', 'lexical_words', 'pos')\n"
          ],
          "name": "stdout"
        },
        {
          "output_type": "stream",
          "text": [
            "/usr/local/lib/python3.6/dist-packages/sklearn/svm/base.py:931: ConvergenceWarning: Liblinear failed to converge, increase the number of iterations.\n",
            "  \"the number of iterations.\", ConvergenceWarning)\n"
          ],
          "name": "stderr"
        },
        {
          "output_type": "stream",
          "text": [
            "              precision    recall  f1-score   support\n",
            "\n",
            "           0       0.81      0.62      0.70      1032\n",
            "           1       0.38      0.62      0.47       394\n",
            "\n",
            "   micro avg       0.62      0.62      0.62      1426\n",
            "   macro avg       0.60      0.62      0.59      1426\n",
            "weighted avg       0.69      0.62      0.64      1426\n",
            "\n",
            "('subjectivity', 'lexical_words', 'unique_words')\n"
          ],
          "name": "stdout"
        },
        {
          "output_type": "stream",
          "text": [
            "/usr/local/lib/python3.6/dist-packages/sklearn/svm/base.py:931: ConvergenceWarning: Liblinear failed to converge, increase the number of iterations.\n",
            "  \"the number of iterations.\", ConvergenceWarning)\n"
          ],
          "name": "stderr"
        },
        {
          "output_type": "stream",
          "text": [
            "              precision    recall  f1-score   support\n",
            "\n",
            "           0       0.73      0.99      0.84      1032\n",
            "           1       0.46      0.03      0.06       394\n",
            "\n",
            "   micro avg       0.72      0.72      0.72      1426\n",
            "   macro avg       0.59      0.51      0.45      1426\n",
            "weighted avg       0.65      0.72      0.62      1426\n",
            "\n",
            "('subjectivity', 'lexical_words', 'stop_words')\n"
          ],
          "name": "stdout"
        },
        {
          "output_type": "stream",
          "text": [
            "/usr/local/lib/python3.6/dist-packages/sklearn/svm/base.py:931: ConvergenceWarning: Liblinear failed to converge, increase the number of iterations.\n",
            "  \"the number of iterations.\", ConvergenceWarning)\n"
          ],
          "name": "stderr"
        },
        {
          "output_type": "stream",
          "text": [
            "              precision    recall  f1-score   support\n",
            "\n",
            "           0       0.79      0.71      0.75      1032\n",
            "           1       0.40      0.50      0.44       394\n",
            "\n",
            "   micro avg       0.65      0.65      0.65      1426\n",
            "   macro avg       0.59      0.61      0.60      1426\n",
            "weighted avg       0.68      0.65      0.66      1426\n",
            "\n",
            "('subjectivity', 'lexical_words', 'title_case_words')\n"
          ],
          "name": "stdout"
        },
        {
          "output_type": "stream",
          "text": [
            "/usr/local/lib/python3.6/dist-packages/sklearn/svm/base.py:931: ConvergenceWarning: Liblinear failed to converge, increase the number of iterations.\n",
            "  \"the number of iterations.\", ConvergenceWarning)\n"
          ],
          "name": "stderr"
        },
        {
          "output_type": "stream",
          "text": [
            "              precision    recall  f1-score   support\n",
            "\n",
            "           0       0.81      0.54      0.65      1032\n",
            "           1       0.36      0.68      0.47       394\n",
            "\n",
            "   micro avg       0.58      0.58      0.58      1426\n",
            "   macro avg       0.59      0.61      0.56      1426\n",
            "weighted avg       0.69      0.58      0.60      1426\n",
            "\n",
            "('subjectivity', 'lexical_words', 'total_counts')\n"
          ],
          "name": "stdout"
        },
        {
          "output_type": "stream",
          "text": [
            "/usr/local/lib/python3.6/dist-packages/sklearn/svm/base.py:931: ConvergenceWarning: Liblinear failed to converge, increase the number of iterations.\n",
            "  \"the number of iterations.\", ConvergenceWarning)\n"
          ],
          "name": "stderr"
        },
        {
          "output_type": "stream",
          "text": [
            "              precision    recall  f1-score   support\n",
            "\n",
            "           0       0.72      1.00      0.84      1032\n",
            "           1       0.67      0.01      0.01       394\n",
            "\n",
            "   micro avg       0.72      0.72      0.72      1426\n",
            "   macro avg       0.70      0.50      0.42      1426\n",
            "weighted avg       0.71      0.72      0.61      1426\n",
            "\n",
            "('subjectivity', 'emotion_exclamations', 'loaded_language')\n"
          ],
          "name": "stdout"
        },
        {
          "output_type": "stream",
          "text": [
            "/usr/local/lib/python3.6/dist-packages/sklearn/svm/base.py:931: ConvergenceWarning: Liblinear failed to converge, increase the number of iterations.\n",
            "  \"the number of iterations.\", ConvergenceWarning)\n"
          ],
          "name": "stderr"
        },
        {
          "output_type": "stream",
          "text": [
            "              precision    recall  f1-score   support\n",
            "\n",
            "           0       0.78      0.63      0.70      1032\n",
            "           1       0.35      0.53      0.42       394\n",
            "\n",
            "   micro avg       0.60      0.60      0.60      1426\n",
            "   macro avg       0.56      0.58      0.56      1426\n",
            "weighted avg       0.66      0.60      0.62      1426\n",
            "\n",
            "('subjectivity', 'emotion_exclamations', 'confusing_words')\n"
          ],
          "name": "stdout"
        },
        {
          "output_type": "stream",
          "text": [
            "/usr/local/lib/python3.6/dist-packages/sklearn/svm/base.py:931: ConvergenceWarning: Liblinear failed to converge, increase the number of iterations.\n",
            "  \"the number of iterations.\", ConvergenceWarning)\n"
          ],
          "name": "stderr"
        },
        {
          "output_type": "stream",
          "text": [
            "              precision    recall  f1-score   support\n",
            "\n",
            "           0       0.77      0.58      0.66      1032\n",
            "           1       0.34      0.56      0.42       394\n",
            "\n",
            "   micro avg       0.57      0.57      0.57      1426\n",
            "   macro avg       0.55      0.57      0.54      1426\n",
            "weighted avg       0.65      0.57      0.60      1426\n",
            "\n",
            "('subjectivity', 'emotion_exclamations', 'sentiment')\n",
            "              precision    recall  f1-score   support\n",
            "\n",
            "           0       0.78      0.58      0.66      1032\n",
            "           1       0.34      0.57      0.42       394\n",
            "\n",
            "   micro avg       0.57      0.57      0.57      1426\n",
            "   macro avg       0.56      0.57      0.54      1426\n",
            "weighted avg       0.66      0.57      0.60      1426\n",
            "\n",
            "('subjectivity', 'emotion_exclamations', 'pos')\n"
          ],
          "name": "stdout"
        },
        {
          "output_type": "stream",
          "text": [
            "/usr/local/lib/python3.6/dist-packages/sklearn/svm/base.py:931: ConvergenceWarning: Liblinear failed to converge, increase the number of iterations.\n",
            "  \"the number of iterations.\", ConvergenceWarning)\n"
          ],
          "name": "stderr"
        },
        {
          "output_type": "stream",
          "text": [
            "              precision    recall  f1-score   support\n",
            "\n",
            "           0       0.78      0.65      0.71      1032\n",
            "           1       0.36      0.52      0.43       394\n",
            "\n",
            "   micro avg       0.61      0.61      0.61      1426\n",
            "   macro avg       0.57      0.59      0.57      1426\n",
            "weighted avg       0.66      0.61      0.63      1426\n",
            "\n",
            "('subjectivity', 'emotion_exclamations', 'unique_words')\n"
          ],
          "name": "stdout"
        },
        {
          "output_type": "stream",
          "text": [
            "/usr/local/lib/python3.6/dist-packages/sklearn/svm/base.py:931: ConvergenceWarning: Liblinear failed to converge, increase the number of iterations.\n",
            "  \"the number of iterations.\", ConvergenceWarning)\n"
          ],
          "name": "stderr"
        },
        {
          "output_type": "stream",
          "text": [
            "              precision    recall  f1-score   support\n",
            "\n",
            "           0       0.72      1.00      0.84      1032\n",
            "           1       0.00      0.00      0.00       394\n",
            "\n",
            "   micro avg       0.72      0.72      0.72      1426\n",
            "   macro avg       0.36      0.50      0.42      1426\n",
            "weighted avg       0.52      0.72      0.61      1426\n",
            "\n",
            "('subjectivity', 'emotion_exclamations', 'stop_words')\n"
          ],
          "name": "stdout"
        },
        {
          "output_type": "stream",
          "text": [
            "/usr/local/lib/python3.6/dist-packages/sklearn/svm/base.py:931: ConvergenceWarning: Liblinear failed to converge, increase the number of iterations.\n",
            "  \"the number of iterations.\", ConvergenceWarning)\n"
          ],
          "name": "stderr"
        },
        {
          "output_type": "stream",
          "text": [
            "              precision    recall  f1-score   support\n",
            "\n",
            "           0       0.77      0.74      0.75      1032\n",
            "           1       0.38      0.41      0.39       394\n",
            "\n",
            "   micro avg       0.65      0.65      0.65      1426\n",
            "   macro avg       0.57      0.58      0.57      1426\n",
            "weighted avg       0.66      0.65      0.65      1426\n",
            "\n",
            "('subjectivity', 'emotion_exclamations', 'title_case_words')\n"
          ],
          "name": "stdout"
        },
        {
          "output_type": "stream",
          "text": [
            "/usr/local/lib/python3.6/dist-packages/sklearn/svm/base.py:931: ConvergenceWarning: Liblinear failed to converge, increase the number of iterations.\n",
            "  \"the number of iterations.\", ConvergenceWarning)\n"
          ],
          "name": "stderr"
        },
        {
          "output_type": "stream",
          "text": [
            "              precision    recall  f1-score   support\n",
            "\n",
            "           0       0.77      0.56      0.65      1032\n",
            "           1       0.33      0.57      0.42       394\n",
            "\n",
            "   micro avg       0.56      0.56      0.56      1426\n",
            "   macro avg       0.55      0.57      0.53      1426\n",
            "weighted avg       0.65      0.56      0.59      1426\n",
            "\n",
            "('subjectivity', 'emotion_exclamations', 'total_counts')\n"
          ],
          "name": "stdout"
        },
        {
          "output_type": "stream",
          "text": [
            "/usr/local/lib/python3.6/dist-packages/sklearn/svm/base.py:931: ConvergenceWarning: Liblinear failed to converge, increase the number of iterations.\n",
            "  \"the number of iterations.\", ConvergenceWarning)\n"
          ],
          "name": "stderr"
        },
        {
          "output_type": "stream",
          "text": [
            "              precision    recall  f1-score   support\n",
            "\n",
            "           0       0.72      1.00      0.84      1032\n",
            "           1       0.00      0.00      0.00       394\n",
            "\n",
            "   micro avg       0.72      0.72      0.72      1426\n",
            "   macro avg       0.36      0.50      0.42      1426\n",
            "weighted avg       0.52      0.72      0.61      1426\n",
            "\n",
            "('subjectivity', 'loaded_language', 'confusing_words')\n"
          ],
          "name": "stdout"
        },
        {
          "output_type": "stream",
          "text": [
            "/usr/local/lib/python3.6/dist-packages/sklearn/svm/base.py:931: ConvergenceWarning: Liblinear failed to converge, increase the number of iterations.\n",
            "  \"the number of iterations.\", ConvergenceWarning)\n"
          ],
          "name": "stderr"
        },
        {
          "output_type": "stream",
          "text": [
            "              precision    recall  f1-score   support\n",
            "\n",
            "           0       0.78      0.64      0.70      1032\n",
            "           1       0.36      0.52      0.42       394\n",
            "\n",
            "   micro avg       0.61      0.61      0.61      1426\n",
            "   macro avg       0.57      0.58      0.56      1426\n",
            "weighted avg       0.66      0.61      0.63      1426\n",
            "\n",
            "('subjectivity', 'loaded_language', 'sentiment')\n"
          ],
          "name": "stdout"
        },
        {
          "output_type": "stream",
          "text": [
            "/usr/local/lib/python3.6/dist-packages/sklearn/svm/base.py:931: ConvergenceWarning: Liblinear failed to converge, increase the number of iterations.\n",
            "  \"the number of iterations.\", ConvergenceWarning)\n"
          ],
          "name": "stderr"
        },
        {
          "output_type": "stream",
          "text": [
            "              precision    recall  f1-score   support\n",
            "\n",
            "           0       0.78      0.64      0.70      1032\n",
            "           1       0.36      0.52      0.42       394\n",
            "\n",
            "   micro avg       0.61      0.61      0.61      1426\n",
            "   macro avg       0.57      0.58      0.56      1426\n",
            "weighted avg       0.66      0.61      0.62      1426\n",
            "\n",
            "('subjectivity', 'loaded_language', 'pos')\n"
          ],
          "name": "stdout"
        },
        {
          "output_type": "stream",
          "text": [
            "/usr/local/lib/python3.6/dist-packages/sklearn/svm/base.py:931: ConvergenceWarning: Liblinear failed to converge, increase the number of iterations.\n",
            "  \"the number of iterations.\", ConvergenceWarning)\n"
          ],
          "name": "stderr"
        },
        {
          "output_type": "stream",
          "text": [
            "              precision    recall  f1-score   support\n",
            "\n",
            "           0       0.79      0.69      0.74      1032\n",
            "           1       0.39      0.52      0.45       394\n",
            "\n",
            "   micro avg       0.64      0.64      0.64      1426\n",
            "   macro avg       0.59      0.61      0.59      1426\n",
            "weighted avg       0.68      0.64      0.66      1426\n",
            "\n",
            "('subjectivity', 'loaded_language', 'unique_words')\n"
          ],
          "name": "stdout"
        },
        {
          "output_type": "stream",
          "text": [
            "/usr/local/lib/python3.6/dist-packages/sklearn/svm/base.py:931: ConvergenceWarning: Liblinear failed to converge, increase the number of iterations.\n",
            "  \"the number of iterations.\", ConvergenceWarning)\n"
          ],
          "name": "stderr"
        },
        {
          "output_type": "stream",
          "text": [
            "              precision    recall  f1-score   support\n",
            "\n",
            "           0       0.73      0.97      0.83      1032\n",
            "           1       0.48      0.08      0.13       394\n",
            "\n",
            "   micro avg       0.72      0.72      0.72      1426\n",
            "   macro avg       0.61      0.52      0.48      1426\n",
            "weighted avg       0.66      0.72      0.64      1426\n",
            "\n",
            "('subjectivity', 'loaded_language', 'stop_words')\n"
          ],
          "name": "stdout"
        },
        {
          "output_type": "stream",
          "text": [
            "/usr/local/lib/python3.6/dist-packages/sklearn/svm/base.py:931: ConvergenceWarning: Liblinear failed to converge, increase the number of iterations.\n",
            "  \"the number of iterations.\", ConvergenceWarning)\n"
          ],
          "name": "stderr"
        },
        {
          "output_type": "stream",
          "text": [
            "              precision    recall  f1-score   support\n",
            "\n",
            "           0       0.78      0.48      0.60      1032\n",
            "           1       0.32      0.65      0.43       394\n",
            "\n",
            "   micro avg       0.53      0.53      0.53      1426\n",
            "   macro avg       0.55      0.57      0.52      1426\n",
            "weighted avg       0.66      0.53      0.55      1426\n",
            "\n",
            "('subjectivity', 'loaded_language', 'title_case_words')\n"
          ],
          "name": "stdout"
        },
        {
          "output_type": "stream",
          "text": [
            "/usr/local/lib/python3.6/dist-packages/sklearn/svm/base.py:931: ConvergenceWarning: Liblinear failed to converge, increase the number of iterations.\n",
            "  \"the number of iterations.\", ConvergenceWarning)\n"
          ],
          "name": "stderr"
        },
        {
          "output_type": "stream",
          "text": [
            "              precision    recall  f1-score   support\n",
            "\n",
            "           0       0.77      0.63      0.69      1032\n",
            "           1       0.35      0.52      0.42       394\n",
            "\n",
            "   micro avg       0.60      0.60      0.60      1426\n",
            "   macro avg       0.56      0.58      0.56      1426\n",
            "weighted avg       0.66      0.60      0.62      1426\n",
            "\n",
            "('subjectivity', 'loaded_language', 'total_counts')\n"
          ],
          "name": "stdout"
        },
        {
          "output_type": "stream",
          "text": [
            "/usr/local/lib/python3.6/dist-packages/sklearn/svm/base.py:931: ConvergenceWarning: Liblinear failed to converge, increase the number of iterations.\n",
            "  \"the number of iterations.\", ConvergenceWarning)\n",
            "/usr/local/lib/python3.6/dist-packages/sklearn/metrics/classification.py:1143: UndefinedMetricWarning: Precision and F-score are ill-defined and being set to 0.0 in labels with no predicted samples.\n",
            "  'precision', 'predicted', average, warn_for)\n"
          ],
          "name": "stderr"
        },
        {
          "output_type": "stream",
          "text": [
            "              precision    recall  f1-score   support\n",
            "\n",
            "           0       0.72      1.00      0.84      1032\n",
            "           1       0.00      0.00      0.00       394\n",
            "\n",
            "   micro avg       0.72      0.72      0.72      1426\n",
            "   macro avg       0.36      0.50      0.42      1426\n",
            "weighted avg       0.52      0.72      0.61      1426\n",
            "\n",
            "('subjectivity', 'confusing_words', 'sentiment')\n"
          ],
          "name": "stdout"
        },
        {
          "output_type": "stream",
          "text": [
            "/usr/local/lib/python3.6/dist-packages/sklearn/svm/base.py:931: ConvergenceWarning: Liblinear failed to converge, increase the number of iterations.\n",
            "  \"the number of iterations.\", ConvergenceWarning)\n"
          ],
          "name": "stderr"
        },
        {
          "output_type": "stream",
          "text": [
            "              precision    recall  f1-score   support\n",
            "\n",
            "           0       0.78      0.58      0.67      1032\n",
            "           1       0.34      0.56      0.42       394\n",
            "\n",
            "   micro avg       0.58      0.58      0.58      1426\n",
            "   macro avg       0.56      0.57      0.54      1426\n",
            "weighted avg       0.65      0.58      0.60      1426\n",
            "\n",
            "('subjectivity', 'confusing_words', 'pos')\n"
          ],
          "name": "stdout"
        },
        {
          "output_type": "stream",
          "text": [
            "/usr/local/lib/python3.6/dist-packages/sklearn/svm/base.py:931: ConvergenceWarning: Liblinear failed to converge, increase the number of iterations.\n",
            "  \"the number of iterations.\", ConvergenceWarning)\n"
          ],
          "name": "stderr"
        },
        {
          "output_type": "stream",
          "text": [
            "              precision    recall  f1-score   support\n",
            "\n",
            "           0       0.78      0.66      0.71      1032\n",
            "           1       0.37      0.52      0.43       394\n",
            "\n",
            "   micro avg       0.62      0.62      0.62      1426\n",
            "   macro avg       0.57      0.59      0.57      1426\n",
            "weighted avg       0.67      0.62      0.64      1426\n",
            "\n",
            "('subjectivity', 'confusing_words', 'unique_words')\n"
          ],
          "name": "stdout"
        },
        {
          "output_type": "stream",
          "text": [
            "/usr/local/lib/python3.6/dist-packages/sklearn/svm/base.py:931: ConvergenceWarning: Liblinear failed to converge, increase the number of iterations.\n",
            "  \"the number of iterations.\", ConvergenceWarning)\n",
            "/usr/local/lib/python3.6/dist-packages/sklearn/metrics/classification.py:1143: UndefinedMetricWarning: Precision and F-score are ill-defined and being set to 0.0 in labels with no predicted samples.\n",
            "  'precision', 'predicted', average, warn_for)\n"
          ],
          "name": "stderr"
        },
        {
          "output_type": "stream",
          "text": [
            "              precision    recall  f1-score   support\n",
            "\n",
            "           0       0.72      1.00      0.84      1032\n",
            "           1       0.00      0.00      0.00       394\n",
            "\n",
            "   micro avg       0.72      0.72      0.72      1426\n",
            "   macro avg       0.36      0.50      0.42      1426\n",
            "weighted avg       0.52      0.72      0.61      1426\n",
            "\n",
            "('subjectivity', 'confusing_words', 'stop_words')\n"
          ],
          "name": "stdout"
        },
        {
          "output_type": "stream",
          "text": [
            "/usr/local/lib/python3.6/dist-packages/sklearn/svm/base.py:931: ConvergenceWarning: Liblinear failed to converge, increase the number of iterations.\n",
            "  \"the number of iterations.\", ConvergenceWarning)\n"
          ],
          "name": "stderr"
        },
        {
          "output_type": "stream",
          "text": [
            "              precision    recall  f1-score   support\n",
            "\n",
            "           0       0.77      0.73      0.75      1032\n",
            "           1       0.38      0.43      0.40       394\n",
            "\n",
            "   micro avg       0.65      0.65      0.65      1426\n",
            "   macro avg       0.57      0.58      0.57      1426\n",
            "weighted avg       0.66      0.65      0.65      1426\n",
            "\n",
            "('subjectivity', 'confusing_words', 'title_case_words')\n"
          ],
          "name": "stdout"
        },
        {
          "output_type": "stream",
          "text": [
            "/usr/local/lib/python3.6/dist-packages/sklearn/svm/base.py:931: ConvergenceWarning: Liblinear failed to converge, increase the number of iterations.\n",
            "  \"the number of iterations.\", ConvergenceWarning)\n"
          ],
          "name": "stderr"
        },
        {
          "output_type": "stream",
          "text": [
            "              precision    recall  f1-score   support\n",
            "\n",
            "           0       0.77      0.58      0.66      1032\n",
            "           1       0.33      0.54      0.41       394\n",
            "\n",
            "   micro avg       0.57      0.57      0.57      1426\n",
            "   macro avg       0.55      0.56      0.54      1426\n",
            "weighted avg       0.65      0.57      0.59      1426\n",
            "\n",
            "('subjectivity', 'confusing_words', 'total_counts')\n"
          ],
          "name": "stdout"
        },
        {
          "output_type": "stream",
          "text": [
            "/usr/local/lib/python3.6/dist-packages/sklearn/svm/base.py:931: ConvergenceWarning: Liblinear failed to converge, increase the number of iterations.\n",
            "  \"the number of iterations.\", ConvergenceWarning)\n",
            "/usr/local/lib/python3.6/dist-packages/sklearn/metrics/classification.py:1143: UndefinedMetricWarning: Precision and F-score are ill-defined and being set to 0.0 in labels with no predicted samples.\n",
            "  'precision', 'predicted', average, warn_for)\n"
          ],
          "name": "stderr"
        },
        {
          "output_type": "stream",
          "text": [
            "              precision    recall  f1-score   support\n",
            "\n",
            "           0       0.72      1.00      0.84      1032\n",
            "           1       0.00      0.00      0.00       394\n",
            "\n",
            "   micro avg       0.72      0.72      0.72      1426\n",
            "   macro avg       0.36      0.50      0.42      1426\n",
            "weighted avg       0.52      0.72      0.61      1426\n",
            "\n",
            "('subjectivity', 'sentiment', 'pos')\n"
          ],
          "name": "stdout"
        },
        {
          "output_type": "stream",
          "text": [
            "/usr/local/lib/python3.6/dist-packages/sklearn/svm/base.py:931: ConvergenceWarning: Liblinear failed to converge, increase the number of iterations.\n",
            "  \"the number of iterations.\", ConvergenceWarning)\n"
          ],
          "name": "stderr"
        },
        {
          "output_type": "stream",
          "text": [
            "              precision    recall  f1-score   support\n",
            "\n",
            "           0       0.78      0.66      0.71      1032\n",
            "           1       0.36      0.52      0.43       394\n",
            "\n",
            "   micro avg       0.62      0.62      0.62      1426\n",
            "   macro avg       0.57      0.59      0.57      1426\n",
            "weighted avg       0.67      0.62      0.63      1426\n",
            "\n",
            "('subjectivity', 'sentiment', 'unique_words')\n"
          ],
          "name": "stdout"
        },
        {
          "output_type": "stream",
          "text": [
            "/usr/local/lib/python3.6/dist-packages/sklearn/svm/base.py:931: ConvergenceWarning: Liblinear failed to converge, increase the number of iterations.\n",
            "  \"the number of iterations.\", ConvergenceWarning)\n",
            "/usr/local/lib/python3.6/dist-packages/sklearn/metrics/classification.py:1143: UndefinedMetricWarning: Precision and F-score are ill-defined and being set to 0.0 in labels with no predicted samples.\n",
            "  'precision', 'predicted', average, warn_for)\n"
          ],
          "name": "stderr"
        },
        {
          "output_type": "stream",
          "text": [
            "              precision    recall  f1-score   support\n",
            "\n",
            "           0       0.72      1.00      0.84      1032\n",
            "           1       0.00      0.00      0.00       394\n",
            "\n",
            "   micro avg       0.72      0.72      0.72      1426\n",
            "   macro avg       0.36      0.50      0.42      1426\n",
            "weighted avg       0.52      0.72      0.61      1426\n",
            "\n",
            "('subjectivity', 'sentiment', 'stop_words')\n"
          ],
          "name": "stdout"
        },
        {
          "output_type": "stream",
          "text": [
            "/usr/local/lib/python3.6/dist-packages/sklearn/svm/base.py:931: ConvergenceWarning: Liblinear failed to converge, increase the number of iterations.\n",
            "  \"the number of iterations.\", ConvergenceWarning)\n"
          ],
          "name": "stderr"
        },
        {
          "output_type": "stream",
          "text": [
            "              precision    recall  f1-score   support\n",
            "\n",
            "           0       0.77      0.73      0.75      1032\n",
            "           1       0.38      0.44      0.41       394\n",
            "\n",
            "   micro avg       0.65      0.65      0.65      1426\n",
            "   macro avg       0.58      0.58      0.58      1426\n",
            "weighted avg       0.66      0.65      0.65      1426\n",
            "\n",
            "('subjectivity', 'sentiment', 'title_case_words')\n"
          ],
          "name": "stdout"
        },
        {
          "output_type": "stream",
          "text": [
            "/usr/local/lib/python3.6/dist-packages/sklearn/svm/base.py:931: ConvergenceWarning: Liblinear failed to converge, increase the number of iterations.\n",
            "  \"the number of iterations.\", ConvergenceWarning)\n"
          ],
          "name": "stderr"
        },
        {
          "output_type": "stream",
          "text": [
            "              precision    recall  f1-score   support\n",
            "\n",
            "           0       0.77      0.57      0.66      1032\n",
            "           1       0.33      0.55      0.41       394\n",
            "\n",
            "   micro avg       0.57      0.57      0.57      1426\n",
            "   macro avg       0.55      0.56      0.53      1426\n",
            "weighted avg       0.65      0.57      0.59      1426\n",
            "\n",
            "('subjectivity', 'sentiment', 'total_counts')\n"
          ],
          "name": "stdout"
        },
        {
          "output_type": "stream",
          "text": [
            "/usr/local/lib/python3.6/dist-packages/sklearn/svm/base.py:931: ConvergenceWarning: Liblinear failed to converge, increase the number of iterations.\n",
            "  \"the number of iterations.\", ConvergenceWarning)\n",
            "/usr/local/lib/python3.6/dist-packages/sklearn/metrics/classification.py:1143: UndefinedMetricWarning: Precision and F-score are ill-defined and being set to 0.0 in labels with no predicted samples.\n",
            "  'precision', 'predicted', average, warn_for)\n"
          ],
          "name": "stderr"
        },
        {
          "output_type": "stream",
          "text": [
            "              precision    recall  f1-score   support\n",
            "\n",
            "           0       0.72      1.00      0.84      1032\n",
            "           1       0.00      0.00      0.00       394\n",
            "\n",
            "   micro avg       0.72      0.72      0.72      1426\n",
            "   macro avg       0.36      0.50      0.42      1426\n",
            "weighted avg       0.52      0.72      0.61      1426\n",
            "\n",
            "('subjectivity', 'pos', 'unique_words')\n"
          ],
          "name": "stdout"
        },
        {
          "output_type": "stream",
          "text": [
            "/usr/local/lib/python3.6/dist-packages/sklearn/svm/base.py:931: ConvergenceWarning: Liblinear failed to converge, increase the number of iterations.\n",
            "  \"the number of iterations.\", ConvergenceWarning)\n"
          ],
          "name": "stderr"
        },
        {
          "output_type": "stream",
          "text": [
            "              precision    recall  f1-score   support\n",
            "\n",
            "           0       0.74      0.93      0.83      1032\n",
            "           1       0.47      0.16      0.24       394\n",
            "\n",
            "   micro avg       0.72      0.72      0.72      1426\n",
            "   macro avg       0.61      0.55      0.54      1426\n",
            "weighted avg       0.67      0.72      0.67      1426\n",
            "\n",
            "('subjectivity', 'pos', 'stop_words')\n"
          ],
          "name": "stdout"
        },
        {
          "output_type": "stream",
          "text": [
            "/usr/local/lib/python3.6/dist-packages/sklearn/svm/base.py:931: ConvergenceWarning: Liblinear failed to converge, increase the number of iterations.\n",
            "  \"the number of iterations.\", ConvergenceWarning)\n"
          ],
          "name": "stderr"
        },
        {
          "output_type": "stream",
          "text": [
            "              precision    recall  f1-score   support\n",
            "\n",
            "           0       0.78      0.73      0.75      1032\n",
            "           1       0.39      0.45      0.42       394\n",
            "\n",
            "   micro avg       0.65      0.65      0.65      1426\n",
            "   macro avg       0.58      0.59      0.59      1426\n",
            "weighted avg       0.67      0.65      0.66      1426\n",
            "\n",
            "('subjectivity', 'pos', 'title_case_words')\n"
          ],
          "name": "stdout"
        },
        {
          "output_type": "stream",
          "text": [
            "/usr/local/lib/python3.6/dist-packages/sklearn/svm/base.py:931: ConvergenceWarning: Liblinear failed to converge, increase the number of iterations.\n",
            "  \"the number of iterations.\", ConvergenceWarning)\n"
          ],
          "name": "stderr"
        },
        {
          "output_type": "stream",
          "text": [
            "              precision    recall  f1-score   support\n",
            "\n",
            "           0       0.78      0.68      0.72      1032\n",
            "           1       0.37      0.50      0.43       394\n",
            "\n",
            "   micro avg       0.63      0.63      0.63      1426\n",
            "   macro avg       0.58      0.59      0.58      1426\n",
            "weighted avg       0.67      0.63      0.64      1426\n",
            "\n",
            "('subjectivity', 'pos', 'total_counts')\n"
          ],
          "name": "stdout"
        },
        {
          "output_type": "stream",
          "text": [
            "/usr/local/lib/python3.6/dist-packages/sklearn/svm/base.py:931: ConvergenceWarning: Liblinear failed to converge, increase the number of iterations.\n",
            "  \"the number of iterations.\", ConvergenceWarning)\n",
            "/usr/local/lib/python3.6/dist-packages/sklearn/metrics/classification.py:1143: UndefinedMetricWarning: Precision and F-score are ill-defined and being set to 0.0 in labels with no predicted samples.\n",
            "  'precision', 'predicted', average, warn_for)\n"
          ],
          "name": "stderr"
        },
        {
          "output_type": "stream",
          "text": [
            "              precision    recall  f1-score   support\n",
            "\n",
            "           0       0.72      1.00      0.84      1032\n",
            "           1       0.00      0.00      0.00       394\n",
            "\n",
            "   micro avg       0.72      0.72      0.72      1426\n",
            "   macro avg       0.36      0.50      0.42      1426\n",
            "weighted avg       0.52      0.72      0.61      1426\n",
            "\n",
            "('subjectivity', 'unique_words', 'stop_words')\n"
          ],
          "name": "stdout"
        },
        {
          "output_type": "stream",
          "text": [
            "/usr/local/lib/python3.6/dist-packages/sklearn/svm/base.py:931: ConvergenceWarning: Liblinear failed to converge, increase the number of iterations.\n",
            "  \"the number of iterations.\", ConvergenceWarning)\n",
            "/usr/local/lib/python3.6/dist-packages/sklearn/metrics/classification.py:1143: UndefinedMetricWarning: Precision and F-score are ill-defined and being set to 0.0 in labels with no predicted samples.\n",
            "  'precision', 'predicted', average, warn_for)\n"
          ],
          "name": "stderr"
        },
        {
          "output_type": "stream",
          "text": [
            "              precision    recall  f1-score   support\n",
            "\n",
            "           0       0.72      1.00      0.84      1032\n",
            "           1       0.00      0.00      0.00       394\n",
            "\n",
            "   micro avg       0.72      0.72      0.72      1426\n",
            "   macro avg       0.36      0.50      0.42      1426\n",
            "weighted avg       0.52      0.72      0.61      1426\n",
            "\n",
            "('subjectivity', 'unique_words', 'title_case_words')\n"
          ],
          "name": "stdout"
        },
        {
          "output_type": "stream",
          "text": [
            "/usr/local/lib/python3.6/dist-packages/sklearn/svm/base.py:931: ConvergenceWarning: Liblinear failed to converge, increase the number of iterations.\n",
            "  \"the number of iterations.\", ConvergenceWarning)\n",
            "/usr/local/lib/python3.6/dist-packages/sklearn/metrics/classification.py:1143: UndefinedMetricWarning: Precision and F-score are ill-defined and being set to 0.0 in labels with no predicted samples.\n",
            "  'precision', 'predicted', average, warn_for)\n"
          ],
          "name": "stderr"
        },
        {
          "output_type": "stream",
          "text": [
            "              precision    recall  f1-score   support\n",
            "\n",
            "           0       0.72      1.00      0.84      1032\n",
            "           1       0.00      0.00      0.00       394\n",
            "\n",
            "   micro avg       0.72      0.72      0.72      1426\n",
            "   macro avg       0.36      0.50      0.42      1426\n",
            "weighted avg       0.52      0.72      0.61      1426\n",
            "\n",
            "('subjectivity', 'unique_words', 'total_counts')\n"
          ],
          "name": "stdout"
        },
        {
          "output_type": "stream",
          "text": [
            "/usr/local/lib/python3.6/dist-packages/sklearn/svm/base.py:931: ConvergenceWarning: Liblinear failed to converge, increase the number of iterations.\n",
            "  \"the number of iterations.\", ConvergenceWarning)\n",
            "/usr/local/lib/python3.6/dist-packages/sklearn/metrics/classification.py:1143: UndefinedMetricWarning: Precision and F-score are ill-defined and being set to 0.0 in labels with no predicted samples.\n",
            "  'precision', 'predicted', average, warn_for)\n"
          ],
          "name": "stderr"
        },
        {
          "output_type": "stream",
          "text": [
            "              precision    recall  f1-score   support\n",
            "\n",
            "           0       0.72      1.00      0.84      1032\n",
            "           1       0.00      0.00      0.00       394\n",
            "\n",
            "   micro avg       0.72      0.72      0.72      1426\n",
            "   macro avg       0.36      0.50      0.42      1426\n",
            "weighted avg       0.52      0.72      0.61      1426\n",
            "\n",
            "('subjectivity', 'stop_words', 'title_case_words')\n"
          ],
          "name": "stdout"
        },
        {
          "output_type": "stream",
          "text": [
            "/usr/local/lib/python3.6/dist-packages/sklearn/svm/base.py:931: ConvergenceWarning: Liblinear failed to converge, increase the number of iterations.\n",
            "  \"the number of iterations.\", ConvergenceWarning)\n"
          ],
          "name": "stderr"
        },
        {
          "output_type": "stream",
          "text": [
            "              precision    recall  f1-score   support\n",
            "\n",
            "           0       0.78      0.58      0.66      1032\n",
            "           1       0.34      0.56      0.42       394\n",
            "\n",
            "   micro avg       0.58      0.58      0.58      1426\n",
            "   macro avg       0.56      0.57      0.54      1426\n",
            "weighted avg       0.66      0.58      0.60      1426\n",
            "\n",
            "('subjectivity', 'stop_words', 'total_counts')\n"
          ],
          "name": "stdout"
        },
        {
          "output_type": "stream",
          "text": [
            "/usr/local/lib/python3.6/dist-packages/sklearn/svm/base.py:931: ConvergenceWarning: Liblinear failed to converge, increase the number of iterations.\n",
            "  \"the number of iterations.\", ConvergenceWarning)\n",
            "/usr/local/lib/python3.6/dist-packages/sklearn/metrics/classification.py:1143: UndefinedMetricWarning: Precision and F-score are ill-defined and being set to 0.0 in labels with no predicted samples.\n",
            "  'precision', 'predicted', average, warn_for)\n"
          ],
          "name": "stderr"
        },
        {
          "output_type": "stream",
          "text": [
            "              precision    recall  f1-score   support\n",
            "\n",
            "           0       0.72      1.00      0.84      1032\n",
            "           1       0.00      0.00      0.00       394\n",
            "\n",
            "   micro avg       0.72      0.72      0.72      1426\n",
            "   macro avg       0.36      0.50      0.42      1426\n",
            "weighted avg       0.52      0.72      0.61      1426\n",
            "\n",
            "('subjectivity', 'title_case_words', 'total_counts')\n"
          ],
          "name": "stdout"
        },
        {
          "output_type": "stream",
          "text": [
            "/usr/local/lib/python3.6/dist-packages/sklearn/svm/base.py:931: ConvergenceWarning: Liblinear failed to converge, increase the number of iterations.\n",
            "  \"the number of iterations.\", ConvergenceWarning)\n",
            "/usr/local/lib/python3.6/dist-packages/sklearn/metrics/classification.py:1143: UndefinedMetricWarning: Precision and F-score are ill-defined and being set to 0.0 in labels with no predicted samples.\n",
            "  'precision', 'predicted', average, warn_for)\n"
          ],
          "name": "stderr"
        },
        {
          "output_type": "stream",
          "text": [
            "              precision    recall  f1-score   support\n",
            "\n",
            "           0       0.72      1.00      0.84      1032\n",
            "           1       0.00      0.00      0.00       394\n",
            "\n",
            "   micro avg       0.72      0.72      0.72      1426\n",
            "   macro avg       0.36      0.50      0.42      1426\n",
            "weighted avg       0.52      0.72      0.61      1426\n",
            "\n",
            "('polarity', 'sentence_type', 'emotions')\n",
            "              precision    recall  f1-score   support\n",
            "\n",
            "           0       0.81      0.58      0.68      1032\n",
            "           1       0.37      0.65      0.47       394\n",
            "\n",
            "   micro avg       0.60      0.60      0.60      1426\n",
            "   macro avg       0.59      0.62      0.58      1426\n",
            "weighted avg       0.69      0.60      0.62      1426\n",
            "\n",
            "('polarity', 'sentence_type', 'readability')\n"
          ],
          "name": "stdout"
        },
        {
          "output_type": "stream",
          "text": [
            "/usr/local/lib/python3.6/dist-packages/sklearn/svm/base.py:931: ConvergenceWarning: Liblinear failed to converge, increase the number of iterations.\n",
            "  \"the number of iterations.\", ConvergenceWarning)\n"
          ],
          "name": "stderr"
        },
        {
          "output_type": "stream",
          "text": [
            "              precision    recall  f1-score   support\n",
            "\n",
            "           0       0.72      0.99      0.84      1032\n",
            "           1       0.30      0.01      0.01       394\n",
            "\n",
            "   micro avg       0.72      0.72      0.72      1426\n",
            "   macro avg       0.51      0.50      0.43      1426\n",
            "weighted avg       0.61      0.72      0.61      1426\n",
            "\n",
            "('polarity', 'sentence_type', 'tf-idf')\n",
            "              precision    recall  f1-score   support\n",
            "\n",
            "           0       0.82      0.78      0.80      1032\n",
            "           1       0.48      0.55      0.51       394\n",
            "\n",
            "   micro avg       0.71      0.71      0.71      1426\n",
            "   macro avg       0.65      0.66      0.66      1426\n",
            "weighted avg       0.73      0.71      0.72      1426\n",
            "\n",
            "('polarity', 'sentence_type', 'loaded_words')\n"
          ],
          "name": "stdout"
        },
        {
          "output_type": "stream",
          "text": [
            "/usr/local/lib/python3.6/dist-packages/sklearn/svm/base.py:931: ConvergenceWarning: Liblinear failed to converge, increase the number of iterations.\n",
            "  \"the number of iterations.\", ConvergenceWarning)\n"
          ],
          "name": "stderr"
        },
        {
          "output_type": "stream",
          "text": [
            "              precision    recall  f1-score   support\n",
            "\n",
            "           0       0.78      0.72      0.75      1032\n",
            "           1       0.38      0.46      0.42       394\n",
            "\n",
            "   micro avg       0.65      0.65      0.65      1426\n",
            "   macro avg       0.58      0.59      0.58      1426\n",
            "weighted avg       0.67      0.65      0.66      1426\n",
            "\n",
            "('polarity', 'sentence_type', 'exclamation_words')\n",
            "              precision    recall  f1-score   support\n",
            "\n",
            "           0       0.76      0.47      0.58      1032\n",
            "           1       0.31      0.62      0.41       394\n",
            "\n",
            "   micro avg       0.51      0.51      0.51      1426\n",
            "   macro avg       0.53      0.54      0.49      1426\n",
            "weighted avg       0.64      0.51      0.53      1426\n",
            "\n",
            "('polarity', 'sentence_type', 'lexical_chars')\n",
            "              precision    recall  f1-score   support\n",
            "\n",
            "           0       0.82      0.43      0.57      1032\n",
            "           1       0.34      0.76      0.47       394\n",
            "\n",
            "   micro avg       0.52      0.52      0.52      1426\n",
            "   macro avg       0.58      0.59      0.52      1426\n",
            "weighted avg       0.69      0.52      0.54      1426\n",
            "\n",
            "('polarity', 'sentence_type', 'lexical_words')\n"
          ],
          "name": "stdout"
        },
        {
          "output_type": "stream",
          "text": [
            "/usr/local/lib/python3.6/dist-packages/sklearn/svm/base.py:931: ConvergenceWarning: Liblinear failed to converge, increase the number of iterations.\n",
            "  \"the number of iterations.\", ConvergenceWarning)\n"
          ],
          "name": "stderr"
        },
        {
          "output_type": "stream",
          "text": [
            "              precision    recall  f1-score   support\n",
            "\n",
            "           0       0.82      0.56      0.66      1032\n",
            "           1       0.37      0.67      0.47       394\n",
            "\n",
            "   micro avg       0.59      0.59      0.59      1426\n",
            "   macro avg       0.59      0.61      0.57      1426\n",
            "weighted avg       0.69      0.59      0.61      1426\n",
            "\n",
            "('polarity', 'sentence_type', 'emotion_exclamations')\n",
            "              precision    recall  f1-score   support\n",
            "\n",
            "           0       0.76      0.47      0.58      1032\n",
            "           1       0.31      0.62      0.41       394\n",
            "\n",
            "   micro avg       0.51      0.51      0.51      1426\n",
            "   macro avg       0.53      0.54      0.49      1426\n",
            "weighted avg       0.64      0.51      0.53      1426\n",
            "\n",
            "('polarity', 'sentence_type', 'loaded_language')\n"
          ],
          "name": "stdout"
        },
        {
          "output_type": "stream",
          "text": [
            "/usr/local/lib/python3.6/dist-packages/sklearn/svm/base.py:931: ConvergenceWarning: Liblinear failed to converge, increase the number of iterations.\n",
            "  \"the number of iterations.\", ConvergenceWarning)\n"
          ],
          "name": "stderr"
        },
        {
          "output_type": "stream",
          "text": [
            "              precision    recall  f1-score   support\n",
            "\n",
            "           0       0.78      0.72      0.75      1032\n",
            "           1       0.38      0.46      0.42       394\n",
            "\n",
            "   micro avg       0.65      0.65      0.65      1426\n",
            "   macro avg       0.58      0.59      0.58      1426\n",
            "weighted avg       0.67      0.65      0.66      1426\n",
            "\n",
            "('polarity', 'sentence_type', 'confusing_words')\n"
          ],
          "name": "stdout"
        },
        {
          "output_type": "stream",
          "text": [
            "/usr/local/lib/python3.6/dist-packages/sklearn/svm/base.py:931: ConvergenceWarning: Liblinear failed to converge, increase the number of iterations.\n",
            "  \"the number of iterations.\", ConvergenceWarning)\n"
          ],
          "name": "stderr"
        },
        {
          "output_type": "stream",
          "text": [
            "              precision    recall  f1-score   support\n",
            "\n",
            "           0       0.76      0.48      0.59      1032\n",
            "           1       0.31      0.60      0.41       394\n",
            "\n",
            "   micro avg       0.52      0.52      0.52      1426\n",
            "   macro avg       0.54      0.54      0.50      1426\n",
            "weighted avg       0.64      0.52      0.54      1426\n",
            "\n",
            "('polarity', 'sentence_type', 'sentiment')\n",
            "              precision    recall  f1-score   support\n",
            "\n",
            "           0       0.75      0.48      0.59      1032\n",
            "           1       0.30      0.59      0.40       394\n",
            "\n",
            "   micro avg       0.51      0.51      0.51      1426\n",
            "   macro avg       0.53      0.53      0.49      1426\n",
            "weighted avg       0.63      0.51      0.54      1426\n",
            "\n",
            "('polarity', 'sentence_type', 'pos')\n"
          ],
          "name": "stdout"
        },
        {
          "output_type": "stream",
          "text": [
            "/usr/local/lib/python3.6/dist-packages/sklearn/svm/base.py:931: ConvergenceWarning: Liblinear failed to converge, increase the number of iterations.\n",
            "  \"the number of iterations.\", ConvergenceWarning)\n"
          ],
          "name": "stderr"
        },
        {
          "output_type": "stream",
          "text": [
            "              precision    recall  f1-score   support\n",
            "\n",
            "           0       0.79      0.69      0.74      1032\n",
            "           1       0.39      0.50      0.44       394\n",
            "\n",
            "   micro avg       0.64      0.64      0.64      1426\n",
            "   macro avg       0.59      0.60      0.59      1426\n",
            "weighted avg       0.67      0.64      0.65      1426\n",
            "\n",
            "('polarity', 'sentence_type', 'unique_words')\n"
          ],
          "name": "stdout"
        },
        {
          "output_type": "stream",
          "text": [
            "/usr/local/lib/python3.6/dist-packages/sklearn/svm/base.py:931: ConvergenceWarning: Liblinear failed to converge, increase the number of iterations.\n",
            "  \"the number of iterations.\", ConvergenceWarning)\n"
          ],
          "name": "stderr"
        },
        {
          "output_type": "stream",
          "text": [
            "              precision    recall  f1-score   support\n",
            "\n",
            "           0       0.82      0.28      0.42      1032\n",
            "           1       0.31      0.84      0.45       394\n",
            "\n",
            "   micro avg       0.44      0.44      0.44      1426\n",
            "   macro avg       0.56      0.56      0.44      1426\n",
            "weighted avg       0.68      0.44      0.43      1426\n",
            "\n",
            "('polarity', 'sentence_type', 'stop_words')\n"
          ],
          "name": "stdout"
        },
        {
          "output_type": "stream",
          "text": [
            "/usr/local/lib/python3.6/dist-packages/sklearn/svm/base.py:931: ConvergenceWarning: Liblinear failed to converge, increase the number of iterations.\n",
            "  \"the number of iterations.\", ConvergenceWarning)\n"
          ],
          "name": "stderr"
        },
        {
          "output_type": "stream",
          "text": [
            "              precision    recall  f1-score   support\n",
            "\n",
            "           0       0.78      0.77      0.78      1032\n",
            "           1       0.42      0.44      0.43       394\n",
            "\n",
            "   micro avg       0.68      0.68      0.68      1426\n",
            "   macro avg       0.60      0.61      0.60      1426\n",
            "weighted avg       0.68      0.68      0.68      1426\n",
            "\n",
            "('polarity', 'sentence_type', 'title_case_words')\n"
          ],
          "name": "stdout"
        },
        {
          "output_type": "stream",
          "text": [
            "/usr/local/lib/python3.6/dist-packages/sklearn/svm/base.py:931: ConvergenceWarning: Liblinear failed to converge, increase the number of iterations.\n",
            "  \"the number of iterations.\", ConvergenceWarning)\n"
          ],
          "name": "stderr"
        },
        {
          "output_type": "stream",
          "text": [
            "              precision    recall  f1-score   support\n",
            "\n",
            "           0       0.75      0.61      0.67      1032\n",
            "           1       0.32      0.47      0.38       394\n",
            "\n",
            "   micro avg       0.57      0.57      0.57      1426\n",
            "   macro avg       0.54      0.54      0.53      1426\n",
            "weighted avg       0.63      0.57      0.59      1426\n",
            "\n",
            "('polarity', 'sentence_type', 'total_counts')\n"
          ],
          "name": "stdout"
        },
        {
          "output_type": "stream",
          "text": [
            "/usr/local/lib/python3.6/dist-packages/sklearn/svm/base.py:931: ConvergenceWarning: Liblinear failed to converge, increase the number of iterations.\n",
            "  \"the number of iterations.\", ConvergenceWarning)\n"
          ],
          "name": "stderr"
        },
        {
          "output_type": "stream",
          "text": [
            "              precision    recall  f1-score   support\n",
            "\n",
            "           0       0.81      0.23      0.36      1032\n",
            "           1       0.30      0.86      0.45       394\n",
            "\n",
            "   micro avg       0.41      0.41      0.41      1426\n",
            "   macro avg       0.56      0.55      0.40      1426\n",
            "weighted avg       0.67      0.41      0.39      1426\n",
            "\n",
            "('polarity', 'emotions', 'readability')\n"
          ],
          "name": "stdout"
        },
        {
          "output_type": "stream",
          "text": [
            "/usr/local/lib/python3.6/dist-packages/sklearn/svm/base.py:931: ConvergenceWarning: Liblinear failed to converge, increase the number of iterations.\n",
            "  \"the number of iterations.\", ConvergenceWarning)\n"
          ],
          "name": "stderr"
        },
        {
          "output_type": "stream",
          "text": [
            "              precision    recall  f1-score   support\n",
            "\n",
            "           0       0.73      0.99      0.84      1032\n",
            "           1       0.57      0.03      0.06       394\n",
            "\n",
            "   micro avg       0.73      0.73      0.73      1426\n",
            "   macro avg       0.65      0.51      0.45      1426\n",
            "weighted avg       0.68      0.73      0.62      1426\n",
            "\n",
            "('polarity', 'emotions', 'tf-idf')\n",
            "              precision    recall  f1-score   support\n",
            "\n",
            "           0       0.82      0.77      0.79      1032\n",
            "           1       0.48      0.55      0.51       394\n",
            "\n",
            "   micro avg       0.71      0.71      0.71      1426\n",
            "   macro avg       0.65      0.66      0.65      1426\n",
            "weighted avg       0.72      0.71      0.72      1426\n",
            "\n",
            "('polarity', 'emotions', 'loaded_words')\n"
          ],
          "name": "stdout"
        },
        {
          "output_type": "stream",
          "text": [
            "/usr/local/lib/python3.6/dist-packages/sklearn/svm/base.py:931: ConvergenceWarning: Liblinear failed to converge, increase the number of iterations.\n",
            "  \"the number of iterations.\", ConvergenceWarning)\n"
          ],
          "name": "stderr"
        },
        {
          "output_type": "stream",
          "text": [
            "              precision    recall  f1-score   support\n",
            "\n",
            "           0       0.81      0.62      0.70      1032\n",
            "           1       0.38      0.61      0.47       394\n",
            "\n",
            "   micro avg       0.61      0.61      0.61      1426\n",
            "   macro avg       0.59      0.61      0.58      1426\n",
            "weighted avg       0.69      0.61      0.63      1426\n",
            "\n",
            "('polarity', 'emotions', 'exclamation_words')\n",
            "              precision    recall  f1-score   support\n",
            "\n",
            "           0       0.81      0.57      0.67      1032\n",
            "           1       0.37      0.65      0.47       394\n",
            "\n",
            "   micro avg       0.59      0.59      0.59      1426\n",
            "   macro avg       0.59      0.61      0.57      1426\n",
            "weighted avg       0.69      0.59      0.62      1426\n",
            "\n",
            "('polarity', 'emotions', 'lexical_chars')\n",
            "              precision    recall  f1-score   support\n",
            "\n",
            "           0       0.82      0.57      0.67      1032\n",
            "           1       0.38      0.68      0.49       394\n",
            "\n",
            "   micro avg       0.60      0.60      0.60      1426\n",
            "   macro avg       0.60      0.63      0.58      1426\n",
            "weighted avg       0.70      0.60      0.62      1426\n",
            "\n",
            "('polarity', 'emotions', 'lexical_words')\n"
          ],
          "name": "stdout"
        },
        {
          "output_type": "stream",
          "text": [
            "/usr/local/lib/python3.6/dist-packages/sklearn/svm/base.py:931: ConvergenceWarning: Liblinear failed to converge, increase the number of iterations.\n",
            "  \"the number of iterations.\", ConvergenceWarning)\n"
          ],
          "name": "stderr"
        },
        {
          "output_type": "stream",
          "text": [
            "              precision    recall  f1-score   support\n",
            "\n",
            "           0       0.82      0.58      0.68      1032\n",
            "           1       0.38      0.67      0.48       394\n",
            "\n",
            "   micro avg       0.60      0.60      0.60      1426\n",
            "   macro avg       0.60      0.62      0.58      1426\n",
            "weighted avg       0.70      0.60      0.63      1426\n",
            "\n",
            "('polarity', 'emotions', 'emotion_exclamations')\n",
            "              precision    recall  f1-score   support\n",
            "\n",
            "           0       0.81      0.57      0.67      1032\n",
            "           1       0.37      0.65      0.47       394\n",
            "\n",
            "   micro avg       0.59      0.59      0.59      1426\n",
            "   macro avg       0.59      0.61      0.57      1426\n",
            "weighted avg       0.69      0.59      0.62      1426\n",
            "\n",
            "('polarity', 'emotions', 'loaded_language')\n"
          ],
          "name": "stdout"
        },
        {
          "output_type": "stream",
          "text": [
            "/usr/local/lib/python3.6/dist-packages/sklearn/svm/base.py:931: ConvergenceWarning: Liblinear failed to converge, increase the number of iterations.\n",
            "  \"the number of iterations.\", ConvergenceWarning)\n"
          ],
          "name": "stderr"
        },
        {
          "output_type": "stream",
          "text": [
            "              precision    recall  f1-score   support\n",
            "\n",
            "           0       0.81      0.62      0.70      1032\n",
            "           1       0.38      0.61      0.47       394\n",
            "\n",
            "   micro avg       0.61      0.61      0.61      1426\n",
            "   macro avg       0.59      0.61      0.58      1426\n",
            "weighted avg       0.69      0.61      0.63      1426\n",
            "\n",
            "('polarity', 'emotions', 'confusing_words')\n"
          ],
          "name": "stdout"
        },
        {
          "output_type": "stream",
          "text": [
            "/usr/local/lib/python3.6/dist-packages/sklearn/svm/base.py:931: ConvergenceWarning: Liblinear failed to converge, increase the number of iterations.\n",
            "  \"the number of iterations.\", ConvergenceWarning)\n"
          ],
          "name": "stderr"
        },
        {
          "output_type": "stream",
          "text": [
            "              precision    recall  f1-score   support\n",
            "\n",
            "           0       0.81      0.57      0.67      1032\n",
            "           1       0.36      0.64      0.46       394\n",
            "\n",
            "   micro avg       0.59      0.59      0.59      1426\n",
            "   macro avg       0.58      0.61      0.57      1426\n",
            "weighted avg       0.68      0.59      0.61      1426\n",
            "\n",
            "('polarity', 'emotions', 'sentiment')\n",
            "              precision    recall  f1-score   support\n",
            "\n",
            "           0       0.81      0.57      0.67      1032\n",
            "           1       0.37      0.65      0.47       394\n",
            "\n",
            "   micro avg       0.60      0.60      0.60      1426\n",
            "   macro avg       0.59      0.61      0.57      1426\n",
            "weighted avg       0.69      0.60      0.62      1426\n",
            "\n",
            "('polarity', 'emotions', 'pos')\n"
          ],
          "name": "stdout"
        },
        {
          "output_type": "stream",
          "text": [
            "/usr/local/lib/python3.6/dist-packages/sklearn/svm/base.py:931: ConvergenceWarning: Liblinear failed to converge, increase the number of iterations.\n",
            "  \"the number of iterations.\", ConvergenceWarning)\n"
          ],
          "name": "stderr"
        },
        {
          "output_type": "stream",
          "text": [
            "              precision    recall  f1-score   support\n",
            "\n",
            "           0       0.81      0.64      0.71      1032\n",
            "           1       0.39      0.61      0.48       394\n",
            "\n",
            "   micro avg       0.63      0.63      0.63      1426\n",
            "   macro avg       0.60      0.62      0.59      1426\n",
            "weighted avg       0.69      0.63      0.65      1426\n",
            "\n",
            "('polarity', 'emotions', 'unique_words')\n"
          ],
          "name": "stdout"
        },
        {
          "output_type": "stream",
          "text": [
            "/usr/local/lib/python3.6/dist-packages/sklearn/svm/base.py:931: ConvergenceWarning: Liblinear failed to converge, increase the number of iterations.\n",
            "  \"the number of iterations.\", ConvergenceWarning)\n"
          ],
          "name": "stderr"
        },
        {
          "output_type": "stream",
          "text": [
            "              precision    recall  f1-score   support\n",
            "\n",
            "           0       0.72      0.97      0.83      1032\n",
            "           1       0.30      0.03      0.05       394\n",
            "\n",
            "   micro avg       0.71      0.71      0.71      1426\n",
            "   macro avg       0.51      0.50      0.44      1426\n",
            "weighted avg       0.61      0.71      0.62      1426\n",
            "\n",
            "('polarity', 'emotions', 'stop_words')\n"
          ],
          "name": "stdout"
        },
        {
          "output_type": "stream",
          "text": [
            "/usr/local/lib/python3.6/dist-packages/sklearn/svm/base.py:931: ConvergenceWarning: Liblinear failed to converge, increase the number of iterations.\n",
            "  \"the number of iterations.\", ConvergenceWarning)\n"
          ],
          "name": "stderr"
        },
        {
          "output_type": "stream",
          "text": [
            "              precision    recall  f1-score   support\n",
            "\n",
            "           0       0.74      0.91      0.82      1032\n",
            "           1       0.42      0.17      0.24       394\n",
            "\n",
            "   micro avg       0.70      0.70      0.70      1426\n",
            "   macro avg       0.58      0.54      0.53      1426\n",
            "weighted avg       0.65      0.70      0.66      1426\n",
            "\n",
            "('polarity', 'emotions', 'title_case_words')\n"
          ],
          "name": "stdout"
        },
        {
          "output_type": "stream",
          "text": [
            "/usr/local/lib/python3.6/dist-packages/sklearn/svm/base.py:931: ConvergenceWarning: Liblinear failed to converge, increase the number of iterations.\n",
            "  \"the number of iterations.\", ConvergenceWarning)\n"
          ],
          "name": "stderr"
        },
        {
          "output_type": "stream",
          "text": [
            "              precision    recall  f1-score   support\n",
            "\n",
            "           0       0.81      0.57      0.67      1032\n",
            "           1       0.37      0.65      0.47       394\n",
            "\n",
            "   micro avg       0.60      0.60      0.60      1426\n",
            "   macro avg       0.59      0.61      0.57      1426\n",
            "weighted avg       0.69      0.60      0.62      1426\n",
            "\n",
            "('polarity', 'emotions', 'total_counts')\n"
          ],
          "name": "stdout"
        },
        {
          "output_type": "stream",
          "text": [
            "/usr/local/lib/python3.6/dist-packages/sklearn/svm/base.py:931: ConvergenceWarning: Liblinear failed to converge, increase the number of iterations.\n",
            "  \"the number of iterations.\", ConvergenceWarning)\n"
          ],
          "name": "stderr"
        },
        {
          "output_type": "stream",
          "text": [
            "              precision    recall  f1-score   support\n",
            "\n",
            "           0       0.72      1.00      0.84      1032\n",
            "           1       0.43      0.01      0.01       394\n",
            "\n",
            "   micro avg       0.72      0.72      0.72      1426\n",
            "   macro avg       0.58      0.50      0.43      1426\n",
            "weighted avg       0.64      0.72      0.61      1426\n",
            "\n",
            "('polarity', 'readability', 'tf-idf')\n"
          ],
          "name": "stdout"
        },
        {
          "output_type": "stream",
          "text": [
            "/usr/local/lib/python3.6/dist-packages/sklearn/svm/base.py:931: ConvergenceWarning: Liblinear failed to converge, increase the number of iterations.\n",
            "  \"the number of iterations.\", ConvergenceWarning)\n"
          ],
          "name": "stderr"
        },
        {
          "output_type": "stream",
          "text": [
            "              precision    recall  f1-score   support\n",
            "\n",
            "           0       0.94      0.06      0.11      1032\n",
            "           1       0.29      0.99      0.44       394\n",
            "\n",
            "   micro avg       0.31      0.31      0.31      1426\n",
            "   macro avg       0.61      0.52      0.27      1426\n",
            "weighted avg       0.76      0.31      0.20      1426\n",
            "\n",
            "('polarity', 'readability', 'loaded_words')\n"
          ],
          "name": "stdout"
        },
        {
          "output_type": "stream",
          "text": [
            "/usr/local/lib/python3.6/dist-packages/sklearn/svm/base.py:931: ConvergenceWarning: Liblinear failed to converge, increase the number of iterations.\n",
            "  \"the number of iterations.\", ConvergenceWarning)\n"
          ],
          "name": "stderr"
        },
        {
          "output_type": "stream",
          "text": [
            "              precision    recall  f1-score   support\n",
            "\n",
            "           0       0.73      0.99      0.84      1032\n",
            "           1       0.55      0.03      0.06       394\n",
            "\n",
            "   micro avg       0.73      0.73      0.73      1426\n",
            "   macro avg       0.64      0.51      0.45      1426\n",
            "weighted avg       0.68      0.73      0.62      1426\n",
            "\n",
            "('polarity', 'readability', 'exclamation_words')\n"
          ],
          "name": "stdout"
        },
        {
          "output_type": "stream",
          "text": [
            "/usr/local/lib/python3.6/dist-packages/sklearn/svm/base.py:931: ConvergenceWarning: Liblinear failed to converge, increase the number of iterations.\n",
            "  \"the number of iterations.\", ConvergenceWarning)\n"
          ],
          "name": "stderr"
        },
        {
          "output_type": "stream",
          "text": [
            "              precision    recall  f1-score   support\n",
            "\n",
            "           0       0.73      0.97      0.83      1032\n",
            "           1       0.39      0.05      0.09       394\n",
            "\n",
            "   micro avg       0.72      0.72      0.72      1426\n",
            "   macro avg       0.56      0.51      0.46      1426\n",
            "weighted avg       0.64      0.72      0.63      1426\n",
            "\n",
            "('polarity', 'readability', 'lexical_chars')\n"
          ],
          "name": "stdout"
        },
        {
          "output_type": "stream",
          "text": [
            "/usr/local/lib/python3.6/dist-packages/sklearn/svm/base.py:931: ConvergenceWarning: Liblinear failed to converge, increase the number of iterations.\n",
            "  \"the number of iterations.\", ConvergenceWarning)\n"
          ],
          "name": "stderr"
        },
        {
          "output_type": "stream",
          "text": [
            "              precision    recall  f1-score   support\n",
            "\n",
            "           0       0.72      0.93      0.81      1032\n",
            "           1       0.25      0.06      0.10       394\n",
            "\n",
            "   micro avg       0.69      0.69      0.69      1426\n",
            "   macro avg       0.49      0.50      0.46      1426\n",
            "weighted avg       0.59      0.69      0.62      1426\n",
            "\n",
            "('polarity', 'readability', 'lexical_words')\n"
          ],
          "name": "stdout"
        },
        {
          "output_type": "stream",
          "text": [
            "/usr/local/lib/python3.6/dist-packages/sklearn/svm/base.py:931: ConvergenceWarning: Liblinear failed to converge, increase the number of iterations.\n",
            "  \"the number of iterations.\", ConvergenceWarning)\n"
          ],
          "name": "stderr"
        },
        {
          "output_type": "stream",
          "text": [
            "              precision    recall  f1-score   support\n",
            "\n",
            "           0       0.75      0.84      0.79      1032\n",
            "           1       0.39      0.27      0.32       394\n",
            "\n",
            "   micro avg       0.68      0.68      0.68      1426\n",
            "   macro avg       0.57      0.55      0.55      1426\n",
            "weighted avg       0.65      0.68      0.66      1426\n",
            "\n",
            "('polarity', 'readability', 'emotion_exclamations')\n"
          ],
          "name": "stdout"
        },
        {
          "output_type": "stream",
          "text": [
            "/usr/local/lib/python3.6/dist-packages/sklearn/svm/base.py:931: ConvergenceWarning: Liblinear failed to converge, increase the number of iterations.\n",
            "  \"the number of iterations.\", ConvergenceWarning)\n"
          ],
          "name": "stderr"
        },
        {
          "output_type": "stream",
          "text": [
            "              precision    recall  f1-score   support\n",
            "\n",
            "           0       0.73      0.97      0.83      1032\n",
            "           1       0.39      0.05      0.09       394\n",
            "\n",
            "   micro avg       0.72      0.72      0.72      1426\n",
            "   macro avg       0.56      0.51      0.46      1426\n",
            "weighted avg       0.64      0.72      0.63      1426\n",
            "\n",
            "('polarity', 'readability', 'loaded_language')\n"
          ],
          "name": "stdout"
        },
        {
          "output_type": "stream",
          "text": [
            "/usr/local/lib/python3.6/dist-packages/sklearn/svm/base.py:931: ConvergenceWarning: Liblinear failed to converge, increase the number of iterations.\n",
            "  \"the number of iterations.\", ConvergenceWarning)\n"
          ],
          "name": "stderr"
        },
        {
          "output_type": "stream",
          "text": [
            "              precision    recall  f1-score   support\n",
            "\n",
            "           0       0.73      0.99      0.84      1032\n",
            "           1       0.55      0.03      0.06       394\n",
            "\n",
            "   micro avg       0.73      0.73      0.73      1426\n",
            "   macro avg       0.64      0.51      0.45      1426\n",
            "weighted avg       0.68      0.73      0.62      1426\n",
            "\n",
            "('polarity', 'readability', 'confusing_words')\n"
          ],
          "name": "stdout"
        },
        {
          "output_type": "stream",
          "text": [
            "/usr/local/lib/python3.6/dist-packages/sklearn/svm/base.py:931: ConvergenceWarning: Liblinear failed to converge, increase the number of iterations.\n",
            "  \"the number of iterations.\", ConvergenceWarning)\n"
          ],
          "name": "stderr"
        },
        {
          "output_type": "stream",
          "text": [
            "              precision    recall  f1-score   support\n",
            "\n",
            "           0       0.72      1.00      0.84      1032\n",
            "           1       0.50      0.00      0.01       394\n",
            "\n",
            "   micro avg       0.72      0.72      0.72      1426\n",
            "   macro avg       0.61      0.50      0.42      1426\n",
            "weighted avg       0.66      0.72      0.61      1426\n",
            "\n",
            "('polarity', 'readability', 'sentiment')\n"
          ],
          "name": "stdout"
        },
        {
          "output_type": "stream",
          "text": [
            "/usr/local/lib/python3.6/dist-packages/sklearn/svm/base.py:931: ConvergenceWarning: Liblinear failed to converge, increase the number of iterations.\n",
            "  \"the number of iterations.\", ConvergenceWarning)\n"
          ],
          "name": "stderr"
        },
        {
          "output_type": "stream",
          "text": [
            "              precision    recall  f1-score   support\n",
            "\n",
            "           0       0.88      0.02      0.04      1032\n",
            "           1       0.28      0.99      0.44       394\n",
            "\n",
            "   micro avg       0.29      0.29      0.29      1426\n",
            "   macro avg       0.58      0.51      0.24      1426\n",
            "weighted avg       0.72      0.29      0.15      1426\n",
            "\n",
            "('polarity', 'readability', 'pos')\n"
          ],
          "name": "stdout"
        },
        {
          "output_type": "stream",
          "text": [
            "/usr/local/lib/python3.6/dist-packages/sklearn/svm/base.py:931: ConvergenceWarning: Liblinear failed to converge, increase the number of iterations.\n",
            "  \"the number of iterations.\", ConvergenceWarning)\n"
          ],
          "name": "stderr"
        },
        {
          "output_type": "stream",
          "text": [
            "              precision    recall  f1-score   support\n",
            "\n",
            "           0       0.50      0.00      0.00      1032\n",
            "           1       0.28      1.00      0.43       394\n",
            "\n",
            "   micro avg       0.28      0.28      0.28      1426\n",
            "   macro avg       0.39      0.50      0.22      1426\n",
            "weighted avg       0.44      0.28      0.12      1426\n",
            "\n",
            "('polarity', 'readability', 'unique_words')\n"
          ],
          "name": "stdout"
        },
        {
          "output_type": "stream",
          "text": [
            "/usr/local/lib/python3.6/dist-packages/sklearn/svm/base.py:931: ConvergenceWarning: Liblinear failed to converge, increase the number of iterations.\n",
            "  \"the number of iterations.\", ConvergenceWarning)\n"
          ],
          "name": "stderr"
        },
        {
          "output_type": "stream",
          "text": [
            "              precision    recall  f1-score   support\n",
            "\n",
            "           0       0.86      0.03      0.06      1032\n",
            "           1       0.28      0.99      0.44       394\n",
            "\n",
            "   micro avg       0.29      0.29      0.29      1426\n",
            "   macro avg       0.57      0.51      0.25      1426\n",
            "weighted avg       0.70      0.29      0.16      1426\n",
            "\n",
            "('polarity', 'readability', 'stop_words')\n"
          ],
          "name": "stdout"
        },
        {
          "output_type": "stream",
          "text": [
            "/usr/local/lib/python3.6/dist-packages/sklearn/svm/base.py:931: ConvergenceWarning: Liblinear failed to converge, increase the number of iterations.\n",
            "  \"the number of iterations.\", ConvergenceWarning)\n"
          ],
          "name": "stderr"
        },
        {
          "output_type": "stream",
          "text": [
            "              precision    recall  f1-score   support\n",
            "\n",
            "           0       0.77      0.27      0.40      1032\n",
            "           1       0.29      0.79      0.43       394\n",
            "\n",
            "   micro avg       0.41      0.41      0.41      1426\n",
            "   macro avg       0.53      0.53      0.41      1426\n",
            "weighted avg       0.64      0.41      0.41      1426\n",
            "\n",
            "('polarity', 'readability', 'title_case_words')\n"
          ],
          "name": "stdout"
        },
        {
          "output_type": "stream",
          "text": [
            "/usr/local/lib/python3.6/dist-packages/sklearn/svm/base.py:931: ConvergenceWarning: Liblinear failed to converge, increase the number of iterations.\n",
            "  \"the number of iterations.\", ConvergenceWarning)\n"
          ],
          "name": "stderr"
        },
        {
          "output_type": "stream",
          "text": [
            "              precision    recall  f1-score   support\n",
            "\n",
            "           0       0.74      0.94      0.83      1032\n",
            "           1       0.45      0.12      0.19       394\n",
            "\n",
            "   micro avg       0.72      0.72      0.72      1426\n",
            "   macro avg       0.59      0.53      0.51      1426\n",
            "weighted avg       0.66      0.72      0.65      1426\n",
            "\n",
            "('polarity', 'readability', 'total_counts')\n"
          ],
          "name": "stdout"
        },
        {
          "output_type": "stream",
          "text": [
            "/usr/local/lib/python3.6/dist-packages/sklearn/svm/base.py:931: ConvergenceWarning: Liblinear failed to converge, increase the number of iterations.\n",
            "  \"the number of iterations.\", ConvergenceWarning)\n"
          ],
          "name": "stderr"
        },
        {
          "output_type": "stream",
          "text": [
            "              precision    recall  f1-score   support\n",
            "\n",
            "           0       0.73      0.99      0.84      1032\n",
            "           1       0.60      0.04      0.07       394\n",
            "\n",
            "   micro avg       0.73      0.73      0.73      1426\n",
            "   macro avg       0.66      0.51      0.46      1426\n",
            "weighted avg       0.69      0.73      0.63      1426\n",
            "\n",
            "('polarity', 'tf-idf', 'loaded_words')\n"
          ],
          "name": "stdout"
        },
        {
          "output_type": "stream",
          "text": [
            "/usr/local/lib/python3.6/dist-packages/sklearn/svm/base.py:931: ConvergenceWarning: Liblinear failed to converge, increase the number of iterations.\n",
            "  \"the number of iterations.\", ConvergenceWarning)\n"
          ],
          "name": "stderr"
        },
        {
          "output_type": "stream",
          "text": [
            "              precision    recall  f1-score   support\n",
            "\n",
            "           0       0.82      0.77      0.79      1032\n",
            "           1       0.48      0.55      0.51       394\n",
            "\n",
            "   micro avg       0.71      0.71      0.71      1426\n",
            "   macro avg       0.65      0.66      0.65      1426\n",
            "weighted avg       0.72      0.71      0.72      1426\n",
            "\n",
            "('polarity', 'tf-idf', 'exclamation_words')\n",
            "              precision    recall  f1-score   support\n",
            "\n",
            "           0       0.82      0.77      0.79      1032\n",
            "           1       0.48      0.55      0.51       394\n",
            "\n",
            "   micro avg       0.71      0.71      0.71      1426\n",
            "   macro avg       0.65      0.66      0.65      1426\n",
            "weighted avg       0.72      0.71      0.72      1426\n",
            "\n",
            "('polarity', 'tf-idf', 'lexical_chars')\n",
            "              precision    recall  f1-score   support\n",
            "\n",
            "           0       0.82      0.77      0.79      1032\n",
            "           1       0.47      0.54      0.51       394\n",
            "\n",
            "   micro avg       0.71      0.71      0.71      1426\n",
            "   macro avg       0.64      0.66      0.65      1426\n",
            "weighted avg       0.72      0.71      0.71      1426\n",
            "\n",
            "('polarity', 'tf-idf', 'lexical_words')\n",
            "              precision    recall  f1-score   support\n",
            "\n",
            "           0       0.82      0.78      0.80      1032\n",
            "           1       0.49      0.56      0.52       394\n",
            "\n",
            "   micro avg       0.72      0.72      0.72      1426\n",
            "   macro avg       0.66      0.67      0.66      1426\n",
            "weighted avg       0.73      0.72      0.72      1426\n",
            "\n",
            "('polarity', 'tf-idf', 'emotion_exclamations')\n",
            "              precision    recall  f1-score   support\n",
            "\n",
            "           0       0.82      0.77      0.79      1032\n",
            "           1       0.48      0.55      0.51       394\n",
            "\n",
            "   micro avg       0.71      0.71      0.71      1426\n",
            "   macro avg       0.65      0.66      0.65      1426\n",
            "weighted avg       0.72      0.71      0.72      1426\n",
            "\n",
            "('polarity', 'tf-idf', 'loaded_language')\n",
            "              precision    recall  f1-score   support\n",
            "\n",
            "           0       0.82      0.77      0.79      1032\n",
            "           1       0.48      0.55      0.51       394\n",
            "\n",
            "   micro avg       0.71      0.71      0.71      1426\n",
            "   macro avg       0.65      0.66      0.65      1426\n",
            "weighted avg       0.72      0.71      0.72      1426\n",
            "\n",
            "('polarity', 'tf-idf', 'confusing_words')\n",
            "              precision    recall  f1-score   support\n",
            "\n",
            "           0       0.81      0.77      0.79      1032\n",
            "           1       0.47      0.54      0.50       394\n",
            "\n",
            "   micro avg       0.71      0.71      0.71      1426\n",
            "   macro avg       0.64      0.66      0.65      1426\n",
            "weighted avg       0.72      0.71      0.71      1426\n",
            "\n",
            "('polarity', 'tf-idf', 'sentiment')\n",
            "              precision    recall  f1-score   support\n",
            "\n",
            "           0       0.81      0.77      0.79      1032\n",
            "           1       0.47      0.54      0.50       394\n",
            "\n",
            "   micro avg       0.71      0.71      0.71      1426\n",
            "   macro avg       0.64      0.65      0.65      1426\n",
            "weighted avg       0.72      0.71      0.71      1426\n",
            "\n",
            "('polarity', 'tf-idf', 'pos')\n",
            "              precision    recall  f1-score   support\n",
            "\n",
            "           0       0.82      0.78      0.80      1032\n",
            "           1       0.49      0.54      0.51       394\n",
            "\n",
            "   micro avg       0.71      0.71      0.71      1426\n",
            "   macro avg       0.65      0.66      0.65      1426\n",
            "weighted avg       0.73      0.71      0.72      1426\n",
            "\n",
            "('polarity', 'tf-idf', 'unique_words')\n",
            "              precision    recall  f1-score   support\n",
            "\n",
            "           0       0.81      0.81      0.81      1032\n",
            "           1       0.50      0.50      0.50       394\n",
            "\n",
            "   micro avg       0.73      0.73      0.73      1426\n",
            "   macro avg       0.66      0.66      0.66      1426\n",
            "weighted avg       0.73      0.73      0.73      1426\n",
            "\n",
            "('polarity', 'tf-idf', 'stop_words')\n",
            "              precision    recall  f1-score   support\n",
            "\n",
            "           0       0.82      0.78      0.80      1032\n",
            "           1       0.48      0.54      0.51       394\n",
            "\n",
            "   micro avg       0.71      0.71      0.71      1426\n",
            "   macro avg       0.65      0.66      0.65      1426\n",
            "weighted avg       0.72      0.71      0.72      1426\n",
            "\n",
            "('polarity', 'tf-idf', 'title_case_words')\n",
            "              precision    recall  f1-score   support\n",
            "\n",
            "           0       0.81      0.77      0.79      1032\n",
            "           1       0.47      0.53      0.50       394\n",
            "\n",
            "   micro avg       0.71      0.71      0.71      1426\n",
            "   macro avg       0.64      0.65      0.65      1426\n",
            "weighted avg       0.72      0.71      0.71      1426\n",
            "\n",
            "('polarity', 'tf-idf', 'total_counts')\n",
            "              precision    recall  f1-score   support\n",
            "\n",
            "           0       0.75      0.95      0.84      1032\n",
            "           1       0.56      0.15      0.24       394\n",
            "\n",
            "   micro avg       0.73      0.73      0.73      1426\n",
            "   macro avg       0.65      0.55      0.54      1426\n",
            "weighted avg       0.69      0.73      0.67      1426\n",
            "\n",
            "('polarity', 'loaded_words', 'exclamation_words')\n"
          ],
          "name": "stdout"
        },
        {
          "output_type": "stream",
          "text": [
            "/usr/local/lib/python3.6/dist-packages/sklearn/svm/base.py:931: ConvergenceWarning: Liblinear failed to converge, increase the number of iterations.\n",
            "  \"the number of iterations.\", ConvergenceWarning)\n"
          ],
          "name": "stderr"
        },
        {
          "output_type": "stream",
          "text": [
            "              precision    recall  f1-score   support\n",
            "\n",
            "           0       0.77      0.73      0.75      1032\n",
            "           1       0.38      0.44      0.41       394\n",
            "\n",
            "   micro avg       0.65      0.65      0.65      1426\n",
            "   macro avg       0.58      0.58      0.58      1426\n",
            "weighted avg       0.67      0.65      0.66      1426\n",
            "\n",
            "('polarity', 'loaded_words', 'lexical_chars')\n"
          ],
          "name": "stdout"
        },
        {
          "output_type": "stream",
          "text": [
            "/usr/local/lib/python3.6/dist-packages/sklearn/svm/base.py:931: ConvergenceWarning: Liblinear failed to converge, increase the number of iterations.\n",
            "  \"the number of iterations.\", ConvergenceWarning)\n"
          ],
          "name": "stderr"
        },
        {
          "output_type": "stream",
          "text": [
            "              precision    recall  f1-score   support\n",
            "\n",
            "           0       0.78      0.64      0.70      1032\n",
            "           1       0.36      0.54      0.43       394\n",
            "\n",
            "   micro avg       0.61      0.61      0.61      1426\n",
            "   macro avg       0.57      0.59      0.57      1426\n",
            "weighted avg       0.67      0.61      0.63      1426\n",
            "\n",
            "('polarity', 'loaded_words', 'lexical_words')\n"
          ],
          "name": "stdout"
        },
        {
          "output_type": "stream",
          "text": [
            "/usr/local/lib/python3.6/dist-packages/sklearn/svm/base.py:931: ConvergenceWarning: Liblinear failed to converge, increase the number of iterations.\n",
            "  \"the number of iterations.\", ConvergenceWarning)\n"
          ],
          "name": "stderr"
        },
        {
          "output_type": "stream",
          "text": [
            "              precision    recall  f1-score   support\n",
            "\n",
            "           0       0.81      0.63      0.71      1032\n",
            "           1       0.38      0.60      0.47       394\n",
            "\n",
            "   micro avg       0.62      0.62      0.62      1426\n",
            "   macro avg       0.60      0.62      0.59      1426\n",
            "weighted avg       0.69      0.62      0.64      1426\n",
            "\n",
            "('polarity', 'loaded_words', 'emotion_exclamations')\n"
          ],
          "name": "stdout"
        },
        {
          "output_type": "stream",
          "text": [
            "/usr/local/lib/python3.6/dist-packages/sklearn/svm/base.py:931: ConvergenceWarning: Liblinear failed to converge, increase the number of iterations.\n",
            "  \"the number of iterations.\", ConvergenceWarning)\n"
          ],
          "name": "stderr"
        },
        {
          "output_type": "stream",
          "text": [
            "              precision    recall  f1-score   support\n",
            "\n",
            "           0       0.77      0.73      0.75      1032\n",
            "           1       0.38      0.44      0.41       394\n",
            "\n",
            "   micro avg       0.65      0.65      0.65      1426\n",
            "   macro avg       0.58      0.58      0.58      1426\n",
            "weighted avg       0.67      0.65      0.66      1426\n",
            "\n",
            "('polarity', 'loaded_words', 'loaded_language')\n"
          ],
          "name": "stdout"
        },
        {
          "output_type": "stream",
          "text": [
            "/usr/local/lib/python3.6/dist-packages/sklearn/svm/base.py:931: ConvergenceWarning: Liblinear failed to converge, increase the number of iterations.\n",
            "  \"the number of iterations.\", ConvergenceWarning)\n"
          ],
          "name": "stderr"
        },
        {
          "output_type": "stream",
          "text": [
            "              precision    recall  f1-score   support\n",
            "\n",
            "           0       0.77      0.73      0.75      1032\n",
            "           1       0.38      0.44      0.41       394\n",
            "\n",
            "   micro avg       0.65      0.65      0.65      1426\n",
            "   macro avg       0.58      0.59      0.58      1426\n",
            "weighted avg       0.67      0.65      0.66      1426\n",
            "\n",
            "('polarity', 'loaded_words', 'confusing_words')\n"
          ],
          "name": "stdout"
        },
        {
          "output_type": "stream",
          "text": [
            "/usr/local/lib/python3.6/dist-packages/sklearn/svm/base.py:931: ConvergenceWarning: Liblinear failed to converge, increase the number of iterations.\n",
            "  \"the number of iterations.\", ConvergenceWarning)\n"
          ],
          "name": "stderr"
        },
        {
          "output_type": "stream",
          "text": [
            "              precision    recall  f1-score   support\n",
            "\n",
            "           0       0.77      0.71      0.74      1032\n",
            "           1       0.37      0.46      0.41       394\n",
            "\n",
            "   micro avg       0.64      0.64      0.64      1426\n",
            "   macro avg       0.57      0.58      0.58      1426\n",
            "weighted avg       0.66      0.64      0.65      1426\n",
            "\n",
            "('polarity', 'loaded_words', 'sentiment')\n"
          ],
          "name": "stdout"
        },
        {
          "output_type": "stream",
          "text": [
            "/usr/local/lib/python3.6/dist-packages/sklearn/svm/base.py:931: ConvergenceWarning: Liblinear failed to converge, increase the number of iterations.\n",
            "  \"the number of iterations.\", ConvergenceWarning)\n"
          ],
          "name": "stderr"
        },
        {
          "output_type": "stream",
          "text": [
            "              precision    recall  f1-score   support\n",
            "\n",
            "           0       0.78      0.71      0.74      1032\n",
            "           1       0.38      0.46      0.42       394\n",
            "\n",
            "   micro avg       0.64      0.64      0.64      1426\n",
            "   macro avg       0.58      0.59      0.58      1426\n",
            "weighted avg       0.67      0.64      0.65      1426\n",
            "\n",
            "('polarity', 'loaded_words', 'pos')\n"
          ],
          "name": "stdout"
        },
        {
          "output_type": "stream",
          "text": [
            "/usr/local/lib/python3.6/dist-packages/sklearn/svm/base.py:931: ConvergenceWarning: Liblinear failed to converge, increase the number of iterations.\n",
            "  \"the number of iterations.\", ConvergenceWarning)\n"
          ],
          "name": "stderr"
        },
        {
          "output_type": "stream",
          "text": [
            "              precision    recall  f1-score   support\n",
            "\n",
            "           0       0.78      0.69      0.73      1032\n",
            "           1       0.37      0.48      0.42       394\n",
            "\n",
            "   micro avg       0.63      0.63      0.63      1426\n",
            "   macro avg       0.57      0.59      0.58      1426\n",
            "weighted avg       0.67      0.63      0.65      1426\n",
            "\n",
            "('polarity', 'loaded_words', 'unique_words')\n"
          ],
          "name": "stdout"
        },
        {
          "output_type": "stream",
          "text": [
            "/usr/local/lib/python3.6/dist-packages/sklearn/svm/base.py:931: ConvergenceWarning: Liblinear failed to converge, increase the number of iterations.\n",
            "  \"the number of iterations.\", ConvergenceWarning)\n"
          ],
          "name": "stderr"
        },
        {
          "output_type": "stream",
          "text": [
            "              precision    recall  f1-score   support\n",
            "\n",
            "           0       0.75      0.91      0.82      1032\n",
            "           1       0.46      0.20      0.28       394\n",
            "\n",
            "   micro avg       0.72      0.72      0.72      1426\n",
            "   macro avg       0.61      0.56      0.55      1426\n",
            "weighted avg       0.67      0.72      0.67      1426\n",
            "\n",
            "('polarity', 'loaded_words', 'stop_words')\n"
          ],
          "name": "stdout"
        },
        {
          "output_type": "stream",
          "text": [
            "/usr/local/lib/python3.6/dist-packages/sklearn/svm/base.py:931: ConvergenceWarning: Liblinear failed to converge, increase the number of iterations.\n",
            "  \"the number of iterations.\", ConvergenceWarning)\n"
          ],
          "name": "stderr"
        },
        {
          "output_type": "stream",
          "text": [
            "              precision    recall  f1-score   support\n",
            "\n",
            "           0       0.76      0.88      0.81      1032\n",
            "           1       0.45      0.26      0.33       394\n",
            "\n",
            "   micro avg       0.71      0.71      0.71      1426\n",
            "   macro avg       0.61      0.57      0.57      1426\n",
            "weighted avg       0.67      0.71      0.68      1426\n",
            "\n",
            "('polarity', 'loaded_words', 'title_case_words')\n"
          ],
          "name": "stdout"
        },
        {
          "output_type": "stream",
          "text": [
            "/usr/local/lib/python3.6/dist-packages/sklearn/svm/base.py:931: ConvergenceWarning: Liblinear failed to converge, increase the number of iterations.\n",
            "  \"the number of iterations.\", ConvergenceWarning)\n"
          ],
          "name": "stderr"
        },
        {
          "output_type": "stream",
          "text": [
            "              precision    recall  f1-score   support\n",
            "\n",
            "           0       0.77      0.70      0.73      1032\n",
            "           1       0.36      0.45      0.40       394\n",
            "\n",
            "   micro avg       0.63      0.63      0.63      1426\n",
            "   macro avg       0.57      0.58      0.57      1426\n",
            "weighted avg       0.66      0.63      0.64      1426\n",
            "\n",
            "('polarity', 'loaded_words', 'total_counts')\n"
          ],
          "name": "stdout"
        },
        {
          "output_type": "stream",
          "text": [
            "/usr/local/lib/python3.6/dist-packages/sklearn/svm/base.py:931: ConvergenceWarning: Liblinear failed to converge, increase the number of iterations.\n",
            "  \"the number of iterations.\", ConvergenceWarning)\n"
          ],
          "name": "stderr"
        },
        {
          "output_type": "stream",
          "text": [
            "              precision    recall  f1-score   support\n",
            "\n",
            "           0       0.72      1.00      0.84      1032\n",
            "           1       1.00      0.00      0.01       394\n",
            "\n",
            "   micro avg       0.72      0.72      0.72      1426\n",
            "   macro avg       0.86      0.50      0.42      1426\n",
            "weighted avg       0.80      0.72      0.61      1426\n",
            "\n",
            "('polarity', 'exclamation_words', 'lexical_chars')\n",
            "              precision    recall  f1-score   support\n",
            "\n",
            "           0       0.82      0.40      0.54      1032\n",
            "           1       0.33      0.77      0.46       394\n",
            "\n",
            "   micro avg       0.50      0.50      0.50      1426\n",
            "   macro avg       0.57      0.58      0.50      1426\n",
            "weighted avg       0.68      0.50      0.52      1426\n",
            "\n",
            "('polarity', 'exclamation_words', 'lexical_words')\n"
          ],
          "name": "stdout"
        },
        {
          "output_type": "stream",
          "text": [
            "/usr/local/lib/python3.6/dist-packages/sklearn/svm/base.py:931: ConvergenceWarning: Liblinear failed to converge, increase the number of iterations.\n",
            "  \"the number of iterations.\", ConvergenceWarning)\n"
          ],
          "name": "stderr"
        },
        {
          "output_type": "stream",
          "text": [
            "              precision    recall  f1-score   support\n",
            "\n",
            "           0       0.80      0.55      0.65      1032\n",
            "           1       0.35      0.64      0.45       394\n",
            "\n",
            "   micro avg       0.57      0.57      0.57      1426\n",
            "   macro avg       0.58      0.59      0.55      1426\n",
            "weighted avg       0.68      0.57      0.60      1426\n",
            "\n",
            "('polarity', 'exclamation_words', 'emotion_exclamations')\n",
            "              precision    recall  f1-score   support\n",
            "\n",
            "           0       0.73      0.33      0.46      1032\n",
            "           1       0.28      0.68      0.40       394\n",
            "\n",
            "   micro avg       0.43      0.43      0.43      1426\n",
            "   macro avg       0.51      0.51      0.43      1426\n",
            "weighted avg       0.61      0.43      0.44      1426\n",
            "\n",
            "('polarity', 'exclamation_words', 'loaded_language')\n"
          ],
          "name": "stdout"
        },
        {
          "output_type": "stream",
          "text": [
            "/usr/local/lib/python3.6/dist-packages/sklearn/svm/base.py:931: ConvergenceWarning: Liblinear failed to converge, increase the number of iterations.\n",
            "  \"the number of iterations.\", ConvergenceWarning)\n"
          ],
          "name": "stderr"
        },
        {
          "output_type": "stream",
          "text": [
            "              precision    recall  f1-score   support\n",
            "\n",
            "           0       0.77      0.73      0.75      1032\n",
            "           1       0.38      0.44      0.41       394\n",
            "\n",
            "   micro avg       0.65      0.65      0.65      1426\n",
            "   macro avg       0.58      0.58      0.58      1426\n",
            "weighted avg       0.67      0.65      0.66      1426\n",
            "\n",
            "('polarity', 'exclamation_words', 'confusing_words')\n"
          ],
          "name": "stdout"
        },
        {
          "output_type": "stream",
          "text": [
            "/usr/local/lib/python3.6/dist-packages/sklearn/svm/base.py:931: ConvergenceWarning: Liblinear failed to converge, increase the number of iterations.\n",
            "  \"the number of iterations.\", ConvergenceWarning)\n"
          ],
          "name": "stderr"
        },
        {
          "output_type": "stream",
          "text": [
            "              precision    recall  f1-score   support\n",
            "\n",
            "           0       0.74      0.40      0.52      1032\n",
            "           1       0.29      0.64      0.40       394\n",
            "\n",
            "   micro avg       0.47      0.47      0.47      1426\n",
            "   macro avg       0.52      0.52      0.46      1426\n",
            "weighted avg       0.62      0.47      0.49      1426\n",
            "\n",
            "('polarity', 'exclamation_words', 'sentiment')\n",
            "              precision    recall  f1-score   support\n",
            "\n",
            "           0       0.74      0.43      0.54      1032\n",
            "           1       0.29      0.60      0.39       394\n",
            "\n",
            "   micro avg       0.48      0.48      0.48      1426\n",
            "   macro avg       0.51      0.51      0.46      1426\n",
            "weighted avg       0.61      0.48      0.50      1426\n",
            "\n",
            "('polarity', 'exclamation_words', 'pos')\n"
          ],
          "name": "stdout"
        },
        {
          "output_type": "stream",
          "text": [
            "/usr/local/lib/python3.6/dist-packages/sklearn/svm/base.py:931: ConvergenceWarning: Liblinear failed to converge, increase the number of iterations.\n",
            "  \"the number of iterations.\", ConvergenceWarning)\n"
          ],
          "name": "stderr"
        },
        {
          "output_type": "stream",
          "text": [
            "              precision    recall  f1-score   support\n",
            "\n",
            "           0       0.78      0.69      0.73      1032\n",
            "           1       0.37      0.49      0.42       394\n",
            "\n",
            "   micro avg       0.63      0.63      0.63      1426\n",
            "   macro avg       0.58      0.59      0.58      1426\n",
            "weighted avg       0.67      0.63      0.65      1426\n",
            "\n",
            "('polarity', 'exclamation_words', 'unique_words')\n"
          ],
          "name": "stdout"
        },
        {
          "output_type": "stream",
          "text": [
            "/usr/local/lib/python3.6/dist-packages/sklearn/svm/base.py:931: ConvergenceWarning: Liblinear failed to converge, increase the number of iterations.\n",
            "  \"the number of iterations.\", ConvergenceWarning)\n"
          ],
          "name": "stderr"
        },
        {
          "output_type": "stream",
          "text": [
            "              precision    recall  f1-score   support\n",
            "\n",
            "           0       0.72      1.00      0.84      1032\n",
            "           1       0.00      0.00      0.00       394\n",
            "\n",
            "   micro avg       0.72      0.72      0.72      1426\n",
            "   macro avg       0.36      0.50      0.42      1426\n",
            "weighted avg       0.52      0.72      0.61      1426\n",
            "\n",
            "('polarity', 'exclamation_words', 'stop_words')\n"
          ],
          "name": "stdout"
        },
        {
          "output_type": "stream",
          "text": [
            "/usr/local/lib/python3.6/dist-packages/sklearn/svm/base.py:931: ConvergenceWarning: Liblinear failed to converge, increase the number of iterations.\n",
            "  \"the number of iterations.\", ConvergenceWarning)\n"
          ],
          "name": "stderr"
        },
        {
          "output_type": "stream",
          "text": [
            "              precision    recall  f1-score   support\n",
            "\n",
            "           0       0.79      0.65      0.71      1032\n",
            "           1       0.37      0.54      0.44       394\n",
            "\n",
            "   micro avg       0.62      0.62      0.62      1426\n",
            "   macro avg       0.58      0.59      0.58      1426\n",
            "weighted avg       0.67      0.62      0.64      1426\n",
            "\n",
            "('polarity', 'exclamation_words', 'title_case_words')\n"
          ],
          "name": "stdout"
        },
        {
          "output_type": "stream",
          "text": [
            "/usr/local/lib/python3.6/dist-packages/sklearn/svm/base.py:931: ConvergenceWarning: Liblinear failed to converge, increase the number of iterations.\n",
            "  \"the number of iterations.\", ConvergenceWarning)\n"
          ],
          "name": "stderr"
        },
        {
          "output_type": "stream",
          "text": [
            "              precision    recall  f1-score   support\n",
            "\n",
            "           0       0.75      0.66      0.70      1032\n",
            "           1       0.32      0.42      0.36       394\n",
            "\n",
            "   micro avg       0.60      0.60      0.60      1426\n",
            "   macro avg       0.54      0.54      0.53      1426\n",
            "weighted avg       0.63      0.60      0.61      1426\n",
            "\n",
            "('polarity', 'exclamation_words', 'total_counts')\n"
          ],
          "name": "stdout"
        },
        {
          "output_type": "stream",
          "text": [
            "/usr/local/lib/python3.6/dist-packages/sklearn/svm/base.py:931: ConvergenceWarning: Liblinear failed to converge, increase the number of iterations.\n",
            "  \"the number of iterations.\", ConvergenceWarning)\n"
          ],
          "name": "stderr"
        },
        {
          "output_type": "stream",
          "text": [
            "              precision    recall  f1-score   support\n",
            "\n",
            "           0       0.72      1.00      0.84      1032\n",
            "           1       0.00      0.00      0.00       394\n",
            "\n",
            "   micro avg       0.72      0.72      0.72      1426\n",
            "   macro avg       0.36      0.50      0.42      1426\n",
            "weighted avg       0.52      0.72      0.61      1426\n",
            "\n",
            "('polarity', 'lexical_chars', 'lexical_words')\n"
          ],
          "name": "stdout"
        },
        {
          "output_type": "stream",
          "text": [
            "/usr/local/lib/python3.6/dist-packages/sklearn/svm/base.py:931: ConvergenceWarning: Liblinear failed to converge, increase the number of iterations.\n",
            "  \"the number of iterations.\", ConvergenceWarning)\n"
          ],
          "name": "stderr"
        },
        {
          "output_type": "stream",
          "text": [
            "              precision    recall  f1-score   support\n",
            "\n",
            "           0       0.82      0.53      0.64      1032\n",
            "           1       0.36      0.69      0.47       394\n",
            "\n",
            "   micro avg       0.57      0.57      0.57      1426\n",
            "   macro avg       0.59      0.61      0.56      1426\n",
            "weighted avg       0.69      0.57      0.59      1426\n",
            "\n",
            "('polarity', 'lexical_chars', 'emotion_exclamations')\n",
            "              precision    recall  f1-score   support\n",
            "\n",
            "           0       0.82      0.40      0.54      1032\n",
            "           1       0.33      0.77      0.46       394\n",
            "\n",
            "   micro avg       0.50      0.50      0.50      1426\n",
            "   macro avg       0.57      0.58      0.50      1426\n",
            "weighted avg       0.68      0.50      0.52      1426\n",
            "\n",
            "('polarity', 'lexical_chars', 'loaded_language')\n"
          ],
          "name": "stdout"
        },
        {
          "output_type": "stream",
          "text": [
            "/usr/local/lib/python3.6/dist-packages/sklearn/svm/base.py:931: ConvergenceWarning: Liblinear failed to converge, increase the number of iterations.\n",
            "  \"the number of iterations.\", ConvergenceWarning)\n"
          ],
          "name": "stderr"
        },
        {
          "output_type": "stream",
          "text": [
            "              precision    recall  f1-score   support\n",
            "\n",
            "           0       0.78      0.64      0.70      1032\n",
            "           1       0.36      0.54      0.43       394\n",
            "\n",
            "   micro avg       0.61      0.61      0.61      1426\n",
            "   macro avg       0.57      0.59      0.57      1426\n",
            "weighted avg       0.67      0.61      0.63      1426\n",
            "\n",
            "('polarity', 'lexical_chars', 'confusing_words')\n"
          ],
          "name": "stdout"
        },
        {
          "output_type": "stream",
          "text": [
            "/usr/local/lib/python3.6/dist-packages/sklearn/svm/base.py:931: ConvergenceWarning: Liblinear failed to converge, increase the number of iterations.\n",
            "  \"the number of iterations.\", ConvergenceWarning)\n"
          ],
          "name": "stderr"
        },
        {
          "output_type": "stream",
          "text": [
            "              precision    recall  f1-score   support\n",
            "\n",
            "           0       0.83      0.46      0.59      1032\n",
            "           1       0.35      0.75      0.47       394\n",
            "\n",
            "   micro avg       0.54      0.54      0.54      1426\n",
            "   macro avg       0.59      0.60      0.53      1426\n",
            "weighted avg       0.69      0.54      0.56      1426\n",
            "\n",
            "('polarity', 'lexical_chars', 'sentiment')\n",
            "              precision    recall  f1-score   support\n",
            "\n",
            "           0       0.81      0.40      0.53      1032\n",
            "           1       0.32      0.76      0.45       394\n",
            "\n",
            "   micro avg       0.50      0.50      0.50      1426\n",
            "   macro avg       0.57      0.58      0.49      1426\n",
            "weighted avg       0.68      0.50      0.51      1426\n",
            "\n",
            "('polarity', 'lexical_chars', 'pos')\n"
          ],
          "name": "stdout"
        },
        {
          "output_type": "stream",
          "text": [
            "/usr/local/lib/python3.6/dist-packages/sklearn/svm/base.py:931: ConvergenceWarning: Liblinear failed to converge, increase the number of iterations.\n",
            "  \"the number of iterations.\", ConvergenceWarning)\n"
          ],
          "name": "stderr"
        },
        {
          "output_type": "stream",
          "text": [
            "              precision    recall  f1-score   support\n",
            "\n",
            "           0       0.79      0.66      0.72      1032\n",
            "           1       0.38      0.54      0.44       394\n",
            "\n",
            "   micro avg       0.63      0.63      0.63      1426\n",
            "   macro avg       0.58      0.60      0.58      1426\n",
            "weighted avg       0.67      0.63      0.64      1426\n",
            "\n",
            "('polarity', 'lexical_chars', 'unique_words')\n"
          ],
          "name": "stdout"
        },
        {
          "output_type": "stream",
          "text": [
            "/usr/local/lib/python3.6/dist-packages/sklearn/svm/base.py:931: ConvergenceWarning: Liblinear failed to converge, increase the number of iterations.\n",
            "  \"the number of iterations.\", ConvergenceWarning)\n"
          ],
          "name": "stderr"
        },
        {
          "output_type": "stream",
          "text": [
            "              precision    recall  f1-score   support\n",
            "\n",
            "           0       0.81      0.26      0.40      1032\n",
            "           1       0.30      0.84      0.44       394\n",
            "\n",
            "   micro avg       0.42      0.42      0.42      1426\n",
            "   macro avg       0.56      0.55      0.42      1426\n",
            "weighted avg       0.67      0.42      0.41      1426\n",
            "\n",
            "('polarity', 'lexical_chars', 'stop_words')\n"
          ],
          "name": "stdout"
        },
        {
          "output_type": "stream",
          "text": [
            "/usr/local/lib/python3.6/dist-packages/sklearn/svm/base.py:931: ConvergenceWarning: Liblinear failed to converge, increase the number of iterations.\n",
            "  \"the number of iterations.\", ConvergenceWarning)\n"
          ],
          "name": "stderr"
        },
        {
          "output_type": "stream",
          "text": [
            "              precision    recall  f1-score   support\n",
            "\n",
            "           0       0.78      0.75      0.76      1032\n",
            "           1       0.41      0.45      0.43       394\n",
            "\n",
            "   micro avg       0.67      0.67      0.67      1426\n",
            "   macro avg       0.59      0.60      0.60      1426\n",
            "weighted avg       0.68      0.67      0.67      1426\n",
            "\n",
            "('polarity', 'lexical_chars', 'title_case_words')\n"
          ],
          "name": "stdout"
        },
        {
          "output_type": "stream",
          "text": [
            "/usr/local/lib/python3.6/dist-packages/sklearn/svm/base.py:931: ConvergenceWarning: Liblinear failed to converge, increase the number of iterations.\n",
            "  \"the number of iterations.\", ConvergenceWarning)\n"
          ],
          "name": "stderr"
        },
        {
          "output_type": "stream",
          "text": [
            "              precision    recall  f1-score   support\n",
            "\n",
            "           0       0.79      0.47      0.59      1032\n",
            "           1       0.33      0.68      0.44       394\n",
            "\n",
            "   micro avg       0.53      0.53      0.53      1426\n",
            "   macro avg       0.56      0.57      0.52      1426\n",
            "weighted avg       0.66      0.53      0.55      1426\n",
            "\n",
            "('polarity', 'lexical_chars', 'total_counts')\n"
          ],
          "name": "stdout"
        },
        {
          "output_type": "stream",
          "text": [
            "/usr/local/lib/python3.6/dist-packages/sklearn/svm/base.py:931: ConvergenceWarning: Liblinear failed to converge, increase the number of iterations.\n",
            "  \"the number of iterations.\", ConvergenceWarning)\n",
            "/usr/local/lib/python3.6/dist-packages/sklearn/metrics/classification.py:1143: UndefinedMetricWarning: Precision and F-score are ill-defined and being set to 0.0 in labels with no predicted samples.\n",
            "  'precision', 'predicted', average, warn_for)\n"
          ],
          "name": "stderr"
        },
        {
          "output_type": "stream",
          "text": [
            "              precision    recall  f1-score   support\n",
            "\n",
            "           0       0.72      1.00      0.84      1032\n",
            "           1       0.00      0.00      0.00       394\n",
            "\n",
            "   micro avg       0.72      0.72      0.72      1426\n",
            "   macro avg       0.36      0.50      0.42      1426\n",
            "weighted avg       0.52      0.72      0.61      1426\n",
            "\n",
            "('polarity', 'lexical_words', 'emotion_exclamations')\n"
          ],
          "name": "stdout"
        },
        {
          "output_type": "stream",
          "text": [
            "/usr/local/lib/python3.6/dist-packages/sklearn/svm/base.py:931: ConvergenceWarning: Liblinear failed to converge, increase the number of iterations.\n",
            "  \"the number of iterations.\", ConvergenceWarning)\n"
          ],
          "name": "stderr"
        },
        {
          "output_type": "stream",
          "text": [
            "              precision    recall  f1-score   support\n",
            "\n",
            "           0       0.80      0.55      0.65      1032\n",
            "           1       0.35      0.64      0.45       394\n",
            "\n",
            "   micro avg       0.57      0.57      0.57      1426\n",
            "   macro avg       0.58      0.59      0.55      1426\n",
            "weighted avg       0.68      0.57      0.60      1426\n",
            "\n",
            "('polarity', 'lexical_words', 'loaded_language')\n"
          ],
          "name": "stdout"
        },
        {
          "output_type": "stream",
          "text": [
            "/usr/local/lib/python3.6/dist-packages/sklearn/svm/base.py:931: ConvergenceWarning: Liblinear failed to converge, increase the number of iterations.\n",
            "  \"the number of iterations.\", ConvergenceWarning)\n"
          ],
          "name": "stderr"
        },
        {
          "output_type": "stream",
          "text": [
            "              precision    recall  f1-score   support\n",
            "\n",
            "           0       0.81      0.63      0.71      1032\n",
            "           1       0.38      0.60      0.47       394\n",
            "\n",
            "   micro avg       0.62      0.62      0.62      1426\n",
            "   macro avg       0.60      0.62      0.59      1426\n",
            "weighted avg       0.69      0.62      0.64      1426\n",
            "\n",
            "('polarity', 'lexical_words', 'confusing_words')\n"
          ],
          "name": "stdout"
        },
        {
          "output_type": "stream",
          "text": [
            "/usr/local/lib/python3.6/dist-packages/sklearn/svm/base.py:931: ConvergenceWarning: Liblinear failed to converge, increase the number of iterations.\n",
            "  \"the number of iterations.\", ConvergenceWarning)\n"
          ],
          "name": "stderr"
        },
        {
          "output_type": "stream",
          "text": [
            "              precision    recall  f1-score   support\n",
            "\n",
            "           0       0.81      0.56      0.66      1032\n",
            "           1       0.36      0.66      0.47       394\n",
            "\n",
            "   micro avg       0.58      0.58      0.58      1426\n",
            "   macro avg       0.59      0.61      0.56      1426\n",
            "weighted avg       0.69      0.58      0.61      1426\n",
            "\n",
            "('polarity', 'lexical_words', 'sentiment')\n"
          ],
          "name": "stdout"
        },
        {
          "output_type": "stream",
          "text": [
            "/usr/local/lib/python3.6/dist-packages/sklearn/svm/base.py:931: ConvergenceWarning: Liblinear failed to converge, increase the number of iterations.\n",
            "  \"the number of iterations.\", ConvergenceWarning)\n"
          ],
          "name": "stderr"
        },
        {
          "output_type": "stream",
          "text": [
            "              precision    recall  f1-score   support\n",
            "\n",
            "           0       0.80      0.56      0.65      1032\n",
            "           1       0.35      0.63      0.45       394\n",
            "\n",
            "   micro avg       0.58      0.58      0.58      1426\n",
            "   macro avg       0.57      0.59      0.55      1426\n",
            "weighted avg       0.67      0.58      0.60      1426\n",
            "\n",
            "('polarity', 'lexical_words', 'pos')\n"
          ],
          "name": "stdout"
        },
        {
          "output_type": "stream",
          "text": [
            "/usr/local/lib/python3.6/dist-packages/sklearn/svm/base.py:931: ConvergenceWarning: Liblinear failed to converge, increase the number of iterations.\n",
            "  \"the number of iterations.\", ConvergenceWarning)\n"
          ],
          "name": "stderr"
        },
        {
          "output_type": "stream",
          "text": [
            "              precision    recall  f1-score   support\n",
            "\n",
            "           0       0.80      0.62      0.70      1032\n",
            "           1       0.37      0.59      0.46       394\n",
            "\n",
            "   micro avg       0.61      0.61      0.61      1426\n",
            "   macro avg       0.59      0.61      0.58      1426\n",
            "weighted avg       0.68      0.61      0.63      1426\n",
            "\n",
            "('polarity', 'lexical_words', 'unique_words')\n"
          ],
          "name": "stdout"
        },
        {
          "output_type": "stream",
          "text": [
            "/usr/local/lib/python3.6/dist-packages/sklearn/svm/base.py:931: ConvergenceWarning: Liblinear failed to converge, increase the number of iterations.\n",
            "  \"the number of iterations.\", ConvergenceWarning)\n"
          ],
          "name": "stderr"
        },
        {
          "output_type": "stream",
          "text": [
            "              precision    recall  f1-score   support\n",
            "\n",
            "           0       0.84      0.44      0.57      1032\n",
            "           1       0.35      0.78      0.48       394\n",
            "\n",
            "   micro avg       0.53      0.53      0.53      1426\n",
            "   macro avg       0.59      0.61      0.53      1426\n",
            "weighted avg       0.70      0.53      0.55      1426\n",
            "\n",
            "('polarity', 'lexical_words', 'stop_words')\n"
          ],
          "name": "stdout"
        },
        {
          "output_type": "stream",
          "text": [
            "/usr/local/lib/python3.6/dist-packages/sklearn/svm/base.py:931: ConvergenceWarning: Liblinear failed to converge, increase the number of iterations.\n",
            "  \"the number of iterations.\", ConvergenceWarning)\n"
          ],
          "name": "stderr"
        },
        {
          "output_type": "stream",
          "text": [
            "              precision    recall  f1-score   support\n",
            "\n",
            "           0       0.80      0.73      0.76      1032\n",
            "           1       0.42      0.51      0.46       394\n",
            "\n",
            "   micro avg       0.67      0.67      0.67      1426\n",
            "   macro avg       0.61      0.62      0.61      1426\n",
            "weighted avg       0.69      0.67      0.68      1426\n",
            "\n",
            "('polarity', 'lexical_words', 'title_case_words')\n"
          ],
          "name": "stdout"
        },
        {
          "output_type": "stream",
          "text": [
            "/usr/local/lib/python3.6/dist-packages/sklearn/svm/base.py:931: ConvergenceWarning: Liblinear failed to converge, increase the number of iterations.\n",
            "  \"the number of iterations.\", ConvergenceWarning)\n"
          ],
          "name": "stderr"
        },
        {
          "output_type": "stream",
          "text": [
            "              precision    recall  f1-score   support\n",
            "\n",
            "           0       0.81      0.54      0.65      1032\n",
            "           1       0.36      0.68      0.47       394\n",
            "\n",
            "   micro avg       0.58      0.58      0.58      1426\n",
            "   macro avg       0.59      0.61      0.56      1426\n",
            "weighted avg       0.69      0.58      0.60      1426\n",
            "\n",
            "('polarity', 'lexical_words', 'total_counts')\n"
          ],
          "name": "stdout"
        },
        {
          "output_type": "stream",
          "text": [
            "/usr/local/lib/python3.6/dist-packages/sklearn/svm/base.py:931: ConvergenceWarning: Liblinear failed to converge, increase the number of iterations.\n",
            "  \"the number of iterations.\", ConvergenceWarning)\n"
          ],
          "name": "stderr"
        },
        {
          "output_type": "stream",
          "text": [
            "              precision    recall  f1-score   support\n",
            "\n",
            "           0       0.73      1.00      0.84      1032\n",
            "           1       0.80      0.01      0.02       394\n",
            "\n",
            "   micro avg       0.73      0.73      0.73      1426\n",
            "   macro avg       0.76      0.50      0.43      1426\n",
            "weighted avg       0.75      0.73      0.61      1426\n",
            "\n",
            "('polarity', 'emotion_exclamations', 'loaded_language')\n"
          ],
          "name": "stdout"
        },
        {
          "output_type": "stream",
          "text": [
            "/usr/local/lib/python3.6/dist-packages/sklearn/svm/base.py:931: ConvergenceWarning: Liblinear failed to converge, increase the number of iterations.\n",
            "  \"the number of iterations.\", ConvergenceWarning)\n"
          ],
          "name": "stderr"
        },
        {
          "output_type": "stream",
          "text": [
            "              precision    recall  f1-score   support\n",
            "\n",
            "           0       0.77      0.73      0.75      1032\n",
            "           1       0.38      0.44      0.41       394\n",
            "\n",
            "   micro avg       0.65      0.65      0.65      1426\n",
            "   macro avg       0.58      0.58      0.58      1426\n",
            "weighted avg       0.67      0.65      0.66      1426\n",
            "\n",
            "('polarity', 'emotion_exclamations', 'confusing_words')\n"
          ],
          "name": "stdout"
        },
        {
          "output_type": "stream",
          "text": [
            "/usr/local/lib/python3.6/dist-packages/sklearn/svm/base.py:931: ConvergenceWarning: Liblinear failed to converge, increase the number of iterations.\n",
            "  \"the number of iterations.\", ConvergenceWarning)\n"
          ],
          "name": "stderr"
        },
        {
          "output_type": "stream",
          "text": [
            "              precision    recall  f1-score   support\n",
            "\n",
            "           0       0.74      0.40      0.52      1032\n",
            "           1       0.29      0.64      0.40       394\n",
            "\n",
            "   micro avg       0.47      0.47      0.47      1426\n",
            "   macro avg       0.52      0.52      0.46      1426\n",
            "weighted avg       0.62      0.47      0.49      1426\n",
            "\n",
            "('polarity', 'emotion_exclamations', 'sentiment')\n",
            "              precision    recall  f1-score   support\n",
            "\n",
            "           0       0.74      0.43      0.54      1032\n",
            "           1       0.29      0.60      0.39       394\n",
            "\n",
            "   micro avg       0.48      0.48      0.48      1426\n",
            "   macro avg       0.51      0.51      0.46      1426\n",
            "weighted avg       0.61      0.48      0.50      1426\n",
            "\n",
            "('polarity', 'emotion_exclamations', 'pos')\n"
          ],
          "name": "stdout"
        },
        {
          "output_type": "stream",
          "text": [
            "/usr/local/lib/python3.6/dist-packages/sklearn/svm/base.py:931: ConvergenceWarning: Liblinear failed to converge, increase the number of iterations.\n",
            "  \"the number of iterations.\", ConvergenceWarning)\n"
          ],
          "name": "stderr"
        },
        {
          "output_type": "stream",
          "text": [
            "              precision    recall  f1-score   support\n",
            "\n",
            "           0       0.78      0.69      0.73      1032\n",
            "           1       0.37      0.49      0.42       394\n",
            "\n",
            "   micro avg       0.63      0.63      0.63      1426\n",
            "   macro avg       0.58      0.59      0.58      1426\n",
            "weighted avg       0.67      0.63      0.65      1426\n",
            "\n",
            "('polarity', 'emotion_exclamations', 'unique_words')\n"
          ],
          "name": "stdout"
        },
        {
          "output_type": "stream",
          "text": [
            "/usr/local/lib/python3.6/dist-packages/sklearn/svm/base.py:931: ConvergenceWarning: Liblinear failed to converge, increase the number of iterations.\n",
            "  \"the number of iterations.\", ConvergenceWarning)\n"
          ],
          "name": "stderr"
        },
        {
          "output_type": "stream",
          "text": [
            "              precision    recall  f1-score   support\n",
            "\n",
            "           0       0.72      1.00      0.84      1032\n",
            "           1       0.00      0.00      0.00       394\n",
            "\n",
            "   micro avg       0.72      0.72      0.72      1426\n",
            "   macro avg       0.36      0.50      0.42      1426\n",
            "weighted avg       0.52      0.72      0.61      1426\n",
            "\n",
            "('polarity', 'emotion_exclamations', 'stop_words')\n"
          ],
          "name": "stdout"
        },
        {
          "output_type": "stream",
          "text": [
            "/usr/local/lib/python3.6/dist-packages/sklearn/svm/base.py:931: ConvergenceWarning: Liblinear failed to converge, increase the number of iterations.\n",
            "  \"the number of iterations.\", ConvergenceWarning)\n"
          ],
          "name": "stderr"
        },
        {
          "output_type": "stream",
          "text": [
            "              precision    recall  f1-score   support\n",
            "\n",
            "           0       0.79      0.65      0.71      1032\n",
            "           1       0.37      0.54      0.44       394\n",
            "\n",
            "   micro avg       0.62      0.62      0.62      1426\n",
            "   macro avg       0.58      0.59      0.58      1426\n",
            "weighted avg       0.67      0.62      0.64      1426\n",
            "\n",
            "('polarity', 'emotion_exclamations', 'title_case_words')\n"
          ],
          "name": "stdout"
        },
        {
          "output_type": "stream",
          "text": [
            "/usr/local/lib/python3.6/dist-packages/sklearn/svm/base.py:931: ConvergenceWarning: Liblinear failed to converge, increase the number of iterations.\n",
            "  \"the number of iterations.\", ConvergenceWarning)\n"
          ],
          "name": "stderr"
        },
        {
          "output_type": "stream",
          "text": [
            "              precision    recall  f1-score   support\n",
            "\n",
            "           0       0.75      0.66      0.70      1032\n",
            "           1       0.32      0.42      0.36       394\n",
            "\n",
            "   micro avg       0.60      0.60      0.60      1426\n",
            "   macro avg       0.54      0.54      0.53      1426\n",
            "weighted avg       0.63      0.60      0.61      1426\n",
            "\n",
            "('polarity', 'emotion_exclamations', 'total_counts')\n"
          ],
          "name": "stdout"
        },
        {
          "output_type": "stream",
          "text": [
            "/usr/local/lib/python3.6/dist-packages/sklearn/svm/base.py:931: ConvergenceWarning: Liblinear failed to converge, increase the number of iterations.\n",
            "  \"the number of iterations.\", ConvergenceWarning)\n"
          ],
          "name": "stderr"
        },
        {
          "output_type": "stream",
          "text": [
            "              precision    recall  f1-score   support\n",
            "\n",
            "           0       0.72      1.00      0.84      1032\n",
            "           1       0.00      0.00      0.00       394\n",
            "\n",
            "   micro avg       0.72      0.72      0.72      1426\n",
            "   macro avg       0.36      0.50      0.42      1426\n",
            "weighted avg       0.52      0.72      0.61      1426\n",
            "\n",
            "('polarity', 'loaded_language', 'confusing_words')\n"
          ],
          "name": "stdout"
        },
        {
          "output_type": "stream",
          "text": [
            "/usr/local/lib/python3.6/dist-packages/sklearn/svm/base.py:931: ConvergenceWarning: Liblinear failed to converge, increase the number of iterations.\n",
            "  \"the number of iterations.\", ConvergenceWarning)\n"
          ],
          "name": "stderr"
        },
        {
          "output_type": "stream",
          "text": [
            "              precision    recall  f1-score   support\n",
            "\n",
            "           0       0.77      0.71      0.74      1032\n",
            "           1       0.37      0.46      0.41       394\n",
            "\n",
            "   micro avg       0.64      0.64      0.64      1426\n",
            "   macro avg       0.57      0.58      0.58      1426\n",
            "weighted avg       0.66      0.64      0.65      1426\n",
            "\n",
            "('polarity', 'loaded_language', 'sentiment')\n"
          ],
          "name": "stdout"
        },
        {
          "output_type": "stream",
          "text": [
            "/usr/local/lib/python3.6/dist-packages/sklearn/svm/base.py:931: ConvergenceWarning: Liblinear failed to converge, increase the number of iterations.\n",
            "  \"the number of iterations.\", ConvergenceWarning)\n"
          ],
          "name": "stderr"
        },
        {
          "output_type": "stream",
          "text": [
            "              precision    recall  f1-score   support\n",
            "\n",
            "           0       0.78      0.71      0.74      1032\n",
            "           1       0.38      0.46      0.42       394\n",
            "\n",
            "   micro avg       0.64      0.64      0.64      1426\n",
            "   macro avg       0.58      0.59      0.58      1426\n",
            "weighted avg       0.67      0.64      0.65      1426\n",
            "\n",
            "('polarity', 'loaded_language', 'pos')\n"
          ],
          "name": "stdout"
        },
        {
          "output_type": "stream",
          "text": [
            "/usr/local/lib/python3.6/dist-packages/sklearn/svm/base.py:931: ConvergenceWarning: Liblinear failed to converge, increase the number of iterations.\n",
            "  \"the number of iterations.\", ConvergenceWarning)\n"
          ],
          "name": "stderr"
        },
        {
          "output_type": "stream",
          "text": [
            "              precision    recall  f1-score   support\n",
            "\n",
            "           0       0.78      0.69      0.73      1032\n",
            "           1       0.37      0.48      0.42       394\n",
            "\n",
            "   micro avg       0.63      0.63      0.63      1426\n",
            "   macro avg       0.57      0.59      0.58      1426\n",
            "weighted avg       0.67      0.63      0.65      1426\n",
            "\n",
            "('polarity', 'loaded_language', 'unique_words')\n"
          ],
          "name": "stdout"
        },
        {
          "output_type": "stream",
          "text": [
            "/usr/local/lib/python3.6/dist-packages/sklearn/svm/base.py:931: ConvergenceWarning: Liblinear failed to converge, increase the number of iterations.\n",
            "  \"the number of iterations.\", ConvergenceWarning)\n"
          ],
          "name": "stderr"
        },
        {
          "output_type": "stream",
          "text": [
            "              precision    recall  f1-score   support\n",
            "\n",
            "           0       0.75      0.91      0.82      1032\n",
            "           1       0.46      0.20      0.28       394\n",
            "\n",
            "   micro avg       0.72      0.72      0.72      1426\n",
            "   macro avg       0.61      0.56      0.55      1426\n",
            "weighted avg       0.67      0.72      0.67      1426\n",
            "\n",
            "('polarity', 'loaded_language', 'stop_words')\n"
          ],
          "name": "stdout"
        },
        {
          "output_type": "stream",
          "text": [
            "/usr/local/lib/python3.6/dist-packages/sklearn/svm/base.py:931: ConvergenceWarning: Liblinear failed to converge, increase the number of iterations.\n",
            "  \"the number of iterations.\", ConvergenceWarning)\n"
          ],
          "name": "stderr"
        },
        {
          "output_type": "stream",
          "text": [
            "              precision    recall  f1-score   support\n",
            "\n",
            "           0       0.76      0.88      0.81      1032\n",
            "           1       0.45      0.26      0.33       394\n",
            "\n",
            "   micro avg       0.71      0.71      0.71      1426\n",
            "   macro avg       0.61      0.57      0.57      1426\n",
            "weighted avg       0.67      0.71      0.68      1426\n",
            "\n",
            "('polarity', 'loaded_language', 'title_case_words')\n"
          ],
          "name": "stdout"
        },
        {
          "output_type": "stream",
          "text": [
            "/usr/local/lib/python3.6/dist-packages/sklearn/svm/base.py:931: ConvergenceWarning: Liblinear failed to converge, increase the number of iterations.\n",
            "  \"the number of iterations.\", ConvergenceWarning)\n"
          ],
          "name": "stderr"
        },
        {
          "output_type": "stream",
          "text": [
            "              precision    recall  f1-score   support\n",
            "\n",
            "           0       0.77      0.70      0.73      1032\n",
            "           1       0.36      0.45      0.40       394\n",
            "\n",
            "   micro avg       0.63      0.63      0.63      1426\n",
            "   macro avg       0.57      0.58      0.57      1426\n",
            "weighted avg       0.66      0.63      0.64      1426\n",
            "\n",
            "('polarity', 'loaded_language', 'total_counts')\n"
          ],
          "name": "stdout"
        },
        {
          "output_type": "stream",
          "text": [
            "/usr/local/lib/python3.6/dist-packages/sklearn/svm/base.py:931: ConvergenceWarning: Liblinear failed to converge, increase the number of iterations.\n",
            "  \"the number of iterations.\", ConvergenceWarning)\n"
          ],
          "name": "stderr"
        },
        {
          "output_type": "stream",
          "text": [
            "              precision    recall  f1-score   support\n",
            "\n",
            "           0       0.72      1.00      0.84      1032\n",
            "           1       1.00      0.00      0.01       394\n",
            "\n",
            "   micro avg       0.72      0.72      0.72      1426\n",
            "   macro avg       0.86      0.50      0.42      1426\n",
            "weighted avg       0.80      0.72      0.61      1426\n",
            "\n",
            "('polarity', 'confusing_words', 'sentiment')\n"
          ],
          "name": "stdout"
        },
        {
          "output_type": "stream",
          "text": [
            "/usr/local/lib/python3.6/dist-packages/sklearn/svm/base.py:931: ConvergenceWarning: Liblinear failed to converge, increase the number of iterations.\n",
            "  \"the number of iterations.\", ConvergenceWarning)\n"
          ],
          "name": "stderr"
        },
        {
          "output_type": "stream",
          "text": [
            "              precision    recall  f1-score   support\n",
            "\n",
            "           0       0.74      0.46      0.57      1032\n",
            "           1       0.29      0.57      0.38       394\n",
            "\n",
            "   micro avg       0.49      0.49      0.49      1426\n",
            "   macro avg       0.51      0.52      0.48      1426\n",
            "weighted avg       0.61      0.49      0.52      1426\n",
            "\n",
            "('polarity', 'confusing_words', 'pos')\n"
          ],
          "name": "stdout"
        },
        {
          "output_type": "stream",
          "text": [
            "/usr/local/lib/python3.6/dist-packages/sklearn/svm/base.py:931: ConvergenceWarning: Liblinear failed to converge, increase the number of iterations.\n",
            "  \"the number of iterations.\", ConvergenceWarning)\n"
          ],
          "name": "stderr"
        },
        {
          "output_type": "stream",
          "text": [
            "              precision    recall  f1-score   support\n",
            "\n",
            "           0       0.78      0.69      0.73      1032\n",
            "           1       0.37      0.49      0.42       394\n",
            "\n",
            "   micro avg       0.63      0.63      0.63      1426\n",
            "   macro avg       0.58      0.59      0.58      1426\n",
            "weighted avg       0.67      0.63      0.65      1426\n",
            "\n",
            "('polarity', 'confusing_words', 'unique_words')\n"
          ],
          "name": "stdout"
        },
        {
          "output_type": "stream",
          "text": [
            "/usr/local/lib/python3.6/dist-packages/sklearn/svm/base.py:931: ConvergenceWarning: Liblinear failed to converge, increase the number of iterations.\n",
            "  \"the number of iterations.\", ConvergenceWarning)\n"
          ],
          "name": "stderr"
        },
        {
          "output_type": "stream",
          "text": [
            "              precision    recall  f1-score   support\n",
            "\n",
            "           0       0.80      0.22      0.35      1032\n",
            "           1       0.29      0.85      0.44       394\n",
            "\n",
            "   micro avg       0.40      0.40      0.40      1426\n",
            "   macro avg       0.55      0.54      0.39      1426\n",
            "weighted avg       0.66      0.40      0.37      1426\n",
            "\n",
            "('polarity', 'confusing_words', 'stop_words')\n"
          ],
          "name": "stdout"
        },
        {
          "output_type": "stream",
          "text": [
            "/usr/local/lib/python3.6/dist-packages/sklearn/svm/base.py:931: ConvergenceWarning: Liblinear failed to converge, increase the number of iterations.\n",
            "  \"the number of iterations.\", ConvergenceWarning)\n"
          ],
          "name": "stderr"
        },
        {
          "output_type": "stream",
          "text": [
            "              precision    recall  f1-score   support\n",
            "\n",
            "           0       0.77      0.78      0.78      1032\n",
            "           1       0.41      0.41      0.41       394\n",
            "\n",
            "   micro avg       0.68      0.68      0.68      1426\n",
            "   macro avg       0.59      0.59      0.59      1426\n",
            "weighted avg       0.67      0.68      0.68      1426\n",
            "\n",
            "('polarity', 'confusing_words', 'title_case_words')\n"
          ],
          "name": "stdout"
        },
        {
          "output_type": "stream",
          "text": [
            "/usr/local/lib/python3.6/dist-packages/sklearn/svm/base.py:931: ConvergenceWarning: Liblinear failed to converge, increase the number of iterations.\n",
            "  \"the number of iterations.\", ConvergenceWarning)\n"
          ],
          "name": "stderr"
        },
        {
          "output_type": "stream",
          "text": [
            "              precision    recall  f1-score   support\n",
            "\n",
            "           0       0.75      0.66      0.70      1032\n",
            "           1       0.32      0.42      0.36       394\n",
            "\n",
            "   micro avg       0.60      0.60      0.60      1426\n",
            "   macro avg       0.53      0.54      0.53      1426\n",
            "weighted avg       0.63      0.60      0.61      1426\n",
            "\n",
            "('polarity', 'confusing_words', 'total_counts')\n"
          ],
          "name": "stdout"
        },
        {
          "output_type": "stream",
          "text": [
            "/usr/local/lib/python3.6/dist-packages/sklearn/svm/base.py:931: ConvergenceWarning: Liblinear failed to converge, increase the number of iterations.\n",
            "  \"the number of iterations.\", ConvergenceWarning)\n",
            "/usr/local/lib/python3.6/dist-packages/sklearn/metrics/classification.py:1143: UndefinedMetricWarning: Precision and F-score are ill-defined and being set to 0.0 in labels with no predicted samples.\n",
            "  'precision', 'predicted', average, warn_for)\n"
          ],
          "name": "stderr"
        },
        {
          "output_type": "stream",
          "text": [
            "              precision    recall  f1-score   support\n",
            "\n",
            "           0       0.72      1.00      0.84      1032\n",
            "           1       0.00      0.00      0.00       394\n",
            "\n",
            "   micro avg       0.72      0.72      0.72      1426\n",
            "   macro avg       0.36      0.50      0.42      1426\n",
            "weighted avg       0.52      0.72      0.61      1426\n",
            "\n",
            "('polarity', 'sentiment', 'pos')\n"
          ],
          "name": "stdout"
        },
        {
          "output_type": "stream",
          "text": [
            "/usr/local/lib/python3.6/dist-packages/sklearn/svm/base.py:931: ConvergenceWarning: Liblinear failed to converge, increase the number of iterations.\n",
            "  \"the number of iterations.\", ConvergenceWarning)\n"
          ],
          "name": "stderr"
        },
        {
          "output_type": "stream",
          "text": [
            "              precision    recall  f1-score   support\n",
            "\n",
            "           0       0.78      0.69      0.73      1032\n",
            "           1       0.37      0.49      0.42       394\n",
            "\n",
            "   micro avg       0.63      0.63      0.63      1426\n",
            "   macro avg       0.58      0.59      0.58      1426\n",
            "weighted avg       0.67      0.63      0.64      1426\n",
            "\n",
            "('polarity', 'sentiment', 'unique_words')\n"
          ],
          "name": "stdout"
        },
        {
          "output_type": "stream",
          "text": [
            "/usr/local/lib/python3.6/dist-packages/sklearn/svm/base.py:931: ConvergenceWarning: Liblinear failed to converge, increase the number of iterations.\n",
            "  \"the number of iterations.\", ConvergenceWarning)\n",
            "/usr/local/lib/python3.6/dist-packages/sklearn/metrics/classification.py:1143: UndefinedMetricWarning: Precision and F-score are ill-defined and being set to 0.0 in labels with no predicted samples.\n",
            "  'precision', 'predicted', average, warn_for)\n"
          ],
          "name": "stderr"
        },
        {
          "output_type": "stream",
          "text": [
            "              precision    recall  f1-score   support\n",
            "\n",
            "           0       0.72      1.00      0.84      1032\n",
            "           1       0.00      0.00      0.00       394\n",
            "\n",
            "   micro avg       0.72      0.72      0.72      1426\n",
            "   macro avg       0.36      0.50      0.42      1426\n",
            "weighted avg       0.52      0.72      0.61      1426\n",
            "\n",
            "('polarity', 'sentiment', 'stop_words')\n"
          ],
          "name": "stdout"
        },
        {
          "output_type": "stream",
          "text": [
            "/usr/local/lib/python3.6/dist-packages/sklearn/svm/base.py:931: ConvergenceWarning: Liblinear failed to converge, increase the number of iterations.\n",
            "  \"the number of iterations.\", ConvergenceWarning)\n"
          ],
          "name": "stderr"
        },
        {
          "output_type": "stream",
          "text": [
            "              precision    recall  f1-score   support\n",
            "\n",
            "           0       0.78      0.76      0.77      1032\n",
            "           1       0.42      0.45      0.43       394\n",
            "\n",
            "   micro avg       0.67      0.67      0.67      1426\n",
            "   macro avg       0.60      0.60      0.60      1426\n",
            "weighted avg       0.68      0.67      0.68      1426\n",
            "\n",
            "('polarity', 'sentiment', 'title_case_words')\n"
          ],
          "name": "stdout"
        },
        {
          "output_type": "stream",
          "text": [
            "/usr/local/lib/python3.6/dist-packages/sklearn/svm/base.py:931: ConvergenceWarning: Liblinear failed to converge, increase the number of iterations.\n",
            "  \"the number of iterations.\", ConvergenceWarning)\n"
          ],
          "name": "stderr"
        },
        {
          "output_type": "stream",
          "text": [
            "              precision    recall  f1-score   support\n",
            "\n",
            "           0       0.75      0.65      0.70      1032\n",
            "           1       0.32      0.43      0.37       394\n",
            "\n",
            "   micro avg       0.59      0.59      0.59      1426\n",
            "   macro avg       0.54      0.54      0.53      1426\n",
            "weighted avg       0.63      0.59      0.61      1426\n",
            "\n",
            "('polarity', 'sentiment', 'total_counts')\n"
          ],
          "name": "stdout"
        },
        {
          "output_type": "stream",
          "text": [
            "/usr/local/lib/python3.6/dist-packages/sklearn/svm/base.py:931: ConvergenceWarning: Liblinear failed to converge, increase the number of iterations.\n",
            "  \"the number of iterations.\", ConvergenceWarning)\n",
            "/usr/local/lib/python3.6/dist-packages/sklearn/metrics/classification.py:1143: UndefinedMetricWarning: Precision and F-score are ill-defined and being set to 0.0 in labels with no predicted samples.\n",
            "  'precision', 'predicted', average, warn_for)\n"
          ],
          "name": "stderr"
        },
        {
          "output_type": "stream",
          "text": [
            "              precision    recall  f1-score   support\n",
            "\n",
            "           0       0.72      1.00      0.84      1032\n",
            "           1       0.00      0.00      0.00       394\n",
            "\n",
            "   micro avg       0.72      0.72      0.72      1426\n",
            "   macro avg       0.36      0.50      0.42      1426\n",
            "weighted avg       0.52      0.72      0.61      1426\n",
            "\n",
            "('polarity', 'pos', 'unique_words')\n"
          ],
          "name": "stdout"
        },
        {
          "output_type": "stream",
          "text": [
            "/usr/local/lib/python3.6/dist-packages/sklearn/svm/base.py:931: ConvergenceWarning: Liblinear failed to converge, increase the number of iterations.\n",
            "  \"the number of iterations.\", ConvergenceWarning)\n"
          ],
          "name": "stderr"
        },
        {
          "output_type": "stream",
          "text": [
            "              precision    recall  f1-score   support\n",
            "\n",
            "           0       0.75      0.92      0.83      1032\n",
            "           1       0.48      0.20      0.28       394\n",
            "\n",
            "   micro avg       0.72      0.72      0.72      1426\n",
            "   macro avg       0.62      0.56      0.55      1426\n",
            "weighted avg       0.68      0.72      0.68      1426\n",
            "\n",
            "('polarity', 'pos', 'stop_words')\n"
          ],
          "name": "stdout"
        },
        {
          "output_type": "stream",
          "text": [
            "/usr/local/lib/python3.6/dist-packages/sklearn/svm/base.py:931: ConvergenceWarning: Liblinear failed to converge, increase the number of iterations.\n",
            "  \"the number of iterations.\", ConvergenceWarning)\n"
          ],
          "name": "stderr"
        },
        {
          "output_type": "stream",
          "text": [
            "              precision    recall  f1-score   support\n",
            "\n",
            "           0       0.74      0.95      0.83      1032\n",
            "           1       0.47      0.10      0.17       394\n",
            "\n",
            "   micro avg       0.72      0.72      0.72      1426\n",
            "   macro avg       0.60      0.53      0.50      1426\n",
            "weighted avg       0.66      0.72      0.65      1426\n",
            "\n",
            "('polarity', 'pos', 'title_case_words')\n"
          ],
          "name": "stdout"
        },
        {
          "output_type": "stream",
          "text": [
            "/usr/local/lib/python3.6/dist-packages/sklearn/svm/base.py:931: ConvergenceWarning: Liblinear failed to converge, increase the number of iterations.\n",
            "  \"the number of iterations.\", ConvergenceWarning)\n"
          ],
          "name": "stderr"
        },
        {
          "output_type": "stream",
          "text": [
            "              precision    recall  f1-score   support\n",
            "\n",
            "           0       0.78      0.70      0.74      1032\n",
            "           1       0.38      0.48      0.43       394\n",
            "\n",
            "   micro avg       0.64      0.64      0.64      1426\n",
            "   macro avg       0.58      0.59      0.58      1426\n",
            "weighted avg       0.67      0.64      0.65      1426\n",
            "\n",
            "('polarity', 'pos', 'total_counts')\n"
          ],
          "name": "stdout"
        },
        {
          "output_type": "stream",
          "text": [
            "/usr/local/lib/python3.6/dist-packages/sklearn/svm/base.py:931: ConvergenceWarning: Liblinear failed to converge, increase the number of iterations.\n",
            "  \"the number of iterations.\", ConvergenceWarning)\n",
            "/usr/local/lib/python3.6/dist-packages/sklearn/metrics/classification.py:1143: UndefinedMetricWarning: Precision and F-score are ill-defined and being set to 0.0 in labels with no predicted samples.\n",
            "  'precision', 'predicted', average, warn_for)\n"
          ],
          "name": "stderr"
        },
        {
          "output_type": "stream",
          "text": [
            "              precision    recall  f1-score   support\n",
            "\n",
            "           0       0.72      1.00      0.84      1032\n",
            "           1       0.00      0.00      0.00       394\n",
            "\n",
            "   micro avg       0.72      0.72      0.72      1426\n",
            "   macro avg       0.36      0.50      0.42      1426\n",
            "weighted avg       0.52      0.72      0.61      1426\n",
            "\n",
            "('polarity', 'unique_words', 'stop_words')\n"
          ],
          "name": "stdout"
        },
        {
          "output_type": "stream",
          "text": [
            "/usr/local/lib/python3.6/dist-packages/sklearn/svm/base.py:931: ConvergenceWarning: Liblinear failed to converge, increase the number of iterations.\n",
            "  \"the number of iterations.\", ConvergenceWarning)\n"
          ],
          "name": "stderr"
        },
        {
          "output_type": "stream",
          "text": [
            "              precision    recall  f1-score   support\n",
            "\n",
            "           0       0.78      0.76      0.77      1032\n",
            "           1       0.41      0.43      0.42       394\n",
            "\n",
            "   micro avg       0.67      0.67      0.67      1426\n",
            "   macro avg       0.59      0.60      0.59      1426\n",
            "weighted avg       0.68      0.67      0.67      1426\n",
            "\n",
            "('polarity', 'unique_words', 'title_case_words')\n"
          ],
          "name": "stdout"
        },
        {
          "output_type": "stream",
          "text": [
            "/usr/local/lib/python3.6/dist-packages/sklearn/svm/base.py:931: ConvergenceWarning: Liblinear failed to converge, increase the number of iterations.\n",
            "  \"the number of iterations.\", ConvergenceWarning)\n",
            "/usr/local/lib/python3.6/dist-packages/sklearn/metrics/classification.py:1143: UndefinedMetricWarning: Precision and F-score are ill-defined and being set to 0.0 in labels with no predicted samples.\n",
            "  'precision', 'predicted', average, warn_for)\n"
          ],
          "name": "stderr"
        },
        {
          "output_type": "stream",
          "text": [
            "              precision    recall  f1-score   support\n",
            "\n",
            "           0       0.72      1.00      0.84      1032\n",
            "           1       0.00      0.00      0.00       394\n",
            "\n",
            "   micro avg       0.72      0.72      0.72      1426\n",
            "   macro avg       0.36      0.50      0.42      1426\n",
            "weighted avg       0.52      0.72      0.61      1426\n",
            "\n",
            "('polarity', 'unique_words', 'total_counts')\n"
          ],
          "name": "stdout"
        },
        {
          "output_type": "stream",
          "text": [
            "/usr/local/lib/python3.6/dist-packages/sklearn/svm/base.py:931: ConvergenceWarning: Liblinear failed to converge, increase the number of iterations.\n",
            "  \"the number of iterations.\", ConvergenceWarning)\n",
            "/usr/local/lib/python3.6/dist-packages/sklearn/metrics/classification.py:1143: UndefinedMetricWarning: Precision and F-score are ill-defined and being set to 0.0 in labels with no predicted samples.\n",
            "  'precision', 'predicted', average, warn_for)\n"
          ],
          "name": "stderr"
        },
        {
          "output_type": "stream",
          "text": [
            "              precision    recall  f1-score   support\n",
            "\n",
            "           0       0.72      1.00      0.84      1032\n",
            "           1       0.00      0.00      0.00       394\n",
            "\n",
            "   micro avg       0.72      0.72      0.72      1426\n",
            "   macro avg       0.36      0.50      0.42      1426\n",
            "weighted avg       0.52      0.72      0.61      1426\n",
            "\n",
            "('polarity', 'stop_words', 'title_case_words')\n"
          ],
          "name": "stdout"
        },
        {
          "output_type": "stream",
          "text": [
            "/usr/local/lib/python3.6/dist-packages/sklearn/svm/base.py:931: ConvergenceWarning: Liblinear failed to converge, increase the number of iterations.\n",
            "  \"the number of iterations.\", ConvergenceWarning)\n"
          ],
          "name": "stderr"
        },
        {
          "output_type": "stream",
          "text": [
            "              precision    recall  f1-score   support\n",
            "\n",
            "           0       0.78      0.61      0.68      1032\n",
            "           1       0.35      0.55      0.43       394\n",
            "\n",
            "   micro avg       0.59      0.59      0.59      1426\n",
            "   macro avg       0.57      0.58      0.56      1426\n",
            "weighted avg       0.66      0.59      0.61      1426\n",
            "\n",
            "('polarity', 'stop_words', 'total_counts')\n"
          ],
          "name": "stdout"
        },
        {
          "output_type": "stream",
          "text": [
            "/usr/local/lib/python3.6/dist-packages/sklearn/svm/base.py:931: ConvergenceWarning: Liblinear failed to converge, increase the number of iterations.\n",
            "  \"the number of iterations.\", ConvergenceWarning)\n",
            "/usr/local/lib/python3.6/dist-packages/sklearn/metrics/classification.py:1143: UndefinedMetricWarning: Precision and F-score are ill-defined and being set to 0.0 in labels with no predicted samples.\n",
            "  'precision', 'predicted', average, warn_for)\n"
          ],
          "name": "stderr"
        },
        {
          "output_type": "stream",
          "text": [
            "              precision    recall  f1-score   support\n",
            "\n",
            "           0       0.72      1.00      0.84      1032\n",
            "           1       0.00      0.00      0.00       394\n",
            "\n",
            "   micro avg       0.72      0.72      0.72      1426\n",
            "   macro avg       0.36      0.50      0.42      1426\n",
            "weighted avg       0.52      0.72      0.61      1426\n",
            "\n",
            "('polarity', 'title_case_words', 'total_counts')\n"
          ],
          "name": "stdout"
        },
        {
          "output_type": "stream",
          "text": [
            "/usr/local/lib/python3.6/dist-packages/sklearn/svm/base.py:931: ConvergenceWarning: Liblinear failed to converge, increase the number of iterations.\n",
            "  \"the number of iterations.\", ConvergenceWarning)\n",
            "/usr/local/lib/python3.6/dist-packages/sklearn/metrics/classification.py:1143: UndefinedMetricWarning: Precision and F-score are ill-defined and being set to 0.0 in labels with no predicted samples.\n",
            "  'precision', 'predicted', average, warn_for)\n"
          ],
          "name": "stderr"
        },
        {
          "output_type": "stream",
          "text": [
            "              precision    recall  f1-score   support\n",
            "\n",
            "           0       0.72      1.00      0.84      1032\n",
            "           1       0.00      0.00      0.00       394\n",
            "\n",
            "   micro avg       0.72      0.72      0.72      1426\n",
            "   macro avg       0.36      0.50      0.42      1426\n",
            "weighted avg       0.52      0.72      0.61      1426\n",
            "\n",
            "('sentence_type', 'emotions', 'readability')\n"
          ],
          "name": "stdout"
        },
        {
          "output_type": "stream",
          "text": [
            "/usr/local/lib/python3.6/dist-packages/sklearn/svm/base.py:931: ConvergenceWarning: Liblinear failed to converge, increase the number of iterations.\n",
            "  \"the number of iterations.\", ConvergenceWarning)\n"
          ],
          "name": "stderr"
        },
        {
          "output_type": "stream",
          "text": [
            "              precision    recall  f1-score   support\n",
            "\n",
            "           0       0.80      0.07      0.13      1032\n",
            "           1       0.28      0.95      0.43       394\n",
            "\n",
            "   micro avg       0.32      0.32      0.32      1426\n",
            "   macro avg       0.54      0.51      0.28      1426\n",
            "weighted avg       0.66      0.32      0.22      1426\n",
            "\n",
            "('sentence_type', 'emotions', 'tf-idf')\n",
            "              precision    recall  f1-score   support\n",
            "\n",
            "           0       0.82      0.77      0.80      1032\n",
            "           1       0.49      0.56      0.52       394\n",
            "\n",
            "   micro avg       0.71      0.71      0.71      1426\n",
            "   macro avg       0.65      0.67      0.66      1426\n",
            "weighted avg       0.73      0.71      0.72      1426\n",
            "\n",
            "('sentence_type', 'emotions', 'loaded_words')\n"
          ],
          "name": "stdout"
        },
        {
          "output_type": "stream",
          "text": [
            "/usr/local/lib/python3.6/dist-packages/sklearn/svm/base.py:931: ConvergenceWarning: Liblinear failed to converge, increase the number of iterations.\n",
            "  \"the number of iterations.\", ConvergenceWarning)\n"
          ],
          "name": "stderr"
        },
        {
          "output_type": "stream",
          "text": [
            "              precision    recall  f1-score   support\n",
            "\n",
            "           0       0.81      0.62      0.70      1032\n",
            "           1       0.38      0.61      0.47       394\n",
            "\n",
            "   micro avg       0.62      0.62      0.62      1426\n",
            "   macro avg       0.60      0.62      0.59      1426\n",
            "weighted avg       0.69      0.62      0.64      1426\n",
            "\n",
            "('sentence_type', 'emotions', 'exclamation_words')\n",
            "              precision    recall  f1-score   support\n",
            "\n",
            "           0       0.81      0.58      0.68      1032\n",
            "           1       0.37      0.65      0.47       394\n",
            "\n",
            "   micro avg       0.60      0.60      0.60      1426\n",
            "   macro avg       0.59      0.62      0.58      1426\n",
            "weighted avg       0.69      0.60      0.62      1426\n",
            "\n",
            "('sentence_type', 'emotions', 'lexical_chars')\n",
            "              precision    recall  f1-score   support\n",
            "\n",
            "           0       0.83      0.58      0.68      1032\n",
            "           1       0.38      0.68      0.49       394\n",
            "\n",
            "   micro avg       0.61      0.61      0.61      1426\n",
            "   macro avg       0.60      0.63      0.59      1426\n",
            "weighted avg       0.70      0.61      0.63      1426\n",
            "\n",
            "('sentence_type', 'emotions', 'lexical_words')\n"
          ],
          "name": "stdout"
        },
        {
          "output_type": "stream",
          "text": [
            "/usr/local/lib/python3.6/dist-packages/sklearn/svm/base.py:931: ConvergenceWarning: Liblinear failed to converge, increase the number of iterations.\n",
            "  \"the number of iterations.\", ConvergenceWarning)\n"
          ],
          "name": "stderr"
        },
        {
          "output_type": "stream",
          "text": [
            "              precision    recall  f1-score   support\n",
            "\n",
            "           0       0.82      0.59      0.69      1032\n",
            "           1       0.38      0.66      0.49       394\n",
            "\n",
            "   micro avg       0.61      0.61      0.61      1426\n",
            "   macro avg       0.60      0.63      0.59      1426\n",
            "weighted avg       0.70      0.61      0.63      1426\n",
            "\n",
            "('sentence_type', 'emotions', 'emotion_exclamations')\n",
            "              precision    recall  f1-score   support\n",
            "\n",
            "           0       0.81      0.58      0.68      1032\n",
            "           1       0.37      0.65      0.47       394\n",
            "\n",
            "   micro avg       0.60      0.60      0.60      1426\n",
            "   macro avg       0.59      0.62      0.58      1426\n",
            "weighted avg       0.69      0.60      0.62      1426\n",
            "\n",
            "('sentence_type', 'emotions', 'loaded_language')\n"
          ],
          "name": "stdout"
        },
        {
          "output_type": "stream",
          "text": [
            "/usr/local/lib/python3.6/dist-packages/sklearn/svm/base.py:931: ConvergenceWarning: Liblinear failed to converge, increase the number of iterations.\n",
            "  \"the number of iterations.\", ConvergenceWarning)\n"
          ],
          "name": "stderr"
        },
        {
          "output_type": "stream",
          "text": [
            "              precision    recall  f1-score   support\n",
            "\n",
            "           0       0.81      0.62      0.70      1032\n",
            "           1       0.38      0.61      0.47       394\n",
            "\n",
            "   micro avg       0.62      0.62      0.62      1426\n",
            "   macro avg       0.60      0.62      0.59      1426\n",
            "weighted avg       0.69      0.62      0.64      1426\n",
            "\n",
            "('sentence_type', 'emotions', 'confusing_words')\n"
          ],
          "name": "stdout"
        },
        {
          "output_type": "stream",
          "text": [
            "/usr/local/lib/python3.6/dist-packages/sklearn/svm/base.py:931: ConvergenceWarning: Liblinear failed to converge, increase the number of iterations.\n",
            "  \"the number of iterations.\", ConvergenceWarning)\n"
          ],
          "name": "stderr"
        },
        {
          "output_type": "stream",
          "text": [
            "              precision    recall  f1-score   support\n",
            "\n",
            "           0       0.81      0.59      0.68      1032\n",
            "           1       0.37      0.64      0.47       394\n",
            "\n",
            "   micro avg       0.60      0.60      0.60      1426\n",
            "   macro avg       0.59      0.61      0.57      1426\n",
            "weighted avg       0.69      0.60      0.62      1426\n",
            "\n",
            "('sentence_type', 'emotions', 'sentiment')\n",
            "              precision    recall  f1-score   support\n",
            "\n",
            "           0       0.81      0.58      0.68      1032\n",
            "           1       0.37      0.65      0.47       394\n",
            "\n",
            "   micro avg       0.60      0.60      0.60      1426\n",
            "   macro avg       0.59      0.62      0.58      1426\n",
            "weighted avg       0.69      0.60      0.62      1426\n",
            "\n",
            "('sentence_type', 'emotions', 'pos')\n"
          ],
          "name": "stdout"
        },
        {
          "output_type": "stream",
          "text": [
            "/usr/local/lib/python3.6/dist-packages/sklearn/svm/base.py:931: ConvergenceWarning: Liblinear failed to converge, increase the number of iterations.\n",
            "  \"the number of iterations.\", ConvergenceWarning)\n"
          ],
          "name": "stderr"
        },
        {
          "output_type": "stream",
          "text": [
            "              precision    recall  f1-score   support\n",
            "\n",
            "           0       0.81      0.63      0.71      1032\n",
            "           1       0.39      0.62      0.48       394\n",
            "\n",
            "   micro avg       0.63      0.63      0.63      1426\n",
            "   macro avg       0.60      0.63      0.60      1426\n",
            "weighted avg       0.70      0.63      0.65      1426\n",
            "\n",
            "('sentence_type', 'emotions', 'unique_words')\n"
          ],
          "name": "stdout"
        },
        {
          "output_type": "stream",
          "text": [
            "/usr/local/lib/python3.6/dist-packages/sklearn/svm/base.py:931: ConvergenceWarning: Liblinear failed to converge, increase the number of iterations.\n",
            "  \"the number of iterations.\", ConvergenceWarning)\n"
          ],
          "name": "stderr"
        },
        {
          "output_type": "stream",
          "text": [
            "              precision    recall  f1-score   support\n",
            "\n",
            "           0       0.76      0.85      0.80      1032\n",
            "           1       0.42      0.30      0.35       394\n",
            "\n",
            "   micro avg       0.69      0.69      0.69      1426\n",
            "   macro avg       0.59      0.57      0.57      1426\n",
            "weighted avg       0.67      0.69      0.68      1426\n",
            "\n",
            "('sentence_type', 'emotions', 'stop_words')\n"
          ],
          "name": "stdout"
        },
        {
          "output_type": "error",
          "ename": "KeyboardInterrupt",
          "evalue": "ignored",
          "traceback": [
            "\u001b[0;31m---------------------------------------------------------------------------\u001b[0m",
            "\u001b[0;31mKeyboardInterrupt\u001b[0m                         Traceback (most recent call last)",
            "\u001b[0;32m<ipython-input-73-c990d00a5ccc>\u001b[0m in \u001b[0;36m<module>\u001b[0;34m()\u001b[0m\n\u001b[1;32m      1\u001b[0m \u001b[0;32mfor\u001b[0m \u001b[0ml\u001b[0m \u001b[0;32min\u001b[0m \u001b[0mlst_features\u001b[0m\u001b[0;34m:\u001b[0m\u001b[0;34m\u001b[0m\u001b[0;34m\u001b[0m\u001b[0m\n\u001b[1;32m      2\u001b[0m   \u001b[0mprint\u001b[0m\u001b[0;34m(\u001b[0m\u001b[0;34m(\u001b[0m\u001b[0ml\u001b[0m\u001b[0;34m[\u001b[0m\u001b[0;36m0\u001b[0m\u001b[0;34m]\u001b[0m\u001b[0;34m[\u001b[0m\u001b[0;36m0\u001b[0m\u001b[0;34m]\u001b[0m\u001b[0;34m,\u001b[0m \u001b[0ml\u001b[0m\u001b[0;34m[\u001b[0m\u001b[0;36m1\u001b[0m\u001b[0;34m]\u001b[0m\u001b[0;34m[\u001b[0m\u001b[0;36m0\u001b[0m\u001b[0;34m]\u001b[0m\u001b[0;34m,\u001b[0m \u001b[0ml\u001b[0m\u001b[0;34m[\u001b[0m\u001b[0;36m2\u001b[0m\u001b[0;34m]\u001b[0m\u001b[0;34m[\u001b[0m\u001b[0;36m0\u001b[0m\u001b[0;34m]\u001b[0m\u001b[0;34m)\u001b[0m\u001b[0;34m)\u001b[0m\u001b[0;34m\u001b[0m\u001b[0;34m\u001b[0m\u001b[0m\n\u001b[0;32m----> 3\u001b[0;31m   \u001b[0mtrain_and_test\u001b[0m\u001b[0;34m(\u001b[0m\u001b[0mLinearSVC\u001b[0m\u001b[0;34m(\u001b[0m\u001b[0mC\u001b[0m\u001b[0;34m=\u001b[0m\u001b[0;36m1.0\u001b[0m\u001b[0;34m,\u001b[0m \u001b[0mclass_weight\u001b[0m\u001b[0;34m=\u001b[0m\u001b[0;34m'balanced'\u001b[0m\u001b[0;34m,\u001b[0m \u001b[0mmulti_class\u001b[0m\u001b[0;34m=\u001b[0m\u001b[0;34m'ovr'\u001b[0m\u001b[0;34m,\u001b[0m \u001b[0mrandom_state\u001b[0m\u001b[0;34m=\u001b[0m\u001b[0mSEED\u001b[0m\u001b[0;34m)\u001b[0m\u001b[0;34m,\u001b[0m \u001b[0ml\u001b[0m\u001b[0;34m)\u001b[0m\u001b[0;34m\u001b[0m\u001b[0;34m\u001b[0m\u001b[0m\n\u001b[0m",
            "\u001b[0;32m<ipython-input-64-6eb7952b98fd>\u001b[0m in \u001b[0;36mtrain_and_test\u001b[0;34m(classifier, features)\u001b[0m\n\u001b[1;32m     33\u001b[0m     \u001b[0my_pred\u001b[0m \u001b[0;34m=\u001b[0m \u001b[0mclassifier\u001b[0m\u001b[0;34m.\u001b[0m\u001b[0mpredict\u001b[0m\u001b[0;34m(\u001b[0m\u001b[0mhstack\u001b[0m\u001b[0;34m(\u001b[0m\u001b[0;34m[\u001b[0m\u001b[0mx_val\u001b[0m\u001b[0;34m,\u001b[0m \u001b[0mX_val\u001b[0m\u001b[0;34m[\u001b[0m\u001b[0mfeats_dataset\u001b[0m\u001b[0;34m]\u001b[0m\u001b[0;34m.\u001b[0m\u001b[0mvalues\u001b[0m\u001b[0;34m]\u001b[0m\u001b[0;34m)\u001b[0m\u001b[0;34m)\u001b[0m\u001b[0;34m\u001b[0m\u001b[0;34m\u001b[0m\u001b[0m\n\u001b[1;32m     34\u001b[0m   \u001b[0;32melse\u001b[0m\u001b[0;34m:\u001b[0m\u001b[0;34m\u001b[0m\u001b[0;34m\u001b[0m\u001b[0m\n\u001b[0;32m---> 35\u001b[0;31m     \u001b[0mclassifier\u001b[0m\u001b[0;34m.\u001b[0m\u001b[0mfit\u001b[0m\u001b[0;34m(\u001b[0m\u001b[0mX_train\u001b[0m\u001b[0;34m[\u001b[0m\u001b[0mfeats_dataset\u001b[0m\u001b[0;34m]\u001b[0m\u001b[0;34m,\u001b[0m \u001b[0my_train\u001b[0m\u001b[0;34m.\u001b[0m\u001b[0mvalues\u001b[0m\u001b[0;34m.\u001b[0m\u001b[0mravel\u001b[0m\u001b[0;34m(\u001b[0m\u001b[0;34m)\u001b[0m\u001b[0;34m)\u001b[0m\u001b[0;34m\u001b[0m\u001b[0;34m\u001b[0m\u001b[0m\n\u001b[0m\u001b[1;32m     36\u001b[0m     \u001b[0my_pred\u001b[0m \u001b[0;34m=\u001b[0m \u001b[0mclassifier\u001b[0m\u001b[0;34m.\u001b[0m\u001b[0mpredict\u001b[0m\u001b[0;34m(\u001b[0m\u001b[0mX_val\u001b[0m\u001b[0;34m[\u001b[0m\u001b[0mfeats_dataset\u001b[0m\u001b[0;34m]\u001b[0m\u001b[0;34m)\u001b[0m\u001b[0;34m\u001b[0m\u001b[0;34m\u001b[0m\u001b[0m\n\u001b[1;32m     37\u001b[0m \u001b[0;34m\u001b[0m\u001b[0m\n",
            "\u001b[0;32m/usr/local/lib/python3.6/dist-packages/sklearn/svm/classes.py\u001b[0m in \u001b[0;36mfit\u001b[0;34m(self, X, y, sample_weight)\u001b[0m\n\u001b[1;32m    235\u001b[0m             \u001b[0mself\u001b[0m\u001b[0;34m.\u001b[0m\u001b[0mclass_weight\u001b[0m\u001b[0;34m,\u001b[0m \u001b[0mself\u001b[0m\u001b[0;34m.\u001b[0m\u001b[0mpenalty\u001b[0m\u001b[0;34m,\u001b[0m \u001b[0mself\u001b[0m\u001b[0;34m.\u001b[0m\u001b[0mdual\u001b[0m\u001b[0;34m,\u001b[0m \u001b[0mself\u001b[0m\u001b[0;34m.\u001b[0m\u001b[0mverbose\u001b[0m\u001b[0;34m,\u001b[0m\u001b[0;34m\u001b[0m\u001b[0;34m\u001b[0m\u001b[0m\n\u001b[1;32m    236\u001b[0m             \u001b[0mself\u001b[0m\u001b[0;34m.\u001b[0m\u001b[0mmax_iter\u001b[0m\u001b[0;34m,\u001b[0m \u001b[0mself\u001b[0m\u001b[0;34m.\u001b[0m\u001b[0mtol\u001b[0m\u001b[0;34m,\u001b[0m \u001b[0mself\u001b[0m\u001b[0;34m.\u001b[0m\u001b[0mrandom_state\u001b[0m\u001b[0;34m,\u001b[0m \u001b[0mself\u001b[0m\u001b[0;34m.\u001b[0m\u001b[0mmulti_class\u001b[0m\u001b[0;34m,\u001b[0m\u001b[0;34m\u001b[0m\u001b[0;34m\u001b[0m\u001b[0m\n\u001b[0;32m--> 237\u001b[0;31m             self.loss, sample_weight=sample_weight)\n\u001b[0m\u001b[1;32m    238\u001b[0m \u001b[0;34m\u001b[0m\u001b[0m\n\u001b[1;32m    239\u001b[0m         \u001b[0;32mif\u001b[0m \u001b[0mself\u001b[0m\u001b[0;34m.\u001b[0m\u001b[0mmulti_class\u001b[0m \u001b[0;34m==\u001b[0m \u001b[0;34m\"crammer_singer\"\u001b[0m \u001b[0;32mand\u001b[0m \u001b[0mlen\u001b[0m\u001b[0;34m(\u001b[0m\u001b[0mself\u001b[0m\u001b[0;34m.\u001b[0m\u001b[0mclasses_\u001b[0m\u001b[0;34m)\u001b[0m \u001b[0;34m==\u001b[0m \u001b[0;36m2\u001b[0m\u001b[0;34m:\u001b[0m\u001b[0;34m\u001b[0m\u001b[0;34m\u001b[0m\u001b[0m\n",
            "\u001b[0;32m/usr/local/lib/python3.6/dist-packages/sklearn/svm/base.py\u001b[0m in \u001b[0;36m_fit_liblinear\u001b[0;34m(X, y, C, fit_intercept, intercept_scaling, class_weight, penalty, dual, verbose, max_iter, tol, random_state, multi_class, loss, epsilon, sample_weight)\u001b[0m\n\u001b[1;32m    921\u001b[0m         \u001b[0mX\u001b[0m\u001b[0;34m,\u001b[0m \u001b[0my_ind\u001b[0m\u001b[0;34m,\u001b[0m \u001b[0msp\u001b[0m\u001b[0;34m.\u001b[0m\u001b[0misspmatrix\u001b[0m\u001b[0;34m(\u001b[0m\u001b[0mX\u001b[0m\u001b[0;34m)\u001b[0m\u001b[0;34m,\u001b[0m \u001b[0msolver_type\u001b[0m\u001b[0;34m,\u001b[0m \u001b[0mtol\u001b[0m\u001b[0;34m,\u001b[0m \u001b[0mbias\u001b[0m\u001b[0;34m,\u001b[0m \u001b[0mC\u001b[0m\u001b[0;34m,\u001b[0m\u001b[0;34m\u001b[0m\u001b[0;34m\u001b[0m\u001b[0m\n\u001b[1;32m    922\u001b[0m         \u001b[0mclass_weight_\u001b[0m\u001b[0;34m,\u001b[0m \u001b[0mmax_iter\u001b[0m\u001b[0;34m,\u001b[0m \u001b[0mrnd\u001b[0m\u001b[0;34m.\u001b[0m\u001b[0mrandint\u001b[0m\u001b[0;34m(\u001b[0m\u001b[0mnp\u001b[0m\u001b[0;34m.\u001b[0m\u001b[0miinfo\u001b[0m\u001b[0;34m(\u001b[0m\u001b[0;34m'i'\u001b[0m\u001b[0;34m)\u001b[0m\u001b[0;34m.\u001b[0m\u001b[0mmax\u001b[0m\u001b[0;34m)\u001b[0m\u001b[0;34m,\u001b[0m\u001b[0;34m\u001b[0m\u001b[0;34m\u001b[0m\u001b[0m\n\u001b[0;32m--> 923\u001b[0;31m         epsilon, sample_weight)\n\u001b[0m\u001b[1;32m    924\u001b[0m     \u001b[0;31m# Regarding rnd.randint(..) in the above signature:\u001b[0m\u001b[0;34m\u001b[0m\u001b[0;34m\u001b[0m\u001b[0;34m\u001b[0m\u001b[0m\n\u001b[1;32m    925\u001b[0m     \u001b[0;31m# seed for srand in range [0..INT_MAX); due to limitations in Numpy\u001b[0m\u001b[0;34m\u001b[0m\u001b[0;34m\u001b[0m\u001b[0;34m\u001b[0m\u001b[0m\n",
            "\u001b[0;31mKeyboardInterrupt\u001b[0m: "
          ]
        }
      ]
    },
    {
      "metadata": {
        "id": "V6r8t6MI_oER",
        "colab_type": "code",
        "outputId": "f5945bc3-3415-4822-a415-f3289947fbfb",
        "colab": {
          "base_uri": "https://localhost:8080/",
          "height": 107
        }
      },
      "cell_type": "code",
      "source": [
        "!git clone https://github.com/openai/generating-reviews-discovering-sentiment.git"
      ],
      "execution_count": 0,
      "outputs": [
        {
          "output_type": "stream",
          "text": [
            "Cloning into 'generating-reviews-discovering-sentiment'...\n",
            "remote: Enumerating objects: 63, done.\u001b[K\n",
            "remote: Total 63 (delta 0), reused 0 (delta 0), pack-reused 63\u001b[K\n",
            "Unpacking objects: 100% (63/63), done.\n",
            "Checking out files: 100% (24/24), done.\n"
          ],
          "name": "stdout"
        }
      ]
    },
    {
      "metadata": {
        "id": "Wg_A5yWTFw_q",
        "colab_type": "code",
        "outputId": "72ef4437-6843-46f3-aadb-d4388737760d",
        "colab": {
          "base_uri": "https://localhost:8080/",
          "height": 352
        }
      },
      "cell_type": "code",
      "source": [
        "# from encoder import Model\n",
        "\n",
        "# model = Model()"
      ],
      "execution_count": 0,
      "outputs": [
        {
          "output_type": "error",
          "ename": "ModuleNotFoundError",
          "evalue": "ignored",
          "traceback": [
            "\u001b[0;31m---------------------------------------------------------------------------\u001b[0m",
            "\u001b[0;31mModuleNotFoundError\u001b[0m                       Traceback (most recent call last)",
            "\u001b[0;32m<ipython-input-75-c2abaf2e0611>\u001b[0m in \u001b[0;36m<module>\u001b[0;34m()\u001b[0m\n\u001b[0;32m----> 1\u001b[0;31m \u001b[0;32mfrom\u001b[0m \u001b[0mencoder\u001b[0m \u001b[0;32mimport\u001b[0m \u001b[0mModel\u001b[0m\u001b[0;34m\u001b[0m\u001b[0;34m\u001b[0m\u001b[0m\n\u001b[0m\u001b[1;32m      2\u001b[0m \u001b[0;34m\u001b[0m\u001b[0m\n\u001b[1;32m      3\u001b[0m \u001b[0mmodel\u001b[0m \u001b[0;34m=\u001b[0m \u001b[0mModel\u001b[0m\u001b[0;34m(\u001b[0m\u001b[0;34m)\u001b[0m\u001b[0;34m\u001b[0m\u001b[0;34m\u001b[0m\u001b[0m\n",
            "\u001b[0;31mModuleNotFoundError\u001b[0m: No module named 'encoder'",
            "",
            "\u001b[0;31m---------------------------------------------------------------------------\u001b[0;32m\nNOTE: If your import is failing due to a missing package, you can\nmanually install dependencies using either !pip or !apt.\n\nTo view examples of installing some common dependencies, click the\n\"Open Examples\" button below.\n\u001b[0;31m---------------------------------------------------------------------------\u001b[0m\n"
          ]
        }
      ]
    },
    {
      "metadata": {
        "id": "M0fc3c00GH7k",
        "colab_type": "code",
        "outputId": "c760a21a-0bda-49ea-8ffe-c3da8b5bf977",
        "colab": {
          "base_uri": "https://localhost:8080/",
          "height": 53
        }
      },
      "cell_type": "code",
      "source": [
        "%cd generating-reviews-discovering-sentiment\n",
        "!pip install tqdm\n"
      ],
      "execution_count": 0,
      "outputs": [
        {
          "output_type": "stream",
          "text": [
            "/content/generating-reviews-discovering-sentiment\n",
            "Requirement already satisfied: tqdm in /usr/local/lib/python3.6/dist-packages (4.28.1)\n"
          ],
          "name": "stdout"
        }
      ]
    },
    {
      "metadata": {
        "id": "bIRikvynGQhW",
        "colab_type": "code",
        "outputId": "1130503c-c9ba-4138-b9c1-e7772b5c0164",
        "colab": {
          "base_uri": "https://localhost:8080/",
          "height": 71
        }
      },
      "cell_type": "code",
      "source": [
        "from encoder import Model\n",
        "\n",
        "model = Model()"
      ],
      "execution_count": 0,
      "outputs": [
        {
          "output_type": "stream",
          "text": [
            "WARNING:tensorflow:From /content/generating-reviews-discovering-sentiment/encoder.py:59: calling l2_normalize (from tensorflow.python.ops.nn_impl) with dim is deprecated and will be removed in a future version.\n",
            "Instructions for updating:\n",
            "dim is deprecated, use axis instead\n"
          ],
          "name": "stdout"
        }
      ]
    },
    {
      "metadata": {
        "id": "4JQOcQvMGTq5",
        "colab_type": "code",
        "outputId": "a6a29436-165f-479b-c22f-a103c2ba738c",
        "colab": {
          "base_uri": "https://localhost:8080/",
          "height": 35
        }
      },
      "cell_type": "code",
      "source": [
        "text_features = model.transform([\n",
        "    'the food was hot and the service was fast!'\n",
        "])\n"
      ],
      "execution_count": 0,
      "outputs": [
        {
          "output_type": "stream",
          "text": [
            "0.203 seconds to transform 1 examples\n"
          ],
          "name": "stdout"
        }
      ]
    },
    {
      "metadata": {
        "id": "6zoPcIQCGgmX",
        "colab_type": "code",
        "outputId": "e46d5517-f26c-40d5-d582-693e977680b0",
        "colab": {
          "base_uri": "https://localhost:8080/",
          "height": 35
        }
      },
      "cell_type": "code",
      "source": [
        "print(text_features[:, 2388])\n"
      ],
      "execution_count": 0,
      "outputs": [
        {
          "output_type": "stream",
          "text": [
            "[0.53051543]\n"
          ],
          "name": "stdout"
        }
      ]
    },
    {
      "metadata": {
        "id": "7yXDSBx5Gj4H",
        "colab_type": "code",
        "colab": {}
      },
      "cell_type": "code",
      "source": [
        ""
      ],
      "execution_count": 0,
      "outputs": []
    }
  ]
}